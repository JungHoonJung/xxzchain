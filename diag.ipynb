{
 "cells": [
  {
   "cell_type": "code",
   "execution_count": 1,
   "metadata": {},
   "outputs": [],
   "source": [
    "import xxzchain as xxz"
   ]
  },
  {
   "cell_type": "code",
   "execution_count": 2,
   "metadata": {},
   "outputs": [],
   "source": [
    "import numpy as np"
   ]
  },
  {
   "cell_type": "code",
   "execution_count": 3,
   "metadata": {},
   "outputs": [
    {
     "name": "stdout",
     "output_type": "stream",
     "text": [
      "Current system loaded by \"C:\\Users\\jeong\\master\\xxzchain\\test\\lattice21.hdf5\"\n",
      "Hardcore boson system\n",
      "Name         : lattice21\n",
      "Saved path   : C:\\Users\\jeong\\master\\xxzchain\\C\n",
      "System size  : 21\n",
      "\n",
      "Referenced Basis :   (None means full)\n",
      "\t|- Sector [-1 -1  0  0] \n",
      "\t-----\n",
      "\n",
      "Defined Operators :\n",
      "\t|- H_fin\n",
      "\t|- H_ini\n",
      "\t|- N\n",
      "\t|- n\n",
      "\t|- nnn\n",
      "\t-----\n",
      "\tHamiltonian  : -----\n",
      "\n",
      "Stored Data :\n",
      "\t|- Energy\n",
      "\t|- N_all\n",
      "\t|- N_all_new\n",
      "\t|- n_all\n",
      "\t-----\n",
      "\n"
     ]
    }
   ],
   "source": [
    "S = xxz.load_system('test/lattice21')"
   ]
  },
  {
   "cell_type": "code",
   "execution_count": 8,
   "metadata": {},
   "outputs": [],
   "source": [
    "def partition_f(H,beta):\n",
    "    return np.exp(-H*beta)\n",
    "\n",
    "def temper(func, beta):\n",
    "    def wrapper(x):\n",
    "        return func(x,beta)\n",
    "    return wrapper"
   ]
  },
  {
   "cell_type": "code",
   "execution_count": 5,
   "metadata": {},
   "outputs": [
    {
     "name": "stdout",
     "output_type": "stream",
     "text": [
      "Initializing spin conserving sectors of given basis : (-1,-1,0,0)\n",
      "Initializing momentum sectors of given basis : (7,-1,0,0)\n",
      "initial basis : 5538 state\n",
      "Hamiltonian : H_fin.0\n",
      "Initializing.... it may takes few minutes.\n",
      "Initializing.... it may takes few minutes.\n",
      "Initializing.... it may takes few minutes.\n",
      "Initializing.... it may takes few minutes.\n",
      "Initializing.... it may takes few minutes.\n",
      "Initializing.... it may takes few minutes.\n",
      "Initializing.... it may takes few minutes.\n",
      "Initializing.... it may takes few minutes.\n",
      "Initializing.... it may takes few minutes.\n",
      "Initializing.... it may takes few minutes.\n",
      "Initializing.... it may takes few minutes.\n",
      "Initializing.... it may takes few minutes.\n",
      "Initializing.... it may takes few minutes.\n",
      "Initializing.... it may takes few minutes.\n",
      "Initializing.... it may takes few minutes.\n",
      "Initializing.... it may takes few minutes.\n",
      "Initializing.... it may takes few minutes.\n",
      "Initializing.... it may takes few minutes.\n",
      "Initializing.... it may takes few minutes.\n",
      "Initializing.... it may takes few minutes.\n",
      "Initializing.... it may takes few minutes.\n",
      "initial basis : 5538 state\n",
      "Hamiltonian : H_fin.0.02\n",
      "Initializing.... it may takes few minutes.\n",
      "Initializing.... it may takes few minutes.\n",
      "Initializing.... it may takes few minutes.\n",
      "Initializing.... it may takes few minutes.\n",
      "Initializing.... it may takes few minutes.\n",
      "Initializing.... it may takes few minutes.\n",
      "Initializing.... it may takes few minutes.\n",
      "Initializing.... it may takes few minutes.\n",
      "Initializing.... it may takes few minutes.\n",
      "Initializing.... it may takes few minutes.\n",
      "Initializing.... it may takes few minutes.\n",
      "Initializing.... it may takes few minutes.\n",
      "Initializing.... it may takes few minutes.\n",
      "Initializing.... it may takes few minutes.\n",
      "Initializing.... it may takes few minutes.\n",
      "Initializing.... it may takes few minutes.\n",
      "Initializing.... it may takes few minutes.\n",
      "Initializing.... it may takes few minutes.\n",
      "Initializing.... it may takes few minutes.\n",
      "Initializing.... it may takes few minutes.\n",
      "Initializing.... it may takes few minutes.\n",
      "initial basis : 5538 state\n",
      "Hamiltonian : H_fin.0.03\n",
      "Initializing.... it may takes few minutes.\n",
      "Initializing.... it may takes few minutes.\n",
      "Initializing.... it may takes few minutes.\n",
      "Initializing.... it may takes few minutes.\n",
      "Initializing.... it may takes few minutes.\n",
      "Initializing.... it may takes few minutes.\n",
      "Initializing.... it may takes few minutes.\n",
      "Initializing.... it may takes few minutes.\n",
      "Initializing.... it may takes few minutes.\n",
      "Initializing.... it may takes few minutes.\n",
      "Initializing.... it may takes few minutes.\n",
      "Initializing.... it may takes few minutes.\n",
      "Initializing.... it may takes few minutes.\n",
      "Initializing.... it may takes few minutes.\n",
      "Initializing.... it may takes few minutes.\n",
      "Initializing.... it may takes few minutes.\n",
      "Initializing.... it may takes few minutes.\n",
      "Initializing.... it may takes few minutes.\n",
      "Initializing.... it may takes few minutes.\n",
      "Initializing.... it may takes few minutes.\n",
      "Initializing.... it may takes few minutes.\n",
      "initial basis : 5538 state\n",
      "Hamiltonian : H_fin.0.04\n",
      "Initializing.... it may takes few minutes.\n",
      "Initializing.... it may takes few minutes.\n",
      "Initializing.... it may takes few minutes.\n",
      "Initializing.... it may takes few minutes.\n",
      "Initializing.... it may takes few minutes.\n",
      "Initializing.... it may takes few minutes.\n",
      "Initializing.... it may takes few minutes.\n",
      "Initializing.... it may takes few minutes.\n",
      "Initializing.... it may takes few minutes.\n",
      "Initializing.... it may takes few minutes.\n",
      "Initializing.... it may takes few minutes.\n",
      "Initializing.... it may takes few minutes.\n",
      "Initializing.... it may takes few minutes.\n",
      "Initializing.... it may takes few minutes.\n",
      "Initializing.... it may takes few minutes.\n",
      "Initializing.... it may takes few minutes.\n",
      "Initializing.... it may takes few minutes.\n",
      "Initializing.... it may takes few minutes.\n",
      "Initializing.... it may takes few minutes.\n",
      "Initializing.... it may takes few minutes.\n",
      "Initializing.... it may takes few minutes.\n",
      "initial basis : 5538 state\n",
      "Hamiltonian : H_fin.0.06\n",
      "Initializing.... it may takes few minutes.\n",
      "Initializing.... it may takes few minutes.\n",
      "Initializing.... it may takes few minutes.\n",
      "Initializing.... it may takes few minutes.\n",
      "Initializing.... it may takes few minutes.\n",
      "Initializing.... it may takes few minutes.\n",
      "Initializing.... it may takes few minutes.\n",
      "Initializing.... it may takes few minutes.\n",
      "Initializing.... it may takes few minutes.\n",
      "Initializing.... it may takes few minutes.\n",
      "Initializing.... it may takes few minutes.\n",
      "Initializing.... it may takes few minutes.\n",
      "Initializing.... it may takes few minutes.\n",
      "Initializing.... it may takes few minutes.\n",
      "Initializing.... it may takes few minutes.\n",
      "Initializing.... it may takes few minutes.\n",
      "Initializing.... it may takes few minutes.\n",
      "Initializing.... it may takes few minutes.\n",
      "Initializing.... it may takes few minutes.\n",
      "Initializing.... it may takes few minutes.\n",
      "Initializing.... it may takes few minutes.\n",
      "initial basis : 5538 state\n",
      "Hamiltonian : H_fin.0.08\n",
      "Initializing.... it may takes few minutes.\n",
      "Initializing.... it may takes few minutes.\n",
      "Initializing.... it may takes few minutes.\n",
      "Initializing.... it may takes few minutes.\n",
      "Initializing.... it may takes few minutes.\n",
      "Initializing.... it may takes few minutes.\n",
      "Initializing.... it may takes few minutes.\n",
      "Initializing.... it may takes few minutes.\n",
      "Initializing.... it may takes few minutes.\n",
      "Initializing.... it may takes few minutes.\n",
      "Initializing.... it may takes few minutes.\n",
      "Initializing.... it may takes few minutes.\n",
      "Initializing.... it may takes few minutes.\n",
      "Initializing.... it may takes few minutes.\n",
      "Initializing.... it may takes few minutes.\n",
      "Initializing.... it may takes few minutes.\n",
      "Initializing.... it may takes few minutes.\n",
      "Initializing.... it may takes few minutes.\n",
      "Initializing.... it may takes few minutes.\n",
      "Initializing.... it may takes few minutes.\n",
      "Initializing.... it may takes few minutes.\n",
      "initial basis : 5538 state\n",
      "Hamiltonian : H_fin.0.12\n",
      "Initializing.... it may takes few minutes.\n",
      "Initializing.... it may takes few minutes.\n",
      "Initializing.... it may takes few minutes.\n",
      "Initializing.... it may takes few minutes.\n",
      "Initializing.... it may takes few minutes.\n",
      "Initializing.... it may takes few minutes.\n",
      "Initializing.... it may takes few minutes.\n",
      "Initializing.... it may takes few minutes.\n",
      "Initializing.... it may takes few minutes.\n",
      "Initializing.... it may takes few minutes.\n",
      "Initializing.... it may takes few minutes.\n",
      "Initializing.... it may takes few minutes.\n",
      "Initializing.... it may takes few minutes.\n",
      "Initializing.... it may takes few minutes.\n",
      "Initializing.... it may takes few minutes.\n",
      "Initializing.... it may takes few minutes.\n",
      "Initializing.... it may takes few minutes.\n",
      "Initializing.... it may takes few minutes.\n",
      "Initializing.... it may takes few minutes.\n",
      "Initializing.... it may takes few minutes.\n",
      "Initializing.... it may takes few minutes.\n",
      "initial basis : 5538 state\n",
      "Hamiltonian : H_fin.0.16\n",
      "Initializing.... it may takes few minutes.\n",
      "Initializing.... it may takes few minutes.\n",
      "Initializing.... it may takes few minutes.\n",
      "Initializing.... it may takes few minutes.\n",
      "Initializing.... it may takes few minutes.\n",
      "Initializing.... it may takes few minutes.\n",
      "Initializing.... it may takes few minutes.\n",
      "Initializing.... it may takes few minutes.\n",
      "Initializing.... it may takes few minutes.\n",
      "Initializing.... it may takes few minutes.\n",
      "Initializing.... it may takes few minutes.\n",
      "Initializing.... it may takes few minutes.\n",
      "Initializing.... it may takes few minutes.\n",
      "Initializing.... it may takes few minutes.\n",
      "Initializing.... it may takes few minutes.\n",
      "Initializing.... it may takes few minutes.\n",
      "Initializing.... it may takes few minutes.\n",
      "Initializing.... it may takes few minutes.\n",
      "Initializing.... it may takes few minutes.\n",
      "Initializing.... it may takes few minutes.\n",
      "Initializing.... it may takes few minutes.\n",
      "initial basis : 5538 state\n",
      "Hamiltonian : H_fin.0.24\n",
      "Initializing.... it may takes few minutes.\n",
      "Initializing.... it may takes few minutes.\n",
      "Initializing.... it may takes few minutes.\n",
      "Initializing.... it may takes few minutes.\n",
      "Initializing.... it may takes few minutes.\n",
      "Initializing.... it may takes few minutes.\n",
      "Initializing.... it may takes few minutes.\n",
      "Initializing.... it may takes few minutes.\n",
      "Initializing.... it may takes few minutes.\n",
      "Initializing.... it may takes few minutes.\n",
      "Initializing.... it may takes few minutes.\n",
      "Initializing.... it may takes few minutes.\n",
      "Initializing.... it may takes few minutes.\n",
      "Initializing.... it may takes few minutes.\n",
      "Initializing.... it may takes few minutes.\n",
      "Initializing.... it may takes few minutes.\n",
      "Initializing.... it may takes few minutes.\n",
      "Initializing.... it may takes few minutes.\n",
      "Initializing.... it may takes few minutes.\n",
      "Initializing.... it may takes few minutes.\n",
      "Initializing.... it may takes few minutes.\n",
      "initial basis : 5538 state\n",
      "Hamiltonian : H_fin.0.32\n",
      "Initializing.... it may takes few minutes.\n",
      "Initializing.... it may takes few minutes.\n",
      "Initializing.... it may takes few minutes.\n",
      "Initializing.... it may takes few minutes.\n",
      "Initializing.... it may takes few minutes.\n",
      "Initializing.... it may takes few minutes.\n",
      "Initializing.... it may takes few minutes.\n",
      "Initializing.... it may takes few minutes.\n",
      "Initializing.... it may takes few minutes.\n",
      "Initializing.... it may takes few minutes.\n",
      "Initializing.... it may takes few minutes.\n",
      "Initializing.... it may takes few minutes.\n",
      "Initializing.... it may takes few minutes.\n",
      "Initializing.... it may takes few minutes.\n",
      "Initializing.... it may takes few minutes.\n",
      "Initializing.... it may takes few minutes.\n",
      "Initializing.... it may takes few minutes.\n",
      "Initializing.... it may takes few minutes.\n",
      "Initializing.... it may takes few minutes.\n",
      "Initializing.... it may takes few minutes.\n",
      "Initializing.... it may takes few minutes.\n",
      "initial basis : 5538 state\n",
      "Hamiltonian : H_fin.0.48\n",
      "Initializing.... it may takes few minutes.\n",
      "Initializing.... it may takes few minutes.\n",
      "Initializing.... it may takes few minutes.\n",
      "Initializing.... it may takes few minutes.\n",
      "Initializing.... it may takes few minutes.\n",
      "Initializing.... it may takes few minutes.\n",
      "Initializing.... it may takes few minutes.\n",
      "Initializing.... it may takes few minutes.\n",
      "Initializing.... it may takes few minutes.\n",
      "Initializing.... it may takes few minutes.\n",
      "Initializing.... it may takes few minutes.\n",
      "Initializing.... it may takes few minutes.\n",
      "Initializing.... it may takes few minutes.\n",
      "Initializing.... it may takes few minutes.\n",
      "Initializing.... it may takes few minutes.\n",
      "Initializing.... it may takes few minutes.\n",
      "Initializing.... it may takes few minutes.\n",
      "Initializing.... it may takes few minutes.\n",
      "Initializing.... it may takes few minutes.\n",
      "Initializing.... it may takes few minutes.\n",
      "Initializing.... it may takes few minutes.\n"
     ]
    }
   ],
   "source": [
    "Energy  = []\n",
    "N_total = []\n",
    "n_total = []\n",
    "for num in range(11): # S = system\n",
    "    #num = 0\n",
    "    H_fin         = S.get_operator('H_fin')[num]\n",
    "    H_ini         = S.get_operator('H_ini')[num]\n",
    "    n   , N       = S.get_operator(\"n\"), S.get_operator(\"N\")\n",
    "    initial_basis = S.get_basis(7,0)\n",
    "    print('initial basis : {} state'.format(len(initial_basis)))\n",
    "    S.Hamiltonian = H_fin\n",
    "    print(\"Hamiltonian : {}\".format(S.Hamiltonian.name))\n",
    "\n",
    "    # get all energy eigenvalues of Nb = 7\n",
    "    energies = []\n",
    "    for k in S.range:\n",
    "        for e in S.get_basis(7,k).energy:\n",
    "            energies.append(e)\n",
    "    assert len(energies) == len(S.get_basis(7))\n",
    "    energies = np.array(energies)\n",
    "    Energy.append(energies)"
   ]
  },
  {
   "cell_type": "code",
   "execution_count": 6,
   "metadata": {},
   "outputs": [],
   "source": [
    "S.save('Energy',Energy)"
   ]
  },
  {
   "cell_type": "code",
   "execution_count": 7,
   "metadata": {},
   "outputs": [
    {
     "name": "stdout",
     "output_type": "stream",
     "text": [
      "Hardcore boson system\n",
      "Name         : lattice21\n",
      "Saved path   : C:\\Users\\jeong\\master\\xxzchain\\C\n",
      "System size  : 21\n",
      "\n",
      "Referenced Basis :   (None means full)\n",
      "\t|- Sector [ 7 -1  0  0] \n",
      "\t-----\n",
      "\n",
      "Defined Operators :\n",
      "\t|- H_fin\n",
      "\t|- H_ini\n",
      "\t|- N\n",
      "\t|- n\n",
      "\t|- nnn\n",
      "\t-----\n",
      "\tHamiltonian  : 'H_fin.0.48'\n",
      "\n",
      "Stored Data :\n",
      "\t|- Energy\n",
      "\t-----\n",
      "\n"
     ]
    }
   ],
   "source": [
    "S.tree"
   ]
  },
  {
   "cell_type": "markdown",
   "metadata": {},
   "source": [
    "### n, N diag values"
   ]
  },
  {
   "cell_type": "code",
   "execution_count": 8,
   "metadata": {},
   "outputs": [],
   "source": [
    "n_all = [[[] for k in S.range] for i in range(11)]\n",
    "N_all = [[[] for k in S.range] for i in range(11)]\n",
    "Hfins = S.get_operator('H_fin')\n",
    "for k, O in enumerate(zip(n,N)):\n",
    "    nk, Nk = O #unpack n, N\n",
    "    for kk in S.range:\n",
    "        target_basis = S.get_basis(7,kk)\n",
    "        nk_mat = nk.get_matrix(target_basis)\n",
    "        Nk_mat = Nk.get_matrix(target_basis)\n",
    "        for i, Hfin in enumerate(Hfins):\n",
    "            print(k,kk,i)\n",
    "        #if not kk: continue\n",
    "            c_mat = Hfin.get_eigenvectors(target_basis)\n",
    "            nk_aa = ((c_mat.conjugate().T@nk_mat)*c_mat.T).sum(axis=1).real\n",
    "            Nk_aa = ((c_mat.conjugate().T@Nk_mat)*c_mat.T).sum(axis=1).real\n",
    "            for v in list(nk_aa):\n",
    "                n_all[i][k].append(v)\n",
    "            for v in list(Nk_aa):\n",
    "                N_all[i][k].append(v)\n",
    "#N_total.append(N_all)\n",
    "#n_total.append(n_all)"
   ]
  },
  {
   "cell_type": "code",
   "execution_count": 8,
   "metadata": {},
   "outputs": [],
   "source": [
    "#S.save('n_all', n_all)\n",
    "S.save('N_all_new', N_all)"
   ]
  },
  {
   "cell_type": "code",
   "execution_count": 4,
   "metadata": {},
   "outputs": [],
   "source": [
    "N_all = S.get_data('N_all_new')"
   ]
  },
  {
   "cell_type": "code",
   "execution_count": 5,
   "metadata": {},
   "outputs": [],
   "source": [
    "n_all = S.get_data(\"n_all\")"
   ]
  },
  {
   "cell_type": "code",
   "execution_count": 10,
   "metadata": {},
   "outputs": [],
   "source": [
    "n_all = np.array(n_all)"
   ]
  },
  {
   "cell_type": "code",
   "execution_count": 11,
   "metadata": {},
   "outputs": [],
   "source": [
    "N_all = np.array(N_all)"
   ]
  },
  {
   "cell_type": "code",
   "execution_count": 6,
   "metadata": {},
   "outputs": [],
   "source": [
    "Energy = S.get_data('Energy')"
   ]
  },
  {
   "cell_type": "code",
   "execution_count": null,
   "metadata": {},
   "outputs": [],
   "source": []
  },
  {
   "cell_type": "code",
   "execution_count": 9,
   "metadata": {},
   "outputs": [],
   "source": [
    "target_E = []\n",
    "# eff T = 2.0, 3.0\n",
    "for beta in [1/2, 1/3]:\n",
    "    partition = temper(partition_f, beta)            # exp(-beta H)\n",
    "    Z         = partition(Energy).sum(axis=1)            # sum   exp(-beta E)\n",
    "    E_        = (Energy*partition(Energy)).sum(axis=1)/Z # sum E*exp(-beta E)/Z\n",
    "    target_E.append(E_)\n",
    "target_E = np.array(target_E)"
   ]
  },
  {
   "cell_type": "code",
   "execution_count": 12,
   "metadata": {},
   "outputs": [
    {
     "data": {
      "text/plain": [
       "(11, 21, 116280)"
      ]
     },
     "execution_count": 12,
     "metadata": {},
     "output_type": "execute_result"
    }
   ],
   "source": [
    "n_all.shape"
   ]
  },
  {
   "cell_type": "code",
   "execution_count": 10,
   "metadata": {},
   "outputs": [],
   "source": [
    "coef = [0]\n",
    "for i in range(5):\n",
    "    coef.append(0.02*2**i)\n",
    "    coef.append(0.03*2**i)"
   ]
  },
  {
   "cell_type": "code",
   "execution_count": 11,
   "metadata": {},
   "outputs": [],
   "source": [
    "Co = {}\n",
    "for i, c in enumerate(coef):\n",
    "    Co[c] = i"
   ]
  },
  {
   "cell_type": "code",
   "execution_count": 15,
   "metadata": {},
   "outputs": [],
   "source": [
    "dE = 0.1\n",
    "microC = []\n",
    "for i in range(11):\n",
    "    temp = []\n",
    "    for k in S.range:\n",
    "        \n",
    "        temp.append((np.average(n_all[i][k][np.logical_and(Energy[i]<target_E[0][i]+dE,Energy[i]>target_E[0][i]-dE)]),np.average(n_all[i][k][np.logical_and(Energy[i]<target_E[1][i]+dE,Energy[i]>target_E[1][i]-dE)])))\n",
    "    microC.append(temp)\n",
    "\n",
    "#find proper initial eigenstate\n",
    "\n",
    "\n",
    "states = []\n",
    "initial_basis = S.get_basis(7,0)\n",
    "for fin,ini in zip(S.get_operator(\"H_fin\"),S.get_operator(\"H_ini\")):\n",
    "    #print(fin.name[5:] == ini.name[5:])\n",
    "    states.append(fin.expectation(ini.get_eigenstates(initial_basis)))\n",
    "states = np.array(states)\n",
    "\n",
    "index = -1*np.ones([2,11], dtype = np.int32)\n",
    "De = 10*np.ones([2,11])\n",
    "Ei = np.zeros([2,11])\n",
    "for i, e in enumerate(states.T):\n",
    "    \n",
    "    index[np.abs(e-target_E)<De] = i\n",
    "    #Ei   [np.abs(e-target_E)<De] = e.real\n",
    "    De   [np.abs(e-target_E)<De] = np.abs(e-target_E)[np.abs(e-target_E)<De]\n",
    "\n",
    "\n",
    "assert not (index == -1).any()"
   ]
  },
  {
   "cell_type": "markdown",
   "metadata": {},
   "source": [
    "### FiG3"
   ]
  },
  {
   "cell_type": "code",
   "execution_count": 201,
   "metadata": {},
   "outputs": [],
   "source": [
    "target_E = []\n",
    "# eff T = 2.0, 3.0\n",
    "for beta in [1/2,1/3]:\n",
    "    partition = temper(partition_f, beta)            # exp(-beta H)\n",
    "    Z         = partition(Energy).sum(axis=1)            # sum   exp(-beta E)\n",
    "    E_        = (Energy*partition(Energy)).sum(axis=1)/Z # sum E*exp(-beta E)/Z\n",
    "    target_E.append(E_)\n",
    "target_E = np.array(target_E)"
   ]
  },
  {
   "cell_type": "code",
   "execution_count": 202,
   "metadata": {},
   "outputs": [],
   "source": [
    "index = -1*np.ones([2,11], dtype = np.int32)\n",
    "De = 10*np.ones([2,11])\n",
    "Ei = np.zeros([2,11])\n",
    "for i, e in enumerate(states.T):\n",
    "    \n",
    "    index[np.abs(e-target_E)<De] = i\n",
    "    #Ei   [np.abs(e-target_E)<De] = e.real\n",
    "    De   [np.abs(e-target_E)<De] = np.abs(e-target_E)[np.abs(e-target_E)<De]"
   ]
  },
  {
   "cell_type": "code",
   "execution_count": 203,
   "metadata": {},
   "outputs": [
    {
     "data": {
      "text/plain": [
       "array([[ 247,  646,  279,  261,  105,  216,  113,  172,  109,  108,   67],\n",
       "       [ 567,  562,  406,  553,  556,  447, 1038,  595,  539,  451,  332]])"
      ]
     },
     "execution_count": 203,
     "metadata": {},
     "output_type": "execute_result"
    }
   ],
   "source": [
    "index"
   ]
  },
  {
   "cell_type": "code",
   "execution_count": null,
   "metadata": {},
   "outputs": [],
   "source": [
    "xxz.State.time_evolving_states()"
   ]
  },
  {
   "cell_type": "code",
   "execution_count": 23,
   "metadata": {},
   "outputs": [
    {
     "name": "stdout",
     "output_type": "stream",
     "text": [
      "0 0\n",
      "1 0\n",
      "2 0\n",
      "3 0\n",
      "4 0\n",
      "5 0\n",
      "6 0\n",
      "7 0\n",
      "8 0\n",
      "9 0\n",
      "10 0\n",
      "0 1\n",
      "1 1\n",
      "2 1\n",
      "3 1\n",
      "4 1\n",
      "5 1\n",
      "6 1\n",
      "7 1\n",
      "8 1\n",
      "9 1\n",
      "10 1\n",
      "0 2\n",
      "1 2\n",
      "2 2\n",
      "3 2\n",
      "4 2\n",
      "5 2\n",
      "6 2\n",
      "7 2\n",
      "8 2\n",
      "9 2\n",
      "10 2\n",
      "0 3\n",
      "1 3\n",
      "2 3\n",
      "3 3\n",
      "4 3\n",
      "5 3\n",
      "6 3\n",
      "7 3\n",
      "8 3\n",
      "9 3\n",
      "10 3\n",
      "0 4\n",
      "1 4\n",
      "2 4\n",
      "3 4\n",
      "4 4\n",
      "5 4\n",
      "6 4\n",
      "7 4\n",
      "8 4\n",
      "9 4\n",
      "10 4\n",
      "0 5\n",
      "1 5\n",
      "2 5\n",
      "3 5\n",
      "4 5\n",
      "5 5\n",
      "6 5\n",
      "7 5\n",
      "8 5\n",
      "9 5\n",
      "10 5\n",
      "0 6\n",
      "1 6\n",
      "2 6\n",
      "3 6\n",
      "4 6\n",
      "5 6\n",
      "6 6\n",
      "7 6\n",
      "8 6\n",
      "9 6\n",
      "10 6\n",
      "0 7\n",
      "1 7\n",
      "2 7\n",
      "3 7\n",
      "4 7\n",
      "5 7\n",
      "6 7\n",
      "7 7\n",
      "8 7\n",
      "9 7\n",
      "10 7\n",
      "0 8\n",
      "1 8\n",
      "2 8\n",
      "3 8\n",
      "4 8\n",
      "5 8\n",
      "6 8\n",
      "7 8\n",
      "8 8\n",
      "9 8\n",
      "10 8\n",
      "0 9\n",
      "1 9\n",
      "2 9\n",
      "3 9\n",
      "4 9\n",
      "5 9\n",
      "6 9\n",
      "7 9\n",
      "8 9\n",
      "9 9\n",
      "10 9\n",
      "0 10\n",
      "1 10\n",
      "2 10\n",
      "3 10\n",
      "4 10\n",
      "5 10\n",
      "6 10\n",
      "7 10\n",
      "8 10\n",
      "9 10\n",
      "10 10\n",
      "0 11\n",
      "1 11\n",
      "2 11\n",
      "3 11\n",
      "4 11\n",
      "5 11\n",
      "6 11\n",
      "7 11\n",
      "8 11\n",
      "9 11\n",
      "10 11\n",
      "0 12\n",
      "1 12\n",
      "2 12\n",
      "3 12\n",
      "4 12\n",
      "5 12\n",
      "6 12\n",
      "7 12\n",
      "8 12\n",
      "9 12\n",
      "10 12\n",
      "0 13\n",
      "1 13\n",
      "2 13\n",
      "3 13\n",
      "4 13\n",
      "5 13\n",
      "6 13\n",
      "7 13\n",
      "8 13\n",
      "9 13\n",
      "10 13\n",
      "0 14\n",
      "1 14\n",
      "2 14\n",
      "3 14\n",
      "4 14\n",
      "5 14\n",
      "6 14\n",
      "7 14\n",
      "8 14\n",
      "9 14\n",
      "10 14\n",
      "0 15\n",
      "1 15\n",
      "2 15\n",
      "3 15\n",
      "4 15\n",
      "5 15\n",
      "6 15\n",
      "7 15\n",
      "8 15\n",
      "9 15\n",
      "10 15\n",
      "0 16\n",
      "1 16\n",
      "2 16\n",
      "3 16\n",
      "4 16\n",
      "5 16\n",
      "6 16\n",
      "7 16\n",
      "8 16\n",
      "9 16\n",
      "10 16\n",
      "0 17\n",
      "1 17\n",
      "2 17\n",
      "3 17\n",
      "4 17\n",
      "5 17\n",
      "6 17\n",
      "7 17\n",
      "8 17\n",
      "9 17\n",
      "10 17\n",
      "0 18\n",
      "1 18\n",
      "2 18\n",
      "3 18\n",
      "4 18\n",
      "5 18\n",
      "6 18\n",
      "7 18\n",
      "8 18\n",
      "9 18\n",
      "10 18\n",
      "0 19\n",
      "1 19\n",
      "2 19\n",
      "3 19\n",
      "4 19\n",
      "5 19\n",
      "6 19\n",
      "7 19\n",
      "8 19\n",
      "9 19\n",
      "10 19\n",
      "0 20\n",
      "1 20\n",
      "2 20\n",
      "3 20\n",
      "4 20\n",
      "5 20\n",
      "6 20\n",
      "7 20\n",
      "8 20\n",
      "9 20\n",
      "10 20\n"
     ]
    }
   ],
   "source": [
    "n_diag  , N_diag   = [], []\n",
    "twoini_n, twoini_N = [], []\n",
    "delta_n , delta_N  = [], []\n",
    "n       , N        = S.get_operator('n'), S.get_operator('N') \n",
    "for k in S.range:\n",
    "    nk, Nk  = n[k].get_matrix(initial_basis), N[k].get_matrix(initial_basis)\n",
    "    temp1, temp2 = [],[]\n",
    "    exp1 , exp2  = [],[]\n",
    "    TEn  , TEN   = [],[]\n",
    "    \n",
    "    for i in range(11):\n",
    "        print(i,k)\n",
    "        Hi = S.get_operator(\"H_ini\")[i]\n",
    "        S.Hamiltonian = S.get_operator(\"H_fin\")[i]\n",
    "        initial = Hi.get_eigenstates(S.get_basis(7,0))[index.T[i]]\n",
    "        TE = initial[1].time_evolving_states(np.arange(251)/250)\n",
    "        Casq = (initial.eigencoef)*(initial.eigencoef.conjugate())\n",
    "        temp1.append(Casq.T@n_all[i][k][:len(initial.basis)])\n",
    "        temp2.append(Casq.T@N_all[i][k][:len(initial.basis)])\n",
    "        exp1.append((initial.coef.conjugate().T@nk@initial.coef)[np.diag_indices(len(initial))])\n",
    "        exp2.append((initial.coef.conjugate().T@Nk@initial.coef)[np.diag_indices(len(initial))])\n",
    "        TEn.append((TE.coef.conjugate().T@nk@TE.coef)[np.diag_indices(251)])\n",
    "        TEN.append((TE.coef.conjugate().T@Nk@TE.coef)[np.diag_indices(251)])\n",
    "    n_diag.append(temp1)\n",
    "    N_diag.append(temp2)\n",
    "    twoini_n.append(exp1)\n",
    "    twoini_N.append(exp2)        \n",
    "    delta_n.append(TEn)\n",
    "    delta_N.append(TEN)"
   ]
  },
  {
   "cell_type": "code",
   "execution_count": 155,
   "metadata": {},
   "outputs": [],
   "source": [
    "n_diag  = np.array(n_diag)\n",
    "N_diag  = np.array(N_diag)\n",
    "twoini_n  = np.array(twoini_n)\n",
    "twoini_N  = np.array(twoini_N)\n",
    "delta_n  = np.array(delta_n)\n",
    "delta_N  = np.array(delta_N)"
   ]
  },
  {
   "cell_type": "code",
   "execution_count": 50,
   "metadata": {},
   "outputs": [],
   "source": [
    "n_diag = np.swapaxes(n_diag, 0,1)\n",
    "N_diag = np.swapaxes(N_diag, 0,1)\n",
    "twoini_n  =np.swapaxes(twoini_n, 0,1)\n",
    "twoini_N  =np.swapaxes(twoini_N, 0,1)\n",
    "delta_n  =np.swapaxes(delta_n, 0,1)\n",
    "delta_N  =np.swapaxes(delta_N, 0,1)"
   ]
  },
  {
   "cell_type": "code",
   "execution_count": 31,
   "metadata": {},
   "outputs": [],
   "source": [
    "import matplotlib.pyplot as plt"
   ]
  },
  {
   "cell_type": "code",
   "execution_count": 167,
   "metadata": {},
   "outputs": [
    {
     "data": {
      "text/plain": [
       "99"
      ]
     },
     "execution_count": 167,
     "metadata": {},
     "output_type": "execute_result"
    }
   ],
   "source": [
    "len(initial)"
   ]
  },
  {
   "cell_type": "code",
   "execution_count": 160,
   "metadata": {},
   "outputs": [
    {
     "data": {
      "text/plain": [
       "(11, 21, 116280)"
      ]
     },
     "execution_count": 160,
     "metadata": {},
     "output_type": "execute_result"
    }
   ],
   "source": [
    "n_all.shape"
   ]
  },
  {
   "cell_type": "code",
   "execution_count": null,
   "metadata": {},
   "outputs": [],
   "source": []
  },
  {
   "cell_type": "code",
   "execution_count": 214,
   "metadata": {},
   "outputs": [
    {
     "data": {
      "text/plain": [
       "[<matplotlib.lines.Line2D at 0x1ee1be27048>]"
      ]
     },
     "execution_count": 214,
     "metadata": {},
     "output_type": "execute_result"
    },
    {
     "data": {
      "image/png": "[encoded data removed]",
      "text/plain": [
       "<Figure size 360x144 with 1 Axes>"
      ]
     },
     "metadata": {
      "needs_background": "light"
     },
     "output_type": "display_data"
    }
   ],
   "source": [
    "plt.figure(figsize=[5,2])\n",
    "#plt.plot(np.roll(twoini_n[Co[0.24]].T[0],10))\n",
    "plt.plot(np.roll(twoini_n[Co[0.24]].T[1],10))\n",
    "plt.plot(np.roll(n_diag[Co[0.24]].T[1],10))"
   ]
  },
  {
   "cell_type": "code",
   "execution_count": 218,
   "metadata": {},
   "outputs": [
    {
     "data": {
      "text/plain": [
       "(0, 0.4)"
      ]
     },
     "execution_count": 218,
     "metadata": {},
     "output_type": "execute_result"
    },
    {
     "data": {
      "image/png": "[encoded data removed]",
      "text/plain": [
       "<Figure size 360x144 with 1 Axes>"
      ]
     },
     "metadata": {
      "needs_background": "light"
     },
     "output_type": "display_data"
    }
   ],
   "source": [
    "plt.figure(figsize=[5,2])\n",
    "#plt.plot(np.roll(twoini_n[Co[0.24]].T[0],10))\n",
    "plt.plot(np.roll(twoini_N[Co[0.24]].T[1][1:],10))\n",
    "plt.plot(np.roll(N_diag[Co[0.24]].T[1][1:],10))\n",
    "plt.ylim([0,0.4])"
   ]
  },
  {
   "cell_type": "code",
   "execution_count": 161,
   "metadata": {},
   "outputs": [
    {
     "data": {
      "text/plain": [
       "[<matplotlib.lines.Line2D at 0x1ee19be1358>]"
      ]
     },
     "execution_count": 161,
     "metadata": {},
     "output_type": "execute_result"
    },
    {
     "data": {
      "image/png": "[encoded data removed]",
      "text/plain": [
       "<Figure size 360x144 with 1 Axes>"
      ]
     },
     "metadata": {
      "needs_background": "light"
     },
     "output_type": "display_data"
    }
   ],
   "source": [
    "plt.figure(figsize=[5,2])\n",
    "#plt.plot(np.roll(twoini_n[Co[0.24]].T[0],10))\n",
    "plt.plot(np.roll(twoini_n[Co[0.24]].T[0],10))\n",
    "plt.plot(np.roll(n_diag[Co[0.24]].T[0],10))"
   ]
  },
  {
   "cell_type": "code",
   "execution_count": 80,
   "metadata": {},
   "outputs": [
    {
     "data": {
      "text/plain": [
       "[<matplotlib.lines.Line2D at 0x1ee185e21d0>]"
      ]
     },
     "execution_count": 80,
     "metadata": {},
     "output_type": "execute_result"
    },
    {
     "data": {
      "image/png": "[encoded data removed]",
      "text/plain": [
       "<Figure size 360x144 with 1 Axes>"
      ]
     },
     "metadata": {
      "needs_background": "light"
     },
     "output_type": "display_data"
    }
   ],
   "source": [
    "plt.figure(figsize=[5,2])\n",
    "#plt.plot(np.roll(twoini_n[Co[0.24]].T[0],10))\n",
    "plt.plot(np.roll(twoini_N[Co[0.24]].T[0],10))\n",
    "plt.plot(np.roll(N_diag[Co[0.24]].T[0],10))"
   ]
  },
  {
   "cell_type": "code",
   "execution_count": 54,
   "metadata": {},
   "outputs": [
    {
     "data": {
      "text/plain": [
       "(11, 21)"
      ]
     },
     "execution_count": 54,
     "metadata": {},
     "output_type": "execute_result"
    }
   ],
   "source": [
    "n_diag.T[1].T.shape"
   ]
  },
  {
   "cell_type": "code",
   "execution_count": 219,
   "metadata": {},
   "outputs": [],
   "source": [
    "diff_two_n = np.abs(twoini_n-n_diag).sum(axis = 1)/n_diag.sum(axis=1)"
   ]
  },
  {
   "cell_type": "code",
   "execution_count": 220,
   "metadata": {},
   "outputs": [],
   "source": [
    "diff_two_N = np.abs(twoini_N-N_diag).sum(axis = 1)/N_diag.sum(axis=1)"
   ]
  },
  {
   "cell_type": "code",
   "execution_count": 93,
   "metadata": {},
   "outputs": [
    {
     "data": {
      "text/plain": [
       "array([[0.09026086+0.j, 0.10436389+0.j],\n",
       "       [0.1386455 +0.j, 0.08331816+0.j],\n",
       "       [0.09581575+0.j, 0.10630463+0.j],\n",
       "       [0.09748861+0.j, 0.05809077+0.j],\n",
       "       [0.1367705 +0.j, 0.09442513+0.j],\n",
       "       [0.09992854+0.j, 0.08647479+0.j],\n",
       "       [0.12191313+0.j, 0.06171889+0.j],\n",
       "       [0.13563766+0.j, 0.05352638+0.j],\n",
       "       [0.09277923+0.j, 0.0564453 +0.j],\n",
       "       [0.10271319+0.j, 0.07199879+0.j],\n",
       "       [0.09210585+0.j, 0.10687462+0.j]])"
      ]
     },
     "execution_count": 93,
     "metadata": {},
     "output_type": "execute_result"
    }
   ],
   "source": [
    "diff_two_n"
   ]
  },
  {
   "cell_type": "code",
   "execution_count": 224,
   "metadata": {},
   "outputs": [
    {
     "data": {
      "text/plain": [
       "[<matplotlib.lines.Line2D at 0x1ee1415ac18>,\n",
       " <matplotlib.lines.Line2D at 0x1ee0cb1c198>]"
      ]
     },
     "execution_count": 224,
     "metadata": {},
     "output_type": "execute_result"
    },
    {
     "data": {
      "image/png": "[encoded data removed]",
      "text/plain": [
       "<Figure size 432x288 with 1 Axes>"
      ]
     },
     "metadata": {
      "needs_background": "light"
     },
     "output_type": "display_data"
    }
   ],
   "source": [
    "plt.plot(coef, diff_two_n)\n",
    "plt.plot(coef, diff_two_N)"
   ]
  },
  {
   "cell_type": "code",
   "execution_count": 223,
   "metadata": {},
   "outputs": [
    {
     "data": {
      "text/plain": [
       "[<matplotlib.lines.Line2D at 0x1ee2d0e5320>,\n",
       " <matplotlib.lines.Line2D at 0x1ee2d0e5470>]"
      ]
     },
     "execution_count": 223,
     "metadata": {},
     "output_type": "execute_result"
    },
    {
     "data": {
      "image/png": "[encoded data removed]",
      "text/plain": [
       "<Figure size 432x288 with 1 Axes>"
      ]
     },
     "metadata": {
      "needs_background": "light"
     },
     "output_type": "display_data"
    }
   ],
   "source": [
    "plt.plot(coef, diff_two_N)"
   ]
  },
  {
   "cell_type": "code",
   "execution_count": 173,
   "metadata": {},
   "outputs": [
    {
     "data": {
      "text/plain": [
       "array([0.44835129+0.j, 0.44489475+0.j, 0.43006472+0.j, 0.39969588+0.j,\n",
       "       0.3584845 +0.j, 0.31836453+0.j, 0.2866732 +0.j, 0.26827694+0.j,\n",
       "       0.25840659+0.j, 0.25589675+0.j, 0.2550665 +0.j, 0.2550665 +0.j,\n",
       "       0.25589675+0.j, 0.25840659+0.j, 0.26827694+0.j, 0.2866732 +0.j,\n",
       "       0.31836453+0.j, 0.3584845 +0.j, 0.39969588+0.j, 0.43006472+0.j,\n",
       "       0.44489475+0.j])"
      ]
     },
     "execution_count": 173,
     "metadata": {},
     "output_type": "execute_result"
    }
   ],
   "source": [
    "n_diag[Co[0.24]].T[1]"
   ]
  },
  {
   "cell_type": "code",
   "execution_count": 189,
   "metadata": {},
   "outputs": [
    {
     "data": {
      "text/plain": [
       "array([173, 162, 159,  75, 158,  57, 111, 119,  52,  68,  38])"
      ]
     },
     "execution_count": 189,
     "metadata": {},
     "output_type": "execute_result"
    }
   ],
   "source": [
    "index[5]"
   ]
  },
  {
   "cell_type": "code",
   "execution_count": null,
   "metadata": {},
   "outputs": [],
   "source": []
  },
  {
   "cell_type": "code",
   "execution_count": 204,
   "metadata": {},
   "outputs": [],
   "source": [
    "n_diag  , N_diag   = [], []\n",
    "S.Hamiltonian = None\n",
    "for i, ini in enumerate(S.get_operator(\"H_ini\")):\n",
    "    initial = ini.get_eigenstates(S.get_basis(7,0))[index.T[i]]\n",
    "    S.Hamiltonian = S.get_operator(\"H_fin\")[i]\n",
    "    for k in S.range:\n",
    "        Casq = (initial.eigencoef)*(initial.eigencoef.conjugate())\n",
    "        temp1.append(Casq.T@n_all[i][k][:len(initial.basis)])\n",
    "        temp2.append(Casq.T@N_all[i][k][:len(initial.basis)])\n",
    "    n_diag.append(temp1)\n",
    "    N_diag.append(temp2)"
   ]
  },
  {
   "cell_type": "code",
   "execution_count": 94,
   "metadata": {},
   "outputs": [],
   "source": [
    "dE = 0.1\n",
    "n_microC, N_microC = [], []\n",
    "for i in range(11):\n",
    "    temp1,temp2 = [],[]\n",
    "    for k in S.range:\n",
    "        temp1.append((np.average(n_all[i][k][np.logical_and(Energy[i]<target_E[0][i]+dE,Energy[i]>target_E[0][i]-dE)]),np.average(n_all[i][k][np.logical_and(Energy[i]<target_E[1][i]+dE,Energy[i]>target_E[1][i]-dE)])))\n",
    "        temp2.append((np.average(N_all[i][k][np.logical_and(Energy[i]<target_E[0][i]+dE,Energy[i]>target_E[0][i]-dE)]),np.average(N_all[i][k][np.logical_and(Energy[i]<target_E[1][i]+dE,Energy[i]>target_E[1][i]-dE)])))\n",
    "    n_microC.append(temp1)\n",
    "    N_microC.append(temp2)"
   ]
  },
  {
   "cell_type": "code",
   "execution_count": 95,
   "metadata": {},
   "outputs": [],
   "source": [
    "n_microC = np.array(n_microC)"
   ]
  },
  {
   "cell_type": "code",
   "execution_count": 96,
   "metadata": {},
   "outputs": [],
   "source": [
    "N_microC = np.array(N_microC)"
   ]
  },
  {
   "cell_type": "code",
   "execution_count": 109,
   "metadata": {},
   "outputs": [],
   "source": [
    "N_microC = np.swapaxes(N_microC,0,1)"
   ]
  },
  {
   "cell_type": "code",
   "execution_count": 110,
   "metadata": {},
   "outputs": [],
   "source": [
    "diff_DMn = np.abs(n_microC-n_diag).sum(axis = 1)/n_diag.sum(axis=1)\n",
    "diff_DMN = np.abs(N_microC-N_diag).sum(axis = 1)/N_diag.sum(axis=1)"
   ]
  },
  {
   "cell_type": "code",
   "execution_count": 196,
   "metadata": {},
   "outputs": [
    {
     "name": "stderr",
     "output_type": "stream",
     "text": [
      "C:\\Users\\jeong\\Anaconda3\\lib\\site-packages\\numpy\\core\\numeric.py:501: ComplexWarning: Casting complex values to real discards the imaginary part\n",
      "  return array(a, dtype, copy=False, order=order)\n"
     ]
    },
    {
     "data": {
      "image/png": "[encoded data removed]",
      "text/plain": [
       "<Figure size 432x288 with 1 Axes>"
      ]
     },
     "metadata": {
      "needs_background": "light"
     },
     "output_type": "display_data"
    }
   ],
   "source": [
    "plt.plot(coef, diff_DMn.T[0],'rx--')\n",
    "plt.plot(coef, diff_DMn.T[1],'bx--')\n",
    "plt.plot(coef, diff_DMN.T[0],'rx-')\n",
    "plt.plot(coef, diff_DMN.T[1],'bx-')\n",
    "plt.xlim([0,0.5])\n",
    "plt.ylim([0,0.2])\n",
    "plt.savefig('fig3.png')"
   ]
  },
  {
   "cell_type": "code",
   "execution_count": 9,
   "metadata": {},
   "outputs": [],
   "source": []
  },
  {
   "cell_type": "code",
   "execution_count": 150,
   "metadata": {},
   "outputs": [],
   "source": [
    "target_E = []\n",
    "# eff T = 2.0, 3.0\n",
    "for beta in np.arange(0.1,10,0.1):\n",
    "    partition = temper(partition_f, beta)            # exp(-beta H)\n",
    "    Z         = partition(Energy).sum(axis=1)            # sum   exp(-beta E)\n",
    "    E_        = (Energy*partition(Energy)).sum(axis=1)/Z # sum E*exp(-beta E)/Z\n",
    "    target_E.append(E_)\n",
    "target_E = np.array(target_E)"
   ]
  },
  {
   "cell_type": "code",
   "execution_count": 115,
   "metadata": {},
   "outputs": [
    {
     "data": {
      "text/plain": [
       "(99, 11)"
      ]
     },
     "execution_count": 115,
     "metadata": {},
     "output_type": "execute_result"
    }
   ],
   "source": [
    "target_E.shape"
   ]
  },
  {
   "cell_type": "code",
   "execution_count": 151,
   "metadata": {},
   "outputs": [],
   "source": [
    "dE = 0.1\n",
    "'''states = []\n",
    "initial_basis = S.get_basis(7,0)\n",
    "for fin,ini in zip(S.get_operator(\"H_fin\"),S.get_operator(\"H_ini\")):\n",
    "    #print(fin.name[5:] == ini.name[5:])\n",
    "    states.append(fin.expectation(ini.get_eigenstates(initial_basis)))\n",
    "states = np.array(states)'''\n",
    "\n",
    "index = -1*np.ones([99,11], dtype = np.int32)\n",
    "De = 10*np.ones([99,11])\n",
    "Ei = np.zeros([99,11])\n",
    "for i, e in enumerate(states.T):\n",
    "    \n",
    "    index[np.abs(e-target_E)<De] = i\n",
    "    #Ei   [np.abs(e-target_E)<De] = e.real\n",
    "    De   [np.abs(e-target_E)<De] = np.abs(e-target_E)[np.abs(e-target_E)<De]\n",
    "\n",
    "\n",
    "assert not (index == -1).any()"
   ]
  },
  {
   "cell_type": "code",
   "execution_count": 153,
   "metadata": {},
   "outputs": [
    {
     "data": {
      "text/plain": [
       "1.140057733291707"
      ]
     },
     "execution_count": 153,
     "metadata": {},
     "output_type": "execute_result"
    }
   ],
   "source": [
    "De.max()"
   ]
  },
  {
   "cell_type": "code",
   "execution_count": 123,
   "metadata": {},
   "outputs": [
    {
     "data": {
      "text/plain": [
       "array([   0,    0,    0,    0,    1,    1,    1,    2,    4,    6,   11,\n",
       "         14,   87,  116,  128,   59,  540,  236,  246,  247,  118,  328,\n",
       "        920,  952,  473,  478,  483, 1168,  531,  567,  240,  572,  274,\n",
       "       1415, 1333,  368,  300,  727,  708,  729, 1397, 1591, 1494,  777,\n",
       "        468,  903, 1755, 1607, 1617,  922,  872, 1630,  871, 1772, 2892,\n",
       "       2894, 1812,  962, 1674, 1071, 1095, 1102, 1082, 1107,  985, 1799,\n",
       "        936,  890, 1920, 1989, 1897, 1142, 1958, 1206, 1188, 1933, 2987,\n",
       "       1278,  607, 2185, 1952, 1220, 1248, 1197, 1977, 1088, 3224, 1251,\n",
       "       1950,  693, 2061, 2075, 1970, 2067, 2099, 3086, 2122, 2034, 1305])"
      ]
     },
     "execution_count": 123,
     "metadata": {},
     "output_type": "execute_result"
    }
   ],
   "source": [
    "np.arange(5538)[index.T[0]]"
   ]
  },
  {
   "cell_type": "code",
   "execution_count": 127,
   "metadata": {},
   "outputs": [
    {
     "data": {
      "text/plain": [
       "'H_ini.0'"
      ]
     },
     "execution_count": 127,
     "metadata": {},
     "output_type": "execute_result"
    }
   ],
   "source": [
    "S.get_operator(\"H_ini\")[0].get_operator"
   ]
  },
  {
   "cell_type": "code",
   "execution_count": 208,
   "metadata": {},
   "outputs": [],
   "source": [
    "n_diag  , N_diag   = [], []\n",
    "\n",
    "for i, ini in enumerate(S.get_operator(\"H_ini\")):\n",
    "    initial = ini.get_eigenstates(initial_basis)[index.T[i]]\n",
    "    S.Hamiltonian = S.get_operator(\"H_fin\")[i]\n",
    "    temp1,temp2 = [],[]\n",
    "    Casq = (initial.eigencoef)*(initial.eigencoef.conjugate())\n",
    "    for k in S.range:\n",
    "        temp1.append(Casq.T@n_all[i][k][:len(initial.basis)])\n",
    "        temp2.append(Casq.T@N_all[i][k][:len(initial.basis)])\n",
    "    n_diag.append(temp1)\n",
    "    N_diag.append(temp2)"
   ]
  },
  {
   "cell_type": "code",
   "execution_count": 209,
   "metadata": {},
   "outputs": [],
   "source": [
    "n_diag = np.array(n_diag)"
   ]
  },
  {
   "cell_type": "code",
   "execution_count": 210,
   "metadata": {},
   "outputs": [],
   "source": [
    "N_diag = np.array(N_diag)"
   ]
  },
  {
   "cell_type": "code",
   "execution_count": 211,
   "metadata": {},
   "outputs": [
    {
     "data": {
      "text/plain": [
       "(11, 21, 2)"
      ]
     },
     "execution_count": 211,
     "metadata": {},
     "output_type": "execute_result"
    }
   ],
   "source": [
    "n_diag.shape"
   ]
  },
  {
   "cell_type": "code",
   "execution_count": 147,
   "metadata": {},
   "outputs": [],
   "source": [
    "dE = 0.1\n",
    "n_microC, N_microC = [], []\n",
    "for i in range(11):\n",
    "    temp1,temp2 = [],[]\n",
    "    for k in S.range:\n",
    "        kt1, kt2 = [],[]\n",
    "        for j in range(target_E.shape[0]):\n",
    "            if len(n_all[i][k][np.logical_and(Energy[i]<target_E[j][i]+dE,Energy[i]>target_E[j][i]-dE)]) == 0:\n",
    "                kt1.append(float('inf'))\n",
    "            else:\n",
    "                kt1.append((np.average(n_all[i][k][np.logical_and(Energy[i]<target_E[j][i]+dE,Energy[i]>target_E[j][i]-dE)])))\n",
    "            if len(N_all[i][k][np.logical_and(Energy[i]<target_E[j][i]+dE,Energy[i]>target_E[j][i]-dE)]) == 0:\n",
    "                kt2.append(float('inf'))\n",
    "            else:\n",
    "                kt2.append((np.average(N_all[i][k][np.logical_and(Energy[i]<target_E[j][i]+dE,Energy[i]>target_E[j][i]-dE)])))\n",
    "        temp1.append(kt1)\n",
    "        temp2.append(kt2)\n",
    "    n_microC.append(temp1)\n",
    "    N_microC.append(temp2)"
   ]
  },
  {
   "cell_type": "code",
   "execution_count": 149,
   "metadata": {},
   "outputs": [],
   "source": [
    "n_microC = np.array(n_microC)\n",
    "N_microC = np.array(N_microC)"
   ]
  },
  {
   "cell_type": "code",
   "execution_count": null,
   "metadata": {},
   "outputs": [],
   "source": []
  },
  {
   "cell_type": "code",
   "execution_count": 155,
   "metadata": {},
   "outputs": [
    {
     "data": {
      "text/plain": [
       "array([[ 247,  646,  279,  261,  105,  216,  113,  172,  109,  108,   67],\n",
       "       [ 567,  562,  406,  553,  556,  447, 1038,  595,  539,  451,  332]])"
      ]
     },
     "execution_count": 155,
     "metadata": {},
     "output_type": "execute_result"
    }
   ],
   "source": [
    "index"
   ]
  },
  {
   "cell_type": "code",
   "execution_count": 164,
   "metadata": {},
   "outputs": [
    {
     "data": {
      "text/plain": [
       "100000"
      ]
     },
     "execution_count": 164,
     "metadata": {},
     "output_type": "execute_result"
    }
   ],
   "source": [
    "5000*20"
   ]
  },
  {
   "cell_type": "code",
   "execution_count": null,
   "metadata": {},
   "outputs": [],
   "source": [
    "microC = np.array(microC)"
   ]
  },
  {
   "cell_type": "code",
   "execution_count": null,
   "metadata": {},
   "outputs": [],
   "source": [
    "two_ini = np.array(two_ini)"
   ]
  },
  {
   "cell_type": "code",
   "execution_count": null,
   "metadata": {},
   "outputs": [],
   "source": []
  },
  {
   "cell_type": "code",
   "execution_count": 133,
   "metadata": {},
   "outputs": [
    {
     "data": {
      "text/plain": [
       "(11, 21, 2)"
      ]
     },
     "execution_count": 133,
     "metadata": {},
     "output_type": "execute_result"
    }
   ],
   "source": [
    "n_diag.shape"
   ]
  },
  {
   "cell_type": "code",
   "execution_count": 145,
   "metadata": {},
   "outputs": [
    {
     "data": {
      "text/plain": [
       "(11, 21, 2)"
      ]
     },
     "execution_count": 145,
     "metadata": {},
     "output_type": "execute_result"
    }
   ],
   "source": [
    "microC.shape"
   ]
  },
  {
   "cell_type": "code",
   "execution_count": 200,
   "metadata": {},
   "outputs": [
    {
     "ename": "ValueError",
     "evalue": "operands could not be broadcast together with shapes (11,21,99) (0,) ",
     "output_type": "error",
     "traceback": [
      "\u001b[1;31m---------------------------------------------------------------------------\u001b[0m",
      "\u001b[1;31mValueError\u001b[0m                                Traceback (most recent call last)",
      "\u001b[1;32m<ipython-input-200-d9bc00311f2a>\u001b[0m in \u001b[0;36m<module>\u001b[1;34m\u001b[0m\n\u001b[1;32m----> 1\u001b[1;33m \u001b[0mdiff_DM\u001b[0m \u001b[1;33m=\u001b[0m \u001b[0mnp\u001b[0m\u001b[1;33m.\u001b[0m\u001b[0mabs\u001b[0m\u001b[1;33m(\u001b[0m\u001b[0mn_microC\u001b[0m\u001b[1;33m-\u001b[0m\u001b[0mn_diag\u001b[0m\u001b[1;33m)\u001b[0m\u001b[1;33m.\u001b[0m\u001b[0msum\u001b[0m\u001b[1;33m(\u001b[0m\u001b[0maxis\u001b[0m \u001b[1;33m=\u001b[0m \u001b[1;36m1\u001b[0m\u001b[1;33m)\u001b[0m\u001b[1;33m/\u001b[0m\u001b[0mn_diag\u001b[0m\u001b[1;33m.\u001b[0m\u001b[0msum\u001b[0m\u001b[1;33m(\u001b[0m\u001b[0maxis\u001b[0m\u001b[1;33m=\u001b[0m\u001b[1;36m1\u001b[0m\u001b[1;33m)\u001b[0m\u001b[1;33m\u001b[0m\u001b[1;33m\u001b[0m\u001b[0m\n\u001b[0m\u001b[0;32m      2\u001b[0m \u001b[1;33m\u001b[0m\u001b[0m\n",
      "\u001b[1;31mValueError\u001b[0m: operands could not be broadcast together with shapes (11,21,99) (0,) "
     ]
    }
   ],
   "source": [
    "diff_DM = np.abs(n_microC-n_diag).sum(axis = 1)/n_diag.sum(axis=1)\n",
    "    "
   ]
  },
  {
   "cell_type": "code",
   "execution_count": 198,
   "metadata": {},
   "outputs": [
    {
     "ename": "NameError",
     "evalue": "name 'diff_DM' is not defined",
     "output_type": "error",
     "traceback": [
      "\u001b[1;31m---------------------------------------------------------------------------\u001b[0m",
      "\u001b[1;31mNameError\u001b[0m                                 Traceback (most recent call last)",
      "\u001b[1;32m<ipython-input-198-20e06c09c8ca>\u001b[0m in \u001b[0;36m<module>\u001b[1;34m\u001b[0m\n\u001b[1;32m----> 1\u001b[1;33m \u001b[0mdiff_DM\u001b[0m\u001b[1;33m.\u001b[0m\u001b[0mT\u001b[0m\u001b[1;33m\u001b[0m\u001b[1;33m\u001b[0m\u001b[0m\n\u001b[0m",
      "\u001b[1;31mNameError\u001b[0m: name 'diff_DM' is not defined"
     ]
    }
   ],
   "source": [
    "diff_DM.T"
   ]
  },
  {
   "cell_type": "code",
   "execution_count": 197,
   "metadata": {},
   "outputs": [
    {
     "ename": "NameError",
     "evalue": "name 'diff_DM' is not defined",
     "output_type": "error",
     "traceback": [
      "\u001b[1;31m---------------------------------------------------------------------------\u001b[0m",
      "\u001b[1;31mNameError\u001b[0m                                 Traceback (most recent call last)",
      "\u001b[1;32m<ipython-input-197-659e25c62e51>\u001b[0m in \u001b[0;36m<module>\u001b[1;34m\u001b[0m\n\u001b[1;32m----> 1\u001b[1;33m \u001b[0mplt\u001b[0m\u001b[1;33m.\u001b[0m\u001b[0mplot\u001b[0m\u001b[1;33m(\u001b[0m\u001b[0mcoef\u001b[0m\u001b[1;33m,\u001b[0m \u001b[0mdiff_DM\u001b[0m\u001b[1;33m.\u001b[0m\u001b[0mT\u001b[0m\u001b[1;33m[\u001b[0m\u001b[1;36m0\u001b[0m\u001b[1;33m]\u001b[0m\u001b[1;33m,\u001b[0m\u001b[1;34m'rx--'\u001b[0m\u001b[1;33m)\u001b[0m\u001b[1;33m\u001b[0m\u001b[1;33m\u001b[0m\u001b[0m\n\u001b[0m\u001b[0;32m      2\u001b[0m \u001b[0mplt\u001b[0m\u001b[1;33m.\u001b[0m\u001b[0mplot\u001b[0m\u001b[1;33m(\u001b[0m\u001b[0mcoef\u001b[0m\u001b[1;33m,\u001b[0m \u001b[0mdiff_DM\u001b[0m\u001b[1;33m.\u001b[0m\u001b[0mT\u001b[0m\u001b[1;33m[\u001b[0m\u001b[1;36m1\u001b[0m\u001b[1;33m]\u001b[0m\u001b[1;33m,\u001b[0m\u001b[1;34m'bx--'\u001b[0m\u001b[1;33m)\u001b[0m\u001b[1;33m\u001b[0m\u001b[1;33m\u001b[0m\u001b[0m\n\u001b[0;32m      3\u001b[0m \u001b[0mplt\u001b[0m\u001b[1;33m.\u001b[0m\u001b[0mxlim\u001b[0m\u001b[1;33m(\u001b[0m\u001b[1;33m[\u001b[0m\u001b[1;36m0\u001b[0m\u001b[1;33m,\u001b[0m\u001b[1;36m0.5\u001b[0m\u001b[1;33m]\u001b[0m\u001b[1;33m)\u001b[0m\u001b[1;33m\u001b[0m\u001b[1;33m\u001b[0m\u001b[0m\n\u001b[0;32m      4\u001b[0m \u001b[0mplt\u001b[0m\u001b[1;33m.\u001b[0m\u001b[0mylim\u001b[0m\u001b[1;33m(\u001b[0m\u001b[1;33m[\u001b[0m\u001b[1;36m0\u001b[0m\u001b[1;33m,\u001b[0m\u001b[1;36m0.2\u001b[0m\u001b[1;33m]\u001b[0m\u001b[1;33m)\u001b[0m\u001b[1;33m\u001b[0m\u001b[1;33m\u001b[0m\u001b[0m\n",
      "\u001b[1;31mNameError\u001b[0m: name 'diff_DM' is not defined"
     ]
    }
   ],
   "source": [
    "plt.plot(coef, diff_DM.T[0],'rx--')\n",
    "plt.plot(coef, diff_DM.T[1],'bx--')\n",
    "plt.xlim([0,0.5])\n",
    "plt.ylim([0,0.2])"
   ]
  },
  {
   "cell_type": "code",
   "execution_count": 48,
   "metadata": {},
   "outputs": [
    {
     "data": {
      "text/plain": [
       "(2, 11)"
      ]
     },
     "execution_count": 48,
     "metadata": {},
     "output_type": "execute_result"
    }
   ],
   "source": [
    "target_E.shape"
   ]
  },
  {
   "cell_type": "code",
   "execution_count": 49,
   "metadata": {},
   "outputs": [
    {
     "data": {
      "text/plain": [
       "array([[-5.17473959, -5.22553864, -5.25246384, -5.280407  , -5.33934908,\n",
       "        -5.40236728, -5.54063143, -5.69517767, -6.0528633 , -6.47458556,\n",
       "        -7.50419061],\n",
       "       [-3.40293368, -3.42471133, -3.43666639, -3.44933381, -3.47681009,\n",
       "        -3.50714855, -3.57644225, -3.65726914, -3.85368697, -4.09662288,\n",
       "        -4.72204121]])"
      ]
     },
     "execution_count": 49,
     "metadata": {},
     "output_type": "execute_result"
    }
   ],
   "source": [
    "target_E "
   ]
  },
  {
   "cell_type": "code",
   "execution_count": 51,
   "metadata": {},
   "outputs": [
    {
     "data": {
      "text/plain": [
       "array([[ 247,  646,  279,  261,  105,  216,  113,  172,  109,  108,   67],\n",
       "       [ 567,  562,  406,  553,  556,  447, 1038,  595,  539,  451,  332]])"
      ]
     },
     "execution_count": 51,
     "metadata": {},
     "output_type": "execute_result"
    }
   ],
   "source": [
    "index"
   ]
  },
  {
   "cell_type": "code",
   "execution_count": 16,
   "metadata": {},
   "outputs": [],
   "source": [
    "Ei = De +target_E"
   ]
  },
  {
   "cell_type": "code",
   "execution_count": 17,
   "metadata": {},
   "outputs": [
    {
     "data": {
      "text/plain": [
       "array([[-5.16653095, -5.22352668, -5.24618259, -5.27737169, -5.33596957,\n",
       "        -5.40186148, -5.53986784, -5.69492937, -6.05022825, -6.47033266,\n",
       "        -7.44462663],\n",
       "       [-3.39880055, -3.42341822, -3.43517415, -3.4446234 , -3.47511264,\n",
       "        -3.50271176, -3.57628828, -3.65726862, -3.85310818, -4.09583827,\n",
       "        -4.71653009]])"
      ]
     },
     "execution_count": 17,
     "metadata": {},
     "output_type": "execute_result"
    }
   ],
   "source": [
    "Ei"
   ]
  },
  {
   "cell_type": "code",
   "execution_count": null,
   "metadata": {},
   "outputs": [],
   "source": [
    "print('eff_T   : {}, <U>    : {}'.format([2,3],target_E))\n",
    "print('initial : {}, energy : {}, Delta E : {}'.format(index, Ei, De) )\n",
    "\n",
    "#set initial state (T = 2.0, T = 3.0)\n",
    "initial_state = H_ini.get_eigenstates(initial_basis)[index]"
   ]
  },
  {
   "cell_type": "code",
   "execution_count": 190,
   "metadata": {},
   "outputs": [
    {
     "data": {
      "text/plain": [
       "array([[2308, 1327, 1963, ..., 1932, 1830, 1659],\n",
       "       [ 922, 2821,  957, ...,  960,  999,  997],\n",
       "       [ 306,  624, 1142, ...,  674,  494,  463],\n",
       "       ...,\n",
       "       [   0,    0,    0, ...,    0,    0,    0],\n",
       "       [   0,    0,    0, ...,    0,    0,    0],\n",
       "       [   0,    0,    0, ...,    0,    0,    0]])"
      ]
     },
     "execution_count": 190,
     "metadata": {},
     "output_type": "execute_result"
    }
   ],
   "source": [
    "index"
   ]
  },
  {
   "cell_type": "code",
   "execution_count": 53,
   "metadata": {},
   "outputs": [],
   "source": [
    "initial_states = []\n",
    "S.Hamiltonian = None\n",
    "for ini,ind in zip(S.get_operator(\"H_ini\"), index.T):\n",
    "    initial_states.append(ini.get_eigenstates(initial_basis)[ind])"
   ]
  },
  {
   "cell_type": "code",
   "execution_count": 69,
   "metadata": {},
   "outputs": [
    {
     "data": {
      "text/plain": [
       "(11, 21, 116280)"
      ]
     },
     "execution_count": 69,
     "metadata": {},
     "output_type": "execute_result"
    }
   ],
   "source": [
    "n_all.shape"
   ]
  },
  {
   "cell_type": "code",
   "execution_count": 91,
   "metadata": {},
   "outputs": [
    {
     "data": {
      "text/plain": [
       "(5538,)"
      ]
     },
     "execution_count": 91,
     "metadata": {},
     "output_type": "execute_result"
    }
   ],
   "source": [
    "n_all[0][0][:5538][n_all[0][0][:5538] == n_all[0][16][:5538]].shape"
   ]
  },
  {
   "cell_type": "code",
   "execution_count": 82,
   "metadata": {},
   "outputs": [
    {
     "data": {
      "text/plain": [
       "(11, 21, 116280)"
      ]
     },
     "execution_count": 82,
     "metadata": {},
     "output_type": "execute_result"
    }
   ],
   "source": [
    "n_all.shape"
   ]
  },
  {
   "cell_type": "code",
   "execution_count": 83,
   "metadata": {},
   "outputs": [
    {
     "data": {
      "text/plain": [
       "(11, 21, 116280)"
      ]
     },
     "execution_count": 83,
     "metadata": {},
     "output_type": "execute_result"
    }
   ],
   "source": [
    "N_all.shape"
   ]
  },
  {
   "cell_type": "code",
   "execution_count": 108,
   "metadata": {},
   "outputs": [
    {
     "data": {
      "image/png": "[encoded data removed]",
      "text/plain": [
       "<Figure size 432x288 with 1 Axes>"
      ]
     },
     "metadata": {
      "needs_background": "light"
     },
     "output_type": "display_data"
    },
    {
     "data": {
      "image/png": "[encoded data removed]",
      "text/plain": [
       "<Figure size 432x288 with 1 Axes>"
      ]
     },
     "metadata": {
      "needs_background": "light"
     },
     "output_type": "display_data"
    }
   ],
   "source": [
    "for i in [2,-3]:\n",
    "    plt.figure()\n",
    "    plt.scatter(Energy[i], N_all[i][0],s = 1.5)"
   ]
  },
  {
   "cell_type": "code",
   "execution_count": 90,
   "metadata": {},
   "outputs": [
    {
     "data": {
      "image/png": "[encoded data removed]",
      "text/plain": [
       "<Figure size 432x288 with 1 Axes>"
      ]
     },
     "metadata": {
      "needs_background": "light"
     },
     "output_type": "display_data"
    },
    {
     "data": {
      "image/png": "[encoded data removed]",
      "text/plain": [
       "<Figure size 432x288 with 1 Axes>"
      ]
     },
     "metadata": {
      "needs_background": "light"
     },
     "output_type": "display_data"
    },
    {
     "data": {
      "image/png": "[encoded data removed]",
      "text/plain": [
       "<Figure size 432x288 with 1 Axes>"
      ]
     },
     "metadata": {
      "needs_background": "light"
     },
     "output_type": "display_data"
    },
    {
     "data": {
      "image/png": "[encoded data removed]",
      "text/plain": [
       "<Figure size 432x288 with 1 Axes>"
      ]
     },
     "metadata": {
      "needs_background": "light"
     },
     "output_type": "display_data"
    },
    {
     "data": {
      "image/png": "[encoded data removed]",
      "text/plain": [
       "<Figure size 432x288 with 1 Axes>"
      ]
     },
     "metadata": {
      "needs_background": "light"
     },
     "output_type": "display_data"
    },
    {
     "data": {
      "image/png": "[encoded data removed]",
      "text/plain": [
       "<Figure size 432x288 with 1 Axes>"
      ]
     },
     "metadata": {
      "needs_background": "light"
     },
     "output_type": "display_data"
    },
    {
     "data": {
      "image/png": "[encoded data removed]",
      "text/plain": [
       "<Figure size 432x288 with 1 Axes>"
      ]
     },
     "metadata": {
      "needs_background": "light"
     },
     "output_type": "display_data"
    },
    {
     "data": {
      "image/png": "[encoded data removed]",
      "text/plain": [
       "<Figure size 432x288 with 1 Axes>"
      ]
     },
     "metadata": {
      "needs_background": "light"
     },
     "output_type": "display_data"
    },
    {
     "data": {
      "image/png": "[encoded data removed]",
      "text/plain": [
       "<Figure size 432x288 with 1 Axes>"
      ]
     },
     "metadata": {
      "needs_background": "light"
     },
     "output_type": "display_data"
    },
    {
     "data": {
      "image/png": "[encoded data removed]",
      "text/plain": [
       "<Figure size 432x288 with 1 Axes>"
      ]
     },
     "metadata": {
      "needs_background": "light"
     },
     "output_type": "display_data"
    },
    {
     "data": {
      "image/png": "[encoded data removed]",
      "text/plain": [
       "<Figure size 432x288 with 1 Axes>"
      ]
     },
     "metadata": {
      "needs_background": "light"
     },
     "output_type": "display_data"
    }
   ],
   "source": [
    "n_diag, N_diag = [],[]\n",
    "n_val, N_val = [],[]\n",
    "n_can, N_can = [],[]\n",
    "n_micro, N_micro =[],[]\n",
    "for i, arg in enumerate(zip(S.get_operator(\"H_fin\"),S.get_operator(\"H_ini\"), index.T)):\n",
    "    fin, ini,ind = arg\n",
    "    S.Hamiltonian = None\n",
    "    initial_state =ini.get_eigenstates(initial_basis)[ind]\n",
    "    S.Hamiltonian = fin\n",
    "    temp = [[],[]]\n",
    "    plt.figure()\n",
    "    plt.scatter(Energy[i][:5538],(initial_state.eigencoef*initial_state.eigencoef.conjugate()).T[1],s = 1)\n",
    "    for k in S.range:\n",
    "        temp[0].append((initial_state.eigencoef*initial_state.eigencoef.conjugate()).T@n_all[i][k][:len(initial_basis)])\n",
    "        temp[1].append((initial_state.eigencoef*initial_state.eigencoef.conjugate()).T@N_all[i][k][:len(initial_basis)])\n",
    "    n_diag.append(temp[0])\n",
    "    N_diag.append(temp[1])\n",
    "    \n",
    "    "
   ]
  },
  {
   "cell_type": "code",
   "execution_count": 20,
   "metadata": {},
   "outputs": [],
   "source": [
    "import matplotlib.pyplot as plt"
   ]
  },
  {
   "cell_type": "code",
   "execution_count": 102,
   "metadata": {},
   "outputs": [],
   "source": [
    "n_diag = np.array(n_diag)\n",
    "N_diag = np.array(N_diag)"
   ]
  },
  {
   "cell_type": "code",
   "execution_count": 72,
   "metadata": {},
   "outputs": [
    {
     "data": {
      "text/plain": [
       "(11, 21, 2)"
      ]
     },
     "execution_count": 72,
     "metadata": {},
     "output_type": "execute_result"
    }
   ],
   "source": [
    "n_diag.shape"
   ]
  },
  {
   "cell_type": "code",
   "execution_count": 31,
   "metadata": {},
   "outputs": [
    {
     "name": "stdout",
     "output_type": "stream",
     "text": [
      "/data : dir\n",
      "\tEnergy\n",
      "\tN_all\n",
      "\tn_all\n"
     ]
    }
   ],
   "source": [
    "S.data_list()"
   ]
  },
  {
   "cell_type": "code",
   "execution_count": 27,
   "metadata": {},
   "outputs": [
    {
     "data": {
      "text/plain": [
       "array([[0.63558997+0.j, 0.5478449 +0.j],\n",
       "       [0.66456603+0.j, 0.53918354+0.j],\n",
       "       [0.54620845+0.j, 0.47495582+0.j],\n",
       "       [0.42449893+0.j, 0.40155496+0.j],\n",
       "       [0.34876821+0.j, 0.33246038+0.j],\n",
       "       [0.25712774+0.j, 0.28630606+0.j],\n",
       "       [0.20088684+0.j, 0.25598752+0.j],\n",
       "       [0.18595412+0.j, 0.23963922+0.j],\n",
       "       [0.19147085+0.j, 0.22309267+0.j],\n",
       "       [0.16915248+0.j, 0.22718424+0.j],\n",
       "       [0.19357135+0.j, 0.24571312+0.j],\n",
       "       [0.19357135+0.j, 0.24571312+0.j],\n",
       "       [0.16915248+0.j, 0.22718424+0.j],\n",
       "       [0.19147085+0.j, 0.22309267+0.j],\n",
       "       [0.18595412+0.j, 0.23963922+0.j],\n",
       "       [0.20088684+0.j, 0.25598752+0.j],\n",
       "       [0.25712774+0.j, 0.28630606+0.j],\n",
       "       [0.34876821+0.j, 0.33246038+0.j],\n",
       "       [0.42449893+0.j, 0.40155496+0.j],\n",
       "       [0.54620845+0.j, 0.47495582+0.j],\n",
       "       [0.66456603+0.j, 0.53918354+0.j]])"
      ]
     },
     "execution_count": 27,
     "metadata": {},
     "output_type": "execute_result"
    }
   ],
   "source": [
    "S.data_list"
   ]
  },
  {
   "cell_type": "code",
   "execution_count": 213,
   "metadata": {},
   "outputs": [
    {
     "data": {
      "text/plain": [
       "[<matplotlib.lines.Line2D at 0x1ee1a1c6668>]"
      ]
     },
     "execution_count": 213,
     "metadata": {},
     "output_type": "execute_result"
    },
    {
     "data": {
      "image/png": "[encoded data removed]",
      "text/plain": [
       "<Figure size 432x288 with 1 Axes>"
      ]
     },
     "metadata": {
      "needs_background": "light"
     },
     "output_type": "display_data"
    }
   ],
   "source": [
    "plt.plot(np.roll(n_diag[8].T[1],10))"
   ]
  },
  {
   "cell_type": "code",
   "execution_count": null,
   "metadata": {},
   "outputs": [],
   "source": []
  }
 ],
 "metadata": {
  "kernelspec": {
   "display_name": "Python 3",
   "language": "python",
   "name": "python3"
  },
  "language_info": {
   "codemirror_mode": {
    "name": "ipython",
    "version": 3
   },
   "file_extension": ".py",
   "mimetype": "text/x-python",
   "name": "python",
   "nbconvert_exporter": "python",
   "pygments_lexer": "ipython3",
   "version": "3.7.1"
  }
 },
 "nbformat": 4,
 "nbformat_minor": 2
}
