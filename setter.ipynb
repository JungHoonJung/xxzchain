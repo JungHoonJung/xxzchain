{
 "cells": [
  {
   "cell_type": "code",
   "execution_count": 1,
   "metadata": {},
   "outputs": [],
   "source": [
    "import xxzchain as xxz\n",
    "\n",
    "import numpy as np"
   ]
  },
  {
   "cell_type": "code",
   "execution_count": 2,
   "metadata": {},
   "outputs": [],
   "source": [
    "system =  xxz.System(21)"
   ]
  },
  {
   "cell_type": "code",
   "execution_count": 3,
   "metadata": {},
   "outputs": [
    {
     "name": "stdout",
     "output_type": "stream",
     "text": [
      "Current system saved at \"test\"\n",
      "Hardcore boson system\n",
      "Name         : lattice21\n",
      "Saved path   : C:\\Users\\jeong\\master\\xxzchain\\test\\\n",
      "System size  : 21\n",
      "\n",
      "Referenced Basis :   (None means full)\n",
      "\t|- Sector [-1 -1  0  0] \n",
      "\t-----\n",
      "\n",
      "Defined Operators :\n",
      "\t-----\n",
      "\tHamiltonian  : -----\n",
      "\n"
     ]
    }
   ],
   "source": [
    "system.initialize('test')"
   ]
  },
  {
   "cell_type": "code",
   "execution_count": 4,
   "metadata": {},
   "outputs": [],
   "source": [
    "xxz.preset(system, globals())"
   ]
  },
  {
   "cell_type": "markdown",
   "metadata": {},
   "source": [
    "### momentum distribution function"
   ]
  },
  {
   "cell_type": "markdown",
   "metadata": {},
   "source": [
    "<font size='5'>\n",
    "$$n(k) \\equiv \\frac{1}{L} \\sum_{i,j}  e^{-k(i-j)}\\hat b^\\dagger_i \\hat b_j$$"
   ]
  },
  {
   "cell_type": "code",
   "execution_count": 5,
   "metadata": {},
   "outputs": [],
   "source": [
    "n = xxz.OperatorGroup(system)\n",
    "n.set_name('n')"
   ]
  },
  {
   "cell_type": "code",
   "execution_count": 6,
   "metadata": {},
   "outputs": [],
   "source": [
    "for k in system.range:\n",
    "    temp = xxz.Operator.Null(system)\n",
    "    for i in system.range:\n",
    "        for j in system.range:\n",
    "            temp += 1/system.size*np.exp(-2j*np.pi*k*(i-j)/system.size)*b_i_dag.index(i)@b_i.index(j)\n",
    "    n[k] = temp"
   ]
  },
  {
   "cell_type": "markdown",
   "metadata": {},
   "source": [
    "<font size='5'>\n",
    "$$N(k) \\equiv \\frac{1}{L} \\sum_{i,j}  e^{-k(i-j)}\\hat n_i \\hat n_j$$"
   ]
  },
  {
   "cell_type": "code",
   "execution_count": 7,
   "metadata": {},
   "outputs": [],
   "source": [
    "N = xxz.OperatorGroup(system)\n",
    "N.set_name('N')"
   ]
  },
  {
   "cell_type": "code",
   "execution_count": 8,
   "metadata": {},
   "outputs": [],
   "source": [
    "for k in system.range:\n",
    "    temp = xxz.Operator.Null(system)\n",
    "    for i in system.range:\n",
    "        for j in system.range:\n",
    "            temp += 1/system.size*np.exp(-2j*np.pi*k*(i-j)/system.size)*n_i.index(i)@n_i.index(j)\n",
    "    N[k] = temp"
   ]
  },
  {
   "cell_type": "code",
   "execution_count": 9,
   "metadata": {},
   "outputs": [],
   "source": [
    "system.save()"
   ]
  },
  {
   "cell_type": "code",
   "execution_count": 10,
   "metadata": {},
   "outputs": [],
   "source": [
    "system.saver.flush()"
   ]
  },
  {
   "cell_type": "markdown",
   "metadata": {},
   "source": [
    "<font size='5'>\n",
    "$$H_{nn} = hopping + repulsive. potential$$"
   ]
  },
  {
   "cell_type": "markdown",
   "metadata": {},
   "source": [
    "<font size='5'>\n",
    "$$H_{nn} = \\sum_i -t(\\hat b^\\dagger_i \\hat b_{i+1} + \\textrm{H.c}) + V\\left(\\hat n_i -\\frac{1}{2}\\right)\\left( \\hat n_{i+1}- \\frac{1}{2}\\right)$$"
   ]
  },
  {
   "cell_type": "markdown",
   "metadata": {},
   "source": [
    "<font size='5'>\n",
    "$$H_{nnn} = \\sum_i -t'(\\hat b^\\dagger_i \\hat b_{i+2} + \\textrm{H.c}) + V'\\left(\\hat n_i -\\frac{1}{2}\\right)\\left( \\hat n_{i+2}- \\frac{1}{2}\\right)$$"
   ]
  },
  {
   "cell_type": "markdown",
   "metadata": {},
   "source": [
    " "
   ]
  },
  {
   "cell_type": "markdown",
   "metadata": {},
   "source": [
    "<font size='5'>\n",
    "$$H_{ini} = H_{nn}(t=0.5, V = 2) + H_{nnn}(t'=V'=c)$$"
   ]
  },
  {
   "cell_type": "markdown",
   "metadata": {},
   "source": [
    "<font size='5'>\n",
    "$$H_{fin} = H_{nn}(t=1, V = 1) + H_{nnn}(t'=V'=c)$$"
   ]
  },
  {
   "cell_type": "code",
   "execution_count": 11,
   "metadata": {},
   "outputs": [],
   "source": [
    "nnn = xxz.Operator.Null(system)\n",
    "for i in system.range:\n",
    "    nnn+= -1*hopping.index(i,i+2) + 1*(n_i.index(i)-1/2)@(n_i.index(i+2)-1/2)\n",
    "nnn.set_default(False)\n",
    "nnn.set_name('nnn')\n"
   ]
  },
  {
   "cell_type": "code",
   "execution_count": 12,
   "metadata": {},
   "outputs": [],
   "source": [
    "ini = xxz.Operator.Null(system)\n",
    "for i in system.range:\n",
    "    ini+= -0.5*hopping.index(i,i+1) + 2*(n_i.index(i)-1/2)@(n_i.index(i+1)-1/2)\n",
    "ini.set_default(False)\n",
    "ini.set_name('ini')\n"
   ]
  },
  {
   "cell_type": "code",
   "execution_count": 13,
   "metadata": {},
   "outputs": [],
   "source": [
    "fin = xxz.Operator.Null(system)\n",
    "for i in system.range:\n",
    "    fin += -1*hopping.index(i,i+1) + 1*(n_i.index(i)-1/2)@(n_i.index(i+1)-1/2)\n",
    "fin.set_default(False)\n",
    "fin.set_name('fin')\n"
   ]
  },
  {
   "cell_type": "code",
   "execution_count": 14,
   "metadata": {},
   "outputs": [],
   "source": [
    "coef = []\n",
    "for i in range(5):\n",
    "    j = 2**i\n",
    "    coef.append(0.02*j)\n",
    "    coef.append(0.03*j)"
   ]
  },
  {
   "cell_type": "code",
   "execution_count": 15,
   "metadata": {},
   "outputs": [],
   "source": [
    "coef.insert(0,0)"
   ]
  },
  {
   "cell_type": "code",
   "execution_count": 16,
   "metadata": {},
   "outputs": [
    {
     "data": {
      "text/plain": [
       "[0, 0.02, 0.03, 0.04, 0.06, 0.08, 0.12, 0.16, 0.24, 0.32, 0.48]"
      ]
     },
     "execution_count": 16,
     "metadata": {},
     "output_type": "execute_result"
    }
   ],
   "source": [
    "coef"
   ]
  },
  {
   "cell_type": "code",
   "execution_count": 17,
   "metadata": {},
   "outputs": [
    {
     "data": {
      "text/plain": [
       "(210,)"
      ]
     },
     "execution_count": 17,
     "metadata": {},
     "output_type": "execute_result"
    }
   ],
   "source": [
    "(nnn+ini).coef.shape"
   ]
  },
  {
   "cell_type": "code",
   "execution_count": 18,
   "metadata": {},
   "outputs": [],
   "source": [
    "H_ini = xxz.OperatorGroup(system)\n",
    "H_fin = xxz.OperatorGroup(system)\n",
    "H_ini.set_name('H_ini')\n",
    "H_fin.set_name('H_fin')\n",
    "for c in coef:\n",
    "    if c:\n",
    "        H_ini[c] = ini+c*nnn\n",
    "        H_fin[c] = fin+c*nnn\n",
    "    else:\n",
    "        H_ini[c] = ini\n",
    "        H_fin[c] = fin\n"
   ]
  },
  {
   "cell_type": "code",
   "execution_count": 19,
   "metadata": {},
   "outputs": [],
   "source": [
    "system.save()"
   ]
  },
  {
   "cell_type": "code",
   "execution_count": 20,
   "metadata": {},
   "outputs": [
    {
     "name": "stdout",
     "output_type": "stream",
     "text": [
      "Current system loaded by \"C:\\Users\\jeong\\master\\xxzchain\\test\\lattice21.hdf5\"\n",
      "Hardcore boson system\n",
      "Name         : lattice21\n",
      "Saved path   : C:\\Users\\jeong\\master\\xxzchain\\C\n",
      "System size  : 21\n",
      "\n",
      "Referenced Basis :   (None means full)\n",
      "\t|- Sector [-1 -1  0  0] \n",
      "\t-----\n",
      "\n",
      "Defined Operators :\n",
      "\t|- H_fin\n",
      "\t|- H_ini\n",
      "\t|- N\n",
      "\t|- n\n",
      "\t|- nnn\n",
      "\t-----\n",
      "\tHamiltonian  : -----\n",
      "\n"
     ]
    }
   ],
   "source": [
    "system = xxz.load_system('test/lattice21')"
   ]
  },
  {
   "cell_type": "code",
   "execution_count": null,
   "metadata": {},
   "outputs": [],
   "source": []
  }
 ],
 "metadata": {
  "kernelspec": {
   "display_name": "Python 3",
   "language": "python",
   "name": "python3"
  },
  "language_info": {
   "codemirror_mode": {
    "name": "ipython",
    "version": 3
   },
   "file_extension": ".py",
   "mimetype": "text/x-python",
   "name": "python",
   "nbconvert_exporter": "python",
   "pygments_lexer": "ipython3",
   "version": "3.7.1"
  }
 },
 "nbformat": 4,
 "nbformat_minor": 2
}
