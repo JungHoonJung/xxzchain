{
 "cells": [
  {
   "cell_type": "markdown",
   "metadata": {},
   "source": [
    "# parity ad Inversion Symmerty"
   ]
  },
  {
   "cell_type": "markdown",
   "metadata": {},
   "source": [
    "translation T  \n",
    "spatial inversion P    \n",
    "spin inversion F  \n",
    "particle number Q  \n",
    "\n"
   ]
  },
  {
   "cell_type": "markdown",
   "metadata": {},
   "source": [
    "$T$ shift op"
   ]
  },
  {
   "cell_type": "markdown",
   "metadata": {},
   "source": [
    "#### special case"
   ]
  },
  {
   "cell_type": "markdown",
   "metadata": {},
   "source": [
    "$T = T^{-1} -> \\hat P$"
   ]
  },
  {
   "cell_type": "markdown",
   "metadata": {},
   "source": [
    "half filling $\\hat Q = N/2 \\rightarrow \\hat F$"
   ]
  },
  {
   "cell_type": "markdown",
   "metadata": {},
   "source": [
    "for translation symmetry, singlet $\\hat P |s\\rangle = |s\\rangle$"
   ]
  },
  {
   "cell_type": "markdown",
   "metadata": {},
   "source": [
    "p = itself when P and F both"
   ]
  },
  {
   "cell_type": "markdown",
   "metadata": {},
   "source": []
  },
  {
   "cell_type": "code",
   "execution_count": null,
   "metadata": {},
   "outputs": [],
   "source": []
  },
  {
   "cell_type": "code",
   "execution_count": null,
   "metadata": {},
   "outputs": [],
   "source": []
  }
 ],
 "metadata": {
  "kernelspec": {
   "display_name": "Python 3",
   "language": "python",
   "name": "python3"
  },
  "language_info": {
   "codemirror_mode": {
    "name": "ipython",
    "version": 3
   },
   "file_extension": ".py",
   "mimetype": "text/x-python",
   "name": "python",
   "nbconvert_exporter": "python",
   "pygments_lexer": "ipython3",
   "version": "3.6.8"
  }
 },
 "nbformat": 4,
 "nbformat_minor": 2
}
