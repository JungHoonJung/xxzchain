{
 "cells": [
  {
   "cell_type": "code",
   "execution_count": 192,
   "metadata": {},
   "outputs": [],
   "source": [
    "import xxzchain"
   ]
  },
  {
   "cell_type": "markdown",
   "metadata": {},
   "source": [
    "### dependency"
   ]
  },
  {
   "cell_type": "code",
   "execution_count": 1,
   "metadata": {},
   "outputs": [],
   "source": [
    "#!/usr/bin/env python\n",
    "# coding: utf-8\n",
    "\n",
    "# In[1]:\n",
    "#__all__ = ['System','Basis','Operator', 'State']#,'load_system']\n",
    "\n",
    "import os\n",
    "import numpy as np\n",
    "import matplotlib.pyplot as plt\n",
    "import math\n",
    "import inspect\n",
    "from copy import deepcopy\n",
    "import h5py\n",
    "import warnings"
   ]
  },
  {
   "cell_type": "markdown",
   "metadata": {},
   "source": [
    "---"
   ]
  },
  {
   "cell_type": "markdown",
   "metadata": {},
   "source": [
    "##  Core"
   ]
  },
  {
   "cell_type": "code",
   "execution_count": 2,
   "metadata": {},
   "outputs": [],
   "source": [
    "from xxzchain import System, Subsystem, Basis, Operator, State"
   ]
  },
  {
   "cell_type": "markdown",
   "metadata": {},
   "source": [
    "### System"
   ]
  },
  {
   "cell_type": "code",
   "execution_count": null,
   "metadata": {},
   "outputs": [],
   "source": [
    "## In[2]:\n",
    "\n",
    "\n",
    "class System:\n",
    "    '''class 'System' is environment Object of Quantum calculation.'''\n",
    "\n",
    "\n",
    "    def __init__(self, size, name = None, dtype = np.float64):\n",
    "        '''Please make sure your system's size and symmetry that you want to use.\n",
    "        Support 1 ~ 32 lattice size.\n",
    "        You can see the summery of your system through 'System.tree'\n",
    "        '''\n",
    "        self.size = size\n",
    "        self.max = 1<<size\n",
    "        #self.sample = np.zeros([size],dtype =np.bool)\n",
    "\n",
    "        #storage\n",
    "        self.__basis = None\n",
    "        self._Operator = {}\n",
    "        self._State = {}\n",
    "        self._function = {}\n",
    "        self._Subsystem = {}\n",
    "        self._fid = 0\n",
    "\n",
    "        #status for system\n",
    "        self.__initialized = False\n",
    "        self.__path = None\n",
    "        self.__H = None\n",
    "        self.__symmetry = 'Q' # (spin conserving, traslational sym, parity, spin inversion)\n",
    "\n",
    "        self.parent = None\n",
    "\n",
    "        #save/load & Initializer\n",
    "        self.name = None\n",
    "        self.saver = Saver(self)\n",
    "        self.initializer = Initializer(self)\n",
    "        if name is None:\n",
    "            self.name = \"lattice{}\".format(size)\n",
    "\n",
    "        #Data types\n",
    "        self.dtype = dtype\n",
    "        self.Odtype = np.complex128\n",
    "\n",
    "\n",
    "    ############      tree        ################\n",
    "    @property\n",
    "    def tree(self):\n",
    "        return\n",
    "\n",
    "    #print summery of system, return is None\n",
    "    @tree.getter\n",
    "    def tree(self):\n",
    "        if not self.__initialized:\n",
    "            print(\"System must be initialized. please make sure your path and file with 'initialize(path)'\")\n",
    "        print(\"Hardcore boson system\")\n",
    "        path = '-----' if self.path is None else os.path.abspath(self.path)\n",
    "        print(\"Name         : {}\".format(self.name))\n",
    "        print(\"Saved path   : {}\".format(path))\n",
    "        print(\"System size  : {}\\n\".format(self.size))\n",
    "        print(\"Referenced Basis :   (None means full)\")\n",
    "        print('\\t|- Sector {} '.format(self.__basis.symmetry))\n",
    "        print('\\t-----\\n')\n",
    "\n",
    "        H = '-----' if self.__H is None else \"'{}'\".format(self.__H)\n",
    "\n",
    "        print(\"Defined Operators :\")\n",
    "        for op in self._Operator:\n",
    "            print('\\t|- {}'.format(op))\n",
    "        print('\\t-----')\n",
    "        print(\"\\tHamiltonian  : {}\\n\".format(H))\n",
    "        print(\"Defined States :\")\n",
    "        for st in self._State:\n",
    "            print('\\t|- {}'.format(st))\n",
    "        print('\\t-----\\n')\n",
    "\n",
    "\n",
    "    @property\n",
    "    def path(self): return self.__path\n",
    "    @path.getter\n",
    "    def path(self): return self.__path\n",
    "\n",
    "    #for safety, didn't implement path.setter.\n",
    "\n",
    "    def set_path(self, path):\n",
    "        if self.__path is None:\n",
    "            self.__path = path\n",
    "        else:\n",
    "            print(\"System.path cannot be modified.\")\n",
    "\n",
    "    #####################   symmetry  ##################\n",
    "\n",
    "    @property\n",
    "    def symmetry(self):\n",
    "        return self.__symmetry\n",
    "\n",
    "    @symmetry.getter\n",
    "    def symmetry(self):\n",
    "        print(\"Current symmetry : \")\n",
    "        if self.__symmetry[0]:\n",
    "            print(\"\\t|- Spin conserving : Q\")\n",
    "        if self.__symmetry[1]:\n",
    "            print(\"\\t|- Translational symmetry : K\")\n",
    "        if self.__symmetry[3]:\n",
    "            print(\"\\t|- Parity symmetry : P\")\n",
    "        if self.__symmetry[2]:\n",
    "            print(\"\\t|- Spin inversion symmetry : F\")\n",
    "        if not(self.__symmetry[0] or self.__symmetry[1] or self.__symmetry[2] or self.__symmetry[3]):\n",
    "            print(\"\\t|- No symmetry applied\")\n",
    "        print(\"\\t---\")\n",
    "\n",
    "    '''@symmetry.setter\n",
    "    def symmetry(self, value):\n",
    "        def commute(self):\n",
    "            if self.__symmetry[0] and self.__symmetry[3]:\n",
    "                warnings.warn(\"Spin number conserving and Spin inversion dosen't commute.\")\n",
    "            elif self.__symmetry[1] and self.__symmetry[2]:\n",
    "                warnings.warn(\"Translation and Parity dosen't commute.\")\n",
    "            return\n",
    "        if self.__initialized:\n",
    "            print(\"System already initialized.\")\n",
    "        else:\n",
    "            if type(value) == str:\n",
    "\n",
    "                if not ( value[0] == '+' or value[0] =='-'):\n",
    "                    temp = np.array([False,False,False,False])\n",
    "                    for i in value:\n",
    "                        ch = 'QKPF'.find(i.upper())\n",
    "                        if not ch<0:\n",
    "                            temp[ch] = True\n",
    "                        else:\n",
    "                            raise KeyError(\"Unknown property : {}\".format(i))\n",
    "                    self.__symmetry = temp\n",
    "                    self.symmetry\n",
    "                    return commute(self)\n",
    "                else:\n",
    "                    temp = self.__symmetry.copy()\n",
    "                    sign = value[0]\n",
    "                    value = value[1:]\n",
    "                    while value:\n",
    "                        ch = 'QKPF'.find(value[0].upper())\n",
    "                        if not ch<0:\n",
    "                            if sign == \"+\":\n",
    "                                temp[ch] = True\n",
    "                                value = value[1:]\n",
    "                            else:\n",
    "                                temp[ch] = False\n",
    "                                value = value[1:]\n",
    "                        elif value[0] == '+' or value[0] =='-':\n",
    "                            sign = value[0]\n",
    "                            value = value[1:]\n",
    "                        else:\n",
    "                            raise KeyError(\"Unknown property : {}\".format(value[0]))\n",
    "\n",
    "                    self.__symmetry = temp\n",
    "                    self.symmetry\n",
    "                    return commute(self)\n",
    "            elif len(value) == 4:\n",
    "                temp = np.array(value).astype(np.bool)\n",
    "                self.__symmetry = temp\n",
    "                self.symmetry\n",
    "                return commute(self)\n",
    "            else:\n",
    "                raise ValueError(\"Can't set symmetry. Please read doc of symmetry\")'''\n",
    "\n",
    "\n",
    "\n",
    "    ###############################################################################################\n",
    "\n",
    "    ############# Hamiltonian     ##############\n",
    "    @property\n",
    "    def Hamiltonian(self):\n",
    "        return self.__H\n",
    "    @Hamiltonian.setter\n",
    "    def Hamiltonian(self, name):\n",
    "        if name is None:\n",
    "            self.__H = None\n",
    "            return\n",
    "        for op in self._Operator:\n",
    "            if op == name:\n",
    "                self.__H = name\n",
    "                return\n",
    "            elif self._Operator[op] == name:\n",
    "                self.__H = op\n",
    "                return\n",
    "        if type(name) == Operator:\n",
    "            name.set_name('Hamiltonian')\n",
    "            self.__H = 'Hamiltonian'\n",
    "            return\n",
    "        print(\"Cannot find Operator ({})\".format(name))\n",
    "        return\n",
    "    @Hamiltonian.getter\n",
    "    def Hamiltonian(self):\n",
    "        return self._Operator.get(self.__H, None)\n",
    "\n",
    "\n",
    "\n",
    "\n",
    "    ############# initializer  ###############           will be modified\n",
    "    def initialize(self, path = None, force = False):\n",
    "        '''this method calculate of whole sector by given method.\n",
    "        every progress will be saved on path you set.\n",
    "        -->  calculate basis sector on spin number conserved basis sector.\n",
    "        other sector will be calculated when user call that basis sector.'''\n",
    "        if path is None:\n",
    "            if self.path is None:\n",
    "                print(\"no preset path detected. system path set as {}\".format(self.name))\n",
    "                self.__path = self.name\n",
    "                path = self.path\n",
    "            else:\n",
    "                path = self.path\n",
    "        else:\n",
    "            if self.path is None:\n",
    "                self.__path  = path\n",
    "        if not self.__path[-1] =='/':\n",
    "            self.__path = path+'/'\n",
    "\n",
    "\n",
    "\n",
    "            #f.attrs['symmetry_order'] = self.name\n",
    "\n",
    "            #no more need below\n",
    "            #del self.__state, self.__address, self.__counts, self.__period, self._Qstate, self._Qaddress, self._Qcounts\n",
    "            #self.__state, self.__address, self.__counts, self.__period, self._Qstate, self._Qaddress, self._Qcounts = [None for _ in range(7)]\n",
    "\n",
    "\n",
    "            print('Current system saved at \"{}\"'.format(path))\n",
    "\n",
    "\n",
    "        if self.__initialized:\n",
    "            if not force:\n",
    "                print(\"System already initialized!\")\n",
    "                return\n",
    "            else:\n",
    "                y = input(\"Previous progress will be lost. Continue?[Y/n] : \")\n",
    "                if len(y) == 0 or not y.upper()[0] =='Y':\n",
    "                    print('Initializing canceled.')\n",
    "                    return\n",
    "        else:\n",
    "            if self.saver.isfile() and not force:\n",
    "                y = ''\n",
    "                while len(y)==0:\n",
    "                    y = input(\"Previous save data exist. Will you load that data?[Y/n] : \")\n",
    "                if y.upper()[0]=='Y':\n",
    "                    if not path[-1] == '/': path+='/'\n",
    "                    return self.load(path+self.name+'.hdf5')\n",
    "                else:\n",
    "                    print(\"Please make other path for save. Or use keyword 'force = True'.\")\n",
    "                    return\n",
    "\n",
    "        os.makedirs(path,exist_ok=True)\n",
    "\n",
    "        if (not os.path.isfile(path+self.name+'.hdf5')) or force:  ##########save initializing only for first\n",
    "\n",
    "            self.saver.attrs['name'] = self.name.encode()\n",
    "            self.saver.attrs['size'] = self.size\n",
    "\n",
    "            self.saver.attrs['H'] = str(self.__H).encode()\n",
    "\n",
    "        self.save()\n",
    "        self.__initialized = True\n",
    "        ## construct full sector\n",
    "        basis  = self.get_full_sector()\n",
    "\n",
    "        ## find basis sector by given symmetry\n",
    "        #self.initializer.Q(basis)\n",
    "        del basis\n",
    "\n",
    "        self.tree\n",
    "        return\n",
    "\n",
    "\n",
    "    ############## system ################\n",
    "    def valid(self):\n",
    "        return self.__initialized\n",
    "\n",
    "    def validation(func):\n",
    "        def caution(*arg, **kwargs):\n",
    "            if not arg[0].valid():\n",
    "                return print(\"Current system is empty or currupted. Please initialize or load first.\")\n",
    "            return func(*arg, **kwargs)\n",
    "        return caution\n",
    "\n",
    "    '''\n",
    "    def set_name(self, name):\n",
    "        self.name = name\n",
    "    '''\n",
    "\n",
    "    ####################### save ###################\n",
    "    def save(self):\n",
    "        '''this method save your system into given path.\n",
    "        it will contain operator and state.'''\n",
    "            #self.checkfiles = path+'checkfiles'\n",
    "            ########check files\n",
    "        for op in self._Operator:\n",
    "            self._Operator[op].save()\n",
    "        self.saver.attrs['H'] = str(self.__H).encode()\n",
    "        .# -*- coding: utf-8 -*-\n",
    "        for st in self._State:\n",
    "            self._State[st].save()\n",
    "        for sub in self._Subsystem:\n",
    "            self._Subsystem[sub].save()\n",
    "\n",
    "        self.saver.flush()\n",
    "\n",
    "    def delete(self):\n",
    "        '''this method delete your system that has been saved.\n",
    "        PLEASE TAKE CARE FOR USING THIS METHOD.'''\n",
    "        y = input(\"System will be removed on disk. Continue?[Y/n] : \")\n",
    "        if len(y)==0 or not y.upper()=='Y':\n",
    "            print(\"Delete cancelled\")\n",
    "            return\n",
    "\n",
    "        os.remove(self.path+self.name+'.hdf5')\n",
    "\n",
    "        self.__init__(size = self.size)\n",
    "        print(\"Done\")\n",
    "        return\n",
    "\n",
    "    def __del__(self):\n",
    "        target = list(vars(self).keys())\n",
    "        for var in target:\n",
    "            del vars(self)[var]\n",
    "        return\n",
    "\n",
    "    def load(self, path):\n",
    "        '''Please indicate system saved folder. return is system object.\n",
    "        Recommended way is use of 'load_system(path)'  '''\n",
    "\n",
    "        ########check files\n",
    "        self.saver.open(path)\n",
    "        slash = 0\n",
    "        while path.find('/',slash+1) >0:\n",
    "            slash = path.find('/',slash+1)\n",
    "        self.__path = path[:slash+1]\n",
    "        self.__initialized=True\n",
    "        ##########load system\n",
    "        self.size = self.saver.attrs['size']\n",
    "        self.name = self.saver.attrs['name'].decode()\n",
    "        self.__basis = self.get_full_sector()\n",
    "        fn_ = self.saver.get('function', None)\n",
    "        op_ = self.saver.get('operator',None)\n",
    "        st_ = self.saver.get('state',None)\n",
    "        if not fn_ is None:\n",
    "            for fn in fn_:\n",
    "                code = fn_[fn].attrs['code'].decode()\n",
    "                vect = 'import numpy as np\\n@np.vectorize\\n'+code\n",
    "                compiled = compile(vect, 'userfunction','exec')\n",
    "                exec(compiled, self._function)\n",
    "                del self._function['np'],self._function['__builtins__']\n",
    "                if self._fid<fn_[fn].attrs['fid']:\n",
    "                    self._fid = fn_[fn].attrs['fid']\n",
    "\n",
    "        if not op_ is None:\n",
    "            for op in op_:\n",
    "                self._Operator[op] = Operator.load(self, op)\n",
    "        if not st_ is None:\n",
    "            for st in st_:\n",
    "                self._State[st] = State.load(self, st)\n",
    "\n",
    "        H = self.saver.attrs['H'].decode()\n",
    "        if not H == 'None' and self._Operator.get(H, False):\n",
    "            self.Hamiltonian = H\n",
    "\n",
    "        print('Current system loaded by \"{}\"'.format(os.path.abspath(path)))\n",
    "        self.tree\n",
    "\n",
    "\n",
    "\n",
    "    ################# basis ################\n",
    "    def get_full_sector(self):\n",
    "        '''Access full sector of this system.'''\n",
    "        basis = Basis(self)\n",
    "        state = np.arange(self.max)\n",
    "        address = state\n",
    "        counts = self.max\n",
    "        basis.set_basis(state, address,1<<self.size)\n",
    "        self.__basis = basis\n",
    "        return basis\n",
    "\n",
    "    def get_current_basis(self):\n",
    "        '''return last referenced basis'''\n",
    "        if self.__basis:\n",
    "            return self.__basis\n",
    "        else:\n",
    "            raise ValueError(\"There is no basis referenced.\")\n",
    "\n",
    "    #@validation\n",
    "    def get_basis(self, *arg, **kwarg):\n",
    "        '''access to specific basis. return is basis object.\n",
    "        if cannot find sector, then system will calculate.\n",
    "        positional argument : eigenvalues in order of (Q, K, F, P)\n",
    "        keywork argument    : Q = q, K = k, F = f, P = p'''\n",
    "        if len(arg)>4 or len(kwarg)>4: raise KeyError(\"argument number is allowed only under 4.\")\n",
    "        null = (-1,-1,0,0)\n",
    "        symbol = 'QKFP'\n",
    "        ### Follow symmetry order QKFP and make symmetry tuple\n",
    "        if len(kwarg)==0 and len(arg) == 0:\n",
    "            return self.get_full_sector()\n",
    "        if len(arg) == 1 and arg[0] == -1:\n",
    "            return self.get_current_basis()\n",
    "        if arg and kwarg or len(arg)>4 or len(kwarg)>4:\n",
    "            raise KeyError(\"Too many values are given\")\n",
    "        if arg == null:\n",
    "            return self.get_full_sector()\n",
    "        if arg:\n",
    "            symmetry = arg + null[len(arg):]\n",
    "        elif kwarg:\n",
    "            symmetry = list(null)\n",
    "            for i in kwarg:\n",
    "                ch = symbol.find(i.upper())\n",
    "                if ch>=0:\n",
    "                    symmetry[ch]  = kwarg[i]\n",
    "                else:\n",
    "                    raise AttributeError(\"Symmetry has no property : {}\".format(i))\n",
    "\n",
    "        #symmetry condtion check\n",
    "        if symmetry[0]>self.size or symmetry[0]<-1:\n",
    "            raise IndexError(\"given Q = {} is out of bounds for current system size {}.\".format(symmetry[0],self.size))\n",
    "        if symmetry[1]>self.size or symmetry[1]<-1:\n",
    "            raise IndexError(\"given K = {} is out of bounds for current system size {}.\".format(symmetry[1],self.size))\n",
    "        if symmetry[2]>1 or symmetry[2]<-1:\n",
    "            raise IndexError(\"given F = {} is out of bounds for eigenvalue of spin inversion.\".format(symmetry[2]))\n",
    "        if symmetry[3]>1 or symmetry[3]<-1:\n",
    "            raise IndexError(\"given P = {} is out of bounds for eigenvalue of parity.\".format(symmetry[3]))\n",
    "\n",
    "        basis = Basis(self, *symmetry)\n",
    "        if not self.saver.is_exist('basis/({},{},{},{})'.format(*symmetry)):\n",
    "            self.initializer.calculate(symmetry)\n",
    "        basis.load(*symmetry)\n",
    "        self.__basis = basis\n",
    "        return basis\n",
    "\n",
    "    ## unused\n",
    "    #@validation\n",
    "    #def print_sector(self):\n",
    "    #    for sector in self.__basis.keys():\n",
    "    #        print(sector)\n",
    "    #\n",
    "    #@validation\n",
    "    #def get_current_basis(self):\n",
    "    #    return self.__basis\n",
    "\n",
    "\n",
    "    def print_spin(self, value):\n",
    "        '''print spinstate with 0(null site),1(particle site) of give integer format state.'''\n",
    "        try:\n",
    "            print(\"{0:b}\".format(value).zfill(self.size))\n",
    "        except:\n",
    "            print(\"Vanishing\")\n",
    "\n",
    "    def get_operator(self, op_name):\n",
    "        '''Access to operator with operators name.\n",
    "        before that, the operator name set on system.\n",
    "        if not, it will occur KeyError.'''\n",
    "        return self._Operator[op_name]\n",
    "\n",
    "    def get_function(self, key):\n",
    "        if isinstance(key, int):\n",
    "            loader = self.saver['function']\n",
    "            for function in loader:\n",
    "                if loader[function].attrs['fid'] == key:\n",
    "                    return self._function[function]\n",
    "            raise KeyError(key)\n",
    "        return self._function[key]\n",
    "\n",
    "    def get_function_script(self, key):\n",
    "        loader = self.saver['function']\n",
    "        if isinstance(key, int):\n",
    "\n",
    "            for function in loader:\n",
    "                if loader[function].attrs['fid'] == key:\n",
    "                    print(loader[function].attrs['code'].decode())\n",
    "                    return\n",
    "            raise KeyError(key)\n",
    "        for function in loader:\n",
    "            if key == function:\n",
    "                print(loader[function].attrs['code'].decode())\n",
    "                return\n",
    "        raise KeyError(key)\n",
    "\n",
    "\n",
    "    ##################### no ues ##########################\n",
    "    def load_operators(self, op_name_list=None, obj = None):\n",
    "        if op_name_list is None:\n",
    "            op_name_list = list(self._Operator.keys())\n",
    "        if obj is None:\n",
    "            glob = globals()\n",
    "        else:\n",
    "            glob = vars(obj)\n",
    "        for op in op_name_list:\n",
    "            if glob.get(op, None) is None:\n",
    "                glob[op] = self._Operator[op]\n",
    "            else:\n",
    "                print(\"'{}' is already defined on global variables\".format(op))\n",
    "\n",
    "    def get_state(self, st_name):\n",
    "        '''Access to state with given state name.\n",
    "        before that, the operator name set on system.\n",
    "        if not, it will occur KeyError.'''\n",
    "        return self._State[st_name]\n",
    "\n",
    "    def operator_list(self):\n",
    "        '''retrun operator name list'''\n",
    "        return list(self._Operator.keys())\n",
    "\n",
    "    def State_list(self):\n",
    "        '''return state name list'''\n",
    "        return list(self._State.keys())\n",
    "\n",
    "    def function_list(self):\n",
    "        return list(self._function.keys())"
   ]
  },
  {
   "cell_type": "markdown",
   "metadata": {},
   "source": [
    "### Subsystem"
   ]
  },
  {
   "cell_type": "code",
   "execution_count": null,
   "metadata": {},
   "outputs": [],
   "source": [
    "#Subsystem\n",
    "\n",
    "class Subsystem(System):\n",
    "    def __init__(self, system, spin_range, name):\n",
    "        super().__init__(len(spin_range), name = name)\n",
    "        self.range = spin_range\n",
    "        self.size = len(self.range)\n",
    "        self.parent = system\n",
    "\n",
    "    def initialize(self):\n",
    "        self.spin_site = np.array([1<<i for i in self.range])\n",
    "        self.saver.set_file(self.parent.saver.create_group(self.name))\n",
    "        self.saver.attrs['size'] = self.size\n",
    "        self.saver.attrs['range'] = self.range\n",
    "        self.save()\n",
    "\n",
    "    def load(self):\n",
    "        raise NotImplementedError('not yet.')"
   ]
  },
  {
   "cell_type": "markdown",
   "metadata": {},
   "source": [
    "### Basis"
   ]
  },
  {
   "cell_type": "code",
   "execution_count": 3,
   "metadata": {},
   "outputs": [
    {
     "ename": "NameError",
     "evalue": "name 'np' is not defined",
     "output_type": "error",
     "traceback": [
      "\u001b[0;31m---------------------------------------------------------------------------\u001b[0m",
      "\u001b[0;31mNameError\u001b[0m                                 Traceback (most recent call last)",
      "\u001b[0;32m<ipython-input-3-d3f4d4e4ce2b>\u001b[0m in \u001b[0;36m<module>\u001b[0;34m\u001b[0m\n\u001b[1;32m      2\u001b[0m \u001b[0;34m\u001b[0m\u001b[0m\n\u001b[1;32m      3\u001b[0m \u001b[0;34m\u001b[0m\u001b[0m\n\u001b[0;32m----> 4\u001b[0;31m \u001b[0;32mclass\u001b[0m \u001b[0mBasis\u001b[0m\u001b[0;34m:\u001b[0m\u001b[0;34m\u001b[0m\u001b[0;34m\u001b[0m\u001b[0m\n\u001b[0m\u001b[1;32m      5\u001b[0m     \u001b[0;34m'''Class 'basis' for Hilbert space sector of system.'''\u001b[0m\u001b[0;34m\u001b[0m\u001b[0;34m\u001b[0m\u001b[0m\n\u001b[1;32m      6\u001b[0m     \u001b[0;32mdef\u001b[0m \u001b[0m__init__\u001b[0m\u001b[0;34m(\u001b[0m\u001b[0mself\u001b[0m\u001b[0;34m,\u001b[0m \u001b[0msystem\u001b[0m\u001b[0;34m,\u001b[0m \u001b[0mQ\u001b[0m\u001b[0;34m=\u001b[0m\u001b[0;32mNone\u001b[0m\u001b[0;34m,\u001b[0m \u001b[0mK\u001b[0m\u001b[0;34m=\u001b[0m\u001b[0;32mNone\u001b[0m\u001b[0;34m,\u001b[0m \u001b[0mF\u001b[0m \u001b[0;34m=\u001b[0m \u001b[0;32mNone\u001b[0m\u001b[0;34m,\u001b[0m \u001b[0mP\u001b[0m \u001b[0;34m=\u001b[0m \u001b[0;32mNone\u001b[0m\u001b[0;34m,\u001b[0m \u001b[0msymmetry\u001b[0m \u001b[0;34m=\u001b[0m \u001b[0;32mNone\u001b[0m\u001b[0;34m)\u001b[0m\u001b[0;34m:\u001b[0m\u001b[0;34m\u001b[0m\u001b[0;34m\u001b[0m\u001b[0m\n",
      "\u001b[0;32m<ipython-input-3-d3f4d4e4ce2b>\u001b[0m in \u001b[0;36mBasis\u001b[0;34m()\u001b[0m\n\u001b[1;32m    100\u001b[0m \u001b[0;34m\u001b[0m\u001b[0m\n\u001b[1;32m    101\u001b[0m \u001b[0;34m\u001b[0m\u001b[0m\n\u001b[0;32m--> 102\u001b[0;31m     \u001b[0;34m@\u001b[0m\u001b[0mnp\u001b[0m\u001b[0;34m.\u001b[0m\u001b[0mvectorize\u001b[0m\u001b[0;34m\u001b[0m\u001b[0;34m\u001b[0m\u001b[0m\n\u001b[0m\u001b[1;32m    103\u001b[0m     \u001b[0;32mdef\u001b[0m \u001b[0m_tran\u001b[0m\u001b[0;34m(\u001b[0m\u001b[0mx\u001b[0m\u001b[0;34m,\u001b[0m \u001b[0msize\u001b[0m\u001b[0;34m)\u001b[0m\u001b[0;34m:\u001b[0m\u001b[0;34m\u001b[0m\u001b[0;34m\u001b[0m\u001b[0m\n\u001b[1;32m    104\u001b[0m         \u001b[0;32mif\u001b[0m \u001b[0mx\u001b[0m \u001b[0;34m==\u001b[0m \u001b[0;34m-\u001b[0m\u001b[0;36m1\u001b[0m\u001b[0;34m:\u001b[0m\u001b[0;34m\u001b[0m\u001b[0;34m\u001b[0m\u001b[0m\n",
      "\u001b[0;31mNameError\u001b[0m: name 'np' is not defined"
     ]
    }
   ],
   "source": [
    "# In[3]:\n",
    "\n",
    "\n",
    "class Basis:\n",
    "    '''Class 'basis' for Hilbert space sector of system.'''\n",
    "    def __init__(self, system, Q=None, K=None, F = None, P = None, symmetry = None):\n",
    "        '''make instance of basis that hold given symmetry'''\n",
    "\n",
    "        #dependency\n",
    "        self.system = system\n",
    "        self.size = system.size\n",
    "\n",
    "\n",
    "        #property\n",
    "        if not (symmetry is None):\n",
    "            if len(symmetry) == 4:\n",
    "                self.symmetry = np.array(symmetry)\n",
    "                Qp, Kp,Fp,Pp = self.symmetry\n",
    "            else:\n",
    "                raise KeyError(\"Symmetry is ambiguous. symmetry must have 4 component\")\n",
    "        else:\n",
    "            Qp = -1 if Q is None else Q\n",
    "            Kp = -1 if K is None else K\n",
    "            Pp = 0 if P is None else P\n",
    "            Fp = 0 if F is None else F\n",
    "            self.symmetry = np.array([Qp,Kp,Fp,Pp], dtype = np.int8)\n",
    "\n",
    "        self.Q, self.K, self.F, self.P = self.symmetry\n",
    "        self.__eigen = False\n",
    "        self.temp = np.zeros([self.size],dtype = np.int8)\n",
    "        self.__state, self.__address, self.__period, self.__counts = None,None,None,None\n",
    "        self.data = None\n",
    "        self.Pd_bar, self.Fd_bar = None, None\n",
    "\n",
    "        self.path = \"basis/({},{},{},{})\".format(Qp,Kp,Pp,Fp)\n",
    "        self.find = np.vectorize(self._find)\n",
    "        self.distance = np.vectorize(self.distance)\n",
    "        self.period = np.vectorize(self._period)\n",
    "        self.convert = np.vectorize(self.convert)\n",
    "        self.__state_set = None\n",
    "\n",
    "        self.__load = False\n",
    "\n",
    "    def __len__(self):\n",
    "        return len(self.state)\n",
    "\n",
    "    def __repr__(self):\n",
    "        if (self.symmetry==[-1,-1,0,0]).all():\n",
    "            rep =  \"<Full basis of lattice size {}\".format(self.size)\n",
    "        else:\n",
    "            rep = \"<Basis sector of lattice size {} with symmetry factor(Q,K,F,P) = ({},{},{},{})\".format(self.system.size, *self.symmetry)\n",
    "\n",
    "        rep+='>'\n",
    "        return rep\n",
    "\n",
    "\n",
    "    ############ System  #################\n",
    "\n",
    "    def set_basis(self, state,address, counts, period = None):\n",
    "        self.__state = state\n",
    "        self.__address = address\n",
    "        self.__counts = counts\n",
    "        self.__period = period\n",
    "        self.__states = np.array(state)\n",
    "\n",
    "\n",
    "    @property\n",
    "    def state(self):\n",
    "        return self.__state\n",
    "\n",
    "    @state.getter\n",
    "    def state(self):\n",
    "        return self.__state\n",
    "    '''@state.setter\n",
    "    def state(self, value):\n",
    "        return'''\n",
    "\n",
    "\n",
    "    def trace(self, operator, eigen=True):\n",
    "        '''return Tr{ O } on this sector(s). basically, calculate eigenvalues and\n",
    "        sum over. '''\n",
    "\n",
    "        return operator.get_matrix(self)[np.diag_indices(len(self.state))].sum()\n",
    "\n",
    "\n",
    "    def as_state(self):\n",
    "        return State(self, np.ones([len(self.state)],dtype = self.system.Odtype))\n",
    "\n",
    "\n",
    "    def _find(self, state):\n",
    "        '''retrun address from state'''\n",
    "        return self.__address.get(state,-1)\n",
    "\n",
    "    def state_set(self, x):\n",
    "        if self.__state_set is None:\n",
    "            state_set = self.data['state_set'][:]\n",
    "            self.__state_set={item[0]:item[np.logical_not(item == -1)][1:] for item in state_set}\n",
    "        return self.__state_set.get(x,-1)\n",
    "\n",
    "\n",
    "\n",
    "    @np.vectorize\n",
    "    def _tran(x, size):\n",
    "        if x == -1:\n",
    "            return -1\n",
    "        return (x>>(size-1))*((1)-(1<<size))+2*x\n",
    "\n",
    "    def distance(self, target):\n",
    "        if self.symmetry[1] == -1:\n",
    "            raise EnvironmentError(\"'distance' method only supported for translational eigenbasis\")\n",
    "        return self.__distance[target]\n",
    "\n",
    "    def _period(self, target):\n",
    "        return self.__period[target]\n",
    "\n",
    "    def convert(self, x):\n",
    "        address = self.find(x)\n",
    "        coef = 1\n",
    "        if self.K*2 == self.system.size:\n",
    "            coef *= -1\n",
    "        elif self.K>0:\n",
    "            coef = coef*np.exp(np.pi*2*1j*self.K*self.distance(x)/self.system.size)\n",
    "\n",
    "        if self.P == -1:\n",
    "            if self.Pd_bar is None:\n",
    "                self.Pd_bar = {i:True for i in self.data['Pd_bar'][:]}\n",
    "            if x in self.Pd_bar:\n",
    "                coef *=-1\n",
    "        if self.F == -1:\n",
    "            if self.Fd_bar is None:\n",
    "                self.Fd_bar = {i:True for i in self.data['Fd_bar'][:]}\n",
    "            if x in self.Fd_bar:\n",
    "                coef *= -1\n",
    "\n",
    "        if address == -1:\n",
    "            return -1,0\n",
    "        return address, coef\n",
    "\n",
    "\n",
    "    def print_states(self, full_state = False, state_set = False):\n",
    "        if full_state or len(self.state)<20:\n",
    "            for i in self.state:\n",
    "                s = \"{:10d} : \".format(i)\n",
    "                string = ''\n",
    "                if state_set:\n",
    "                    for state in self.state_set(i):\n",
    "                        spin = \"{0:b}\".format(state)\n",
    "                        spin = '|'+'0'*(self.system.size - len(spin))+spin+'>, '\n",
    "                        string+= spin\n",
    "                else:\n",
    "                    string +=\"{0:b}  \".format(i).zfill(self.system.size)\n",
    "                print(s,string[:-2])\n",
    "        else:\n",
    "            for i in self.state[:3]:\n",
    "                s = \"{:10d} :\".format(i)\n",
    "                if state_set:\n",
    "                    for state in self.state_set(i):\n",
    "                        spin = \"{0:b}\".format(state)\n",
    "                        spin = '|'+'0'*(self.system.size - len(spin))+spin+'>, '\n",
    "                        string+= spin\n",
    "                else:\n",
    "                    string +=\"{0:b}\".format(i).zfill(self.system.size)\n",
    "                print(s,string[:-2])\n",
    "            print(\"...\")\n",
    "            for i in self.state[-3:]:\n",
    "                if state_set:\n",
    "                    for state in self.state_set(i):\n",
    "                        spin = \"{0:b}\".format(state)\n",
    "                        spin = '|'+'0'*(self.system.size - len(spin))+spin+'>, '\n",
    "                        string+= spin\n",
    "                else:\n",
    "                    string +=\"{0:b}  \".format(i).zfill(self.system.size)\n",
    "                print(s,string[:-2])\n",
    "\n",
    "    def load(self, Q,K,F,P):\n",
    "        '''load from hdf5 based on given symmetry factor.'''\n",
    "        self.data = self.system.saver.get('basis/({},{},{},{})'.format(Q,K,F,P))\n",
    "        self.__state = self.data['state'][:]\n",
    "        self.__address = { key:val for key, val in self.data['address'][:]}\n",
    "        self.__period = self.data['period'][:]\n",
    "        if not K == -1:\n",
    "            self.__distance = { key:val for key, val in self.data['distance'][:]}\n",
    "        self.__counts = self.data.attrs['counts']\n",
    "        self.__load = True\n",
    "\n",
    "    def get_path(self):\n",
    "        return system.path+self.path"
   ]
  },
  {
   "cell_type": "markdown",
   "metadata": {},
   "source": [
    "### Operator"
   ]
  },
  {
   "cell_type": "code",
   "execution_count": null,
   "metadata": {},
   "outputs": [],
   "source": [
    "# In[22]:\n",
    "\n",
    "\n",
    "class Operator:\n",
    "\n",
    "\n",
    "\n",
    "    def __init__(self, system, name = None, prefix = None):\n",
    "        '''Operator defined of specific system. One can define own operator using linear\n",
    "        algebra. use @ symbol for multiply between operator. and also use numpy functions\n",
    "        when setting coefficient with function.'''\n",
    "        #print(identity(x))\n",
    "        self.system = system\n",
    "        self.size = system.size\n",
    "        self.name = None\n",
    "        if not name is None:\n",
    "            if not name in system._Operator:\n",
    "                self.name = name\n",
    "                system._Operator[name] = self\n",
    "            else:\n",
    "                #name = 'Op{}'.format(len(system._op))\n",
    "                print(\"same operator name exist. set_name() please.\")\n",
    "        self.__default = True\n",
    "\n",
    "        if not prefix is None:\n",
    "            self.acting = prefix\n",
    "            self.__default = False\n",
    "            if prefix == Operator.identity or prefix == Operator._table['I']:\n",
    "                self._label = 'I'\n",
    "            elif prefix == Operator.annihilation or prefix == Operator._table['A']:\n",
    "                self._label = 'A'\n",
    "            elif prefix == Operator.creation or prefix == Operator._table['C']:\n",
    "                self._label = 'C'\n",
    "            elif prefix == Operator.hopping or prefix == Operator._table['H']:\n",
    "                self._label = 'H'\n",
    "            elif prefix == Operator.n_i or prefix == Operator._table['N']:\n",
    "                self._label = 'N'\n",
    "            else:\n",
    "                for name in self.system._function:\n",
    "                    if prefix == self.system._function[name]:\n",
    "                        self._label = 'U'\n",
    "                        fid = self.system.saver['function/'+name].attrs['fid']\n",
    "                        if len(str(fid))==1:\n",
    "                            self._label+='0{}'.format(fid)\n",
    "                        else:\n",
    "                            self._label+=str(fid)\n",
    "\n",
    "        else:\n",
    "            self.acting = Operator.identity\n",
    "            self._label = 'I'\n",
    "        #print(self._label)\n",
    "        if self._label == '':\n",
    "            raise KeyError\n",
    "        self.struct = [self.acting]\n",
    "\n",
    "        self.__coef = np.ones([1],dtype = self.system.Odtype)\n",
    "        self.__initial = False\n",
    "        self.matrix = None\n",
    "        self.__digonalized = False\n",
    "\n",
    "\n",
    "    def Null(system):\n",
    "        temp = Operator(system)\n",
    "        temp.set_default(False)\n",
    "        del temp.acting\n",
    "        temp.struct = []\n",
    "        temp._set_coef([])\n",
    "        temp._label = 'O'\n",
    "        return temp\n",
    "\n",
    "\n",
    "    def loadlabel(system, label):\n",
    "        temp = Operator.Null(system)\n",
    "        #print(\"target : {}\".format(label))\n",
    "        for term in label.split('+'):\n",
    "            temp1 = Operator(system)\n",
    "            for op in term.split('@'):\n",
    "                if op =='O' or len(op) == 0:continue\n",
    "                if op[0] in Operator._table:\n",
    "                    temp2 = Operator(system,prefix = Operator._table[op[0]])\n",
    "                    if len(op[1:])>=2:\n",
    "                        index = []\n",
    "                        for ind in range(int(len(op[1:])/2)):\n",
    "                            index.append(int(op[1+ind*2:3+ind*2]))\n",
    "                        temp2 = temp2.index(*index)\n",
    "                elif op[0] == 'U':\n",
    "                    temp2 = Operator(system,prefix = system.get_function(int(op[1:])))\n",
    "                temp1 = temp1@temp2\n",
    "            temp += temp1\n",
    "        return temp\n",
    "\n",
    "    def save(self, force = False):\n",
    "        if self.name == None:  raise ValueError(\"This operator has no name. please run 'set_name()' first.\")\n",
    "\n",
    "        saver = self.system.saver.require_group('/operator')\n",
    "        if self.system.saver.is_exist('/operator/{}'.format(self.name)) and not force:\n",
    "            temp = saver[self.name][:]\n",
    "            if (temp == self.__coef).all():\n",
    "                return\n",
    "            else:\n",
    "                saver[self.name] = self.__coef\n",
    "        else:\n",
    "            if saver.get(self.name,False):\n",
    "                saver[self.name] = self.__coef\n",
    "            else:\n",
    "                saver.create_dataset(self.name, data = self.__coef)\n",
    "            saver[self.name].attrs['label'] = self._label.encode()\n",
    "            saver[self.name].attrs['name'] = self.name.encode()\n",
    "\n",
    "        '''if os.path.isfile(self.system.path+'operator/'+self.name+'.xxz') and not force:\n",
    "            temp = np.load(open(path+self.name+'.npy','rb'))\n",
    "            if (temp == self.__coef).all():\n",
    "                return\n",
    "            else:\n",
    "                np.save(open(path+self.name+'.npy','wb'),self.__coef)\n",
    "        else:\n",
    "            with open(path+self.name+'.xxz','w') as f:\n",
    "                #pickle.dump(self.name,f,pickle.HIGHEST_PROTOCOL)\n",
    "                f.write(self._label+'\\n')\n",
    "            np.save(open(path+self.name+'.npy','wb'),self.__coef,allow_pickle=True)'''\n",
    "\n",
    "    def load(system, name):\n",
    "        if system.saver.is_exist('/operator/{}'.format(name)):\n",
    "            loader = system.saver['/operator/{}'.format(name)]\n",
    "            temp = Operator.loadlabel(system, loader.attrs['label'].decode())\n",
    "            temp._set_name(loader.name[loader.name.find('operator/')+9:])\n",
    "            temp._set_coef(loader[:])\n",
    "            return temp\n",
    "        else:\n",
    "            raise FileExistsError(\"Operator save file doesn't exist!\")\n",
    "\n",
    "    def __call__(self, target):\n",
    "        if isinstance(target, State):\n",
    "            temp = State(target.basis, (self.get_matrix(target.basis)@target.coef))\n",
    "            return temp\n",
    "        elif isinstance(target, np.ndarray):\n",
    "            return np.array(list(self.acton(target)))\n",
    "\n",
    "\n",
    "\n",
    "    def set_default(self, bool):\n",
    "        self.__default = bool\n",
    "\n",
    "    def is_identity(self):\n",
    "        return self.__default\n",
    "\n",
    "    def valid(self):\n",
    "        return self.system.valid()\n",
    "\n",
    "    def _set_name(self, name):\n",
    "        if self.name in self.system._Operator: del self.system._Operator[self.name]\n",
    "        self.name = name\n",
    "        self.system._Operator[name] = self\n",
    "\n",
    "    def set_name(self, name):\n",
    "        #if name in self.system._op: raise KeyError(\"name : {}, Already Exist!.\".format(name))\n",
    "        if self.name in self.system._Operator: del self.system._Operator[self.name]\n",
    "        self.name = name\n",
    "        self.system._Operator[name] = self\n",
    "\n",
    "\n",
    "    ############ matrix representation\n",
    "    def get_matrix(self, basis):\n",
    "        '''return matrix form of Operator as given basis'''\n",
    "        if (self.__initial == basis.symmetry).all():\n",
    "            if  not self.matrix is None: return self.matrix\n",
    "        ############################# load must be implemented\n",
    "        states = basis.state\n",
    "        matsize = len(states)\n",
    "        dtype = self.system.Odtype\n",
    "        K = False\n",
    "        if not basis.K == -1:\n",
    "            K = True\n",
    "        matrix = np.zeros([matsize**2],dtype = dtype)\n",
    "        self.__initial = basis.symmetry\n",
    "        for i, result in enumerate(self.acton(states)):\n",
    "            #print(i)\n",
    "            origin = np.array([st for st in result if not st<0])\n",
    "            #print(\"origin : {}\".format(origin))\n",
    "            if len(origin)== 0 : continue\n",
    "\n",
    "            value = np.array([result[st] for st in result if not st<0])\n",
    "            target, coef = basis.convert(origin)\n",
    "            #print(\"target : {}\".format(target))\n",
    "\n",
    "            mask = np.logical_not(target<0)\n",
    "            target = target[mask]\n",
    "            coef = coef[mask]\n",
    "            value = value[mask]\n",
    "            period = basis.period(target)\n",
    "            #print(\"period : {}\".format(period))\n",
    "            #print(\"operiod : {}\".format(basis.period(i)))\n",
    "            matrix[target*matsize + i] += coef*value*np.sqrt(period/basis.period(i))\n",
    "\n",
    "\n",
    "        if not K:\n",
    "            matrix = matrix.real\n",
    "        self.matrix = matrix.reshape(matsize,matsize)\n",
    "        return self.matrix\n",
    "\n",
    "\n",
    "    def trace(self, basis_set, func = lambda x:x, eigen = True):\n",
    "        '''return Tr{ f( O ) } on given sector(s). '''\n",
    "        #eigen can be implemented\n",
    "        if isinstance(basis_set, Basis):\n",
    "            basis_set = [basis_set]\n",
    "        length = 0\n",
    "        vals = []\n",
    "        for basis in basis_set:\n",
    "            val = self.get_eigenvalue(basis)\n",
    "            vals.append(val)\n",
    "            length += len(val)\n",
    "        func = np.vectorize(func)\n",
    "        trace_val = np.empty([length],dtype = self.system.dtype)\n",
    "        i = 0\n",
    "        for val in vals:\n",
    "            for v in val:\n",
    "                trace_val[i] = v\n",
    "                i+=1\n",
    "\n",
    "        result = func(trace_val)\n",
    "        #M = result.max()\n",
    "        #m = result.min()\n",
    "        #result = result.sort()\n",
    "        #ratio = np.log10(M/m)\n",
    "        #ratio /= 10\n",
    "        return result.sum()\n",
    "\n",
    "\n",
    "\n",
    "\n",
    "    def expectation(self, state):\n",
    "        '''return list of <Psi| O |Psi>'''\n",
    "        l = len(state)\n",
    "        return (state.dual()@ self.get_matrix(state.basis) @state.coef)[np.diag_indices(l)]\n",
    "\n",
    "    def act(self, state):\n",
    "        return self.get_matrix(state.basis) @ state.coef.T\n",
    "\n",
    "    def solve_on(self, basis):\n",
    "        if self.name is None:\n",
    "            print(\"For Solving eigenvalue problem, Operator must have its own name.\")\n",
    "            return\n",
    "        self.get_matrix(basis)\n",
    "        val, vec = np.linalg.eigh(self.matrix)\n",
    "        saver = self.system.saver['basis/({},{},{},{})'.format(*basis.symmetry)].require_group(self.name)\n",
    "        saver.create_dataset('eigenvalue',data = val)\n",
    "        saver.create_dataset('eigenvector',data = vec)\n",
    "\n",
    "\n",
    "    def get_eigenvalue(self, basis):\n",
    "        if not basis.data.get(self.name,False):\n",
    "            print(\"Initializing.... it may takes few minutes.\")\n",
    "            self.solve_on(basis)\n",
    "        return basis.data[self.name]['eigenvalue'][:]\n",
    "\n",
    "\n",
    "    def get_eigenvectors(self, basis):\n",
    "        '''return matrix of eigenvector of this Operator based on given basis.'''\n",
    "        if not basis.data.get(self.name,False):\n",
    "            print(\"Initializing.... it may takes few minutes.\")\n",
    "            self.solve_on(basis)\n",
    "        return basis.data[self.name]['eigenvector'][:]\n",
    "\n",
    "    def get_eigenstates(self, basis):\n",
    "        return State(basis, self.get_eigenvectors(basis))\n",
    "\n",
    "    ########## main operation   ##########\n",
    "    def acton(self, x): #x is array of state\n",
    "        '''x is array of bitwise state(int type). return is another state(int type). default is Identity\n",
    "        you can also implement of your own operator with keeping return format'''\n",
    "        states = []\n",
    "        for i,op in enumerate(self.struct):\n",
    "            op = np.vectorize(op)\n",
    "            states.append((op(x), self.__coef[i]))\n",
    "        results = []\n",
    "        for _ in range(len(x)):\n",
    "            results.append({})\n",
    "\n",
    "        for st, coef in states:\n",
    "            for j,s in enumerate(st):\n",
    "                results[j][s] = results[j].get(s, 0) + coef\n",
    "        return results\n",
    "\n",
    "\n",
    "\n",
    "\n",
    "    def __mul__(self, other):\n",
    "        if isinstance(other, self.__class__):raise OverflowError(\"Operator cannot be mul, please use @ symbol.\")#if type(self)== type(other):\n",
    "        temp = Operator(self.system)\n",
    "        temp.set_default(self.__default)\n",
    "        temp.struct = self.struct\n",
    "        temp.acting = self.acting\n",
    "        temp._label = self._label\n",
    "        if type(other) == type(np.ufunc):\n",
    "            self.__coef = other(self.__coef)\n",
    "        else:\n",
    "            temp._set_coef(self.__coef*other)\n",
    "        return temp\n",
    "\n",
    "    def __rmul__(self, other): return self.__mul__(other)\n",
    "\n",
    "    def __add__(self, other):\n",
    "        #print(\"me!\")\n",
    "        if isinstance(other, self.__class__):#if type(other) == type(self): #operator -> make parallel operation (merging)\n",
    "            if self.__default and other.is_identity():       # dd Identity op -> calculate value sum\n",
    "                return other.__add__(self.__coef)\n",
    "            if not self.system == other.system: raise EnvironmentError(\"Operators cannot add between different system\")\n",
    "            temp = Operator(self.system)\n",
    "            temp.set_default(False)\n",
    "            struct = []\n",
    "            label = ''\n",
    "            l = len(self.struct)+len(other.struct)\n",
    "            coef = np.zeros([l],dtype = self.system.Odtype)\n",
    "            i= 0\n",
    "            for la, co, op in zip(self._label.split('+'),self.__coef, self.struct):\n",
    "                coef[i] = co\n",
    "                struct.append(op)\n",
    "                label+= la+'+'\n",
    "                i+=1\n",
    "            for la, co, op in zip(other._label.split(\"+\"), other.__coef, other.struct):\n",
    "                coef[i] = co\n",
    "                struct.append(op)\n",
    "                label+= la+'+'\n",
    "                i+=1\n",
    "            temp._set_coef(coef)\n",
    "            temp.struct = struct\n",
    "            temp._label = label[:-1]\n",
    "            assert len(coef) == len(temp.struct),\"{},{}\".format(len(coef), len(temp.struct))\n",
    "            return temp\n",
    "        elif self.__default: #when self is identity -> calculate value(coefficient)\n",
    "            temp = Operator(self.system)\n",
    "            temp._set_coef(self.__coef+other)\n",
    "            return temp\n",
    "        else:\n",
    "            temp = Operator(self.system)\n",
    "            temp._set_coef(temp.coef*other)\n",
    "            return self+temp\n",
    "        raise ValueError(\"Value operation is only allowed for Identity.\")\n",
    "\n",
    "\n",
    "    @property\n",
    "    def coef(self):\n",
    "        return self.__coef\n",
    "\n",
    "    @coef.getter\n",
    "    def coef(self):\n",
    "        return self.__coef\n",
    "\n",
    "    def _set_coef(self, value):\n",
    "        self.__coef = value\n",
    "\n",
    "    def __radd__(self, other):\n",
    "        #print(\"1\")\n",
    "        if not type(self) == type(other):\n",
    "            return self.__add__(other)\n",
    "\n",
    "    def __iadd__(self, other):\n",
    "        #print(\"me!\")\n",
    "        if isinstance(other, self.__class__):#if type(other) == type(self): #operator -> make parallel operation (merging)\n",
    "            if not self.system == other.system: raise EnvironmentError(\"Operators cannot add between different system\")\n",
    "            if self.__default and other.is_identity():       #Identity -> calculate value sum\n",
    "                temp=Operator(self.system)\n",
    "                temp._set_coef(self.__coef+other.coef)\n",
    "                return temp\n",
    "            l = len(self.coef)+len(other.coef)\n",
    "            coef = np.zeros([l],dtype=self.system.Odtype)\n",
    "            for i in range(len(self. coef)):\n",
    "                coef[i] = self.coef[i]\n",
    "            i = len(self.coef)\n",
    "            for j in range(len(other.coef)):\n",
    "                coef[i+j] = other.coef[j]\n",
    "            label  = self._label\n",
    "            struct = []\n",
    "            for op in self.struct:\n",
    "                struct.append(op)\n",
    "            for la, op in zip(other._label.split('+'),other.struct):\n",
    "                label += '+'+la\n",
    "                struct.append(op)\n",
    "            if label[0] == 'O':\n",
    "                label = label[2:]\n",
    "            temp = Operator(self.system)\n",
    "            temp._set_coef(coef)\n",
    "            if len(struct) == 1:\n",
    "                temp.acting = struct[0]\n",
    "            temp._label = label\n",
    "            temp.struct = struct\n",
    "            return temp\n",
    "        else:\n",
    "            self._set_coef(self.__coef+other)\n",
    "            return self\n",
    "\n",
    "    def __riadd__(self, other): return self.__iadd__(other)\n",
    "\n",
    "\n",
    "    def __sub__(self, other):\n",
    "        return self.__add__(-1*other)\n",
    "\n",
    "\n",
    "\n",
    "    def __matmul__(self, other):\n",
    "        #print(\"me!\")\n",
    "        if isinstance(other, self.__class__):#if type(other) == Operator:\n",
    "            if not self.system == other.system: raise EnvironmentError(\"Operators cannot matmul between different system\")\n",
    "\n",
    "            if other.is_identity():\n",
    "                return self * other.coef\n",
    "            elif self.__default:\n",
    "                return other * self.__coef\n",
    "            temp = Operator(self.system)\n",
    "            temp.set_default(False)\n",
    "            struct = []\n",
    "            label = ''\n",
    "            l = len(other.struct)\n",
    "            tl = len(self.struct) * l\n",
    "            coef = np.zeros([tl],dtype = self.system.Odtype)\n",
    "            def dec(a,b):\n",
    "                def wrap(x):\n",
    "                    return a(b(x))\n",
    "                return wrap\n",
    "            for i,val1 in enumerate(zip(self._label.split(\"+\"),self.struct)):\n",
    "                la1,my_op = val1\n",
    "                for j,val2 in enumerate(zip(other._label.split(\"+\"),other.struct)):\n",
    "                    la2, o_op = val2\n",
    "                    coef[i*l+j] = self.coef[i]*other.coef[j]\n",
    "                    label += la1+'@'+la2 +'+'\n",
    "                    struct.append(dec(my_op,o_op))\n",
    "            temp._label = label[:-1]\n",
    "            temp._set_coef(coef)\n",
    "            temp.struct = struct\n",
    "            return temp\n",
    "        elif isinstance(other, State):\n",
    "            if self == self.system.Hamiltonian:\n",
    "                return self.get_eigenvalue(other.basis)*other.eigencoef\n",
    "        else:\n",
    "            raise ValueError(\"Only Operators matmul allowed.\")\n",
    "\n",
    "\n",
    "\n",
    "    ########## state calculation ##########\n",
    "    #@np.vectorize                                # I\n",
    "    def identity(x):\n",
    "        return x\n",
    "\n",
    "    #@np.vectorize                                # a\n",
    "    def annihilation(x, i):\n",
    "        if x == -1: return -1\n",
    "        if (x>>i)&1:\n",
    "            return x^(1<<i)\n",
    "        return -1\n",
    "\n",
    "    #@np.vectorize                                # c\n",
    "    def creation(x, i):\n",
    "        if x == -1: return -1\n",
    "        if not (x>>i)&1:\n",
    "            return x^(1<<i)\n",
    "        return -1\n",
    "\n",
    "    #@np.vectorize                                # n\n",
    "    def n_i(x,i):\n",
    "        if x == -1: return -1\n",
    "        if (x>>i)&1:\n",
    "            return x\n",
    "        return -1\n",
    "\n",
    "    #@np.vectorize                                # h\n",
    "    def hopping(x,i,j):\n",
    "        if x == -1: return -1\n",
    "        m = (1<<i)|(1<<j)\n",
    "        ch = m&x\n",
    "        if  ch == m  or not ch: return -1\n",
    "        return x^m\n",
    "\n",
    "\n",
    "    def index(self, *arg):\n",
    "        narg = []\n",
    "        label = ''\n",
    "        for a in arg:\n",
    "            narg.append(a%self.system.size)\n",
    "            label += \"{}\".format(a%self.system.size).zfill(2)\n",
    "        temp = Operator(self.system)\n",
    "        temp.set_default(False)\n",
    "        temp.acting = lambda x: self.acting(x,*narg)\n",
    "        temp._label = self._label+label\n",
    "        temp.struct = [temp.acting]\n",
    "        return temp\n",
    "\n",
    "\n",
    "\n",
    "    b_i = annihilation\n",
    "    b_i_dag = creation\n",
    "\n",
    "    _table = {'A':annihilation, 'C': creation, 'I' : identity, 'H':hopping, 'N':n_i}"
   ]
  },
  {
   "cell_type": "markdown",
   "metadata": {},
   "source": [
    "### State"
   ]
  },
  {
   "cell_type": "code",
   "execution_count": null,
   "metadata": {},
   "outputs": [],
   "source": [
    "# In[23]:\n",
    "\n",
    "\n",
    "class State:\n",
    "    path = '/state/'\n",
    "    def __init__(self, basis, coef, name = None):\n",
    "        '''state information get by basis, and this instance only contain its coefficient as vector ( shape of (,length) )'''\n",
    "        self.system = basis.system\n",
    "        self.basis = basis\n",
    "        self.states = basis.state\n",
    "        self.__coef,self.__eigencoef = None,None\n",
    "        self.coef  = coef.copy()\n",
    "        self.time = 0\n",
    "        self.length = len(self.coef)\n",
    "        self.times = []\n",
    "        self.name = None\n",
    "        if name is not None:\n",
    "            self.set_name(name)\n",
    "        if self.system.Hamiltonian is not None:\n",
    "            self.__eigencoef = self.system.Hamiltonian.get_eigenvectors(basis)@self.__coef\n",
    "        #assert len(coef) == len(basis.state)\n",
    "\n",
    "    @property\n",
    "    def coef(self):\n",
    "        return self.__coef\n",
    "\n",
    "    @coef.setter\n",
    "    def coef(self, coef):\n",
    "        self.__coef = coef.astype(np.complex128)\n",
    "        if self.__coef.shape[0] == len(self.basis) and not self.__coef.shape[1] == len(self.basis):\n",
    "            self.__coef = self.__coef.T\n",
    "\n",
    "        if self.system.Hamiltonian is not None:\n",
    "            self.__eigencoef = self.system.Hamiltonian.get_eigenvectors(self.basis)@self.__coef\n",
    "        return\n",
    "\n",
    "    @coef.getter\n",
    "    def coef(self):\n",
    "        return self.__coef\n",
    "\n",
    "    @property\n",
    "    def eigencoef(self):\n",
    "        return self.__eigencoef\n",
    "\n",
    "    @eigencoef.setter\n",
    "    def eigencoef(self, coef):\n",
    "        if self.system.Hamiltonian is None:\n",
    "            raise EnvironmentError(\"Hamiltonian is None.\")\n",
    "        if coef.shape[0] == len(self.basis.state):\n",
    "            self.__eigencoef = coef.T\n",
    "        elif coef.shape[1] == len(self.basis.state):\n",
    "            self.__eigencoef = coef\n",
    "        else:\n",
    "            raise ValueError(\"coefficient must be same\")\n",
    "        self.__coef = self.system.Hamiltonian.get_eigenvectors(self.basis).T@self.__eigencoef\n",
    "        return\n",
    "    @eigencoef.getter\n",
    "    def eigencoef(self):\n",
    "        if self.system.Hamiltonian is None:\n",
    "            raise EnvironmentError(\"Hamiltonian is None.\")\n",
    "        if self.__eigencoef is None:\n",
    "            self.__eigencoef = self.system.Hamiltonian.get_eigenvectors(self.basis)@self.__coef\n",
    "        return self.__eigencoef\n",
    "\n",
    "    def norm(self):\n",
    "        return np.linalg.norm(self.coef)\n",
    "\n",
    "    def __len__(self):\n",
    "        return self.length\n",
    "\n",
    "    def __getitem__(self, key):\n",
    "        return self.__coef.T[key].T\n",
    "\n",
    "    def set_name(self, name):\n",
    "        if name in self.system._State: raise KeyError(\"'{}' is already exist!\".format(name))\n",
    "        if self.name is not None and self.name in self.system._State: del self.system._State[self.name]\n",
    "        self.system._State[name] = self\n",
    "        self.name  = name\n",
    "        self.path = 'state/{}/'.format(self.name)\n",
    "\n",
    "    def save(self, force = False):\n",
    "        if self.name is None:\n",
    "            raise NameError(\"This state has no name.\")\n",
    "        saver = self.system.saver[self.path].require_group(self.name)\n",
    "        saver.attrs['basis'] = self.basis.symmetry\n",
    "        saver.attrs['name'] = self.name\n",
    "        if saver.get('coef',None) is None:\n",
    "            saver.create_dataset('coef',data = self.__coef, compression = 'lzf')\n",
    "\n",
    "\n",
    "    def load(system, name, force=None):\n",
    "        loader = system.saver.get('state/'+name,None)\n",
    "        if loader is None:\n",
    "            print(\"'{}' State doesn't exist!\".format(name))\n",
    "            return\n",
    "        symmetry = loader.attrs['basis']\n",
    "        coef = loader['coef'][:]\n",
    "        temp = State(system.get_basis(*symmetry),coef.T, name)\n",
    "        return temp\n",
    "\n",
    "    def dual(self):\n",
    "        return self.coef.conjugate().T\n",
    "\n",
    "    def stack(states):\n",
    "        chenv = True\n",
    "        length = 0\n",
    "        basis = states[0].basis\n",
    "        for state in states:\n",
    "            chenv = chenv and state.basis == basis\n",
    "            length += len(state)\n",
    "        coef = np.zeros([length, len(basis.state)],dtype = states[0].system.dtype)\n",
    "        for i, state in enumerate(states):\n",
    "            coef[i] = state.coef.T\n",
    "        return State(basis, coef)\n",
    "\n",
    "\n",
    "    def __repr__(self):\n",
    "        rep = ''\n",
    "        rep += \"'{}' state on sector {}\\n\".format(self.name, (self.basis.Q,self.basis.K))\n",
    "        time = '0     (initial)' if self.time ==0 else self.time\n",
    "        rep += \"t             : {}\\n\".format(self.time)\n",
    "        rep += 'State         : {}\\n'.format(self.coef)\n",
    "        if self.__eigencoef is not None:\n",
    "            rep += '(eigen State) : {}\\n'.format(self.eigencoef)\n",
    "        return rep\n",
    "\n",
    "\n",
    "    def time_evolving(self, t):\n",
    "        if not os.path.isdir(self.path):\n",
    "            self.save()\n",
    "        '''return is |Psi(t)> '''\n",
    "        if self.system.Hamiltonian is None:\n",
    "            print(\"Hamiltonian is not defined. please define Hamiltonian of system.\")\n",
    "            return self\n",
    "        H = self.system.Hamiltonian\n",
    "        if self.time == 0:\n",
    "            self.__eigencoef = H.get_eigenvectors(self.basis)@self.__coef\n",
    "        self.time = t\n",
    "        if t in self.times:\n",
    "            return self.loadt(t)\n",
    "        self.times.append(t)\n",
    "        self.__eigencoef *= np.exp(-1j*H.get_eigenvalue(self.basis)*t)\n",
    "        self.__coef = H.get_eigenvectors(self.basis).T@self.eigencoef\n",
    "        np.save(open(self.system.path+self.path+'t={}.st'.format(t),'wb'),self.coef,allow_pickle=True)\n",
    "        np.save(open(self.system.path+self.path+'t={}.es'.format(t),'wb'),self.eigencoef,allow_pickle=True)\n",
    "        return self\n",
    "\n",
    "    def loadt(self, t):\n",
    "        if not t in self.times: self.time_evolving(t)\n",
    "        self.time = t\n",
    "        self.coef = np.load(open(self.system.path+self.path+'t={}.st'.format(t)))\n",
    "        self.eigencoef = np.load(open(self.system.path+self.path+'t={}.es'.format(t)))\n",
    "        return self\n",
    "\n",
    "\n",
    "    def normalize(self, value = 1):\n",
    "        self.coef *= value/np.linalg.norm(self.coef)\n",
    "\n",
    "\n",
    "    def __add__(self, other):\n",
    "        if not isinstance(other, self.__class__): raise ValueError(\"State only can be added with state.\")\n",
    "        if not self.basis == other.basis: raise EnvironmentError(\"Adding between different basis is not allowed\")\n",
    "        if len(self)  == 1:\n",
    "            return other + self\n",
    "        return State(self.basis, self.coef.T+other.coef.T)\n",
    "\n",
    "    def __sub__(self, other):\n",
    "        return self + -1*other\n",
    "\n",
    "    def __mul__(self, other):\n",
    "        return State(self.basis, self.coef.T*other)\n",
    "\n",
    "    def __matmul__(self, other):\n",
    "        if isinstance(other, self.__class__):\n",
    "            raise TypeError(\"matmul between states is not supported yet.\")\n",
    "        else:#if isinstance(other, Operator):\n",
    "            raise SyntaxError(\"Did you mean State.T @ Operator?\")\n",
    "\n",
    "\n",
    "\n",
    "\n",
    "    def __rmatmul__(self, other):\n",
    "        if isinstance(other, Operator):\n",
    "            return State(self.basis, (other.get_matrix(self.basis)@self.coef).T)\n",
    "\n",
    "\n",
    "    def print_states(self, full_state = False, state_set = False):\n",
    "        return self.basis.print_states(full_state, state_set)"
   ]
  },
  {
   "cell_type": "markdown",
   "metadata": {},
   "source": [
    "### Saver"
   ]
  },
  {
   "cell_type": "code",
   "execution_count": null,
   "metadata": {},
   "outputs": [],
   "source": [
    "class Saver:\n",
    "    def __init__(self,system):\n",
    "        self.system = system\n",
    "        self.__file = None\n",
    "        self.__IO = None\n",
    "\n",
    "    def open(self, path = None):\n",
    "        '''create new hdf5 format data. if exist, open hdf5 '''\n",
    "        if not self.__file is None:\n",
    "            return\n",
    "        if path is None:\n",
    "            self.__file = h5py.File(self.system.path+self.system.name+'.hdf5','r+')\n",
    "        else:\n",
    "            self.__file = h5py.File(path, 'r+')\n",
    "\n",
    "    def close(self):\n",
    "        #del self.__file\n",
    "        if not self.__file is None:\n",
    "            self.__file.close()\n",
    "            self.__file = None\n",
    "\n",
    "    def set_file(self, h5obj):\n",
    "        self.__file = h5obj\n",
    "\n",
    "    def __del__(self):\n",
    "        del self.__file\n",
    "\n",
    "\n",
    "    def _create(self):\n",
    "        #del self.__file\n",
    "        self.__file = h5py.File(self.system.path+self.system.name+'.hdf5','a')\n",
    "        self.__file.clear()\n",
    "        #self.file.create_group('Workspace')\n",
    "\n",
    "    def isfile(self, path = None):\n",
    "        if path is None:\n",
    "            return os.path.isfile(self.system.path+self.system.name+'.hdf5')\n",
    "        else:\n",
    "            return os.path.isfile(path)\n",
    "\n",
    "    def is_exist(self, target_path):\n",
    "        '''return True when Data exist on given path.'''\n",
    "        ch  = not (self.file.get(target_path, None) is None)\n",
    "        return ch\n",
    "\n",
    "    def ls(self, path = None, tapping = '', show_all = False):\n",
    "        if path is None:\n",
    "            target = self.__file\n",
    "            print(self.file.filename)\n",
    "        else:\n",
    "            target = self[path]\n",
    "            print(tapping+target.name+\" : dir\")\n",
    "        tapping += '\\t'\n",
    "        for name, item in list(target.items()):\n",
    "            if isinstance(item, h5py.Group):\n",
    "                if show_all:\n",
    "                    self.ls(item.name, tapping, show_all)\n",
    "                else:\n",
    "                    print(tapping+item.name+\" : dir\")\n",
    "            else:\n",
    "                print(tapping+name)\n",
    "    @property\n",
    "    def file(self):\n",
    "        return\n",
    "    @file.getter\n",
    "    def file(self):\n",
    "        if self.__file is None:\n",
    "            self.open()\n",
    "        return self.__file\n",
    "    @property\n",
    "    def attrs(self):  return self.open()\n",
    "    @attrs.getter\n",
    "    def attrs(self):\n",
    "        return self.file.attrs\n",
    "    def require_group(self, *arg,**kwarg): return self.file.require_group(*arg,**kwarg)\n",
    "    def get(self, *arg,**kwarg): return self.file.get(*arg,**kwarg)\n",
    "    def flush(self):          return self.file.flush()\n",
    "    def items(self):          return self.file.items()\n",
    "    def keys(self):           return self.file.keys()\n",
    "    def values(self):         return self.file.values()\n",
    "    def __getitem__(self, key):         return self.file[key]\n",
    "    def __setitem__(self, key, value):\n",
    "        if self.is_exist(key):\n",
    "            self.file[key] = value\n",
    "        else:\n",
    "            self.files.attrs[key] = value"
   ]
  },
  {
   "cell_type": "markdown",
   "metadata": {},
   "source": [
    "### Initializer"
   ]
  },
  {
   "cell_type": "code",
   "execution_count": null,
   "metadata": {},
   "outputs": [],
   "source": [
    "class Initializer:\n",
    "    '''Basis sector calculator/'''\n",
    "    comb = lambda self,q: int(math.factorial(self.size)/math.factorial(q)/math.factorial(self.size-q)) #nCq\n",
    "\n",
    "    ## to check for 8-digits counting number of 1 table\n",
    "    Qlist = [0, 1, 1, 2, 1, 2, 2, 3, 1, 2, 2, 3, 2, 3, 3, 4,\n",
    "            1, 2, 2, 3, 2, 3, 3, 4, 2, 3, 3, 4, 3, 4, 4, 5,\n",
    "            1, 2, 2, 3, 2, 3, 3, 4, 2, 3, 3, 4, 3, 4, 4, 5,\n",
    "            2, 3, 3, 4, 3, 4, 4, 5, 3, 4, 4, 5, 4, 5, 5, 6,\n",
    "            1, 2, 2, 3, 2, 3, 3, 4, 2, 3, 3, 4, 3, 4, 4, 5,\n",
    "            2, 3, 3, 4, 3, 4, 4, 5, 3, 4, 4, 5, 4, 5, 5, 6,\n",
    "            2, 3, 3, 4, 3, 4, 4, 5, 3, 4, 4, 5, 4, 5, 5, 6,\n",
    "            3, 4, 4, 5, 4, 5, 5, 6, 4, 5, 5, 6, 5, 6, 6, 7,\n",
    "            1, 2, 2, 3, 2, 3, 3, 4, 2, 3, 3, 4, 3, 4, 4, 5,\n",
    "            2, 3, 3, 4, 3, 4, 4, 5, 3, 4, 4, 5, 4, 5, 5, 6,\n",
    "            2, 3, 3, 4, 3, 4, 4, 5, 3, 4, 4, 5, 4, 5, 5, 6,\n",
    "            3, 4, 4, 5, 4, 5, 5, 6, 4, 5, 5, 6, 5, 6, 6, 7,\n",
    "            2, 3, 3, 4, 3, 4, 4, 5, 3, 4, 4, 5, 4, 5, 5, 6,\n",
    "            3, 4, 4, 5, 4, 5, 5, 6, 4, 5, 5, 6, 5, 6, 6, 7,\n",
    "            3, 4, 4, 5, 4, 5, 5, 6, 4, 5, 5, 6, 5, 6, 6, 7,\n",
    "            4, 5, 5, 6, 5, 6, 6, 7, 5, 6, 6, 7, 6, 7, 7, 8]     # set of 8 bit\n",
    "\n",
    "    #translate 1110 => 1101 with size 4, translate state left side\n",
    "    _translate = lambda self, n: (n>>(self.system.size-1))*((1)-(1<<self.system.size))+2*n\n",
    "    #reverse translate 1110 => 0111 with size4, translate state right side\n",
    "    _rtranslate = lambda self, n: ((n&1)<<self.system.size-1) + (n>>1)\n",
    "\n",
    "\n",
    "\n",
    "    #spinz = lambda self, x,i: (x>>i)&1 # return 0, 1\n",
    "    def parity(self, x):\n",
    "        p=0\n",
    "        for i in range(self.__l):\n",
    "            p = p<<16\n",
    "            p+= self.Plist[((1<<16)-1)&(x>>16*i)]\n",
    "        p = p<<self.__r\n",
    "        p += self.Plist[((1<<16)-1)&(x>>16*self.__l)]>>(16-self.__r)\n",
    "        return p\n",
    "    par_num = lambda self, x: self.Qlist[x&255]+self.Qlist[(x>>8)&255]+self.Qlist[(x>>16)&255]+self.Qlist[(x>>24)&255]\n",
    "    @np.vectorize\n",
    "    def _npar_num(x):\n",
    "        return Initializer.Qlist[x&255]+Initializer.Qlist[(x>>8)&255]+Initializer.Qlist[(x>>16)&255]+Initializer.Qlist[(x>>24)&255]\n",
    "\n",
    "    @np.vectorize\n",
    "    def _ncheck(x, size):\n",
    "        '''function to check whether given state is smallest state\n",
    "        based on translational symmetry or not.\n",
    "        return is period(positive integer), or error(-1)'''\n",
    "        tr = lambda a, size:(a>>(size-1))*((1)-(1<<size))+2*a\n",
    "        origin = x\n",
    "        for i in range(size):\n",
    "            a = tr(x,size)\n",
    "            if a <origin:\n",
    "                return -1\n",
    "            elif a == origin:\n",
    "                break\n",
    "            x = a\n",
    "        return i+1\n",
    "\n",
    "\n",
    "\n",
    "    def __init__(self, system):\n",
    "        '''Just need system,\n",
    "        many method will take basis sector and give split sectors of them.'''\n",
    "        self.system = system\n",
    "        self.translate = np.vectorize(self._rtranslate)\n",
    "        self.null = (-1,-1,0,0)\n",
    "        self.init = [self.Q, self.K, self.F,self.P]\n",
    "        self.Plist = []\n",
    "        self.__l, self.__r = int((self.system.size)/16), self.system.size%16\n",
    "        for i in range(1<<16):\n",
    "            p = 0\n",
    "            for j in range(16):\n",
    "                p+= ((i>>j)&1)<<(15-j)\n",
    "            self.Plist.append(p)\n",
    "        self.parity = np.vectorize(self.parity)\n",
    "\n",
    "    def calculate(self, symmetry):\n",
    "        symmetry =tuple(symmetry)\n",
    "        for i in range(4):\n",
    "            test = symmetry[:i+1] + self.null[i+1:]\n",
    "            if test == self.null: continue\n",
    "            if not self.system.saver.is_exist('/basis/({},{},{},{})'.format(*test)):\n",
    "                self.init[i](self.system.get_basis(*(symmetry[:i] + self.null[i:])))\n",
    "\n",
    "        '''if not self.system.saver.is_exist('/basis/({},{},{},{})'.format(symmetry[0], *self.null[1:])):\n",
    "            self.Q(self.system.get_full_sector())\n",
    "        elif not self.system.saver.is_exist('/basis/({},{},{},{})'.format(*symmetry[:2], *self.null[2:])):\n",
    "            self.K(self.system.get_basis(symmetry[0]))'''\n",
    "        #elif not self.system.saver.is_exist('/basis/({},{},{},{})'.format(symmetry[:3], *self.null[3:])):\n",
    "\n",
    "\n",
    "    def Q(self, basis):\n",
    "        '''Initializer which find all small sector based on spin conservation.'''\n",
    "        target = basis.state\n",
    "        symmetry = basis.symmetry.copy()\n",
    "        if (not symmetry[2]==0):\n",
    "            raise EnvironmentError(\"Spin conserving and spin inversion are not commute on given basis.\")\n",
    "        print(\"Initializing spin conserving sectors of given basis : ({},{},{},{})\".format(*symmetry))\n",
    "\n",
    "        #calculate basis sector\n",
    "        state, address, period, counts = [],[],[],np.zeros([self.system.size+1],dtype = np.int64)\n",
    "        for i in range(self.system.size+1):\n",
    "            state.append([])\n",
    "            address.append({})\n",
    "            period.append([])\n",
    "            counts[i] = 0\n",
    "        Q = self._npar_num(target)\n",
    "        if symmetry[1] == -1:\n",
    "            for q,s in zip(Q,target):\n",
    "                state[q].append(s)\n",
    "                address[q][s] = counts[q]\n",
    "                counts[q]+=1\n",
    "        else:\n",
    "            raise SystemError(\"if this error occur then must debug\")\n",
    "\n",
    "        #save sectors\n",
    "        bsaver = self.system.saver.file.require_group('/basis')\n",
    "        for q in range(self.system.size):\n",
    "            assert len(state[q]) == counts[q], 'component and its label unmatched'\n",
    "            symmetry[0] = q\n",
    "            folder = bsaver.require_group('({},{},{},{})'.format(*symmetry))\n",
    "            folder.create_dataset('state',data = np.array(state[q]),compression = 'lzf')\n",
    "            folder.create_dataset('address',data = np.array(list(address[q].items())),compression = 'lzf')\n",
    "            folder.create_dataset('period',data = np.array(period[q]),compression = 'lzf')\n",
    "            folder.attrs['counts'] = counts[q]\n",
    "\n",
    "\n",
    "\n",
    "\n",
    "\n",
    "\n",
    "    def K(self, basis):\n",
    "        '''Initializer which find all small sector based on translational invarient.'''\n",
    "        #get infomation of target basis\n",
    "        st = basis.state\n",
    "        symmetry = basis.symmetry.copy()\n",
    "        print(\"Initializing momentum sectors of given basis : ({},{},{},{})\".format(*symmetry))\n",
    "        #make new empty storage\n",
    "        state, address, period, distance, counts = [],[],[],[],[]# [[] for q in range(self.size+1)],[[] for q in range(self.size+1)],[[] for q in range(self.size+1)],[[] for q in range(self.size+1)]\n",
    "        states = {}\n",
    "        for k in range(self.system.size):\n",
    "            state.append([])\n",
    "            address.append({})\n",
    "            period.append([])\n",
    "            distance.append({s:0 for s in st})\n",
    "            counts.append(0)\n",
    "\n",
    "\n",
    "        #calculate period of each state based on traslation op\n",
    "        pe = self._ncheck(st, self.system.size) ## calculate state if st is not rep. state return -1, else return period\n",
    "        dist = {}\n",
    "        St = st\n",
    "        stpr = {}\n",
    "\n",
    "        for s,p in zip(st,pe):\n",
    "            stpr[s] = p  #get period from state\n",
    "            for k in range(self.system.size):\n",
    "                if p<0:\n",
    "                    continue\n",
    "                    print(s, p)\n",
    "                    address[k][s] = address[k][self._rtranslate(s)]\n",
    "                #debug\n",
    "                elif p ==0:\n",
    "                    raise ValueError(\"something wrong when state ({}) got period 0.\".format(s))\n",
    "                if k*p % self.system.size == 0:\n",
    "                    state[k].append(s)\n",
    "                    if k == 0: states[s] = [s]\n",
    "                    address[k][s] = counts[k]\n",
    "                    ts = s\n",
    "                    for l in range(p-1):\n",
    "                        ts = self._rtranslate(ts)\n",
    "                        if k == 0: states[s].append(ts)\n",
    "                        address[k][ts] = counts[k]\n",
    "                        distance[k][ts] = l+1\n",
    "                    period[k].append(p)\n",
    "                    counts[k] += 1\n",
    "        l = len(state[0])\n",
    "        kstate = -1*np.ones([l,self.system.size+1],dtype = np.int64)\n",
    "        i=0\n",
    "        for key, val in list(states.items()):\n",
    "            kstate[i,0] = key\n",
    "            assert len(val) == period[0][address[0][key]]\n",
    "            for j,value in enumerate(val):\n",
    "                kstate[i,j+1] = value\n",
    "            i+=1\n",
    "        '''dist = {}\n",
    "        adrs = {}\n",
    "        state_to_period = lambda x: stpr.get(x)\n",
    "        state_to_period = np.vectorize(state_to_period)\n",
    "        for d in range(self.system.size):\n",
    "            ch = state_to_period(St)\n",
    "            for chs,chks in zip(st[np.logical_not(ch==-1)],St[np.logical_not(ch==-1)]):\n",
    "                dist[chs] = d\n",
    "                adrs[chs] = address[0][chks]\n",
    "                assert d<state_to_period(chks),\"d {},pe {}\".format(d, state_to_period(chks))\n",
    "            St = St[ch ==-1]\n",
    "            if len(St) == 0 : break\n",
    "            st = st[ch ==-1]\n",
    "            St = self.translate(St)\n",
    "\n",
    "        for k in range(self.system.size):\n",
    "            for s in state[k]:\n",
    "                if address[k].get(s,None) is None:\n",
    "                    address[k][s] = adrs[s]\n",
    "                    distance[k][s] = dist[s]'''\n",
    "\n",
    "        bsaver = self.system.saver.file.require_group('/basis')\n",
    "        for k in range(self.system.size):\n",
    "            assert len(state[k]) == counts[k], 'component and its label unmatched'\n",
    "            symmetry[1] = k\n",
    "            folder = bsaver.require_group('({},{},{},{})'.format(*symmetry))\n",
    "            folder.create_dataset('state',data = np.array(state[k]),compression = 'lzf')\n",
    "            folder.create_dataset('address',data = np.array(list(address[k].items())),compression = 'lzf')\n",
    "            folder.create_dataset('period',data = np.array(period[k]),compression = 'lzf')\n",
    "            if k ==0 :\n",
    "                folder.create_dataset('distance',data = np.array(list(distance[k].items())),compression = 'lzf')\n",
    "                folder.create_dataset('state_set',data = kstate,compression = 'lzf')\n",
    "                ks = folder['state_set']\n",
    "                ds = folder['distance']\n",
    "            else:\n",
    "                folder['state_set'] = ks\n",
    "                folder['distance'] = ds\n",
    "            folder.attrs['counts'] = counts[k]\n",
    "\n",
    "    def F(self, basis):\n",
    "        '''initializer for spin inversion symmetry'''\n",
    "        full = self.system.max - 1\n",
    "        target = basis.state\n",
    "        symmetry = basis.symmetry.copy()\n",
    "        origin_address = basis.data['address']\n",
    "        if not (symmetry[0] == self.system.size/2 or symmetry[0]==-1): raise EnvironmentError(\"Spin conserving and spin inversion are not commute.\")\n",
    "        print(\"Initializing spin inversion sectors of given basis : ({},{},{},{})\".format(*symmetry))\n",
    "        #calculate basis sector\n",
    "        s_state, s_address, s_period, s_counts = [],{},[],0\n",
    "        d_state, d_address, d_period, d_counts = [],{},[],0\n",
    "        state_set = {}\n",
    "        d_bar = []\n",
    "        '''for i in range(2):\n",
    "            state.append([])\n",
    "            address.append({})\n",
    "            period.append([])\n",
    "            counts[i] = 0'''\n",
    "\n",
    "        F = target^full\n",
    "\n",
    "\n",
    "        if symmetry[1] == -1:\n",
    "            for f,s in zip(F,target):\n",
    "                if s<f:\n",
    "                    d_state.append(s)\n",
    "                    d_address[s] = d_counts\n",
    "                    d_counts +=1\n",
    "                    d_period.append(2)\n",
    "                elif s == f:\n",
    "                    s_state.append(s)\n",
    "                    s_address[s] = s_counts\n",
    "                    s_counts +=1\n",
    "                    s_period.append(1)\n",
    "                else:\n",
    "                    d_address[s] = d_address[f]\n",
    "                    d_bar.append(s)\n",
    "        elif symmetry[1] == 0:\n",
    "            distance = {}\n",
    "            for f,s in zip(F,target):\n",
    "                fs = basis.state[basis.find(f)]\n",
    "                if s == fs:\n",
    "                    s_state.append(s)\n",
    "                    for comp in basis.state_set(s):\n",
    "                        s_address[comp] = s_counts\n",
    "                        distance[comp] = basis.distance(comp)\n",
    "                    s_counts +=1\n",
    "                    state_set[s] = basis.state_set(s)\n",
    "                    s_period.append(basis.period(basis.find(s)))\n",
    "                elif s<fs:\n",
    "                    d_state.append(s)\n",
    "                    state_set[s] = list(basis.state_set(s))\n",
    "                    for comp in basis.state_set(s):\n",
    "                        d_address[comp] = d_counts\n",
    "                        distance[comp] = basis.distance(comp)\n",
    "                    d_counts +=1\n",
    "                    d_period.append(basis.period(basis.find(s))+basis.period(basis.find(fs)))\n",
    "                else:\n",
    "                    for comp in basis.state_set(s):\n",
    "                        d_address[comp] = d_address[fs]\n",
    "                        distance[comp] = basis.distance(comp)\n",
    "                        state_set[fs].append(comp)\n",
    "                        d_bar.append(comp)\n",
    "        assert len(s_state) == s_counts\n",
    "        assert len(d_state) == d_counts\n",
    "        states = -1*np.ones([s_counts+d_counts,self.system.size*2+1],np.int32)\n",
    "        for i,key in enumerate(state_set):\n",
    "            states[i,0] = key\n",
    "            for j,value in enumerate(state_set[key]):\n",
    "                states[i,j+1] = value\n",
    "\n",
    "        for key in d_address:\n",
    "            s_address[key] = d_address[key]+s_counts\n",
    "        #save sectors\n",
    "        bsaver = self.system.saver.file.require_group('/basis')\n",
    "        symmetry[2] = 1\n",
    "        folder = bsaver.require_group('({},{},{},{})'.format(*symmetry))\n",
    "        symmetry[2] = -1\n",
    "        folder_ = bsaver.require_group('({},{},{},{})'.format(*symmetry))\n",
    "        folder.create_dataset('state',data = np.array(s_state+d_state),compression = 'lzf')\n",
    "        folder_.create_dataset('state',data = np.array(d_state),compression = 'lzf')\n",
    "\n",
    "        folder.create_dataset('address',data = np.array(list(s_address.items())),compression = 'lzf')\n",
    "        folder_.create_dataset('address',data = np.array(list(d_address.items())),compression = 'lzf')\n",
    "\n",
    "        folder.create_dataset('period',data = np.array(s_period+d_period),compression = 'lzf')\n",
    "        folder_.create_dataset('period',data = np.array(d_period),compression = 'lzf')\n",
    "        folder_.create_dataset('Fd_bar',data = np.array(d_bar),compression = 'lzf')\n",
    "        if symmetry[1] == 0:\n",
    "            folder.create_dataset('distance',data = np.array(list(distance.items())),compression = 'lzf')\n",
    "            folder.create_dataset('state_set',data = states, compression = 'lzf')\n",
    "            folder_['distance'] = folder['distance']\n",
    "            folder_['state_set'] = folder['state_set']\n",
    "        folder.attrs['counts'] = s_counts + d_counts\n",
    "        folder_.attrs['counts'] = d_counts\n",
    "\n",
    "\n",
    "    def P(self, basis):\n",
    "        '''initializer for parity symmetry(same methodology with F)'''\n",
    "        full = self.system.max - 1\n",
    "        target = basis.state\n",
    "        symmetry = basis.symmetry.copy()\n",
    "        origin_address = basis.data['address']\n",
    "        if not (symmetry[1] == self.system.size/2 or symmetry[1]==-1 or symmetry[1]==0): raise EnvironmentError(\"Translation and parity are not commute.\")\n",
    "        print(\"Initializing parity sectors of given basis : ({},{},{},{})\".format(*symmetry))\n",
    "        #calculate basis sector\n",
    "        s_state, s_address, s_period, s_counts = [],{},[],0\n",
    "        d_state, d_address, d_period, d_counts = [],{},[],0\n",
    "        state_set = {}\n",
    "        d_bar = []\n",
    "        '''for i in range(2):\n",
    "            state.append([])\n",
    "            address.append({})\n",
    "            period.append([])\n",
    "            counts[i] = 0'''\n",
    "\n",
    "        F = self.parity(target)\n",
    "\n",
    "\n",
    "        if symmetry[1] == -1:\n",
    "            for f,s in zip(F,target):\n",
    "                if s<f:\n",
    "                    d_state.append(s)\n",
    "                    d_address[s] = d_counts\n",
    "                    d_counts +=1\n",
    "                    d_period.append(2)\n",
    "                elif s == f:\n",
    "                    s_state.append(s)\n",
    "                    s_address[s] = s_counts\n",
    "                    s_counts +=1\n",
    "                    s_period.append(1)\n",
    "                else:\n",
    "                    d_address[s] = d_address[f]\n",
    "                    d_bar.append(s)\n",
    "        elif symmetry[1] == 0:\n",
    "            distance = {}\n",
    "            for f,s in zip(F,target):\n",
    "                fs = basis.state[basis.find(f)]\n",
    "                if s == fs:\n",
    "                    s_state.append(s)\n",
    "                    for comp in basis.state_set(s):\n",
    "                        s_address[comp] = s_counts\n",
    "                        distance[comp] = basis.distance(comp)\n",
    "                    s_counts +=1\n",
    "                    state_set[s] = basis.state_set(s)\n",
    "                    s_period.append(basis.period(basis.find(s)))\n",
    "                elif s<fs:\n",
    "                    d_state.append(s)\n",
    "                    state_set[s] = list(basis.state_set(s))\n",
    "                    for comp in basis.state_set(s):\n",
    "                        d_address[comp] = d_counts\n",
    "                        distance[comp] = basis.distance(comp)\n",
    "                    d_counts +=1\n",
    "                    d_period.append(basis.period(basis.find(s))+basis.period(basis.find(fs)))\n",
    "                else:\n",
    "                    for comp in basis.state_set(s):\n",
    "                        d_address[comp] = d_address[fs]\n",
    "                        distance[comp] = basis.distance(comp)\n",
    "                        state_set[fs].append(comp)\n",
    "                        d_bar.append(comp)\n",
    "        assert len(s_state) == s_counts\n",
    "        assert len(d_state) == d_counts\n",
    "        states = -1*np.ones([s_counts+d_counts,self.system.size*4+1],np.int32)\n",
    "        for i,key in enumerate(state_set):\n",
    "            states[i,0] = key\n",
    "            for j,value in enumerate(state_set[key]):\n",
    "                states[i,j+1] = value\n",
    "\n",
    "        for key in d_address:\n",
    "            s_address[key] = d_address[key]+s_counts\n",
    "        #save sectors\n",
    "        bsaver = self.system.saver.file.require_group('/basis')\n",
    "        symmetry[3] = 1\n",
    "        folder = bsaver.require_group('({},{},{},{})'.format(*symmetry))\n",
    "        symmetry[3] = -1\n",
    "        folder_ = bsaver.require_group('({},{},{},{})'.format(*symmetry))\n",
    "        folder.create_dataset('state',data = np.array(s_state+d_state),compression = 'lzf')\n",
    "        folder_.create_dataset('state',data = np.array(d_state),compression = 'lzf')\n",
    "\n",
    "        folder.create_dataset('address',data = np.array(list(s_address.items())),compression = 'lzf')\n",
    "        folder_.create_dataset('address',data = np.array(list(d_address.items())),compression = 'lzf')\n",
    "\n",
    "        folder.create_dataset('period',data = np.array(s_period+d_period),compression = 'lzf')\n",
    "        folder_.create_dataset('period',data = np.array(d_period),compression = 'lzf')\n",
    "\n",
    "        if symmetry[2]==-1:\n",
    "            folder_['Fd_bar'] = bsaver['({},{},{},{})/Fd_bar'.format(symmetry[0],symmetry[1],-1,0)]\n",
    "            folder['Fd_bar'] = bsaver['({},{},{},{})/Fd_bar'.format(symmetry[0],symmetry[1],-1,0)]\n",
    "        folder_.create_dataset('Pd_bar',data = np.array(d_bar),compression = 'lzf')\n",
    "        if symmetry[1] == 0:\n",
    "            folder.create_dataset('distance',data = np.array(list(distance.items())),compression = 'lzf')\n",
    "            folder.create_dataset('state_set',data = states, compression = 'lzf')\n",
    "            folder_['distance'] = folder['distance']\n",
    "            folder_['state_set'] = folder['state_set']\n",
    "        folder.attrs['counts'] = s_counts + d_counts\n",
    "        folder_.attrs['counts'] = d_counts"
   ]
  },
  {
   "cell_type": "markdown",
   "metadata": {},
   "source": [
    "## lib"
   ]
  },
  {
   "cell_type": "markdown",
   "metadata": {},
   "source": [
    "### to_operator"
   ]
  },
  {
   "cell_type": "code",
   "execution_count": 22,
   "metadata": {},
   "outputs": [],
   "source": [
    "def to_operator(system):\n",
    "    if not isinstance(system, System):\n",
    "        raise SyntaxError(\"use @to_operator(system).\")\n",
    "    class setter:\n",
    "        def __init__(self, system):\n",
    "            self.system = system\n",
    "        def __call__(self, func):\n",
    "            ufunc = inspect.getsource(func).split('\\n')[1:]\n",
    "            ufunc_name = ufunc[0][ufunc[0].find('def')+3:ufunc[0].find('(')].split()[0]\n",
    "            if ufunc_name in self.system._function:\n",
    "                raise NameError(\"already same name exist!\")\n",
    "            code = ''\n",
    "            for line in ufunc:\n",
    "                code += line+'\\n'\n",
    "            vect = 'import numpy as np\\n@np.vectorize\\n'+code\n",
    "            saver = self.system.saver.require_group('function')\n",
    "            function=saver.create_group(ufunc_name)\n",
    "            function.attrs['code'] = code.encode()\n",
    "            function.attrs['fid'] = self.system._fid\n",
    "            self.system._fid+=1\n",
    "            compiled = compile(vect, 'userfunction','exec')\n",
    "            exec(compiled, self.system._function)\n",
    "            del self.system._function['np'],self.system._function['__builtins__']\n",
    "            temp = Operator(self.system, ufunc_name, prefix= self.system._function[ufunc_name])\n",
    "            return temp\n",
    "            \n",
    "    wrapper = setter(system)\n",
    "    return wrapper"
   ]
  },
  {
   "cell_type": "markdown",
   "metadata": {},
   "source": [
    "###  preset"
   ]
  },
  {
   "cell_type": "code",
   "execution_count": 9,
   "metadata": {},
   "outputs": [],
   "source": [
    "def preset(system):\n",
    "    globals()['n_i'] = Operator(system, 'n_i', Operator.n_i)\n",
    "    globals()['b_i'] = Operator(system, 'b_i', Operator.annihilation)\n",
    "    globals()['b_i_dag'] = Operator(system, 'b_i_dag', Operator.creation)\n",
    "    globals()['hopping'] = Operator(system, 'hopping', Operator.hopping)"
   ]
  },
  {
   "cell_type": "markdown",
   "metadata": {},
   "source": [
    "### load_system"
   ]
  },
  {
   "cell_type": "code",
   "execution_count": 7,
   "metadata": {},
   "outputs": [],
   "source": [
    "def load_system(path):\n",
    "    '''Please indicate system saved folder. return is system object. \n",
    "    Recommended way is use of 'load_system(path)'  '''\n",
    "    if not path[0] =='/':\n",
    "        path = os.path.abspath(path)\n",
    "        \n",
    "    if not os.path.isfile(path+'checkfiles'):\n",
    "        print(\"Data doesn't exist!\")\n",
    "        return\n",
    "    self.path = path\n",
    "    ch = True\n",
    "    chkfile = path +'checkfiles'\n",
    "    ########check files\n",
    "    with open(chkfile) as chks:\n",
    "        loader = []\n",
    "        for files in chks:\n",
    "            loader.append(open(files[:-1],'rb'))\n",
    "    self.__initialized=True\n",
    "    ##########load system\n",
    "    system = loader[0]\n",
    "    self.size = pickle.load(system)\n",
    "    self.method = pickle.load(system)\n",
    "    op_ = pickle.load(loader[1])\n",
    "    st_ = pickle.load(loader[2])\n",
    "    for op in op_:\n",
    "        self._op[op] = Operator.load(self, op)\n",
    "    for st in st_: \n",
    "        State.load(self, st)\n",
    "    H = pickle.load(system)\n",
    "    if H is not None:\n",
    "        self.Hamiltonian = H\n",
    "    for l in loader:\n",
    "        l.close()\n",
    "    print('Current system loaded by \"{}\"'.format(os.path.abspath(path)))\n",
    "    self.tree"
   ]
  },
  {
   "cell_type": "markdown",
   "metadata": {},
   "source": [
    "----------"
   ]
  },
  {
   "cell_type": "code",
   "execution_count": 1,
   "metadata": {},
   "outputs": [],
   "source": [
    "from xxzchain.lib.devtool import plot_spin"
   ]
  },
  {
   "cell_type": "code",
   "execution_count": 3,
   "metadata": {},
   "outputs": [],
   "source": [
    "test = System(10)"
   ]
  },
  {
   "cell_type": "code",
   "execution_count": 4,
   "metadata": {},
   "outputs": [
    {
     "name": "stdout",
     "output_type": "stream",
     "text": [
      "Current system saved at \"test\"\n",
      "Hardcore boson system\n",
      "Name         : lattice10\n",
      "Saved path   : /Users/jeong/master/xxzchain/test\n",
      "System size  : 10\n",
      "\n",
      "Referenced Basis :   (None means full)\n",
      "\t|- Sector [-1 -1  0  0] \n",
      "\t-----\n",
      "\n",
      "Defined Operators :\n",
      "\t-----\n",
      "\tHamiltonian  : -----\n",
      "\n",
      "Defined States :\n",
      "\t-----\n",
      "\n"
     ]
    }
   ],
   "source": [
    "test.initialize('test')"
   ]
  },
  {
   "cell_type": "code",
   "execution_count": 11,
   "metadata": {},
   "outputs": [],
   "source": [
    "a = test.get_basis(5,0,1,1)"
   ]
  },
  {
   "cell_type": "code",
   "execution_count": 15,
   "metadata": {},
   "outputs": [
    {
     "data": {
      "image/png": "[encoded data removed]",
      "text/plain": [
       "<Figure size 627.076x72 with 1 Axes>"
      ]
     },
     "metadata": {},
     "output_type": "display_data"
    },
    {
     "data": {
      "image/png": "[encoded data removed]",
      "text/plain": [
       "<Figure size 627.076x72 with 1 Axes>"
      ]
     },
     "metadata": {},
     "output_type": "display_data"
    },
    {
     "data": {
      "image/png": "[encoded data removed]",
      "text/plain": [
       "<Figure size 627.076x72 with 1 Axes>"
      ]
     },
     "metadata": {},
     "output_type": "display_data"
    },
    {
     "data": {
      "image/png": "[encoded data removed]",
      "text/plain": [
       "<Figure size 627.076x72 with 1 Axes>"
      ]
     },
     "metadata": {},
     "output_type": "display_data"
    },
    {
     "data": {
      "image/png": "[encoded data removed]",
      "text/plain": [
       "<Figure size 627.076x72 with 1 Axes>"
      ]
     },
     "metadata": {},
     "output_type": "display_data"
    },
    {
     "data": {
      "image/png": "[encoded data removed]",
      "text/plain": [
       "<Figure size 627.076x72 with 1 Axes>"
      ]
     },
     "metadata": {},
     "output_type": "display_data"
    },
    {
     "data": {
      "image/png": "[encoded data removed]",
      "text/plain": [
       "<Figure size 627.076x72 with 1 Axes>"
      ]
     },
     "metadata": {},
     "output_type": "display_data"
    },
    {
     "data": {
      "image/png": "[encoded data removed]",
      "text/plain": [
       "<Figure size 627.076x72 with 1 Axes>"
      ]
     },
     "metadata": {},
     "output_type": "display_data"
    },
    {
     "data": {
      "image/png": "[encoded data removed]",
      "text/plain": [
       "<Figure size 627.076x72 with 1 Axes>"
      ]
     },
     "metadata": {},
     "output_type": "display_data"
    },
    {
     "data": {
      "image/png": "[encoded data removed]",
      "text/plain": [
       "<Figure size 627.076x72 with 1 Axes>"
      ]
     },
     "metadata": {},
     "output_type": "display_data"
    }
   ],
   "source": [
    "for i,state in enumerate(a.state_set(a.state[1])):\n",
    "    plot_spin(state, test.size)"
   ]
  },
  {
   "cell_type": "code",
   "execution_count": 9,
   "metadata": {},
   "outputs": [
    {
     "name": "stdout",
     "output_type": "stream",
     "text": [
      "Current system saved at \"test\"\n",
      "Hardcore boson system\n",
      "Name         : lattice8\n",
      "Saved path   : /Users/jeong/master/xxzchain/test\n",
      "System size  : 8\n",
      "\n",
      "Referenced Basis :   (None means full)\n",
      "\t|- Sector [-1 -1  0  0] \n",
      "\t-----\n",
      "\n",
      "Defined Operators :\n",
      "\t-----\n",
      "\tHamiltonian  : -----\n",
      "\n",
      "Defined States :\n",
      "\t-----\n",
      "\n"
     ]
    }
   ],
   "source": [
    "test.initialize('test',True)"
   ]
  },
  {
   "cell_type": "code",
   "execution_count": 50,
   "metadata": {},
   "outputs": [],
   "source": [
    "preset(test)\n",
    "H = Operator.Null(test)\n",
    "t = 1\n",
    "v = 1\n",
    "t_ = 1\n",
    "v_ = 1\n",
    "for i in range(test.size):\n",
    "    H+= -t*hopping.index(i,i+1) +v*(n_i.index(i)-1/2)@(n_i.index(i+1)-1/2)\n",
    "    H+= -t_*hopping.index(i,i+2) + v_*(n_i.index(i)-1/2)@(n_i.index(i+2)-1/2)"
   ]
  },
  {
   "cell_type": "code",
   "execution_count": 52,
   "metadata": {},
   "outputs": [],
   "source": [
    "H.set_name(\"H\")"
   ]
  },
  {
   "cell_type": "code",
   "execution_count": 2,
   "metadata": {},
   "outputs": [],
   "source": [
    "test = System(5)"
   ]
  },
  {
   "cell_type": "code",
   "execution_count": 9,
   "metadata": {},
   "outputs": [
    {
     "data": {
      "text/plain": [
       "True"
      ]
     },
     "execution_count": 9,
     "metadata": {},
     "output_type": "execute_result"
    }
   ],
   "source": [
    "isinstance({},object)"
   ]
  },
  {
   "cell_type": "code",
   "execution_count": 3,
   "metadata": {},
   "outputs": [],
   "source": [
    "test.name = 'test'"
   ]
  },
  {
   "cell_type": "code",
   "execution_count": 7,
   "metadata": {},
   "outputs": [],
   "source": [
    "del b"
   ]
  },
  {
   "cell_type": "code",
   "execution_count": 8,
   "metadata": {},
   "outputs": [],
   "source": [
    "d = {i:i for i in range(10)}"
   ]
  },
  {
   "cell_type": "code",
   "execution_count": null,
   "metadata": {},
   "outputs": [],
   "source": []
  },
  {
   "cell_type": "code",
   "execution_count": 64,
   "metadata": {},
   "outputs": [],
   "source": [
    "d['rd'] =0"
   ]
  },
  {
   "cell_type": "code",
   "execution_count": 65,
   "metadata": {},
   "outputs": [
    {
     "data": {
      "text/plain": [
       "0"
      ]
     },
     "execution_count": 65,
     "metadata": {},
     "output_type": "execute_result"
    }
   ],
   "source": [
    "d['rd']"
   ]
  },
  {
   "cell_type": "code",
   "execution_count": 66,
   "metadata": {},
   "outputs": [
    {
     "name": "stdout",
     "output_type": "stream",
     "text": [
      "0\n",
      "1\n",
      "2\n",
      "3\n",
      "4\n",
      "5\n",
      "6\n",
      "7\n",
      "8\n",
      "9\n",
      "rd\n"
     ]
    }
   ],
   "source": [
    "for key in d:\n",
    "    print(key)"
   ]
  },
  {
   "cell_type": "code",
   "execution_count": 58,
   "metadata": {},
   "outputs": [
    {
     "name": "stdout",
     "output_type": "stream",
     "text": [
      "Initializing momentum sectors of given basis : (2,-1,0,0)\n",
      "         3 :  |00000011>, |10000001>, |11000000>, |01100000>, |00110000>, |00011000>, |00001100>, |00000110>\n",
      "         5 :  |00000101>, |10000010>, |01000001>, |10100000>, |01010000>, |00101000>, |00010100>, |00001010>\n",
      "         9 :  |00001001>, |10000100>, |01000010>, |00100001>, |10010000>, |01001000>, |00100100>, |00010010>\n",
      "        17 :  |00010001>, |10001000>, |01000100>, |00100010>\n"
     ]
    }
   ],
   "source": [
    "test.get_basis(q=2,k=0).print_states(state_set= True)"
   ]
  },
  {
   "cell_type": "code",
   "execution_count": 53,
   "metadata": {},
   "outputs": [
    {
     "name": "stdout",
     "output_type": "stream",
     "text": [
      "Initializing.... it may takes few minutes.\n"
     ]
    },
    {
     "data": {
      "text/plain": [
       "array([-9.39271169, -5.44621828, -5.44621828, -4.83290571, -4.83290571,\n",
       "       -4.76243306, -4.57700633, -4.57700633, -3.66737672, -3.66737672,\n",
       "       -2.9291975 , -2.9291975 , -2.38670225, -2.32259187, -2.32259187,\n",
       "       -1.74720713, -1.61803399, -1.37445499, -1.37445499, -0.94275429,\n",
       "       -0.94275429, -0.94222775, -0.94222775, -0.82529635, -0.72253793,\n",
       "       -0.72253793, -0.43190782, -0.43190782, -0.10387657, -0.10387657,\n",
       "        0.38196601,  0.40547695,  0.61803399,  1.21204259,  1.21204259,\n",
       "        1.28092833,  1.3643101 ,  1.3643101 ,  1.52924092,  2.15177154,\n",
       "        2.15177154,  2.45077572,  2.45077572,  2.61803399,  2.69947095,\n",
       "        2.90531086,  2.90531086,  3.19923333,  3.20159924,  3.20159924,\n",
       "        3.21690767,  3.21690767,  3.23475289,  3.23475289,  4.55558514,\n",
       "        4.55558514])"
      ]
     },
     "execution_count": 53,
     "metadata": {},
     "output_type": "execute_result"
    }
   ],
   "source": [
    "H.get_eigenvalue(test.get_basis(3))"
   ]
  },
  {
   "cell_type": "code",
   "execution_count": 54,
   "metadata": {},
   "outputs": [
    {
     "name": "stdout",
     "output_type": "stream",
     "text": [
      "System must be initialized. please make sure your path and file with 'initialize(path)'\n",
      "Hardcore boson system\n",
      "Name         : lattice8\n",
      "Saved path   : /Users/jeong/master/xxzchain/test\n",
      "System size  : 8\n",
      "\n",
      "Referenced Basis :   (None means full)\n",
      "\t|- Sector [ 3 -1  0  0] \n",
      "\t-----\n",
      "\n",
      "Defined Operators :\n",
      "\t|- n_i\n",
      "\t|- b_i\n",
      "\t|- b_i_dag\n",
      "\t|- hopping\n",
      "\t|- H\n",
      "\t-----\n",
      "\tHamiltonian  : -----\n",
      "\n",
      "Defined States :\n",
      "\t-----\n",
      "\n"
     ]
    }
   ],
   "source": [
    "test.tree"
   ]
  },
  {
   "cell_type": "code",
   "execution_count": 44,
   "metadata": {},
   "outputs": [
    {
     "data": {
      "text/plain": [
       "array([[ 2850,  2895,  2940,  2985,  3030,  3075,  3120,  3165,  3210,\n",
       "         3255],\n",
       "       [ 7350,  7495,  7640,  7785,  7930,  8075,  8220,  8365,  8510,\n",
       "         8655],\n",
       "       [11850, 12095, 12340, 12585, 12830, 13075, 13320, 13565, 13810,\n",
       "        14055],\n",
       "       [16350, 16695, 17040, 17385, 17730, 18075, 18420, 18765, 19110,\n",
       "        19455],\n",
       "       [20850, 21295, 21740, 22185, 22630, 23075, 23520, 23965, 24410,\n",
       "        24855],\n",
       "       [25350, 25895, 26440, 26985, 27530, 28075, 28620, 29165, 29710,\n",
       "        30255],\n",
       "       [29850, 30495, 31140, 31785, 32430, 33075, 33720, 34365, 35010,\n",
       "        35655],\n",
       "       [34350, 35095, 35840, 36585, 37330, 38075, 38820, 39565, 40310,\n",
       "        41055],\n",
       "       [38850, 39695, 40540, 41385, 42230, 43075, 43920, 44765, 45610,\n",
       "        46455],\n",
       "       [43350, 44295, 45240, 46185, 47130, 48075, 49020, 49965, 50910,\n",
       "        51855]])"
      ]
     },
     "execution_count": 44,
     "metadata": {},
     "output_type": "execute_result"
    }
   ],
   "source": [
    "np.arange(100).reshape(10,-1) @np.arange(100).reshape(10,-1) "
   ]
  },
  {
   "cell_type": "code",
   "execution_count": null,
   "metadata": {},
   "outputs": [],
   "source": []
  },
  {
   "cell_type": "code",
   "execution_count": 13,
   "metadata": {},
   "outputs": [],
   "source": [
    "H.set_name('H')"
   ]
  },
  {
   "cell_type": "code",
   "execution_count": 14,
   "metadata": {},
   "outputs": [
    {
     "name": "stdout",
     "output_type": "stream",
     "text": [
      "System must be initialized. please make sure your path and file with 'initialize(path)'\n",
      "Hardcore boson system\n",
      "Name         : lattice8\n",
      "Saved path   : /Users/jeong/master/xxzchain/test\n",
      "System size  : 8\n",
      "\n",
      "Referenced Basis :   (None means full)\n",
      "\t|- Sector [-1 -1  0  0] \n",
      "\t-----\n",
      "\n",
      "Defined Operators :\n",
      "\t|- n_i\n",
      "\t|- b_i\n",
      "\t|- b_i_dag\n",
      "\t|- hopping\n",
      "\t|- H\n",
      "\t-----\n",
      "\tHamiltonian  : -----\n",
      "\n",
      "Defined States :\n",
      "\t-----\n",
      "\n"
     ]
    }
   ],
   "source": [
    "test.tree"
   ]
  },
  {
   "cell_type": "code",
   "execution_count": 15,
   "metadata": {},
   "outputs": [
    {
     "data": {
      "text/plain": [
       "<__main__.Operator at 0x116990748>"
      ]
     },
     "execution_count": 15,
     "metadata": {},
     "output_type": "execute_result"
    }
   ],
   "source": [
    "test.get_operator(\"H\")"
   ]
  },
  {
   "cell_type": "code",
   "execution_count": 17,
   "metadata": {},
   "outputs": [],
   "source": [
    "a = test.get_basis(4)\n",
    "b = test.get_basis(q=4,k=0)"
   ]
  },
  {
   "cell_type": "code",
   "execution_count": 55,
   "metadata": {},
   "outputs": [],
   "source": [
    "@to_operator(test)\n",
    "def b_i_new(x,i):\n",
    "    if x>>i&1:\n",
    "        return x - (1<<i)\n",
    "    else:\n",
    "        return -1"
   ]
  },
  {
   "cell_type": "code",
   "execution_count": 27,
   "metadata": {},
   "outputs": [
    {
     "data": {
      "text/plain": [
       "[{5: (1+0j)}]"
      ]
     },
     "execution_count": 27,
     "metadata": {},
     "output_type": "execute_result"
    }
   ],
   "source": [
    "b_i_new.index(1).acton([7])"
   ]
  },
  {
   "cell_type": "code",
   "execution_count": 29,
   "metadata": {},
   "outputs": [
    {
     "name": "stdout",
     "output_type": "stream",
     "text": [
      "test/lattice8.hdf5\n",
      "\t/basis : dir\n",
      "\t\t/basis/(-1,-1,0,0) : dir\n",
      "\t\t/basis/(0,-1,0,0) : dir\n",
      "\t\t\taddress\n",
      "\t\t\tperiod\n",
      "\t\t\tstate\n",
      "\t\t/basis/(1,-1,0,0) : dir\n",
      "\t\t\taddress\n",
      "\t\t\tperiod\n",
      "\t\t\tstate\n",
      "\t\t/basis/(2,-1,0,0) : dir\n",
      "\t\t\taddress\n",
      "\t\t\tperiod\n",
      "\t\t\tstate\n",
      "\t\t/basis/(3,-1,0,0) : dir\n",
      "\t\t\taddress\n",
      "\t\t\tperiod\n",
      "\t\t\tstate\n",
      "\t\t/basis/(4,-1,0,0) : dir\n",
      "\t\t\t/basis/(4,-1,0,0)/H : dir\n",
      "\t\t\t\teigenvalue\n",
      "\t\t\t\teigenvector\n",
      "\t\t\taddress\n",
      "\t\t\tperiod\n",
      "\t\t\tstate\n",
      "\t\t/basis/(4,0,0,0) : dir\n",
      "\t\t\taddress\n",
      "\t\t\tdistance\n",
      "\t\t\tperiod\n",
      "\t\t\tstate\n",
      "\t\t\tstate_set\n",
      "\t\t/basis/(4,1,0,0) : dir\n",
      "\t\t\taddress\n",
      "\t\t\tdistance\n",
      "\t\t\tperiod\n",
      "\t\t\tstate\n",
      "\t\t\tstate_set\n",
      "\t\t/basis/(4,2,0,0) : dir\n",
      "\t\t\taddress\n",
      "\t\t\tdistance\n",
      "\t\t\tperiod\n",
      "\t\t\tstate\n",
      "\t\t\tstate_set\n",
      "\t\t/basis/(4,3,0,0) : dir\n",
      "\t\t\taddress\n",
      "\t\t\tdistance\n",
      "\t\t\tperiod\n",
      "\t\t\tstate\n",
      "\t\t\tstate_set\n",
      "\t\t/basis/(4,4,0,0) : dir\n",
      "\t\t\taddress\n",
      "\t\t\tdistance\n",
      "\t\t\tperiod\n",
      "\t\t\tstate\n",
      "\t\t\tstate_set\n",
      "\t\t/basis/(4,5,0,0) : dir\n",
      "\t\t\taddress\n",
      "\t\t\tdistance\n",
      "\t\t\tperiod\n",
      "\t\t\tstate\n",
      "\t\t\tstate_set\n",
      "\t\t/basis/(4,6,0,0) : dir\n",
      "\t\t\taddress\n",
      "\t\t\tdistance\n",
      "\t\t\tperiod\n",
      "\t\t\tstate\n",
      "\t\t\tstate_set\n",
      "\t\t/basis/(4,7,0,0) : dir\n",
      "\t\t\taddress\n",
      "\t\t\tdistance\n",
      "\t\t\tperiod\n",
      "\t\t\tstate\n",
      "\t\t\tstate_set\n",
      "\t\t/basis/(5,-1,0,0) : dir\n",
      "\t\t\taddress\n",
      "\t\t\tperiod\n",
      "\t\t\tstate\n",
      "\t\t/basis/(6,-1,0,0) : dir\n",
      "\t\t\taddress\n",
      "\t\t\tperiod\n",
      "\t\t\tstate\n",
      "\t\t/basis/(7,-1,0,0) : dir\n",
      "\t\t\taddress\n",
      "\t\t\tperiod\n",
      "\t\t\tstate\n",
      "\t/function : dir\n",
      "\t\t/function/b_i : dir\n",
      "\t\t/function/b_i_new : dir\n"
     ]
    }
   ],
   "source": [
    "test.saver.ls(show_all=True)"
   ]
  },
  {
   "cell_type": "code",
   "execution_count": 30,
   "metadata": {},
   "outputs": [],
   "source": [
    "f1 = test.saver['/basis/(4,0,0,0)']"
   ]
  },
  {
   "cell_type": "code",
   "execution_count": 33,
   "metadata": {},
   "outputs": [],
   "source": [
    "d1 = f1['state'][:]"
   ]
  },
  {
   "cell_type": "code",
   "execution_count": 35,
   "metadata": {},
   "outputs": [
    {
     "data": {
      "text/plain": [
       "array([15, 23, 27, 29, 39, 43, 45, 51, 53, 85])"
      ]
     },
     "execution_count": 35,
     "metadata": {},
     "output_type": "execute_result"
    }
   ],
   "source": [
    "d1"
   ]
  },
  {
   "cell_type": "code",
   "execution_count": 36,
   "metadata": {},
   "outputs": [
    {
     "data": {
      "text/plain": [
       "<HDF5 dataset \"test\": shape (1000,), type \"<c16\">"
      ]
     },
     "execution_count": 36,
     "metadata": {},
     "output_type": "execute_result"
    }
   ],
   "source": [
    "f1.create_dataset('test',data = np.arange(1000, dtype = np.complex128))"
   ]
  },
  {
   "cell_type": "code",
   "execution_count": null,
   "metadata": {},
   "outputs": [],
   "source": []
  },
  {
   "cell_type": "code",
   "execution_count": 25,
   "metadata": {},
   "outputs": [
    {
     "name": "stdout",
     "output_type": "stream",
     "text": [
      "System must be initialized. please make sure your path and file with 'initialize(path)'\n",
      "Hardcore boson system\n",
      "Name         : lattice8\n",
      "Saved path   : /Users/jeong/master/xxzchain/test\n",
      "System size  : 8\n",
      "\n",
      "Referenced Basis :   (None means full)\n",
      "\t|- Sector [4 0 0 0] \n",
      "\t-----\n",
      "\n",
      "Defined Operators :\n",
      "\t|- n_i\n",
      "\t|- b_i\n",
      "\t|- b_i_dag\n",
      "\t|- hopping\n",
      "\t|- H\n",
      "\t|- b_i_new\n",
      "\t-----\n",
      "\tHamiltonian  : -----\n",
      "\n",
      "Defined States :\n",
      "\t-----\n",
      "\n"
     ]
    }
   ],
   "source": [
    "test.tree"
   ]
  },
  {
   "cell_type": "code",
   "execution_count": 18,
   "metadata": {},
   "outputs": [
    {
     "name": "stdout",
     "output_type": "stream",
     "text": [
      "Initializing.... it may takes few minutes.\n"
     ]
    },
    {
     "data": {
      "text/plain": [
       "array([-6.17398871e+00, -4.82842712e+00, -4.51881669e+00, -4.22491545e+00,\n",
       "       -4.22491545e+00, -3.38510898e+00, -3.38510898e+00, -3.10277505e+00,\n",
       "       -3.10277505e+00, -2.93185165e+00, -2.93185165e+00, -2.80752066e+00,\n",
       "       -2.80752066e+00, -2.57200120e+00, -2.00000000e+00, -1.71283831e+00,\n",
       "       -1.71283831e+00, -1.57103462e+00, -1.57103462e+00, -1.51763809e+00,\n",
       "       -1.51763809e+00, -1.39069927e+00, -1.14636549e+00, -1.14636549e+00,\n",
       "       -1.11938890e+00, -1.11938890e+00, -1.00000000e+00, -1.00000000e+00,\n",
       "       -4.82361910e-01, -4.82361910e-01, -4.16020848e-01, -4.14213562e-01,\n",
       "       -4.14213562e-01, -4.14213562e-01, -4.14213562e-01, -1.55431340e-01,\n",
       "       -1.55431340e-01, -3.34581151e-16, -2.83248411e-16, -2.81624990e-16,\n",
       "        5.60107372e-16,  3.24404881e-01,  3.24404881e-01,  4.93936040e-01,\n",
       "        8.28427125e-01,  9.31851653e-01,  9.31851653e-01,  1.00000000e+00,\n",
       "        1.00000000e+00,  1.00000000e+00,  1.00000000e+00,  1.21752516e+00,\n",
       "        1.21752516e+00,  1.36422374e+00,  1.36422374e+00,  1.90951597e+00,\n",
       "        2.18991829e+00,  2.24914054e+00,  2.24914054e+00,  2.41421356e+00,\n",
       "        2.41421356e+00,  2.41421356e+00,  2.41421356e+00,  2.67579031e+00,\n",
       "        2.67579031e+00,  3.00000000e+00,  3.00000000e+00,  3.39429417e+00,\n",
       "        3.39429417e+00,  4.47815642e+00])"
      ]
     },
     "execution_count": 18,
     "metadata": {},
     "output_type": "execute_result"
    }
   ],
   "source": [
    "H.get_eigenvalue(a)"
   ]
  },
  {
   "cell_type": "code",
   "execution_count": 21,
   "metadata": {},
   "outputs": [
    {
     "name": "stdout",
     "output_type": "stream",
     "text": [
      "        15 :  |00001111>, |10000111>, |11000011>, |11100001>, |11110000>, |01111000>, |00111100>, |00011110>\n",
      "        23 :  |00010111>, |10001011>, |11000101>, |11100010>, |01110001>, |10111000>, |01011100>, |00101110>\n",
      "        27 :  |00011011>, |10001101>, |11000110>, |01100011>, |10110001>, |11011000>, |01101100>, |00110110>\n",
      "        29 :  |00011101>, |10001110>, |01000111>, |10100011>, |11010001>, |11101000>, |01110100>, |00111010>\n",
      "        39 :  |00100111>, |10010011>, |11001001>, |11100100>, |01110010>, |00111001>, |10011100>, |01001110>\n",
      "        43 :  |00101011>, |10010101>, |11001010>, |01100101>, |10110010>, |01011001>, |10101100>, |01010110>\n",
      "        45 :  |00101101>, |10010110>, |01001011>, |10100101>, |11010010>, |01101001>, |10110100>, |01011010>\n",
      "        51 :  |00110011>, |10011001>, |11001100>, |01100110>\n",
      "        53 :  |00110101>, |10011010>, |01001101>, |10100110>, |01010011>, |10101001>, |11010100>, |01101010>\n",
      "        85 :  |01010101>, |10101010>\n"
     ]
    }
   ],
   "source": [
    "b.print_states(state_set=True)"
   ]
  },
  {
   "cell_type": "code",
   "execution_count": 571,
   "metadata": {},
   "outputs": [
    {
     "data": {
      "text/plain": [
       "array([1., 1., 1., 1., 1., 1., 1., 1., 1., 1., 1., 1., 1., 1., 1.])"
      ]
     },
     "execution_count": 571,
     "metadata": {},
     "output_type": "execute_result"
    }
   ],
   "source": [
    "a=  test.get_basis(4)\n",
    "a.period(np.arange(len(a)))"
   ]
  },
  {
   "cell_type": "code",
   "execution_count": null,
   "metadata": {},
   "outputs": [],
   "source": []
  },
  {
   "cell_type": "code",
   "execution_count": 370,
   "metadata": {},
   "outputs": [
    {
     "name": "stdout",
     "output_type": "stream",
     "text": [
      "        15 :  00001111\n",
      "        45 :  00101101\n",
      "        51 :  00110011\n",
      "        85 :  01010101\n",
      "        23 :  00010111\n",
      "        27 :  00011011\n",
      "        43 :  00101011\n"
     ]
    }
   ],
   "source": [
    "basis.print_states()"
   ]
  },
  {
   "cell_type": "code",
   "execution_count": 373,
   "metadata": {},
   "outputs": [],
   "source": [
    "preset(test)"
   ]
  },
  {
   "cell_type": "code",
   "execution_count": 376,
   "metadata": {},
   "outputs": [],
   "source": [
    "H.set_name('H')"
   ]
  },
  {
   "cell_type": "code",
   "execution_count": 431,
   "metadata": {},
   "outputs": [
    {
     "name": "stdout",
     "output_type": "stream",
     "text": [
      "Initializing.... it may takes few minutes.\n"
     ]
    }
   ],
   "source": [
    "energy=H.get_eigenvalue(test.get_basis(4,0))"
   ]
  },
  {
   "cell_type": "code",
   "execution_count": 438,
   "metadata": {},
   "outputs": [],
   "source": [
    "e_set = H.get_eigenvalue(test.get_basis(q=4,k=0,f=1))"
   ]
  },
  {
   "cell_type": "code",
   "execution_count": 439,
   "metadata": {},
   "outputs": [
    {
     "data": {
      "text/plain": [
       "array([-5.12849407, -2.35348197, -0.72415255, -0.40255777,  0.33909421,\n",
       "        2.14800257,  3.12158959])"
      ]
     },
     "execution_count": 439,
     "metadata": {},
     "output_type": "execute_result"
    }
   ],
   "source": [
    "e_set"
   ]
  },
  {
   "cell_type": "code",
   "execution_count": null,
   "metadata": {},
   "outputs": [],
   "source": []
  },
  {
   "cell_type": "markdown",
   "metadata": {},
   "source": [
    "# Dev"
   ]
  },
  {
   "cell_type": "markdown",
   "metadata": {},
   "source": [
    "### Workspace"
   ]
  },
  {
   "cell_type": "code",
   "execution_count": 9,
   "metadata": {},
   "outputs": [],
   "source": [
    "class Variable(object):\n",
    "    def __init__(self):\n",
    "        self.name  = self.get_self_name()\n",
    "    @property\n",
    "    def tree(self):\n",
    "        return \n",
    "    @tree.getter\n",
    "    def tree(self):\n",
    "        return self.__dict__\n",
    "    def __getitem__(self, key):\n",
    "        return self.__dict__[key]\n",
    "    @classmethod\n",
    "    def get_variables(cls):\n",
    "        glob = globals()\n",
    "        for i in glob:\n",
    "            if isinstance(glob[i],cls):\n",
    "                yield i,glob[i]\n",
    "    \n",
    "    def get_locals(self):\n",
    "        return vars(self)\n",
    "    def get_self_name(self):\n",
    "        for name in globals():\n",
    "            if globals()[name] == self:\n",
    "                return name"
   ]
  },
  {
   "cell_type": "markdown",
   "metadata": {},
   "source": [
    "### Saver"
   ]
  },
  {
   "cell_type": "markdown",
   "metadata": {},
   "source": [
    "$$n(k)= \\frac{1}{L}\\sum_{i,j}{e^{k(i-j)}b^\\dagger_ib_j}$$"
   ]
  },
  {
   "cell_type": "markdown",
   "metadata": {},
   "source": [
    "$$N(k)= \\frac{1}{L}\\sum_{i,j}{e^{k(i-j)}n_in_j}$$"
   ]
  },
  {
   "cell_type": "code",
   "execution_count": 9,
   "metadata": {},
   "outputs": [],
   "source": [
    "test_system = System(20)"
   ]
  },
  {
   "cell_type": "code",
   "execution_count": 10,
   "metadata": {},
   "outputs": [
    {
     "ename": "NameError",
     "evalue": "name 'preset' is not defined",
     "output_type": "error",
     "traceback": [
      "\u001b[0;31m---------------------------------------------------------------------------\u001b[0m",
      "\u001b[0;31mNameError\u001b[0m                                 Traceback (most recent call last)",
      "\u001b[0;32m<ipython-input-10-3b66e6732fe7>\u001b[0m in \u001b[0;36m<module>\u001b[0;34m\u001b[0m\n\u001b[0;32m----> 1\u001b[0;31m \u001b[0mpreset\u001b[0m\u001b[0;34m(\u001b[0m\u001b[0mtest_system\u001b[0m\u001b[0;34m)\u001b[0m\u001b[0;34m\u001b[0m\u001b[0;34m\u001b[0m\u001b[0m\n\u001b[0m",
      "\u001b[0;31mNameError\u001b[0m: name 'preset' is not defined"
     ]
    }
   ],
   "source": [
    "preset(test_system)"
   ]
  },
  {
   "cell_type": "code",
   "execution_count": null,
   "metadata": {},
   "outputs": [],
   "source": []
  },
  {
   "cell_type": "code",
   "execution_count": 15,
   "metadata": {},
   "outputs": [
    {
     "ename": "TypeError",
     "evalue": "unsupported operand type(s) for +: 'NoneType' and 'str'",
     "output_type": "error",
     "traceback": [
      "\u001b[0;31m---------------------------------------------------------------------------\u001b[0m",
      "\u001b[0;31mTypeError\u001b[0m                                 Traceback (most recent call last)",
      "\u001b[0;32m<ipython-input-15-c7a36a85a650>\u001b[0m in \u001b[0;36m<module>\u001b[0;34m\u001b[0m\n\u001b[0;32m----> 1\u001b[0;31m \u001b[0mtest_system\u001b[0m\u001b[0;34m.\u001b[0m\u001b[0msaver\u001b[0m\u001b[0;34m.\u001b[0m\u001b[0mfile\u001b[0m\u001b[0;34m\u001b[0m\u001b[0;34m\u001b[0m\u001b[0m\n\u001b[0m",
      "\u001b[0;32m<ipython-input-8-f37b0fa1a0a1>\u001b[0m in \u001b[0;36mfile\u001b[0;34m(self)\u001b[0m\n\u001b[1;32m     64\u001b[0m     \u001b[0;32mdef\u001b[0m \u001b[0mfile\u001b[0m\u001b[0;34m(\u001b[0m\u001b[0mself\u001b[0m\u001b[0;34m)\u001b[0m\u001b[0;34m:\u001b[0m\u001b[0;34m\u001b[0m\u001b[0;34m\u001b[0m\u001b[0m\n\u001b[1;32m     65\u001b[0m         \u001b[0;32mif\u001b[0m \u001b[0mself\u001b[0m\u001b[0;34m.\u001b[0m\u001b[0m__file\u001b[0m \u001b[0;32mis\u001b[0m \u001b[0;32mNone\u001b[0m\u001b[0;34m:\u001b[0m\u001b[0;34m\u001b[0m\u001b[0;34m\u001b[0m\u001b[0m\n\u001b[0;32m---> 66\u001b[0;31m             \u001b[0mself\u001b[0m\u001b[0;34m.\u001b[0m\u001b[0mopen\u001b[0m\u001b[0;34m(\u001b[0m\u001b[0;34m)\u001b[0m\u001b[0;34m\u001b[0m\u001b[0;34m\u001b[0m\u001b[0m\n\u001b[0m\u001b[1;32m     67\u001b[0m         \u001b[0;32mreturn\u001b[0m \u001b[0mself\u001b[0m\u001b[0;34m.\u001b[0m\u001b[0m__file\u001b[0m\u001b[0;34m\u001b[0m\u001b[0;34m\u001b[0m\u001b[0m\n\u001b[1;32m     68\u001b[0m     \u001b[0;34m@\u001b[0m\u001b[0mproperty\u001b[0m\u001b[0;34m\u001b[0m\u001b[0;34m\u001b[0m\u001b[0m\n",
      "\u001b[0;32m<ipython-input-8-f37b0fa1a0a1>\u001b[0m in \u001b[0;36mopen\u001b[0;34m(self, path)\u001b[0m\n\u001b[1;32m     10\u001b[0m             \u001b[0;32mreturn\u001b[0m\u001b[0;34m\u001b[0m\u001b[0;34m\u001b[0m\u001b[0m\n\u001b[1;32m     11\u001b[0m         \u001b[0;32mif\u001b[0m \u001b[0mpath\u001b[0m \u001b[0;32mis\u001b[0m \u001b[0;32mNone\u001b[0m\u001b[0;34m:\u001b[0m\u001b[0;34m\u001b[0m\u001b[0;34m\u001b[0m\u001b[0m\n\u001b[0;32m---> 12\u001b[0;31m             \u001b[0mself\u001b[0m\u001b[0;34m.\u001b[0m\u001b[0m__file\u001b[0m \u001b[0;34m=\u001b[0m \u001b[0mh5py\u001b[0m\u001b[0;34m.\u001b[0m\u001b[0mFile\u001b[0m\u001b[0;34m(\u001b[0m\u001b[0mself\u001b[0m\u001b[0;34m.\u001b[0m\u001b[0msystem\u001b[0m\u001b[0;34m.\u001b[0m\u001b[0mpath\u001b[0m\u001b[0;34m+\u001b[0m\u001b[0mself\u001b[0m\u001b[0;34m.\u001b[0m\u001b[0msystem\u001b[0m\u001b[0;34m.\u001b[0m\u001b[0mname\u001b[0m\u001b[0;34m+\u001b[0m\u001b[0;34m'.hdf5'\u001b[0m\u001b[0;34m,\u001b[0m\u001b[0;34m'r+'\u001b[0m\u001b[0;34m)\u001b[0m\u001b[0;34m\u001b[0m\u001b[0;34m\u001b[0m\u001b[0m\n\u001b[0m\u001b[1;32m     13\u001b[0m         \u001b[0;32melse\u001b[0m\u001b[0;34m:\u001b[0m\u001b[0;34m\u001b[0m\u001b[0;34m\u001b[0m\u001b[0m\n\u001b[1;32m     14\u001b[0m             \u001b[0mself\u001b[0m\u001b[0;34m.\u001b[0m\u001b[0m__file\u001b[0m \u001b[0;34m=\u001b[0m \u001b[0mh5py\u001b[0m\u001b[0;34m.\u001b[0m\u001b[0mFile\u001b[0m\u001b[0;34m(\u001b[0m\u001b[0mpath\u001b[0m\u001b[0;34m,\u001b[0m \u001b[0;34m'r+'\u001b[0m\u001b[0;34m)\u001b[0m\u001b[0;34m\u001b[0m\u001b[0;34m\u001b[0m\u001b[0m\n",
      "\u001b[0;31mTypeError\u001b[0m: unsupported operand type(s) for +: 'NoneType' and 'str'"
     ]
    }
   ],
   "source": [
    "test_system.saver.file"
   ]
  },
  {
   "cell_type": "code",
   "execution_count": 10,
   "metadata": {},
   "outputs": [
    {
     "name": "stdout",
     "output_type": "stream",
     "text": [
      "Current system saved at \"test/\"\n",
      "Hardcore boson system\n",
      "Name         : lattice20\n",
      "Saved path   : /Users/jeong/master/xxzchain/test\n",
      "System size  : 20\n",
      "\n",
      "Referenced Basis :   (None means full)\n",
      "\t|- Sector [-1 -1  0  0] \n",
      "\t-----\n",
      "\n",
      "Defined Operators :\n",
      "\t-----\n",
      "\tHamiltonian  : -----\n",
      "\n",
      "Defined States :\n",
      "\t-----\n",
      "\n"
     ]
    }
   ],
   "source": [
    "test_system.initialize('test',True)"
   ]
  },
  {
   "cell_type": "code",
   "execution_count": 11,
   "metadata": {},
   "outputs": [
    {
     "name": "stdout",
     "output_type": "stream",
     "text": [
      "Initializing spin conserving sectors of given basis : (-1,-1,0,0)\n",
      "Initializing momentum sectors of given basis : (10,-1,0,0)\n"
     ]
    }
   ],
   "source": [
    "basis = test_system.get_basis(q=10,k=0)"
   ]
  },
  {
   "cell_type": "code",
   "execution_count": 213,
   "metadata": {},
   "outputs": [
    {
     "data": {
      "text/plain": [
       "<Basis sector of lattice size 20 with symmetry factor(Q,K,F,P) = (3,-1,0,0)>"
      ]
     },
     "execution_count": 213,
     "metadata": {},
     "output_type": "execute_result"
    }
   ],
   "source": [
    "basis"
   ]
  },
  {
   "cell_type": "code",
   "execution_count": 203,
   "metadata": {},
   "outputs": [],
   "source": [
    "H = Operator.Null(test_system)\n",
    "for i in range(test_system.size):\n",
    "    H += n_i.index(i)"
   ]
  },
  {
   "cell_type": "code",
   "execution_count": 204,
   "metadata": {},
   "outputs": [],
   "source": [
    "H.set_name('H')"
   ]
  },
  {
   "cell_type": "code",
   "execution_count": 207,
   "metadata": {},
   "outputs": [],
   "source": [
    "test_system.save()"
   ]
  },
  {
   "cell_type": "code",
   "execution_count": 208,
   "metadata": {},
   "outputs": [
    {
     "data": {
      "text/plain": [
       "<__main__.Operator at 0x119515f28>"
      ]
     },
     "execution_count": 208,
     "metadata": {},
     "output_type": "execute_result"
    }
   ],
   "source": [
    "Operator.load(test_system,'H')"
   ]
  },
  {
   "cell_type": "code",
   "execution_count": 148,
   "metadata": {},
   "outputs": [
    {
     "data": {
      "text/plain": [
       "'N00+N01+N02+N03+N04'"
      ]
     },
     "execution_count": 148,
     "metadata": {},
     "output_type": "execute_result"
    }
   ],
   "source": [
    "H._label"
   ]
  },
  {
   "cell_type": "code",
   "execution_count": 152,
   "metadata": {},
   "outputs": [],
   "source": [
    "test_system.set_path('.')"
   ]
  },
  {
   "cell_type": "code",
   "execution_count": 153,
   "metadata": {},
   "outputs": [
    {
     "name": "stdout",
     "output_type": "stream",
     "text": [
      "Current system saved at \"test/\"\n",
      "Hardcore boson system\n",
      "Name         : lattice5\n",
      "Saved path   : /Users/jeong/master/xxzchain/test\n",
      "System size  : 5\n",
      "\n",
      "Referenced Basis :   (None means full)\n",
      "\t|- Sector [-1 -1  0  0] \n",
      "\t-----\n",
      "\n",
      "Defined Operators :\n",
      "\t-----\n",
      "\tHamiltonian  : -----\n",
      "\n",
      "Defined States :\n",
      "\t-----\n",
      "\n"
     ]
    }
   ],
   "source": [
    "test_system.initialize('test',force=True)"
   ]
  },
  {
   "cell_type": "code",
   "execution_count": 130,
   "metadata": {},
   "outputs": [
    {
     "name": "stdout",
     "output_type": "stream",
     "text": [
      "Initializing spin conserving sectors of given basis : (-1,-1,0,0)\n",
      "Initializing momentum sectors of given basis : (2,-1,0,0)\n"
     ]
    }
   ],
   "source": [
    "a = test_system.get_basis(q = 2,k=2)"
   ]
  },
  {
   "cell_type": "code",
   "execution_count": 131,
   "metadata": {},
   "outputs": [],
   "source": [
    "a = test_system.get_basis(q = 2,k=3)"
   ]
  },
  {
   "cell_type": "code",
   "execution_count": null,
   "metadata": {},
   "outputs": [],
   "source": []
  },
  {
   "cell_type": "code",
   "execution_count": 113,
   "metadata": {},
   "outputs": [
    {
     "name": "stdout",
     "output_type": "stream",
     "text": [
      "         1 :00001\n"
     ]
    }
   ],
   "source": [
    "a.print_states()"
   ]
  },
  {
   "cell_type": "code",
   "execution_count": 16,
   "metadata": {},
   "outputs": [],
   "source": [
    "import xxzchain"
   ]
  },
  {
   "cell_type": "code",
   "execution_count": null,
   "metadata": {},
   "outputs": [],
   "source": []
  },
  {
   "cell_type": "code",
   "execution_count": 19,
   "metadata": {},
   "outputs": [],
   "source": [
    "a = xxzchain.System(5)"
   ]
  },
  {
   "cell_type": "code",
   "execution_count": 21,
   "metadata": {},
   "outputs": [
    {
     "name": "stdout",
     "output_type": "stream",
     "text": [
      "Current system saved at \"test/\"\n",
      "Hardcore boson system\n",
      "Name         : lattice5\n",
      "Saved path   : /Users/jeong/master/xxzchain/test\n",
      "System size  : 5\n",
      "\n",
      "Basis sector : Full Sector\n",
      "Referenced Basis :   (None means full)\n",
      "\t-----\n",
      "\n",
      "Defined Operators :\n",
      "\t-----\n",
      "Hamiltonian  : -----\n",
      "\n",
      "Defined States :\n",
      "\t-----\n",
      "\n"
     ]
    }
   ],
   "source": [
    "a.initialize('test')"
   ]
  },
  {
   "cell_type": "code",
   "execution_count": 23,
   "metadata": {},
   "outputs": [],
   "source": [
    "b= a.get_basis(4,1)"
   ]
  },
  {
   "cell_type": "code",
   "execution_count": 25,
   "metadata": {},
   "outputs": [
    {
     "name": "stdout",
     "output_type": "stream",
     "text": [
      "         0 :00000\n",
      "         1 :00001\n",
      "         2 :00010\n",
      "         3 :00011\n",
      "         4 :00100\n",
      "         5 :00101\n",
      "         6 :00110\n",
      "         7 :00111\n",
      "         8 :01000\n",
      "         9 :01001\n",
      "        10 :01010\n",
      "        11 :01011\n",
      "        12 :01100\n",
      "        13 :01101\n",
      "        14 :01110\n",
      "        15 :01111\n",
      "        16 :10000\n",
      "        17 :10001\n",
      "        18 :10010\n",
      "        19 :10011\n",
      "        20 :10100\n",
      "        21 :10101\n",
      "        22 :10110\n",
      "        23 :10111\n",
      "        24 :11000\n",
      "        25 :11001\n",
      "        26 :11010\n",
      "        27 :11011\n",
      "        28 :11100\n",
      "        29 :11101\n",
      "        30 :11110\n",
      "        31 :11111\n"
     ]
    }
   ],
   "source": [
    "b.print_states(True)"
   ]
  },
  {
   "cell_type": "code",
   "execution_count": null,
   "metadata": {},
   "outputs": [],
   "source": []
  },
  {
   "cell_type": "code",
   "execution_count": 14,
   "metadata": {},
   "outputs": [
    {
     "name": "stdout",
     "output_type": "stream",
     "text": [
      "./lattice5.hdf5\n",
      "\t/basis : dir\n",
      "\t\t/basis/(0,-1,0,0) : dir\n",
      "\t\t\taddress\n",
      "\t\t\tperiod\n",
      "\t\t\tstate\n",
      "\t\t/basis/(1,-1,0,0) : dir\n",
      "\t\t\taddress\n",
      "\t\t\tperiod\n",
      "\t\t\tstate\n",
      "\t\t/basis/(2,-1,0,0) : dir\n",
      "\t\t\taddress\n",
      "\t\t\tperiod\n",
      "\t\t\tstate\n",
      "\t\t/basis/(3,-1,0,0) : dir\n",
      "\t\t\taddress\n",
      "\t\t\tperiod\n",
      "\t\t\tstate\n",
      "\t\t/basis/(4,-1,0,0) : dir\n",
      "\t\t\taddress\n",
      "\t\t\tperiod\n",
      "\t\t\tstate\n",
      "\t\t/basis/(4,0,0,0) : dir\n",
      "\t\t\taddress\n",
      "\t\t\tdistance\n",
      "\t\t\tperiod\n",
      "\t\t\tstate\n",
      "\t\t/basis/(4,1,0,0) : dir\n",
      "\t\t\taddress\n",
      "\t\t\tdistance\n",
      "\t\t\tperiod\n",
      "\t\t\tstate\n",
      "\t\t/basis/(4,2,0,0) : dir\n",
      "\t\t\taddress\n",
      "\t\t\tdistance\n",
      "\t\t\tperiod\n",
      "\t\t\tstate\n",
      "\t\t/basis/(4,3,0,0) : dir\n",
      "\t\t\taddress\n",
      "\t\t\tdistance\n",
      "\t\t\tperiod\n",
      "\t\t\tstate\n",
      "\t\t/basis/(4,4,0,0) : dir\n",
      "\t\t\taddress\n",
      "\t\t\tdistance\n",
      "\t\t\tperiod\n",
      "\t\t\tstate\n"
     ]
    }
   ],
   "source": [
    "a.saver.ls(show_all=True)"
   ]
  },
  {
   "cell_type": "code",
   "execution_count": 229,
   "metadata": {},
   "outputs": [],
   "source": [
    "b= a.initializer.K(a.get_basis(q=2))"
   ]
  },
  {
   "cell_type": "code",
   "execution_count": 71,
   "metadata": {},
   "outputs": [
    {
     "data": {
      "text/plain": [
       "[('H', b'Null'), ('name', b'lattice5'), ('size', 5)]"
      ]
     },
     "execution_count": 71,
     "metadata": {},
     "output_type": "execute_result"
    }
   ],
   "source": [
    "list(a.saver.attrs.items())"
   ]
  },
  {
   "cell_type": "code",
   "execution_count": 10,
   "metadata": {},
   "outputs": [],
   "source": [
    "b=  h5py.File('test/lattice5.hdf5','w')"
   ]
  },
  {
   "cell_type": "code",
   "execution_count": 11,
   "metadata": {},
   "outputs": [],
   "source": [
    "b.close()"
   ]
  },
  {
   "cell_type": "code",
   "execution_count": 32,
   "metadata": {},
   "outputs": [],
   "source": [
    "del a"
   ]
  },
  {
   "cell_type": "markdown",
   "metadata": {},
   "source": [
    "### Initializer"
   ]
  },
  {
   "cell_type": "markdown",
   "metadata": {},
   "source": [
    "***"
   ]
  },
  {
   "cell_type": "code",
   "execution_count": null,
   "metadata": {},
   "outputs": [],
   "source": []
  },
  {
   "cell_type": "code",
   "execution_count": null,
   "metadata": {},
   "outputs": [],
   "source": []
  },
  {
   "cell_type": "code",
   "execution_count": 10,
   "metadata": {},
   "outputs": [],
   "source": [
    "import xxzchain as xxz\n",
    "\n",
    "test.system = xxz.System(5)\n",
    "xxz.preset(test.system)\n",
    "\n",
    "test.H =Operator.Null()\n",
    "for i in range(test.system.size):\n",
    "    test.H = "
   ]
  },
  {
   "cell_type": "code",
   "execution_count": 11,
   "metadata": {},
   "outputs": [
    {
     "data": {
      "text/plain": [
       "<__main__.Operator at 0x21737b15b00>"
      ]
     },
     "execution_count": 11,
     "metadata": {},
     "output_type": "execute_result"
    }
   ],
   "source": [
    "n_i"
   ]
  },
  {
   "cell_type": "code",
   "execution_count": 531,
   "metadata": {},
   "outputs": [
    {
     "name": "stdout",
     "output_type": "stream",
     "text": [
      "Current system saved at \"test\"\n",
      "Hardcore boson system\n",
      "Name         : lattice10\n",
      "Saved path   : C:\\Users\\jeong\\master\\xxzchain\\test\\\n",
      "System size  : 10\n",
      "\n",
      "Basis sector : Particle number conserved(Q) with total Momentum(K) sector\n",
      "Referenced Basis :   (None means full)\n",
      "\t-----\n",
      "\n",
      "Defined Operators :\n",
      "\t|- n_i\n",
      "\t|- b_i\n",
      "\t|- b_i_dag\n",
      "\t|- hopping\n",
      "\t-----\n",
      "Hamiltonian  : -----\n",
      "\n",
      "Defined States :\n",
      "\t-----\n",
      "\n"
     ]
    }
   ],
   "source": [
    "test = System(10,method='K')\n",
    "preset(test)\n",
    "test.initialize('test',force =True)\n",
    "basis = test.get_basis(5,0)"
   ]
  },
  {
   "cell_type": "code",
   "execution_count": 358,
   "metadata": {},
   "outputs": [],
   "source": [
    "n = {}\n",
    "for k in range(test.size):\n",
    "    n[k] = Operator.Null(test)\n",
    "    for i in range(test.size):\n",
    "        for j in range(test.size):\n",
    "            n[k] += 1/test.size*np.exp(-2j*np.pi/test.size*k*(i-j))*b_i_dag.index(i)@b_i.index(j)"
   ]
  },
  {
   "cell_type": "code",
   "execution_count": 359,
   "metadata": {},
   "outputs": [],
   "source": [
    "N = {}\n",
    "for k in range(test.size):\n",
    "    N[k] = Operator.Null(test)\n",
    "    for i in range(test.size):\n",
    "        for j in range(test.size):\n",
    "            N[k] += 1/test.size*np.exp(-2j*np.pi/test.size*k*(i-j))*n_i.index(i)@n_i.index(j)"
   ]
  },
  {
   "cell_type": "code",
   "execution_count": 252,
   "metadata": {},
   "outputs": [
    {
     "data": {
      "text/plain": [
       "array([ 0.2      +0.j        ,  0.0618034-0.1902113j ,\n",
       "       -0.1618034-0.11755705j, -0.1618034+0.11755705j,\n",
       "        0.0618034+0.1902113j ,  0.0618034+0.1902113j ,\n",
       "        0.2      +0.j        ,  0.0618034-0.1902113j ,\n",
       "       -0.1618034-0.11755705j, -0.1618034+0.11755705j,\n",
       "       -0.1618034+0.11755705j,  0.0618034+0.1902113j ,\n",
       "        0.2      +0.j        ,  0.0618034-0.1902113j ,\n",
       "       -0.1618034-0.11755705j, -0.1618034-0.11755705j,\n",
       "       -0.1618034+0.11755705j,  0.0618034+0.1902113j ,\n",
       "        0.2      +0.j        ,  0.0618034-0.1902113j ,\n",
       "        0.0618034-0.1902113j , -0.1618034-0.11755705j,\n",
       "       -0.1618034+0.11755705j,  0.0618034+0.1902113j ,\n",
       "        0.2      +0.j        ])"
      ]
     },
     "execution_count": 252,
     "metadata": {},
     "output_type": "execute_result"
    }
   ],
   "source": [
    "N[4].coef"
   ]
  },
  {
   "cell_type": "code",
   "execution_count": 253,
   "metadata": {},
   "outputs": [],
   "source": [
    "a = b_i_dag.index(1)@b_i.index(2)"
   ]
  },
  {
   "cell_type": "code",
   "execution_count": 360,
   "metadata": {},
   "outputs": [],
   "source": [
    "for k in n:\n",
    "    n[k].set_name('momentum ({}*pi)'.format(2*k/test.size if k*2<test.size else -2*(test.size-k)/test.size))"
   ]
  },
  {
   "cell_type": "code",
   "execution_count": 307,
   "metadata": {},
   "outputs": [
    {
     "data": {
      "text/plain": [
       "'momentum (0.2857142857142857*pi)'"
      ]
     },
     "execution_count": 307,
     "metadata": {},
     "output_type": "execute_result"
    }
   ],
   "source": [
    "n[3].name"
   ]
  },
  {
   "cell_type": "code",
   "execution_count": 361,
   "metadata": {},
   "outputs": [
    {
     "name": "stdout",
     "output_type": "stream",
     "text": [
      "Hardcore boson system\n",
      "Name         : lattice10\n",
      "Saved path   : C:\\Users\\jeong\\master\\xxzchain\\test\\\n",
      "System size  : 10\n",
      "\n",
      "Basis sector : Particle number conserved(Q) with total Momentum(K) sector\n",
      "Referenced Basis :   (None means full)\n",
      "\t|- Sector (5, 0) \n",
      "\t-----\n",
      "\n",
      "Defined Operators :\n",
      "\t|- n_i\n",
      "\t|- b_i\n",
      "\t|- b_i_dag\n",
      "\t|- hopping\n",
      "\t|- momentum (0.0*pi)\n",
      "\t|- momentum (0.2*pi)\n",
      "\t|- momentum (0.4*pi)\n",
      "\t|- momentum (0.6*pi)\n",
      "\t|- momentum (0.8*pi)\n",
      "\t|- momentum (-1.0*pi)\n",
      "\t|- momentum (-0.8*pi)\n",
      "\t|- momentum (-0.6*pi)\n",
      "\t|- momentum (-0.4*pi)\n",
      "\t|- momentum (-0.2*pi)\n",
      "\t-----\n",
      "Hamiltonian  : -----\n",
      "\n",
      "Defined States :\n",
      "\t-----\n",
      "\n"
     ]
    }
   ],
   "source": [
    "test.tree"
   ]
  },
  {
   "cell_type": "code",
   "execution_count": 362,
   "metadata": {},
   "outputs": [],
   "source": [
    "H_ini = Operator.Null(test)\n",
    "t = 2.0\n",
    "V = 1.0\n",
    "t_= 1.0\n",
    "V_ = 1.0\n",
    "for i in range(test.size):\n",
    "    H_ini+= -t*hopping.index(i,i+1)+V*(n_i.index(i)-1/2)@(n_i.index(i+1)-1/2)\n",
    "    H_ini+= -t_*hopping.index(i,i+2)+V_*(n_i.index(i)-1/2)@(n_i.index(i+2)-1/2)"
   ]
  },
  {
   "cell_type": "code",
   "execution_count": 363,
   "metadata": {},
   "outputs": [],
   "source": [
    "H_fin = Operator.Null(test)\n",
    "t = 1.0\n",
    "V = 1.0\n",
    "t_= 1.0\n",
    "V_ = 1.0\n",
    "for i in range(test.size):\n",
    "    H_fin+= -t*hopping.index(i,i+1)+V*(n_i.index(i)-1/2)@(n_i.index(i+1)-1/2)\n",
    "    H_fin+= -t_*hopping.index(i,i+2)+V_*(n_i.index(i)-1/2)@(n_i.index(i+2)-1/2)"
   ]
  },
  {
   "cell_type": "code",
   "execution_count": 364,
   "metadata": {},
   "outputs": [],
   "source": [
    "H_fin.set_name('H_fin')"
   ]
  },
  {
   "cell_type": "code",
   "execution_count": 365,
   "metadata": {},
   "outputs": [],
   "source": [
    "H_ini.set_name('H_ini')"
   ]
  },
  {
   "cell_type": "code",
   "execution_count": 366,
   "metadata": {},
   "outputs": [],
   "source": [
    "def partition(H):\n",
    "    global T\n",
    "    return np.exp(-H/T)"
   ]
  },
  {
   "cell_type": "code",
   "execution_count": 367,
   "metadata": {},
   "outputs": [],
   "source": [
    "sevens = [test.get_basis(5,i) for i in range(test.size)]"
   ]
  },
  {
   "cell_type": "code",
   "execution_count": 353,
   "metadata": {},
   "outputs": [
    {
     "data": {
      "text/plain": [
       "array(-1)"
      ]
     },
     "execution_count": 353,
     "metadata": {},
     "output_type": "execute_result"
    }
   ],
   "source": [
    "sevens[0].period(4567112)"
   ]
  },
  {
   "cell_type": "code",
   "execution_count": 610,
   "metadata": {},
   "outputs": [
    {
     "name": "stdout",
     "output_type": "stream",
     "text": [
      "Current system saved at \"test\"\n",
      "Hardcore boson system\n",
      "Name         : lattice5\n",
      "Saved path   : C:\\Users\\jeong\\master\\xxzchain\\test\\\n",
      "System size  : 5\n",
      "\n",
      "Basis sector : Particle number conserved(Q) with total Momentum(K) sector\n",
      "Referenced Basis :   (None means full)\n",
      "\t-----\n",
      "\n",
      "Defined Operators :\n",
      "\t|- n_i\n",
      "\t|- b_i\n",
      "\t|- b_i_dag\n",
      "\t|- hopping\n",
      "\t-----\n",
      "Hamiltonian  : -----\n",
      "\n",
      "Defined States :\n",
      "\t-----\n",
      "\n"
     ]
    }
   ],
   "source": [
    "test = System(5,method='K')\n",
    "preset(test)\n",
    "test.initialize('test',force =True)\n",
    "basis = test.get_basis(2,0)"
   ]
  },
  {
   "cell_type": "code",
   "execution_count": 611,
   "metadata": {},
   "outputs": [],
   "source": [
    "H_ini = Operator.Null(test)\n",
    "t = 2.0\n",
    "V = 1.0\n",
    "t_= 1.0\n",
    "V_ = 1.0\n",
    "for i in range(test.size):\n",
    "    H_ini+= -t*hopping.index(i,i+1)+V*(n_i.index(i)-1/2)@(n_i.index(i+1)-1/2)\n",
    "    H_ini+= -t_*hopping.index(i,i+2)+V_*(n_i.index(i)-1/2)@(n_i.index(i+2)-1/2)\n",
    "H_ini.set_name(\"H_ini\")"
   ]
  },
  {
   "cell_type": "code",
   "execution_count": 511,
   "metadata": {},
   "outputs": [],
   "source": [
    "a = test.get_basis(3,0)"
   ]
  },
  {
   "cell_type": "code",
   "execution_count": 593,
   "metadata": {},
   "outputs": [
    {
     "name": "stdout",
     "output_type": "stream",
     "text": [
      "         7 :000111\n",
      "        11 :001011\n",
      "        13 :001101\n",
      "        21 :010101\n"
     ]
    }
   ],
   "source": [
    "test.get_basis(3,0).print_states(True)"
   ]
  },
  {
   "cell_type": "code",
   "execution_count": 513,
   "metadata": {},
   "outputs": [],
   "source": [
    "a._finit()"
   ]
  },
  {
   "cell_type": "code",
   "execution_count": 514,
   "metadata": {},
   "outputs": [
    {
     "data": {
      "text/plain": [
       "{-1: (-10+0j),\n",
       " 7: (0.5+0j),\n",
       " 13: (-1+0j),\n",
       " 11: (-2+0j),\n",
       " 19: (-1+0j),\n",
       " 38: (-1+0j),\n",
       " 70: (-2+0j),\n",
       " 69: (-1+0j)}"
      ]
     },
     "execution_count": 514,
     "metadata": {},
     "output_type": "execute_result"
    }
   ],
   "source": [
    "H_ini.acton(a.state)[0]"
   ]
  },
  {
   "cell_type": "code",
   "execution_count": 515,
   "metadata": {},
   "outputs": [
    {
     "name": "stdout",
     "output_type": "stream",
     "text": [
      "[0 2 1 3 3 2 1]\n",
      "[1 0 2 0 3 2 4 4 3]\n",
      "[0 2 1 0 3 4 4 1 3]\n",
      "[3 1 4 3 0 1 2 0 3 4 2]\n",
      "[1 4 3 3 2 4 1 2 4]\n"
     ]
    }
   ],
   "source": [
    "for i, result in enumerate(H_ini.acton(a.state)):\n",
    "    origin = np.array([i for i in result if i>0])\n",
    "    print(a.convert(origin))"
   ]
  },
  {
   "cell_type": "code",
   "execution_count": 516,
   "metadata": {},
   "outputs": [
    {
     "ename": "TypeError",
     "evalue": "_convert() missing 1 required positional argument: 'state'",
     "output_type": "error",
     "traceback": [
      "\u001b[1;31m---------------------------------------------------------------------------\u001b[0m",
      "\u001b[1;31mTypeError\u001b[0m                                 Traceback (most recent call last)",
      "\u001b[1;32m<ipython-input-516-66d64f649af4>\u001b[0m in \u001b[0;36m<module>\u001b[1;34m\u001b[0m\n\u001b[1;32m----> 1\u001b[1;33m \u001b[0ma\u001b[0m\u001b[1;33m.\u001b[0m\u001b[0mconvert\u001b[0m\u001b[1;33m(\u001b[0m\u001b[1;33m)\u001b[0m\u001b[1;33m\u001b[0m\u001b[1;33m\u001b[0m\u001b[0m\n\u001b[0m",
      "\u001b[1;32m~\\Anaconda3\\lib\\site-packages\\numpy\\lib\\function_base.py\u001b[0m in \u001b[0;36m__call__\u001b[1;34m(self, *args, **kwargs)\u001b[0m\n\u001b[0;32m   2089\u001b[0m             \u001b[0mvargs\u001b[0m\u001b[1;33m.\u001b[0m\u001b[0mextend\u001b[0m\u001b[1;33m(\u001b[0m\u001b[1;33m[\u001b[0m\u001b[0mkwargs\u001b[0m\u001b[1;33m[\u001b[0m\u001b[0m_n\u001b[0m\u001b[1;33m]\u001b[0m \u001b[1;32mfor\u001b[0m \u001b[0m_n\u001b[0m \u001b[1;32min\u001b[0m \u001b[0mnames\u001b[0m\u001b[1;33m]\u001b[0m\u001b[1;33m)\u001b[0m\u001b[1;33m\u001b[0m\u001b[1;33m\u001b[0m\u001b[0m\n\u001b[0;32m   2090\u001b[0m \u001b[1;33m\u001b[0m\u001b[0m\n\u001b[1;32m-> 2091\u001b[1;33m         \u001b[1;32mreturn\u001b[0m \u001b[0mself\u001b[0m\u001b[1;33m.\u001b[0m\u001b[0m_vectorize_call\u001b[0m\u001b[1;33m(\u001b[0m\u001b[0mfunc\u001b[0m\u001b[1;33m=\u001b[0m\u001b[0mfunc\u001b[0m\u001b[1;33m,\u001b[0m \u001b[0margs\u001b[0m\u001b[1;33m=\u001b[0m\u001b[0mvargs\u001b[0m\u001b[1;33m)\u001b[0m\u001b[1;33m\u001b[0m\u001b[1;33m\u001b[0m\u001b[0m\n\u001b[0m\u001b[0;32m   2092\u001b[0m \u001b[1;33m\u001b[0m\u001b[0m\n\u001b[0;32m   2093\u001b[0m     \u001b[1;32mdef\u001b[0m \u001b[0m_get_ufunc_and_otypes\u001b[0m\u001b[1;33m(\u001b[0m\u001b[0mself\u001b[0m\u001b[1;33m,\u001b[0m \u001b[0mfunc\u001b[0m\u001b[1;33m,\u001b[0m \u001b[0margs\u001b[0m\u001b[1;33m)\u001b[0m\u001b[1;33m:\u001b[0m\u001b[1;33m\u001b[0m\u001b[1;33m\u001b[0m\u001b[0m\n",
      "\u001b[1;32m~\\Anaconda3\\lib\\site-packages\\numpy\\lib\\function_base.py\u001b[0m in \u001b[0;36m_vectorize_call\u001b[1;34m(self, func, args)\u001b[0m\n\u001b[0;32m   2157\u001b[0m             \u001b[0mres\u001b[0m \u001b[1;33m=\u001b[0m \u001b[0mself\u001b[0m\u001b[1;33m.\u001b[0m\u001b[0m_vectorize_call_with_signature\u001b[0m\u001b[1;33m(\u001b[0m\u001b[0mfunc\u001b[0m\u001b[1;33m,\u001b[0m \u001b[0margs\u001b[0m\u001b[1;33m)\u001b[0m\u001b[1;33m\u001b[0m\u001b[1;33m\u001b[0m\u001b[0m\n\u001b[0;32m   2158\u001b[0m         \u001b[1;32melif\u001b[0m \u001b[1;32mnot\u001b[0m \u001b[0margs\u001b[0m\u001b[1;33m:\u001b[0m\u001b[1;33m\u001b[0m\u001b[1;33m\u001b[0m\u001b[0m\n\u001b[1;32m-> 2159\u001b[1;33m             \u001b[0mres\u001b[0m \u001b[1;33m=\u001b[0m \u001b[0mfunc\u001b[0m\u001b[1;33m(\u001b[0m\u001b[1;33m)\u001b[0m\u001b[1;33m\u001b[0m\u001b[1;33m\u001b[0m\u001b[0m\n\u001b[0m\u001b[0;32m   2160\u001b[0m         \u001b[1;32melse\u001b[0m\u001b[1;33m:\u001b[0m\u001b[1;33m\u001b[0m\u001b[1;33m\u001b[0m\u001b[0m\n\u001b[0;32m   2161\u001b[0m             \u001b[0mufunc\u001b[0m\u001b[1;33m,\u001b[0m \u001b[0motypes\u001b[0m \u001b[1;33m=\u001b[0m \u001b[0mself\u001b[0m\u001b[1;33m.\u001b[0m\u001b[0m_get_ufunc_and_otypes\u001b[0m\u001b[1;33m(\u001b[0m\u001b[0mfunc\u001b[0m\u001b[1;33m=\u001b[0m\u001b[0mfunc\u001b[0m\u001b[1;33m,\u001b[0m \u001b[0margs\u001b[0m\u001b[1;33m=\u001b[0m\u001b[0margs\u001b[0m\u001b[1;33m)\u001b[0m\u001b[1;33m\u001b[0m\u001b[1;33m\u001b[0m\u001b[0m\n",
      "\u001b[1;31mTypeError\u001b[0m: _convert() missing 1 required positional argument: 'state'"
     ]
    }
   ],
   "source": [
    "a.convert()"
   ]
  },
  {
   "cell_type": "code",
   "execution_count": 517,
   "metadata": {},
   "outputs": [
    {
     "name": "stdout",
     "output_type": "stream",
     "text": [
      "         7 :0000111\n",
      "        11 :0001011\n",
      "        13 :0001101\n",
      "        19 :0010011\n",
      "        21 :0010101\n"
     ]
    }
   ],
   "source": [
    "a.print_states(True)"
   ]
  },
  {
   "cell_type": "code",
   "execution_count": 525,
   "metadata": {},
   "outputs": [
    {
     "data": {
      "text/plain": [
       "array(7)"
      ]
     },
     "execution_count": 525,
     "metadata": {},
     "output_type": "execute_result"
    }
   ],
   "source": [
    "a.period(4)"
   ]
  },
  {
   "cell_type": "code",
   "execution_count": 527,
   "metadata": {},
   "outputs": [
    {
     "data": {
      "text/plain": [
       "5"
      ]
     },
     "execution_count": 527,
     "metadata": {},
     "output_type": "execute_result"
    }
   ],
   "source": [
    "len(H_ini.acton(a.state))"
   ]
  },
  {
   "cell_type": "code",
   "execution_count": 530,
   "metadata": {},
   "outputs": [
    {
     "name": "stdout",
     "output_type": "stream",
     "text": [
      "[0 2 1 3 3 2 1]\n",
      "[0 0 0 0 6 1 1]\n",
      "[7 7 7 7 7 7 7]\n",
      "7\n",
      "[1 0 2 0 3 2 4 4 3]\n",
      "[0 6 0 0 0 2 6 1 1]\n",
      "[7 7 7 7 7 7 7 7 7]\n",
      "7\n",
      "[0 2 1 0 3 4 4 1 3]\n",
      "[6 0 0 0 4 0 2 5 5]\n",
      "[7 7 7 7 7 7 7 7 7]\n",
      "7\n",
      "[3 1 4 3 0 1 2 0 3 4 2]\n",
      "[0 6 0 4 0 0 2 1 3 3 3]\n",
      "[7 7 7 7 7 7 7 7 7 7 7]\n",
      "7\n",
      "[1 4 3 3 2 4 1 2 4]\n",
      "[6 0 0 4 0 2 1 5 5]\n",
      "[7 7 7 7 7 7 7 7 7]\n",
      "7\n"
     ]
    }
   ],
   "source": [
    "for i, result in enumerate(H_ini.acton(a.state)):\n",
    "    origin = np.array([st for st in result if st>0])\n",
    "    print(a.convert(origin))\n",
    "    value = np.array([result[st] for st in result if not st<0])\n",
    "    target = a.convert(origin)\n",
    "    dist = a.distance(origin)\n",
    "    print(dist)\n",
    "    period = a.period(target)\n",
    "    print(period)\n",
    "    operiod =  a.period(i)\n",
    "    print(operiod)\n",
    "    angle  = a.K * dist/test.size\n",
    "    matrix[target*matsize + i] += value*np.sqrt(period/basis.period(states[i]))*np.exp(angle*1j)"
   ]
  },
  {
   "cell_type": "markdown",
   "metadata": {},
   "source": [
    "'''return matrix form of Operator as given basis'''\n",
    "        if self.__initial == (basis.Q, basis.K):\n",
    "            if  not self.matrix is None: return self.matrix\n",
    "        ############################# load must be implemented\n",
    "        if self.system.get_method ==2:\n",
    "            basis._finit()\n",
    "        states = basis.state\n",
    "        matsize = len(states)\n",
    "        dtype = self.system.Odtype\n",
    "        K = False\n",
    "        if not (basis.K is None):\n",
    "            K = True\n",
    "        matrix = np.zeros([matsize**2],dtype = dtype)\n",
    "        \n",
    "        self.__initial = (basis.Q,basis.K)\n",
    "        for i, result in enumerate(self.acton(states)):\n",
    "            \n",
    "            origin = np.array([st for st in result if not st<0])\n",
    "            if len(origin)== 0 : continue\n",
    "            \n",
    "            value = np.array([result[st] for st in result if not st<0])\n",
    "            target = basis.convert(origin)\n",
    "            if K:\n",
    "                dist = basis.distance(origin)\n",
    "                period = basis.period(target)\n",
    "                angle  = basis.K * dist/self.system.size\n",
    "                matrix[target*matsize + i] += value*np.sqrt(period/basis.period(states[i]))*np.exp(angle*1j)\n",
    "            else:\n",
    "                matrix[target*matsize + i] += value\n",
    "                \n",
    "        if not K:\n",
    "            matrix = matrix.real\n",
    "        self.matrix = matrix.reshape(matsize,matsize)\n",
    "        return self.matrix"
   ]
  },
  {
   "cell_type": "code",
   "execution_count": 544,
   "metadata": {},
   "outputs": [],
   "source": [
    "a = [i for i in H_ini.acton(test.get_basis(7,0).state)[0] if i>=0]"
   ]
  },
  {
   "cell_type": "code",
   "execution_count": 549,
   "metadata": {},
   "outputs": [
    {
     "data": {
      "text/plain": [
       "array([ 0, 24, 12, 72, 12, 72, 60])"
      ]
     },
     "execution_count": 549,
     "metadata": {},
     "output_type": "execute_result"
    }
   ],
   "source": [
    "test.get_basis(7,0).convert(a)*12+0"
   ]
  },
  {
   "cell_type": "code",
   "execution_count": 653,
   "metadata": {},
   "outputs": [
    {
     "name": "stdout",
     "output_type": "stream",
     "text": [
      "Current system saved at \"test\"\n",
      "Hardcore boson system\n",
      "Name         : lattice15\n",
      "Saved path   : C:\\Users\\jeong\\master\\xxzchain\\test\\\n",
      "System size  : 15\n",
      "\n",
      "Basis sector : Particle number conserved(Q) with total Momentum(K) sector\n",
      "Referenced Basis :   (None means full)\n",
      "\t-----\n",
      "\n",
      "Defined Operators :\n",
      "\t|- n_i\n",
      "\t|- b_i\n",
      "\t|- b_i_dag\n",
      "\t|- hopping\n",
      "\t-----\n",
      "Hamiltonian  : -----\n",
      "\n",
      "Defined States :\n",
      "\t-----\n",
      "\n"
     ]
    }
   ],
   "source": [
    "test = System(15,method='K')\n",
    "preset(test)\n",
    "test.initialize('test',force =True)\n",
    "basis = test.get_basis(2,0)"
   ]
  },
  {
   "cell_type": "code",
   "execution_count": 654,
   "metadata": {},
   "outputs": [],
   "source": [
    "H_ini = Operator.Null(test)\n",
    "t = 0.5\n",
    "V = 2.0\n",
    "t_= 0.24\n",
    "V_ = 0.24\n",
    "for i in range(test.size):\n",
    "    H_ini+= -t*hopping.index(i,i+1)+V*(n_i.index(i)-1/2)@(n_i.index(i+1)-1/2)\n",
    "    H_ini+= -t_*hopping.index(i,i+2)+V_*(n_i.index(i)-1/2)@(n_i.index(i+2)-1/2)\n",
    "H_ini.set_name(\"H_ini\")"
   ]
  },
  {
   "cell_type": "code",
   "execution_count": 655,
   "metadata": {},
   "outputs": [],
   "source": [
    "H_fin = Operator.Null(test)\n",
    "t = 1.0\n",
    "V = 1.0\n",
    "t_= 0.24\n",
    "V_ = 0.24\n",
    "for i in range(test.size):\n",
    "    H_fin += -t*hopping.index(i,i+1)+V*(n_i.index(i)-1/2)@(n_i.index(i+1)-1/2)\n",
    "    H_fin += -t_*hopping.index(i,i+2)+V_*(n_i.index(i)-1/2)@(n_i.index(i+2)-1/2)\n",
    "H_fin.set_name(\"H_fin\")"
   ]
  },
  {
   "cell_type": "code",
   "execution_count": 656,
   "metadata": {},
   "outputs": [
    {
     "name": "stdout",
     "output_type": "stream",
     "text": [
      "Initializing.... it may takes few minutes.\n",
      "Initializing.... it may takes few minutes.\n",
      "Initializing.... it may takes few minutes.\n",
      "Initializing.... it may takes few minutes.\n",
      "Initializing.... it may takes few minutes.\n",
      "Initializing.... it may takes few minutes.\n",
      "Initializing.... it may takes few minutes.\n",
      "Initializing.... it may takes few minutes.\n",
      "Initializing.... it may takes few minutes.\n",
      "Initializing.... it may takes few minutes.\n",
      "Initializing.... it may takes few minutes.\n",
      "Initializing.... it may takes few minutes.\n",
      "Initializing.... it may takes few minutes.\n",
      "Initializing.... it may takes few minutes.\n",
      "Initializing.... it may takes few minutes.\n"
     ]
    }
   ],
   "source": [
    "for i in range(test.size):\n",
    "    H_ini.get_eigenvalue(test.get_basis(5,i))"
   ]
  },
  {
   "cell_type": "code",
   "execution_count": 658,
   "metadata": {},
   "outputs": [
    {
     "name": "stdout",
     "output_type": "stream",
     "text": [
      "Initializing.... it may takes few minutes.\n",
      "Initializing.... it may takes few minutes.\n",
      "Initializing.... it may takes few minutes.\n",
      "Initializing.... it may takes few minutes.\n",
      "Initializing.... it may takes few minutes.\n",
      "Initializing.... it may takes few minutes.\n",
      "Initializing.... it may takes few minutes.\n",
      "Initializing.... it may takes few minutes.\n",
      "Initializing.... it may takes few minutes.\n",
      "Initializing.... it may takes few minutes.\n",
      "Initializing.... it may takes few minutes.\n",
      "Initializing.... it may takes few minutes.\n",
      "Initializing.... it may takes few minutes.\n",
      "Initializing.... it may takes few minutes.\n",
      "Initializing.... it may takes few minutes.\n"
     ]
    }
   ],
   "source": [
    "for i in range(test.size):\n",
    "    H_fin.get_eigenvalue(test.get_basis(5,i))"
   ]
  },
  {
   "cell_type": "code",
   "execution_count": 657,
   "metadata": {},
   "outputs": [],
   "source": [
    "ini_state = H_ini.get_eigenstates(test.get_basis(5,0))"
   ]
  },
  {
   "cell_type": "code",
   "execution_count": 659,
   "metadata": {},
   "outputs": [
    {
     "data": {
      "text/plain": [
       "array([-9.85049949e+00+0.j, -7.29091702e+00+0.j, -4.94244790e+00+0.j,\n",
       "       -5.44218248e+00+0.j, -5.91792172e+00+0.j, -4.47997876e+00+0.j,\n",
       "       -4.70550086e+00+0.j, -3.58527413e+00+0.j, -3.73812126e+00+0.j,\n",
       "       -4.03265812e+00+0.j, -4.11360749e+00+0.j, -4.08824754e+00+0.j,\n",
       "       -4.04794993e+00+0.j, -4.12047009e+00+0.j, -3.49277961e+00+0.j,\n",
       "       -4.13524380e+00+0.j, -3.16888469e+00+0.j, -2.64833260e+00+0.j,\n",
       "       -2.60029238e+00+0.j, -2.39852464e+00+0.j, -2.79381617e+00+0.j,\n",
       "       -2.23797799e+00+0.j, -3.62556930e+00+0.j, -2.22977822e+00+0.j,\n",
       "       -3.14123115e+00+0.j, -3.31637649e+00+0.j, -2.27714169e+00+0.j,\n",
       "       -3.28745889e+00+0.j, -3.12919653e+00+0.j, -3.46196337e+00+0.j,\n",
       "       -2.38782311e+00+0.j, -2.06324371e+00+0.j, -3.00742753e+00+0.j,\n",
       "       -2.47298389e+00+0.j, -2.63887555e+00+0.j, -2.46332652e+00+0.j,\n",
       "       -2.26797281e+00+0.j, -2.56902257e+00+0.j, -2.15105130e+00+0.j,\n",
       "       -1.87827302e+00+0.j, -2.11584700e+00+0.j, -2.31265146e+00+0.j,\n",
       "       -1.10031695e+00+0.j, -6.24754211e-01+0.j, -1.52969625e+00+0.j,\n",
       "       -1.76299412e+00+0.j, -1.53608266e+00+0.j, -1.69046670e+00+0.j,\n",
       "       -1.50995372e+00+0.j, -1.76813384e+00+0.j, -1.69622396e+00+0.j,\n",
       "       -1.54669237e+00+0.j,  6.57749377e-01+0.j, -1.33565433e+00+0.j,\n",
       "       -3.09156038e-01+0.j, -9.96389448e-01+0.j, -1.18267894e+00+0.j,\n",
       "       -1.01646533e+00+0.j, -5.19345955e-01+0.j, -7.06937247e-01+0.j,\n",
       "       -7.71200189e-01+0.j, -8.00869261e-01+0.j, -1.76400439e+00+0.j,\n",
       "       -1.25250737e+00+0.j, -1.14904483e+00+0.j, -8.07286179e-01+0.j,\n",
       "       -5.35391675e-01+0.j, -3.36174191e-01+0.j, -2.81266813e-01+0.j,\n",
       "       -4.26383600e-01+0.j, -6.37320728e-01+0.j, -1.08560309e-01+0.j,\n",
       "       -1.03832488e-01+0.j,  1.83935829e-01+0.j, -6.58998447e-01+0.j,\n",
       "        9.20376801e-01+0.j, -1.10551791e+00+0.j,  7.67869416e-01+0.j,\n",
       "        3.83353299e-01+0.j, -1.56972039e-01+0.j, -1.12279971e-01+0.j,\n",
       "        4.99501444e-01+0.j, -1.04246066e+00+0.j, -5.20492443e-01+0.j,\n",
       "        8.56346946e-01+0.j, -7.06055107e-02+0.j,  1.34506398e+00+0.j,\n",
       "        2.40839700e-01+0.j,  3.08698170e-01+0.j, -9.35876361e-01+0.j,\n",
       "       -1.67372104e-01+0.j, -4.09938777e-01+0.j,  3.68266514e-01+0.j,\n",
       "        7.94407204e-01+0.j, -3.92929545e-01+0.j,  1.12310507e+00+0.j,\n",
       "        8.57110572e-01+0.j,  1.12029753e+00+0.j,  1.44105481e+00+0.j,\n",
       "       -1.23214872e+00+0.j,  1.07289502e+00+0.j,  8.18663989e-01+0.j,\n",
       "        1.07435897e+00+0.j,  1.55597126e+00+0.j,  1.34637400e+00+0.j,\n",
       "       -9.41718215e-01+0.j,  2.06001443e+00+0.j,  8.07692591e-01+0.j,\n",
       "        1.42210531e+00+0.j,  1.33192182e+00+0.j,  9.45169483e-01+0.j,\n",
       "        8.60822435e-01+0.j, -4.05366449e-01+0.j,  1.41955996e+00+0.j,\n",
       "        6.14331431e-01+0.j, -3.88436202e-01+0.j, -2.71904343e-01+0.j,\n",
       "        6.13651595e-01+0.j,  1.20743673e+00+0.j,  1.40850742e+00+0.j,\n",
       "        2.15583633e+00+0.j,  7.88953879e-01+0.j,  9.21953680e-01+0.j,\n",
       "        8.72680174e-01+0.j,  8.97569295e-04+0.j,  1.81699854e+00+0.j,\n",
       "        5.56774671e-01+0.j,  1.21175759e+00+0.j,  5.23711201e-01+0.j,\n",
       "        6.90434221e-01+0.j,  3.47649986e+00+0.j,  8.55429905e-01+0.j,\n",
       "        9.80124827e-01+0.j,  1.20121530e+00+0.j,  1.00319143e+00+0.j,\n",
       "        9.96382477e-01+0.j,  1.58905657e+00+0.j,  1.07762034e+00+0.j,\n",
       "        8.90552632e-01+0.j,  3.53008828e+00+0.j,  1.05097207e+00+0.j,\n",
       "        2.23658066e+00+0.j,  1.06783643e+00+0.j,  1.86372955e+00+0.j,\n",
       "        3.23029870e+00+0.j,  1.32946365e+00+0.j,  2.07206331e+00+0.j,\n",
       "        1.68467061e+00+0.j,  1.48414457e+00+0.j,  1.62551024e+00+0.j,\n",
       "        1.82997272e+00+0.j,  1.27607310e+00+0.j,  1.92240569e+00+0.j,\n",
       "        1.42163125e+00+0.j,  2.56397844e+00+0.j,  2.88354317e+00+0.j,\n",
       "        2.49231433e+00+0.j,  1.91324152e+00+0.j,  3.46549596e+00+0.j,\n",
       "        1.93840165e+00+0.j,  2.47355710e+00+0.j,  3.40101909e+00+0.j,\n",
       "        2.55869435e+00+0.j,  3.60482393e+00+0.j,  3.03759936e+00+0.j,\n",
       "        2.62329260e+00+0.j,  2.41010124e+00+0.j,  5.55965055e-01+0.j,\n",
       "        3.96382251e+00+0.j,  4.01203698e+00+0.j,  3.71800997e+00+0.j,\n",
       "        3.29665656e+00+0.j,  3.20550596e+00+0.j,  3.34025808e+00+0.j,\n",
       "        3.78391671e+00+0.j,  8.31157065e-01+0.j,  1.06180109e+00+0.j,\n",
       "        3.38748296e+00+0.j,  3.26944916e+00+0.j,  3.29289677e+00+0.j,\n",
       "        4.22210247e+00+0.j,  3.66816122e+00+0.j,  4.59093079e+00+0.j,\n",
       "        4.14657263e+00+0.j,  4.26940586e+00+0.j,  1.73537894e+00+0.j,\n",
       "        2.15828353e+00+0.j,  3.43050200e+00+0.j,  3.90454582e+00+0.j,\n",
       "        3.73801485e+00+0.j,  3.26718345e+00+0.j,  3.28563389e+00+0.j,\n",
       "        2.94758361e+00+0.j,  3.26511215e+00+0.j,  3.12548503e+00+0.j,\n",
       "        3.53100335e+00+0.j,  4.02727924e+00+0.j,  4.07294972e+00+0.j,\n",
       "        4.19752607e+00+0.j,  4.10718032e+00+0.j,  3.89882289e+00+0.j])"
      ]
     },
     "execution_count": 659,
     "metadata": {},
     "output_type": "execute_result"
    }
   ],
   "source": [
    "H_fin.expectation(ini_state)"
   ]
  },
  {
   "cell_type": "code",
   "execution_count": 639,
   "metadata": {},
   "outputs": [],
   "source": []
  },
  {
   "cell_type": "code",
   "execution_count": 279,
   "metadata": {},
   "outputs": [],
   "source": [
    "T = 1.0\n",
    "Z = H_ini.trace([test.get_basis()],func=partition)"
   ]
  },
  {
   "cell_type": "code",
   "execution_count": 667,
   "metadata": {},
   "outputs": [],
   "source": [
    "def partition_f(H,T):\n",
    "        \n",
    "    return np.exp(-H/T)\n",
    "\n",
    "def temper(func, T):\n",
    "    def wrapper(x):\n",
    "        return func(x,T)\n",
    "    return wrapper"
   ]
  },
  {
   "cell_type": "code",
   "execution_count": 670,
   "metadata": {},
   "outputs": [],
   "source": [
    "T_set = np.arange(1000)*0.02+0.1\n",
    "\n",
    "E_set = []\n",
    "for T in T_set:\n",
    "    partition = temper(partition_f,T)\n",
    "    Z = H_fin.trace([test.get_basis(5,i) for i in range(test.size)],func=partition)\n",
    "    E_set.append(H_fin.trace([test.get_basis(5,i) for i in range(test.size)],func=lambda H: H*np.exp(-H/T)/Z))"
   ]
  },
  {
   "cell_type": "code",
   "execution_count": 673,
   "metadata": {},
   "outputs": [
    {
     "data": {
      "image/png": "[encoded data removed]",
      "text/plain": [
       "<Figure size 432x288 with 1 Axes>"
      ]
     },
     "metadata": {
      "needs_background": "light"
     },
     "output_type": "display_data"
    }
   ],
   "source": [
    "plt.figure()\n",
    "for v in H_fin.expectation(ini_state).real[H_fin.expectation(ini_state).real<0]:\n",
    "    plt.axhline(y=v, linewidth = 1)\n",
    "\n",
    "plt.plot(T_set,E_set,'r')\n",
    "plt.savefig('E-effT.png')"
   ]
  },
  {
   "cell_type": "code",
   "execution_count": 674,
   "metadata": {},
   "outputs": [],
   "source": [
    "T_set1 = np.arange(200)*0.002+0.1\n",
    "\n",
    "E_set1 = []\n",
    "for T in T_set1:\n",
    "    partition = temper(partition_f,T)\n",
    "    Z = H_fin.trace([test.get_basis(5,i) for i in range(test.size)],func=partition)\n",
    "    E_set1.append(H_fin.trace([test.get_basis(5,i) for i in range(test.size)],func=lambda H: H*np.exp(-H/T)/Z))"
   ]
  },
  {
   "cell_type": "code",
   "execution_count": 688,
   "metadata": {},
   "outputs": [
    {
     "data": {
      "text/plain": [
       "array([-4.47997876])"
      ]
     },
     "execution_count": 688,
     "metadata": {},
     "output_type": "execute_result"
    }
   ],
   "source": [
    "H_fin.expectation(ini_state).real[np.logical_and(H_fin.expectation(ini_state).real<E_set[95]+0.2,H_fin.expectation(ini_state).real>E_set[95]-0.2)]"
   ]
  },
  {
   "cell_type": "code",
   "execution_count": 708,
   "metadata": {},
   "outputs": [
    {
     "data": {
      "text/plain": [
       "array([False, False, False, False, False,  True, False, False, False,\n",
       "       False, False, False, False, False, False, False, False, False,\n",
       "       False, False, False, False, False, False, False, False, False,\n",
       "       False, False, False, False, False, False, False, False, False,\n",
       "       False, False, False, False, False, False, False, False, False,\n",
       "       False, False, False, False, False, False, False, False, False,\n",
       "       False, False, False, False, False, False, False, False, False,\n",
       "       False, False, False, False, False, False, False, False, False,\n",
       "       False, False, False, False, False, False, False, False, False,\n",
       "       False, False, False, False, False, False, False, False, False,\n",
       "       False, False, False, False, False, False, False, False, False,\n",
       "       False, False, False, False, False, False, False, False, False,\n",
       "       False, False, False, False, False, False, False, False, False,\n",
       "       False, False, False, False, False, False, False, False, False,\n",
       "       False, False, False, False, False, False, False, False, False,\n",
       "       False, False, False, False, False, False, False, False, False,\n",
       "       False, False, False, False, False, False, False, False, False,\n",
       "       False, False, False, False, False, False, False, False, False,\n",
       "       False, False, False, False, False, False, False, False, False,\n",
       "       False, False, False, False, False, False, False, False, False,\n",
       "       False, False, False, False, False, False, False, False, False,\n",
       "       False, False, False, False, False, False, False, False, False,\n",
       "       False, False, False])"
      ]
     },
     "execution_count": 708,
     "metadata": {},
     "output_type": "execute_result"
    }
   ],
   "source": [
    "np.logical_and(H_fin.expectation(ini_state).real<E_set[95]+0.2,H_fin.expectation(ini_state).real>E_set[95]-0.2)"
   ]
  },
  {
   "cell_type": "code",
   "execution_count": 697,
   "metadata": {},
   "outputs": [
    {
     "data": {
      "text/plain": [
       "(1.9800000000000002, -4.491728247295916)"
      ]
     },
     "execution_count": 697,
     "metadata": {},
     "output_type": "execute_result"
    }
   ],
   "source": [
    "i = 9\n",
    "T_set[i],E_set[i]"
   ]
  },
  {
   "cell_type": "code",
   "execution_count": 681,
   "metadata": {},
   "outputs": [
    {
     "data": {
      "image/png": "[encoded data removed]",
      "text/plain": [
       "<Figure size 432x288 with 1 Axes>"
      ]
     },
     "metadata": {
      "needs_background": "light"
     },
     "output_type": "display_data"
    }
   ],
   "source": [
    "plt.figure()\n",
    "for v in H_fin.expectation(ini_state).real[H_fin.expectation(ini_state).real<-2]:\n",
    "    plt.axhline(y=v, linewidth = 1)\n",
    "plt.axvline(x=2.0,c='g')\n",
    "plt.plot(T_set1,E_set1,'r')\n",
    "plt.savefig('E-effT4.png')"
   ]
  },
  {
   "cell_type": "code",
   "execution_count": 712,
   "metadata": {},
   "outputs": [],
   "source": [
    "target = ini_state.coef.T[5].T"
   ]
  },
  {
   "cell_type": "code",
   "execution_count": 714,
   "metadata": {},
   "outputs": [],
   "source": [
    "n = {}\n",
    "for k in range(test.size):\n",
    "    n[k] = Operator.Null(test)\n",
    "    for i in range(test.size):\n",
    "        for j in range(test.size):\n",
    "            n[k] += 1/test.size*np.exp(-2j*np.pi/test.size*k*(i-j))*b_i_dag.index(i)@b_i.index(j)"
   ]
  },
  {
   "cell_type": "code",
   "execution_count": 715,
   "metadata": {},
   "outputs": [],
   "source": [
    "N = {}\n",
    "for k in range(test.size):\n",
    "    N[k] = Operator.Null(test)\n",
    "    for i in range(test.size):\n",
    "        for j in range(test.size):\n",
    "            N[k] += 1/test.size*np.exp(-2j*np.pi/test.size*k*(i-j))*n_i.index(i)@n_i.index(j)"
   ]
  },
  {
   "cell_type": "code",
   "execution_count": 721,
   "metadata": {},
   "outputs": [],
   "source": [
    "target = State(test.get_basis(5,0),target)"
   ]
  },
  {
   "cell_type": "code",
   "execution_count": 729,
   "metadata": {},
   "outputs": [
    {
     "data": {
      "text/plain": [
       "(201,)"
      ]
     },
     "execution_count": 729,
     "metadata": {},
     "output_type": "execute_result"
    }
   ],
   "source": [
    "target.coef.shape"
   ]
  },
  {
   "cell_type": "code",
   "execution_count": 732,
   "metadata": {},
   "outputs": [
    {
     "data": {
      "text/plain": [
       "(201, 201)"
      ]
     },
     "execution_count": 732,
     "metadata": {},
     "output_type": "execute_result"
    }
   ],
   "source": [
    "n[0].get_matrix(test.get_basis(5,0)).shape"
   ]
  },
  {
   "cell_type": "code",
   "execution_count": 739,
   "metadata": {},
   "outputs": [],
   "source": [
    "n_k = []\n",
    "for k in n:\n",
    "    n[k].get_matrix(test.get_basis(5,0))\n",
    "    n_k.append(target.coef.T@n[k].get_matrix(test.get_basis(5,0))@target.coef)"
   ]
  },
  {
   "cell_type": "code",
   "execution_count": 755,
   "metadata": {},
   "outputs": [],
   "source": [
    "K = []\n",
    "for k in n:\n",
    "    K.append(k/test.size*2*np.pi  if k/test.size < 1/2 else -2*np.pi*(1-k/test.size))"
   ]
  },
  {
   "cell_type": "code",
   "execution_count": 774,
   "metadata": {},
   "outputs": [
    {
     "data": {
      "image/png": "[encoded data removed]",
      "text/plain": [
       "<Figure size 720x360 with 1 Axes>"
      ]
     },
     "metadata": {
      "needs_background": "light"
     },
     "output_type": "display_data"
    }
   ],
   "source": [
    "plt.figure(figsize = [10,5])\n",
    "plt.plot(K,n_k,'X')\n",
    "plt.xticks([-np.pi,-np.pi/2,0,np.pi/2,np.pi],[r'-\\pi',r'-\\pi/2',0,r'\\pi/2',r'-\\pi'])\n",
    "plt.savefig(\"nk.png\")"
   ]
  },
  {
   "cell_type": "code",
   "execution_count": 761,
   "metadata": {},
   "outputs": [],
   "source": [
    "N_k=[]\n",
    "for k in N:\n",
    "    N[k].get_matrix(test.get_basis(5,0))\n",
    "    N_k.append((target.coef.T@N[k].get_matrix(test.get_basis(5,0))@target.coef).real)"
   ]
  },
  {
   "cell_type": "code",
   "execution_count": 773,
   "metadata": {},
   "outputs": [
    {
     "data": {
      "image/png": "[encoded data removed]",
      "text/plain": [
       "<Figure size 720x360 with 1 Axes>"
      ]
     },
     "metadata": {
      "needs_background": "light"
     },
     "output_type": "display_data"
    }
   ],
   "source": [
    "plt.figure(figsize = [10,5])\n",
    "plt.plot(K[1:],N_k[1:],'bX')\n",
    "plt.plot([0],[0],'bX')\n",
    "plt.xticks([-np.pi,-np.pi/2,0,np.pi/2,np.pi],[r'-\\pi',r'-\\pi/2',0,r'\\pi/2',r'-\\pi'])\n",
    "plt.savefig('largeNk.png')"
   ]
  },
  {
   "cell_type": "code",
   "execution_count": 701,
   "metadata": {},
   "outputs": [],
   "source": [
    "T_set2 = np.arange(200)*0.01+0.1\n",
    "\n",
    "E_set2 = []\n",
    "for T in T_set2:\n",
    "    partition = temper(partition_f,T)\n",
    "    Z = H_fin.trace([test.get_basis(5,i) for i in range(test.size)],func=partition)\n",
    "    E_set.append(H_fin.trace([test.get_basis(5,i) for i in range(test.size)],func=lambda H: H*np.exp(-H/T)/Z))"
   ]
  },
  {
   "cell_type": "code",
   "execution_count": 702,
   "metadata": {},
   "outputs": [
    {
     "data": {
      "text/plain": [
       "array([-4.47997876])"
      ]
     },
     "execution_count": 702,
     "metadata": {},
     "output_type": "execute_result"
    }
   ],
   "source": [
    "H_fin.expectation(ini_state).real[np.logical_and(H_fin.expectation(ini_state).real<E_set[95]+0.2,H_fin.expectation(ini_state).real>E_set[95]-0.2)]"
   ]
  },
  {
   "cell_type": "code",
   "execution_count": 707,
   "metadata": {},
   "outputs": [
    {
     "data": {
      "text/plain": [
       "(1.9900000000000002, -4.468079174817852)"
      ]
     },
     "execution_count": 707,
     "metadata": {},
     "output_type": "execute_result"
    }
   ],
   "source": [
    "i = 189\n",
    "T_set2[i],E_set2[i]"
   ]
  },
  {
   "cell_type": "code",
   "execution_count": 704,
   "metadata": {},
   "outputs": [
    {
     "data": {
      "image/png": "[encoded data removed]",
      "text/plain": [
       "<Figure size 432x288 with 1 Axes>"
      ]
     },
     "metadata": {
      "needs_background": "light"
     },
     "output_type": "display_data"
    }
   ],
   "source": [
    "plt.figure()\n",
    "for v in H_fin.expectation(ini_state).real[H_fin.expectation(ini_state).real<-2]:\n",
    "    plt.axhline(y=v, linewidth = 1)\n",
    "plt.axvline(x=2.0,c='g')\n",
    "plt.plot(T_set2,E_set2,'r')\n",
    "plt.savefig('E-effT8.png')"
   ]
  },
  {
   "cell_type": "code",
   "execution_count": null,
   "metadata": {},
   "outputs": [],
   "source": []
  },
  {
   "cell_type": "code",
   "execution_count": 281,
   "metadata": {},
   "outputs": [
    {
     "data": {
      "text/plain": [
       "-2.7470258227989075"
      ]
     },
     "execution_count": 281,
     "metadata": {},
     "output_type": "execute_result"
    }
   ],
   "source": [
    "H_ini.trace(test.get_basis(),func=lambda H: H*np.exp(-H/T)/Z)"
   ]
  },
  {
   "cell_type": "code",
   "execution_count": 182,
   "metadata": {},
   "outputs": [
    {
     "data": {
      "text/plain": [
       "mappingproxy({'__module__': '__main__',\n",
       "              '__init__': <function __main__.Operator.__init__(self, system, name=None, prefix=None)>,\n",
       "              'Null': <function __main__.Operator.Null(system)>,\n",
       "              'loadlabel': <function __main__.Operator.loadlabel(system, label)>,\n",
       "              'save': <function __main__.Operator.save(self, path=None, force=False)>,\n",
       "              'load': <function __main__.Operator.load(system, name)>,\n",
       "              'set_default': <function __main__.Operator.set_default(self, bool)>,\n",
       "              'is_identity': <function __main__.Operator.is_identity(self)>,\n",
       "              'valid': <function __main__.Operator.valid(self)>,\n",
       "              '_set_name': <function __main__.Operator._set_name(self, name)>,\n",
       "              'set_name': <function __main__.Operator.set_name(self, name)>,\n",
       "              'get_matrix': <function __main__.Operator.get_matrix(self, basis)>,\n",
       "              'trace': <function __main__.Operator.trace(self, basis_set, func=<function Operator.<lambda> at 0x000001BDFD63EC80>)>,\n",
       "              'expectation': <function __main__.Operator.expectation(self, state)>,\n",
       "              'act': <function __main__.Operator.act(self, state)>,\n",
       "              'solve_on': <function __main__.Operator.solve_on(self, basis)>,\n",
       "              'get_eigenvalue': <function __main__.Operator.get_eigenvalue(self, basis)>,\n",
       "              'get_eigenvectors': <function __main__.Operator.get_eigenvectors(self, basis)>,\n",
       "              'get_eigenstates': <function __main__.Operator.get_eigenstates(self, basis)>,\n",
       "              'acton': <function __main__.Operator.acton(self, x)>,\n",
       "              '__mul__': <function __main__.Operator.__mul__(self, other)>,\n",
       "              '__rmul__': <function __main__.Operator.__rmul__(self, other)>,\n",
       "              '__add__': <function __main__.Operator.__add__(self, other)>,\n",
       "              'coef': <property at 0x1bdfd42b8b8>,\n",
       "              '_set_coef': <function __main__.Operator._set_coef(self, value)>,\n",
       "              '__radd__': <function __main__.Operator.__radd__(self, other)>,\n",
       "              '__iadd__': <function __main__.Operator.__iadd__(self, other)>,\n",
       "              '__riadd__': <function __main__.Operator.__riadd__(self, other)>,\n",
       "              '__sub__': <function __main__.Operator.__sub__(self, other)>,\n",
       "              '__matmul__': <function __main__.Operator.__matmul__(self, other)>,\n",
       "              'identity': <function __main__.Operator.identity(x)>,\n",
       "              'annihilation': <function __main__.Operator.annihilation(x, i)>,\n",
       "              'creation': <function __main__.Operator.creation(x, i)>,\n",
       "              'n_i': <function __main__.Operator.n_i(x, i)>,\n",
       "              'hopping': <function __main__.Operator.hopping(x, i, j)>,\n",
       "              'index': <function __main__.Operator.index(self, *arg)>,\n",
       "              'b_i': <function __main__.Operator.annihilation(x, i)>,\n",
       "              'b_i_dag': <function __main__.Operator.creation(x, i)>,\n",
       "              '_table': {'A': <function __main__.Operator.annihilation(x, i)>,\n",
       "               'C': <function __main__.Operator.creation(x, i)>,\n",
       "               'I': <function __main__.Operator.identity(x)>,\n",
       "               'H': <function __main__.Operator.hopping(x, i, j)>,\n",
       "               'N': <function __main__.Operator.n_i(x, i)>},\n",
       "              '__dict__': <attribute '__dict__' of 'Operator' objects>,\n",
       "              '__weakref__': <attribute '__weakref__' of 'Operator' objects>,\n",
       "              '__doc__': None})"
      ]
     },
     "execution_count": 182,
     "metadata": {},
     "output_type": "execute_result"
    }
   ],
   "source": [
    "Operator.__dict__"
   ]
  },
  {
   "cell_type": "code",
   "execution_count": 65,
   "metadata": {},
   "outputs": [],
   "source": [
    "class Variable:\n",
    "    def pp(self):\n",
    "        print(locals())\n",
    "    def vas(self):\n",
    "        print(vars())\n",
    "    def definer(self,name,  value):\n",
    "        globals()[name] = value"
   ]
  },
  {
   "cell_type": "code",
   "execution_count": 34,
   "metadata": {},
   "outputs": [],
   "source": [
    "a.i = 1"
   ]
  },
  {
   "cell_type": "code",
   "execution_count": 38,
   "metadata": {},
   "outputs": [
    {
     "ename": "KeyError",
     "evalue": "1",
     "output_type": "error",
     "traceback": [
      "\u001b[1;31m---------------------------------------------------------------------------\u001b[0m",
      "\u001b[1;31mKeyError\u001b[0m                                  Traceback (most recent call last)",
      "\u001b[1;32m<ipython-input-38-b13fd44519f3>\u001b[0m in \u001b[0;36m<module>\u001b[1;34m\u001b[0m\n\u001b[1;32m----> 1\u001b[1;33m \u001b[0mvars\u001b[0m\u001b[1;33m(\u001b[0m\u001b[1;33m)\u001b[0m\u001b[1;33m[\u001b[0m\u001b[0ma\u001b[0m\u001b[1;33m.\u001b[0m\u001b[0mi\u001b[0m\u001b[1;33m]\u001b[0m\u001b[1;33m\u001b[0m\u001b[1;33m\u001b[0m\u001b[0m\n\u001b[0m",
      "\u001b[1;31mKeyError\u001b[0m: 1"
     ]
    }
   ],
   "source": [
    "vars()[a.i]"
   ]
  },
  {
   "cell_type": "code",
   "execution_count": 66,
   "metadata": {},
   "outputs": [],
   "source": [
    "a = Variable()"
   ]
  },
  {
   "cell_type": "code",
   "execution_count": 67,
   "metadata": {},
   "outputs": [],
   "source": [
    "a.definer('something',1)"
   ]
  },
  {
   "cell_type": "code",
   "execution_count": 63,
   "metadata": {},
   "outputs": [
    {
     "ename": "AttributeError",
     "evalue": "'Variable' object has no attribute 'something'",
     "output_type": "error",
     "traceback": [
      "\u001b[1;31m---------------------------------------------------------------------------\u001b[0m",
      "\u001b[1;31mAttributeError\u001b[0m                            Traceback (most recent call last)",
      "\u001b[1;32m<ipython-input-63-5c03aaaf47dd>\u001b[0m in \u001b[0;36m<module>\u001b[1;34m\u001b[0m\n\u001b[1;32m----> 1\u001b[1;33m \u001b[0ma\u001b[0m\u001b[1;33m.\u001b[0m\u001b[0msomething\u001b[0m\u001b[1;33m\u001b[0m\u001b[1;33m\u001b[0m\u001b[0m\n\u001b[0m",
      "\u001b[1;31mAttributeError\u001b[0m: 'Variable' object has no attribute 'something'"
     ]
    }
   ],
   "source": [
    "a.something"
   ]
  },
  {
   "cell_type": "code",
   "execution_count": 68,
   "metadata": {},
   "outputs": [
    {
     "data": {
      "text/plain": [
       "1"
      ]
     },
     "execution_count": 68,
     "metadata": {},
     "output_type": "execute_result"
    }
   ],
   "source": [
    "something"
   ]
  },
  {
   "cell_type": "code",
   "execution_count": 42,
   "metadata": {},
   "outputs": [],
   "source": [
    "a.i = 1"
   ]
  },
  {
   "cell_type": "code",
   "execution_count": 54,
   "metadata": {},
   "outputs": [
    {
     "data": {
      "text/plain": [
       "{'i': 1}"
      ]
     },
     "execution_count": 54,
     "metadata": {},
     "output_type": "execute_result"
    }
   ],
   "source": [
    "a.__dict__"
   ]
  },
  {
   "cell_type": "code",
   "execution_count": 57,
   "metadata": {},
   "outputs": [],
   "source": [
    "vars(a)['a'] = 10"
   ]
  },
  {
   "cell_type": "code",
   "execution_count": 58,
   "metadata": {},
   "outputs": [
    {
     "data": {
      "text/plain": [
       "10"
      ]
     },
     "execution_count": 58,
     "metadata": {},
     "output_type": "execute_result"
    }
   ],
   "source": [
    "a.a"
   ]
  },
  {
   "cell_type": "code",
   "execution_count": 35,
   "metadata": {},
   "outputs": [
    {
     "name": "stdout",
     "output_type": "stream",
     "text": [
      "{'self': <__main__.Variable object at 0x0000027ED9643CF8>}\n"
     ]
    }
   ],
   "source": [
    "a.pp()"
   ]
  },
  {
   "cell_type": "code",
   "execution_count": 20,
   "metadata": {},
   "outputs": [
    {
     "data": {
      "text/plain": [
       "{'system': <__main__.System at 0x27ed9264080>,\n",
       " 'size': 5,\n",
       " 'name': 'H_ini',\n",
       " '_Operator__default': False,\n",
       " '_label': 'H0001+N00@N01+N00@I+I@N01+I@I+H0002+N00@N02+N00@I+I@N02+I@I+H0102+N01@N02+N01@I+I@N02+I@I+H0103+N01@N03+N01@I+I@N03+I@I+H0203+N02@N03+N02@I+I@N03+I@I+H0204+N02@N04+N02@I+I@N04+I@I+H0304+N03@N04+N03@I+I@N04+I@I+H0300+N03@N00+N03@I+I@N00+I@I+H0400+N04@N00+N04@I+I@N00+I@I+H0401+N04@N01+N04@I+I@N01+I@I',\n",
       " 'struct': [<function __main__.Operator.index.<locals>.<lambda>(x)>,\n",
       "  <function __main__.Operator.__matmul__.<locals>.dec.<locals>.wrap(x)>,\n",
       "  <function __main__.Operator.__matmul__.<locals>.dec.<locals>.wrap(x)>,\n",
       "  <function __main__.Operator.__matmul__.<locals>.dec.<locals>.wrap(x)>,\n",
       "  <function __main__.Operator.__matmul__.<locals>.dec.<locals>.wrap(x)>,\n",
       "  <function __main__.Operator.index.<locals>.<lambda>(x)>,\n",
       "  <function __main__.Operator.__matmul__.<locals>.dec.<locals>.wrap(x)>,\n",
       "  <function __main__.Operator.__matmul__.<locals>.dec.<locals>.wrap(x)>,\n",
       "  <function __main__.Operator.__matmul__.<locals>.dec.<locals>.wrap(x)>,\n",
       "  <function __main__.Operator.__matmul__.<locals>.dec.<locals>.wrap(x)>,\n",
       "  <function __main__.Operator.index.<locals>.<lambda>(x)>,\n",
       "  <function __main__.Operator.__matmul__.<locals>.dec.<locals>.wrap(x)>,\n",
       "  <function __main__.Operator.__matmul__.<locals>.dec.<locals>.wrap(x)>,\n",
       "  <function __main__.Operator.__matmul__.<locals>.dec.<locals>.wrap(x)>,\n",
       "  <function __main__.Operator.__matmul__.<locals>.dec.<locals>.wrap(x)>,\n",
       "  <function __main__.Operator.index.<locals>.<lambda>(x)>,\n",
       "  <function __main__.Operator.__matmul__.<locals>.dec.<locals>.wrap(x)>,\n",
       "  <function __main__.Operator.__matmul__.<locals>.dec.<locals>.wrap(x)>,\n",
       "  <function __main__.Operator.__matmul__.<locals>.dec.<locals>.wrap(x)>,\n",
       "  <function __main__.Operator.__matmul__.<locals>.dec.<locals>.wrap(x)>,\n",
       "  <function __main__.Operator.index.<locals>.<lambda>(x)>,\n",
       "  <function __main__.Operator.__matmul__.<locals>.dec.<locals>.wrap(x)>,\n",
       "  <function __main__.Operator.__matmul__.<locals>.dec.<locals>.wrap(x)>,\n",
       "  <function __main__.Operator.__matmul__.<locals>.dec.<locals>.wrap(x)>,\n",
       "  <function __main__.Operator.__matmul__.<locals>.dec.<locals>.wrap(x)>,\n",
       "  <function __main__.Operator.index.<locals>.<lambda>(x)>,\n",
       "  <function __main__.Operator.__matmul__.<locals>.dec.<locals>.wrap(x)>,\n",
       "  <function __main__.Operator.__matmul__.<locals>.dec.<locals>.wrap(x)>,\n",
       "  <function __main__.Operator.__matmul__.<locals>.dec.<locals>.wrap(x)>,\n",
       "  <function __main__.Operator.__matmul__.<locals>.dec.<locals>.wrap(x)>,\n",
       "  <function __main__.Operator.index.<locals>.<lambda>(x)>,\n",
       "  <function __main__.Operator.__matmul__.<locals>.dec.<locals>.wrap(x)>,\n",
       "  <function __main__.Operator.__matmul__.<locals>.dec.<locals>.wrap(x)>,\n",
       "  <function __main__.Operator.__matmul__.<locals>.dec.<locals>.wrap(x)>,\n",
       "  <function __main__.Operator.__matmul__.<locals>.dec.<locals>.wrap(x)>,\n",
       "  <function __main__.Operator.index.<locals>.<lambda>(x)>,\n",
       "  <function __main__.Operator.__matmul__.<locals>.dec.<locals>.wrap(x)>,\n",
       "  <function __main__.Operator.__matmul__.<locals>.dec.<locals>.wrap(x)>,\n",
       "  <function __main__.Operator.__matmul__.<locals>.dec.<locals>.wrap(x)>,\n",
       "  <function __main__.Operator.__matmul__.<locals>.dec.<locals>.wrap(x)>,\n",
       "  <function __main__.Operator.index.<locals>.<lambda>(x)>,\n",
       "  <function __main__.Operator.__matmul__.<locals>.dec.<locals>.wrap(x)>,\n",
       "  <function __main__.Operator.__matmul__.<locals>.dec.<locals>.wrap(x)>,\n",
       "  <function __main__.Operator.__matmul__.<locals>.dec.<locals>.wrap(x)>,\n",
       "  <function __main__.Operator.__matmul__.<locals>.dec.<locals>.wrap(x)>,\n",
       "  <function __main__.Operator.index.<locals>.<lambda>(x)>,\n",
       "  <function __main__.Operator.__matmul__.<locals>.dec.<locals>.wrap(x)>,\n",
       "  <function __main__.Operator.__matmul__.<locals>.dec.<locals>.wrap(x)>,\n",
       "  <function __main__.Operator.__matmul__.<locals>.dec.<locals>.wrap(x)>,\n",
       "  <function __main__.Operator.__matmul__.<locals>.dec.<locals>.wrap(x)>],\n",
       " '_Operator__coef': array([-1.  +0.j,  1.  +0.j, -0.5 +0.j, -0.5 +0.j,  0.25-0.j, -2.  +0.j,\n",
       "         1.  +0.j, -0.5 +0.j, -0.5 +0.j,  0.25-0.j, -1.  +0.j,  1.  +0.j,\n",
       "        -0.5 +0.j, -0.5 +0.j,  0.25-0.j, -2.  +0.j,  1.  +0.j, -0.5 +0.j,\n",
       "        -0.5 +0.j,  0.25-0.j, -1.  +0.j,  1.  +0.j, -0.5 +0.j, -0.5 +0.j,\n",
       "         0.25-0.j, -2.  +0.j,  1.  +0.j, -0.5 +0.j, -0.5 +0.j,  0.25-0.j,\n",
       "        -1.  +0.j,  1.  +0.j, -0.5 +0.j, -0.5 +0.j,  0.25-0.j, -2.  +0.j,\n",
       "         1.  +0.j, -0.5 +0.j, -0.5 +0.j,  0.25-0.j, -1.  +0.j,  1.  +0.j,\n",
       "        -0.5 +0.j, -0.5 +0.j,  0.25-0.j, -2.  +0.j,  1.  +0.j, -0.5 +0.j,\n",
       "        -0.5 +0.j,  0.25-0.j]),\n",
       " '_Operator__initial': False,\n",
       " 'matrix': None,\n",
       " '_Operator__digonalized': False}"
      ]
     },
     "execution_count": 20,
     "metadata": {},
     "output_type": "execute_result"
    }
   ],
   "source": [
    "H_ini.__dict__"
   ]
  },
  {
   "cell_type": "code",
   "execution_count": null,
   "metadata": {},
   "outputs": [],
   "source": [
    "eigenvalue = "
   ]
  },
  {
   "cell_type": "code",
   "execution_count": null,
   "metadata": {},
   "outputs": [],
   "source": [
    "def partition(T):\n",
    "    \n",
    "    "
   ]
  },
  {
   "cell_type": "code",
   "execution_count": 165,
   "metadata": {},
   "outputs": [
    {
     "data": {
      "text/plain": [
       "0.0"
      ]
     },
     "execution_count": 165,
     "metadata": {},
     "output_type": "execute_result"
    }
   ],
   "source": [
    "H.get_matrix(test.get_basis())[np.diag_indices(32)].sum()"
   ]
  },
  {
   "cell_type": "code",
   "execution_count": 775,
   "metadata": {},
   "outputs": [],
   "source": [
    "a = None\n",
    "b = None\n"
   ]
  },
  {
   "cell_type": "code",
   "execution_count": 776,
   "metadata": {},
   "outputs": [
    {
     "data": {
      "text/plain": [
       "True"
      ]
     },
     "execution_count": 776,
     "metadata": {},
     "output_type": "execute_result"
    }
   ],
   "source": []
  },
  {
   "cell_type": "code",
   "execution_count": null,
   "metadata": {},
   "outputs": [],
   "source": []
  }
 ],
 "metadata": {
  "kernelspec": {
   "display_name": "Python 3",
   "language": "python",
   "name": "python3"
  },
  "language_info": {
   "codemirror_mode": {
    "name": "ipython",
    "version": 3
   },
   "file_extension": ".py",
   "mimetype": "text/x-python",
   "name": "python",
   "nbconvert_exporter": "python",
   "pygments_lexer": "ipython3",
   "version": "3.7.1"
  }
 },
 "nbformat": 4,
 "nbformat_minor": 2
}
