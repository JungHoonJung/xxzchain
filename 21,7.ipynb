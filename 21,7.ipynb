{
 "cells": [
  {
   "cell_type": "code",
   "execution_count": 3,
   "metadata": {},
   "outputs": [],
   "source": [
    "import h5py"
   ]
  },
  {
   "cell_type": "code",
   "execution_count": 1,
   "metadata": {
    "collapsed": false,
    "inputHidden": false,
    "outputHidden": false
   },
   "outputs": [],
   "source": [
    "import xxzchain as xxz\n",
    "import matplotlib.pyplot as plt\n",
    "import numpy as np\n",
    "from matplotlib import rc"
   ]
  },
  {
   "cell_type": "code",
   "execution_count": 2,
   "metadata": {
    "collapsed": false,
    "inputHidden": false,
    "outputHidden": false
   },
   "outputs": [
    {
     "name": "stdout",
     "output_type": "stream",
     "text": [
      "Current system loaded by \"C:\\Users\\jeong\\master\\xxzchain\\test\\lattice21.hdf5\"\n",
      "Hardcore boson system\n",
      "Name         : lattice21\n",
      "Saved path   : C:\\Users\\jeong\\master\\xxzchain\\C\n",
      "System size  : 21\n",
      "\n",
      "Referenced Basis :   (None means full)\n",
      "\t|- Sector [-1 -1  0  0] \n",
      "\t-----\n",
      "\n",
      "Defined Operators :\n",
      "\t|- H_fin\n",
      "\t|- H_fin1\n",
      "\t|- H_fin2\n",
      "\t|- H_fin3\n",
      "\t|- H_fins\n",
      "\t|- H_ini\n",
      "\t|- H_ini1\n",
      "\t|- ...\n",
      "\t-----\n",
      "\tHamiltonian  : 'H_fin3'\n",
      "\n",
      "Stored Data :\n",
      "\t|- E_can\n",
      "\t|- E_set\n",
      "\t|- Hcoef\n",
      "\t|- N_diag\n",
      "\t|- N_diags\n",
      "\t|- N_k\n",
      "\t|- N_k0\n",
      "\t|- N_ks\n",
      "\t|- N{}\n",
      "\t|- beta\n",
      "\t|- n_a\n",
      "\t|- n_diag\n",
      "\t|- n_diags\n",
      "\t|- n_k\n",
      "\t|- n_k0\n",
      "\t|- n_ks\n",
      "\t|- n{}\n",
      "\t-----\n",
      "\n"
     ]
    }
   ],
   "source": [
    "test = xxz.load_system('test/lattice21')\n",
    "\n",
    "#N_k = test.get_data('N_k')\n",
    "#n_k = test.get_data('n_k')\n",
    "#init_state = test.get_operator(\"H_ini\").get_eigenstates(test.get_basis(7,0))\n",
    "#energy = test.get_operator(\"H_fin\").expectation(test.get_operator(\"H_ini\").get_eigenstates(test.get_basis(7,0)))"
   ]
  },
  {
   "cell_type": "code",
   "execution_count": 3,
   "metadata": {},
   "outputs": [],
   "source": [
    "def partition_f(H,beta):\n",
    "    return np.exp(-H*beta)\n",
    "\n",
    "def temper(func, beta):\n",
    "    def wrapper(x):\n",
    "        return func(x,beta)\n",
    "    return wrapper"
   ]
  },
  {
   "cell_type": "code",
   "execution_count": 4,
   "metadata": {},
   "outputs": [],
   "source": [
    "nn_ini = xxz.Operator.Null(test)\n",
    "for i in test.range:\n",
    "    nn_ini += -0.5*test.get_operator(\"hopping\").index(i,i+1)+2.0*(test.get_operator(\"n_i\").index(i)-1/2)@(test.get_operator(\"n_i\").index(i+1)-1/2)\n",
    "nn_ini.set_name('nn_ini')\n",
    "nn_ini.set_default(False)"
   ]
  },
  {
   "cell_type": "code",
   "execution_count": 5,
   "metadata": {},
   "outputs": [],
   "source": [
    "nn_fin = xxz.Operator.Null(test)\n",
    "for i in test.range:\n",
    "    nn_fin += -1.0*test.get_operator(\"hopping\").index(i,i+1)+1.0*(test.get_operator(\"n_i\").index(i)-1/2)@(test.get_operator(\"n_i\").index(i+1)-1/2)\n",
    "nn_fin.set_name('nn_fin')\n",
    "nn_fin.set_default(False)"
   ]
  },
  {
   "cell_type": "code",
   "execution_count": 6,
   "metadata": {},
   "outputs": [],
   "source": [
    "Hcoef = [0.06,0.02,0.04,0.08,0.16,0.32,0.48]"
   ]
  },
  {
   "cell_type": "code",
   "execution_count": 7,
   "metadata": {},
   "outputs": [],
   "source": [
    "nnn = xxz.Operator.Null(test)\n",
    "for i in test.range:\n",
    "    nnn += -1*test.get_operator(\"hopping\").index(i,i+2)+1.0*(test.get_operator(\"n_i\").index(i)-1/2)@(test.get_operator(\"n_i\").index(i+2)-1/2)\n",
    "nnn.set_name('nnn')\n",
    "nnn.set_default(False)"
   ]
  },
  {
   "cell_type": "code",
   "execution_count": 18,
   "metadata": {},
   "outputs": [],
   "source": [
    "Hcoef = test.get_data('Hcoef')"
   ]
  },
  {
   "cell_type": "code",
   "execution_count": 8,
   "metadata": {},
   "outputs": [],
   "source": [
    "Hinis = xxz.OperatorGroup(test, 'Hinis')\n",
    "Hinis.set_name('Hinis')"
   ]
  },
  {
   "cell_type": "code",
   "execution_count": 9,
   "metadata": {},
   "outputs": [],
   "source": [
    "Hfins = xxz.OperatorGroup(test, 'Hfins')\n",
    "Hfins.set_name('Hfins')"
   ]
  },
  {
   "cell_type": "code",
   "execution_count": 10,
   "metadata": {},
   "outputs": [],
   "source": [
    "for c in Hcoef:\n",
    "    Hinis[c] = nn_ini + c*nnn\n",
    "    Hfins[c] = nn_fin + c*nnn"
   ]
  },
  {
   "cell_type": "code",
   "execution_count": 25,
   "metadata": {},
   "outputs": [
    {
     "name": "stdout",
     "output_type": "stream",
     "text": [
      "/operator/H_inis : dir\n",
      "\tH_inis.0.02\n",
      "\tH_inis.0.04\n",
      "\tH_inis.0.06\n",
      "\tH_inis.0.08\n",
      "\tH_inis.0.16\n",
      "\tH_inis.0.32\n",
      "\tH_inis.0.48\n"
     ]
    }
   ],
   "source": [
    "test.saver.ls('operator/H_inis')"
   ]
  },
  {
   "cell_type": "code",
   "execution_count": 30,
   "metadata": {},
   "outputs": [
    {
     "name": "stdout",
     "output_type": "stream",
     "text": [
      "/basis/(7,0,0,0) : dir\n",
      "\t/basis/(7,0,0,0)/H_fin : dir\n",
      "\t/basis/(7,0,0,0)/H_fin1 : dir\n",
      "\t/basis/(7,0,0,0)/H_fin2 : dir\n",
      "\t/basis/(7,0,0,0)/H_fin3 : dir\n",
      "\t/basis/(7,0,0,0)/H_ini : dir\n",
      "\t/basis/(7,0,0,0)/H_ini1 : dir\n",
      "\t/basis/(7,0,0,0)/H_ini2 : dir\n",
      "\t/basis/(7,0,0,0)/H_ini3 : dir\n",
      "\t/basis/(7,0,0,0)/Hfins.0.02 : dir\n",
      "\t/basis/(7,0,0,0)/Hfins.0.04 : dir\n",
      "\t/basis/(7,0,0,0)/Hfins.0.06 : dir\n",
      "\t/basis/(7,0,0,0)/Hfins.0.08 : dir\n",
      "\t/basis/(7,0,0,0)/Hfins.0.16 : dir\n",
      "\t/basis/(7,0,0,0)/Hfins.0.32 : dir\n",
      "\t/basis/(7,0,0,0)/Hfins.0.48 : dir\n",
      "\t/basis/(7,0,0,0)/Hinis.0.02 : dir\n",
      "\t/basis/(7,0,0,0)/Hinis.0.04 : dir\n",
      "\t/basis/(7,0,0,0)/Hinis.0.06 : dir\n",
      "\t/basis/(7,0,0,0)/Hinis.0.08 : dir\n",
      "\t/basis/(7,0,0,0)/Hinis.0.16 : dir\n",
      "\t/basis/(7,0,0,0)/Hinis.0.32 : dir\n",
      "\t/basis/(7,0,0,0)/Hinis.0.48 : dir\n",
      "\taddress\n",
      "\tdistance\n",
      "\tperiod\n",
      "\tstate\n",
      "\tstate_set\n"
     ]
    }
   ],
   "source": [
    "test.saver.ls('basis/(7,0,0,0)/')"
   ]
  },
  {
   "cell_type": "code",
   "execution_count": 134,
   "metadata": {},
   "outputs": [
    {
     "ename": "RuntimeError",
     "evalue": "Unable to create link (name already exists)",
     "output_type": "error",
     "traceback": [
      "\u001b[1;31m---------------------------------------------------------------------------\u001b[0m",
      "\u001b[1;31mRuntimeError\u001b[0m                              Traceback (most recent call last)",
      "\u001b[1;32m<ipython-input-134-9d586cdf9c37>\u001b[0m in \u001b[0;36m<module>\u001b[1;34m\u001b[0m\n\u001b[1;32m----> 1\u001b[1;33m \u001b[0mtest\u001b[0m\u001b[1;33m.\u001b[0m\u001b[0msave\u001b[0m\u001b[1;33m(\u001b[0m\u001b[1;33m)\u001b[0m\u001b[1;33m\u001b[0m\u001b[1;33m\u001b[0m\u001b[0m\n\u001b[0m",
      "\u001b[1;32m~\\master\\xxzchain\\xxzchain\\core\\_main.py\u001b[0m in \u001b[0;36msave\u001b[1;34m(self, name, data_array)\u001b[0m\n\u001b[0;32m    353\u001b[0m \u001b[1;33m\u001b[0m\u001b[0m\n\u001b[0;32m    354\u001b[0m         \u001b[1;32mfor\u001b[0m \u001b[0mop\u001b[0m \u001b[1;32min\u001b[0m \u001b[0mself\u001b[0m\u001b[1;33m.\u001b[0m\u001b[0m_Operator\u001b[0m\u001b[1;33m:\u001b[0m\u001b[1;33m\u001b[0m\u001b[1;33m\u001b[0m\u001b[0m\n\u001b[1;32m--> 355\u001b[1;33m             \u001b[0mself\u001b[0m\u001b[1;33m.\u001b[0m\u001b[0m_Operator\u001b[0m\u001b[1;33m[\u001b[0m\u001b[0mop\u001b[0m\u001b[1;33m]\u001b[0m\u001b[1;33m.\u001b[0m\u001b[0msave\u001b[0m\u001b[1;33m(\u001b[0m\u001b[1;33m)\u001b[0m\u001b[1;33m\u001b[0m\u001b[1;33m\u001b[0m\u001b[0m\n\u001b[0m\u001b[0;32m    356\u001b[0m         \u001b[0mself\u001b[0m\u001b[1;33m.\u001b[0m\u001b[0msaver\u001b[0m\u001b[1;33m.\u001b[0m\u001b[0mattrs\u001b[0m\u001b[1;33m[\u001b[0m\u001b[1;34m'H'\u001b[0m\u001b[1;33m]\u001b[0m \u001b[1;33m=\u001b[0m \u001b[0mstr\u001b[0m\u001b[1;33m(\u001b[0m\u001b[0mself\u001b[0m\u001b[1;33m.\u001b[0m\u001b[0m__H\u001b[0m\u001b[1;33m)\u001b[0m\u001b[1;33m.\u001b[0m\u001b[0mencode\u001b[0m\u001b[1;33m(\u001b[0m\u001b[1;33m)\u001b[0m\u001b[1;33m\u001b[0m\u001b[1;33m\u001b[0m\u001b[0m\n\u001b[0;32m    357\u001b[0m         \u001b[1;31m# -*- coding: utf-8 -*-\u001b[0m\u001b[1;33m\u001b[0m\u001b[1;33m\u001b[0m\u001b[1;33m\u001b[0m\u001b[0m\n",
      "\u001b[1;32m~\\master\\xxzchain\\xxzchain\\core\\_main.py\u001b[0m in \u001b[0;36msave\u001b[1;34m(self, force)\u001b[0m\n\u001b[0;32m   2108\u001b[0m         \u001b[1;32melse\u001b[0m\u001b[1;33m:\u001b[0m\u001b[1;33m\u001b[0m\u001b[1;33m\u001b[0m\u001b[0m\n\u001b[0;32m   2109\u001b[0m             \u001b[0mgsaver\u001b[0m \u001b[1;33m=\u001b[0m \u001b[0msaver\u001b[0m\u001b[1;33m[\u001b[0m\u001b[0mself\u001b[0m\u001b[1;33m.\u001b[0m\u001b[0mname\u001b[0m\u001b[1;33m]\u001b[0m\u001b[1;33m\u001b[0m\u001b[1;33m\u001b[0m\u001b[0m\n\u001b[1;32m-> 2110\u001b[1;33m         \u001b[1;32mfor\u001b[0m \u001b[0mop\u001b[0m \u001b[1;32min\u001b[0m \u001b[0mself\u001b[0m\u001b[1;33m.\u001b[0m\u001b[0m_index\u001b[0m\u001b[1;33m:\u001b[0m\u001b[1;33m\u001b[0m\u001b[1;33m\u001b[0m\u001b[0m\n\u001b[0m\u001b[0;32m   2111\u001b[0m             \u001b[0mself\u001b[0m\u001b[1;33m.\u001b[0m\u001b[0m_operators\u001b[0m\u001b[1;33m[\u001b[0m\u001b[0mself\u001b[0m\u001b[1;33m.\u001b[0m\u001b[0m_index\u001b[0m\u001b[1;33m[\u001b[0m\u001b[0mop\u001b[0m\u001b[1;33m]\u001b[0m\u001b[1;33m]\u001b[0m\u001b[1;33m.\u001b[0m\u001b[0msave\u001b[0m\u001b[1;33m(\u001b[0m\u001b[0mforce\u001b[0m \u001b[1;33m=\u001b[0m \u001b[0mforce\u001b[0m\u001b[1;33m,\u001b[0m \u001b[0msaver\u001b[0m \u001b[1;33m=\u001b[0m \u001b[0mgsaver\u001b[0m\u001b[1;33m)\u001b[0m\u001b[1;33m\u001b[0m\u001b[1;33m\u001b[0m\u001b[0m\n\u001b[0;32m   2112\u001b[0m             \u001b[0mgsaver\u001b[0m\u001b[1;33m[\u001b[0m\u001b[0mself\u001b[0m\u001b[1;33m.\u001b[0m\u001b[0m_operators\u001b[0m\u001b[1;33m[\u001b[0m\u001b[0mself\u001b[0m\u001b[1;33m.\u001b[0m\u001b[0m_index\u001b[0m\u001b[1;33m[\u001b[0m\u001b[0mop\u001b[0m\u001b[1;33m]\u001b[0m\u001b[1;33m]\u001b[0m\u001b[1;33m.\u001b[0m\u001b[0mname\u001b[0m\u001b[1;33m]\u001b[0m\u001b[1;33m.\u001b[0m\u001b[0mattrs\u001b[0m\u001b[1;33m[\u001b[0m\u001b[1;34m'index'\u001b[0m\u001b[1;33m]\u001b[0m \u001b[1;33m=\u001b[0m \u001b[0mop\u001b[0m\u001b[1;33m\u001b[0m\u001b[1;33m\u001b[0m\u001b[0m\n",
      "\u001b[1;32m~\\master\\xxzchain\\xxzchain\\core\\_main.py\u001b[0m in \u001b[0;36msave\u001b[1;34m(self, force, saver)\u001b[0m\n\u001b[0;32m    930\u001b[0m             \u001b[1;32mif\u001b[0m \u001b[1;33m(\u001b[0m\u001b[0mtemp\u001b[0m \u001b[1;33m==\u001b[0m \u001b[0mself\u001b[0m\u001b[1;33m.\u001b[0m\u001b[0m__coef\u001b[0m\u001b[1;33m)\u001b[0m\u001b[1;33m.\u001b[0m\u001b[0mall\u001b[0m\u001b[1;33m(\u001b[0m\u001b[1;33m)\u001b[0m\u001b[1;33m:\u001b[0m\u001b[1;33m\u001b[0m\u001b[1;33m\u001b[0m\u001b[0m\n\u001b[0;32m    931\u001b[0m                 \u001b[1;32mpass\u001b[0m\u001b[1;33m\u001b[0m\u001b[1;33m\u001b[0m\u001b[0m\n\u001b[1;32m--> 932\u001b[1;33m             \u001b[1;32melse\u001b[0m\u001b[1;33m:\u001b[0m\u001b[1;33m\u001b[0m\u001b[1;33m\u001b[0m\u001b[0m\n\u001b[0m\u001b[0;32m    933\u001b[0m                 \u001b[0msaver\u001b[0m\u001b[1;33m[\u001b[0m\u001b[0mself\u001b[0m\u001b[1;33m.\u001b[0m\u001b[0mname\u001b[0m\u001b[1;33m]\u001b[0m \u001b[1;33m=\u001b[0m \u001b[0mself\u001b[0m\u001b[1;33m.\u001b[0m\u001b[0m__coef\u001b[0m\u001b[1;33m\u001b[0m\u001b[1;33m\u001b[0m\u001b[0m\n\u001b[0;32m    934\u001b[0m         \u001b[1;32melse\u001b[0m\u001b[1;33m:\u001b[0m\u001b[1;33m\u001b[0m\u001b[1;33m\u001b[0m\u001b[0m\n",
      "\u001b[1;32m~\\Anaconda3\\lib\\site-packages\\h5py\\_hl\\group.py\u001b[0m in \u001b[0;36m__setitem__\u001b[1;34m(self, name, obj)\u001b[0m\n\u001b[0;32m    300\u001b[0m             \u001b[1;32melse\u001b[0m\u001b[1;33m:\u001b[0m\u001b[1;33m\u001b[0m\u001b[1;33m\u001b[0m\u001b[0m\n\u001b[0;32m    301\u001b[0m                 \u001b[0mds\u001b[0m \u001b[1;33m=\u001b[0m \u001b[0mself\u001b[0m\u001b[1;33m.\u001b[0m\u001b[0mcreate_dataset\u001b[0m\u001b[1;33m(\u001b[0m\u001b[1;32mNone\u001b[0m\u001b[1;33m,\u001b[0m \u001b[0mdata\u001b[0m\u001b[1;33m=\u001b[0m\u001b[0mobj\u001b[0m\u001b[1;33m,\u001b[0m \u001b[0mdtype\u001b[0m\u001b[1;33m=\u001b[0m\u001b[0mbase\u001b[0m\u001b[1;33m.\u001b[0m\u001b[0mguess_dtype\u001b[0m\u001b[1;33m(\u001b[0m\u001b[0mobj\u001b[0m\u001b[1;33m)\u001b[0m\u001b[1;33m)\u001b[0m\u001b[1;33m\u001b[0m\u001b[1;33m\u001b[0m\u001b[0m\n\u001b[1;32m--> 302\u001b[1;33m                 \u001b[0mh5o\u001b[0m\u001b[1;33m.\u001b[0m\u001b[0mlink\u001b[0m\u001b[1;33m(\u001b[0m\u001b[0mds\u001b[0m\u001b[1;33m.\u001b[0m\u001b[0mid\u001b[0m\u001b[1;33m,\u001b[0m \u001b[0mself\u001b[0m\u001b[1;33m.\u001b[0m\u001b[0mid\u001b[0m\u001b[1;33m,\u001b[0m \u001b[0mname\u001b[0m\u001b[1;33m,\u001b[0m \u001b[0mlcpl\u001b[0m\u001b[1;33m=\u001b[0m\u001b[0mlcpl\u001b[0m\u001b[1;33m)\u001b[0m\u001b[1;33m\u001b[0m\u001b[1;33m\u001b[0m\u001b[0m\n\u001b[0m\u001b[0;32m    303\u001b[0m \u001b[1;33m\u001b[0m\u001b[0m\n\u001b[0;32m    304\u001b[0m         \u001b[1;32mif\u001b[0m \u001b[0mdo_link\u001b[0m\u001b[1;33m:\u001b[0m\u001b[1;33m\u001b[0m\u001b[1;33m\u001b[0m\u001b[0m\n",
      "\u001b[1;32mh5py\\_objects.pyx\u001b[0m in \u001b[0;36mh5py._objects.with_phil.wrapper\u001b[1;34m()\u001b[0m\n",
      "\u001b[1;32mh5py\\_objects.pyx\u001b[0m in \u001b[0;36mh5py._objects.with_phil.wrapper\u001b[1;34m()\u001b[0m\n",
      "\u001b[1;32mh5py\\h5o.pyx\u001b[0m in \u001b[0;36mh5py.h5o.link\u001b[1;34m()\u001b[0m\n",
      "\u001b[1;31mRuntimeError\u001b[0m: Unable to create link (name already exists)"
     ]
    }
   ],
   "source": [
    "test.save()"
   ]
  },
  {
   "cell_type": "code",
   "execution_count": 56,
   "metadata": {},
   "outputs": [
    {
     "data": {
      "text/plain": [
       "array([-0.98, -0.98, -0.98, ..., -0.98, -0.98, -0.98])"
      ]
     },
     "execution_count": 56,
     "metadata": {},
     "output_type": "execute_result"
    }
   ],
   "source": [
    "Hinis[6].get_eigenvalue(test.get_basis(7,0))"
   ]
  },
  {
   "cell_type": "code",
   "execution_count": 45,
   "metadata": {},
   "outputs": [
    {
     "data": {
      "text/plain": [
       "{}"
      ]
     },
     "execution_count": 45,
     "metadata": {},
     "output_type": "execute_result"
    }
   ],
   "source": [
    "Hinis._index"
   ]
  },
  {
   "cell_type": "code",
   "execution_count": 12,
   "metadata": {},
   "outputs": [],
   "source": [
    "Hinis, Hfins = test.get_operator('Hinis'), test.get_operator(\"Hfins\")"
   ]
  },
  {
   "cell_type": "code",
   "execution_count": 13,
   "metadata": {},
   "outputs": [
    {
     "data": {
      "text/plain": [
       "{0: '0.06', 1: '0.02', 2: '0.04', 3: '0.08', 4: '0.16', 5: '0.32', 6: '0.48'}"
      ]
     },
     "execution_count": 13,
     "metadata": {},
     "output_type": "execute_result"
    }
   ],
   "source": [
    "Hinis._index"
   ]
  },
  {
   "cell_type": "code",
   "execution_count": 136,
   "metadata": {},
   "outputs": [
    {
     "data": {
      "text/plain": [
       "'Hinis.0.48'"
      ]
     },
     "execution_count": 136,
     "metadata": {},
     "output_type": "execute_result"
    }
   ],
   "source": [
    "ini.name"
   ]
  },
  {
   "cell_type": "code",
   "execution_count": 137,
   "metadata": {},
   "outputs": [
    {
     "name": "stdout",
     "output_type": "stream",
     "text": [
      "Initializing.... it may takes few minutes.\n"
     ]
    },
    {
     "ename": "KeyboardInterrupt",
     "evalue": "",
     "output_type": "error",
     "traceback": [
      "\u001b[1;31m---------------------------------------------------------------------------\u001b[0m",
      "\u001b[1;31mKeyboardInterrupt\u001b[0m                         Traceback (most recent call last)",
      "\u001b[1;32m<ipython-input-137-fa4a67060021>\u001b[0m in \u001b[0;36m<module>\u001b[1;34m\u001b[0m\n\u001b[0;32m      1\u001b[0m \u001b[1;32mfor\u001b[0m \u001b[0mini\u001b[0m\u001b[1;33m,\u001b[0m \u001b[0mfin\u001b[0m \u001b[1;32min\u001b[0m \u001b[0mzip\u001b[0m\u001b[1;33m(\u001b[0m\u001b[0mHinis\u001b[0m\u001b[1;33m,\u001b[0m \u001b[0mHfins\u001b[0m\u001b[1;33m)\u001b[0m\u001b[1;33m:\u001b[0m\u001b[1;33m\u001b[0m\u001b[1;33m\u001b[0m\u001b[0m\n\u001b[0;32m      2\u001b[0m     \u001b[1;32mdel\u001b[0m \u001b[0mtest\u001b[0m\u001b[1;33m.\u001b[0m\u001b[0msaver\u001b[0m\u001b[1;33m[\u001b[0m\u001b[1;34m'basis/(7,{},0,0)/{}'\u001b[0m\u001b[1;33m.\u001b[0m\u001b[0mformat\u001b[0m\u001b[1;33m(\u001b[0m\u001b[1;36m0\u001b[0m\u001b[1;33m,\u001b[0m \u001b[0mini\u001b[0m\u001b[1;33m.\u001b[0m\u001b[0mname\u001b[0m\u001b[1;33m)\u001b[0m\u001b[1;33m]\u001b[0m\u001b[1;33m\u001b[0m\u001b[1;33m\u001b[0m\u001b[0m\n\u001b[1;32m----> 3\u001b[1;33m     \u001b[0mini\u001b[0m\u001b[1;33m.\u001b[0m\u001b[0mget_eigenvalue\u001b[0m\u001b[1;33m(\u001b[0m\u001b[0mtest\u001b[0m\u001b[1;33m.\u001b[0m\u001b[0mget_basis\u001b[0m\u001b[1;33m(\u001b[0m\u001b[1;36m7\u001b[0m\u001b[1;33m,\u001b[0m\u001b[1;36m0\u001b[0m\u001b[1;33m)\u001b[0m\u001b[1;33m)\u001b[0m\u001b[1;33m\u001b[0m\u001b[1;33m\u001b[0m\u001b[0m\n\u001b[0m",
      "\u001b[1;32m~\\master\\xxzchain\\xxzchain\\core\\_main.py\u001b[0m in \u001b[0;36mget_eigenvalue\u001b[1;34m(self, basis)\u001b[0m\n\u001b[0;32m   1122\u001b[0m     \u001b[1;32mdef\u001b[0m \u001b[0mget_eigenvalue\u001b[0m\u001b[1;33m(\u001b[0m\u001b[0mself\u001b[0m\u001b[1;33m,\u001b[0m \u001b[0mbasis\u001b[0m\u001b[1;33m)\u001b[0m\u001b[1;33m:\u001b[0m\u001b[1;33m\u001b[0m\u001b[1;33m\u001b[0m\u001b[0m\n\u001b[0;32m   1123\u001b[0m         \u001b[1;32mif\u001b[0m \u001b[1;32mnot\u001b[0m \u001b[0mbasis\u001b[0m\u001b[1;33m.\u001b[0m\u001b[0mdata\u001b[0m\u001b[1;33m.\u001b[0m\u001b[0mget\u001b[0m\u001b[1;33m(\u001b[0m\u001b[0mself\u001b[0m\u001b[1;33m.\u001b[0m\u001b[0mname\u001b[0m\u001b[1;33m,\u001b[0m\u001b[1;32mFalse\u001b[0m\u001b[1;33m)\u001b[0m\u001b[1;33m:\u001b[0m\u001b[1;33m\u001b[0m\u001b[1;33m\u001b[0m\u001b[0m\n\u001b[1;32m-> 1124\u001b[1;33m             \u001b[0mprint\u001b[0m\u001b[1;33m(\u001b[0m\u001b[1;34m\"Initializing.... it may takes few minutes.\"\u001b[0m\u001b[1;33m)\u001b[0m\u001b[1;33m\u001b[0m\u001b[1;33m\u001b[0m\u001b[0m\n\u001b[0m\u001b[0;32m   1125\u001b[0m             \u001b[0mself\u001b[0m\u001b[1;33m.\u001b[0m\u001b[0msolve_on\u001b[0m\u001b[1;33m(\u001b[0m\u001b[0mbasis\u001b[0m\u001b[1;33m)\u001b[0m\u001b[1;33m\u001b[0m\u001b[1;33m\u001b[0m\u001b[0m\n\u001b[0;32m   1126\u001b[0m         \u001b[1;32mreturn\u001b[0m \u001b[0mbasis\u001b[0m\u001b[1;33m.\u001b[0m\u001b[0mdata\u001b[0m\u001b[1;33m[\u001b[0m\u001b[0mself\u001b[0m\u001b[1;33m.\u001b[0m\u001b[0mname\u001b[0m\u001b[1;33m]\u001b[0m\u001b[1;33m[\u001b[0m\u001b[1;34m'eigenvalue'\u001b[0m\u001b[1;33m]\u001b[0m\u001b[1;33m[\u001b[0m\u001b[1;33m:\u001b[0m\u001b[1;33m]\u001b[0m\u001b[1;33m\u001b[0m\u001b[1;33m\u001b[0m\u001b[0m\n",
      "\u001b[1;32m~\\master\\xxzchain\\xxzchain\\core\\_main.py\u001b[0m in \u001b[0;36msolve_on\u001b[1;34m(self, basis)\u001b[0m\n\u001b[0;32m   1112\u001b[0m             \u001b[0mprint\u001b[0m\u001b[1;33m(\u001b[0m\u001b[1;34m\"For Solving eigenvalue problem, Operator must have its own name.\"\u001b[0m\u001b[1;33m)\u001b[0m\u001b[1;33m\u001b[0m\u001b[1;33m\u001b[0m\u001b[0m\n\u001b[0;32m   1113\u001b[0m             \u001b[1;32mreturn\u001b[0m\u001b[1;33m\u001b[0m\u001b[1;33m\u001b[0m\u001b[0m\n\u001b[1;32m-> 1114\u001b[1;33m \u001b[1;33m\u001b[0m\u001b[0m\n\u001b[0m\u001b[0;32m   1115\u001b[0m         \u001b[0mval\u001b[0m\u001b[1;33m,\u001b[0m \u001b[0mvec\u001b[0m \u001b[1;33m=\u001b[0m \u001b[0mnp\u001b[0m\u001b[1;33m.\u001b[0m\u001b[0mlinalg\u001b[0m\u001b[1;33m.\u001b[0m\u001b[0meigh\u001b[0m\u001b[1;33m(\u001b[0m\u001b[0mself\u001b[0m\u001b[1;33m.\u001b[0m\u001b[0mget_matrix\u001b[0m\u001b[1;33m(\u001b[0m\u001b[0mbasis\u001b[0m\u001b[1;33m)\u001b[0m\u001b[1;33m)\u001b[0m\u001b[1;33m\u001b[0m\u001b[1;33m\u001b[0m\u001b[0m\n\u001b[0;32m   1116\u001b[0m         \u001b[0mself\u001b[0m\u001b[1;33m.\u001b[0m\u001b[0m__initial\u001b[0m\u001b[1;33m.\u001b[0m\u001b[0mappend\u001b[0m\u001b[1;33m(\u001b[0m\u001b[1;34m'basis/({},{},{},{})'\u001b[0m\u001b[1;33m.\u001b[0m\u001b[0mformat\u001b[0m\u001b[1;33m(\u001b[0m\u001b[1;33m*\u001b[0m\u001b[0mbasis\u001b[0m\u001b[1;33m.\u001b[0m\u001b[0msymmetry\u001b[0m\u001b[1;33m)\u001b[0m\u001b[1;33m)\u001b[0m\u001b[1;33m\u001b[0m\u001b[1;33m\u001b[0m\u001b[0m\n",
      "\u001b[1;32m~\\master\\xxzchain\\xxzchain\\core\\_main.py\u001b[0m in \u001b[0;36mget_matrix\u001b[1;34m(self, basis, eigen, use_gpu)\u001b[0m\n\u001b[0;32m   1033\u001b[0m             \u001b[1;32mif\u001b[0m \u001b[0mlen\u001b[0m\u001b[1;33m(\u001b[0m\u001b[0morigin\u001b[0m\u001b[1;33m)\u001b[0m\u001b[1;33m==\u001b[0m \u001b[1;36m0\u001b[0m \u001b[1;33m:\u001b[0m \u001b[1;32mcontinue\u001b[0m\u001b[1;33m\u001b[0m\u001b[1;33m\u001b[0m\u001b[0m\n\u001b[0;32m   1034\u001b[0m \u001b[1;33m\u001b[0m\u001b[0m\n\u001b[1;32m-> 1035\u001b[1;33m             \u001b[0mvalue\u001b[0m \u001b[1;33m=\u001b[0m \u001b[0mnp\u001b[0m\u001b[1;33m.\u001b[0m\u001b[0marray\u001b[0m\u001b[1;33m(\u001b[0m\u001b[1;33m[\u001b[0m\u001b[0mresult\u001b[0m\u001b[1;33m[\u001b[0m\u001b[0mst\u001b[0m\u001b[1;33m]\u001b[0m \u001b[1;32mfor\u001b[0m \u001b[0mst\u001b[0m \u001b[1;32min\u001b[0m \u001b[0mresult\u001b[0m \u001b[1;32mif\u001b[0m \u001b[1;32mnot\u001b[0m \u001b[0mst\u001b[0m\u001b[1;33m<\u001b[0m\u001b[1;36m0\u001b[0m\u001b[1;33m]\u001b[0m\u001b[1;33m)\u001b[0m\u001b[1;33m\u001b[0m\u001b[1;33m\u001b[0m\u001b[0m\n\u001b[0m\u001b[0;32m   1036\u001b[0m             \u001b[0mtarget\u001b[0m\u001b[1;33m,\u001b[0m \u001b[0mcoef\u001b[0m \u001b[1;33m=\u001b[0m \u001b[0mbasis\u001b[0m\u001b[1;33m.\u001b[0m\u001b[0mconvert\u001b[0m\u001b[1;33m(\u001b[0m\u001b[0morigin\u001b[0m\u001b[1;33m)\u001b[0m\u001b[1;33m\u001b[0m\u001b[1;33m\u001b[0m\u001b[0m\n\u001b[0;32m   1037\u001b[0m             \u001b[1;31m#print(\"target : {}\".format(target))\u001b[0m\u001b[1;33m\u001b[0m\u001b[1;33m\u001b[0m\u001b[1;33m\u001b[0m\u001b[0m\n",
      "\u001b[1;32m~\\Anaconda3\\lib\\site-packages\\numpy\\lib\\function_base.py\u001b[0m in \u001b[0;36m__call__\u001b[1;34m(self, *args, **kwargs)\u001b[0m\n\u001b[0;32m   1970\u001b[0m             \u001b[0mvargs\u001b[0m\u001b[1;33m.\u001b[0m\u001b[0mextend\u001b[0m\u001b[1;33m(\u001b[0m\u001b[1;33m[\u001b[0m\u001b[0mkwargs\u001b[0m\u001b[1;33m[\u001b[0m\u001b[0m_n\u001b[0m\u001b[1;33m]\u001b[0m \u001b[1;32mfor\u001b[0m \u001b[0m_n\u001b[0m \u001b[1;32min\u001b[0m \u001b[0mnames\u001b[0m\u001b[1;33m]\u001b[0m\u001b[1;33m)\u001b[0m\u001b[1;33m\u001b[0m\u001b[1;33m\u001b[0m\u001b[0m\n\u001b[0;32m   1971\u001b[0m \u001b[1;33m\u001b[0m\u001b[0m\n\u001b[1;32m-> 1972\u001b[1;33m         \u001b[1;32mreturn\u001b[0m \u001b[0mself\u001b[0m\u001b[1;33m.\u001b[0m\u001b[0m_vectorize_call\u001b[0m\u001b[1;33m(\u001b[0m\u001b[0mfunc\u001b[0m\u001b[1;33m=\u001b[0m\u001b[0mfunc\u001b[0m\u001b[1;33m,\u001b[0m \u001b[0margs\u001b[0m\u001b[1;33m=\u001b[0m\u001b[0mvargs\u001b[0m\u001b[1;33m)\u001b[0m\u001b[1;33m\u001b[0m\u001b[1;33m\u001b[0m\u001b[0m\n\u001b[0m\u001b[0;32m   1973\u001b[0m \u001b[1;33m\u001b[0m\u001b[0m\n\u001b[0;32m   1974\u001b[0m     \u001b[1;32mdef\u001b[0m \u001b[0m_get_ufunc_and_otypes\u001b[0m\u001b[1;33m(\u001b[0m\u001b[0mself\u001b[0m\u001b[1;33m,\u001b[0m \u001b[0mfunc\u001b[0m\u001b[1;33m,\u001b[0m \u001b[0margs\u001b[0m\u001b[1;33m)\u001b[0m\u001b[1;33m:\u001b[0m\u001b[1;33m\u001b[0m\u001b[1;33m\u001b[0m\u001b[0m\n",
      "\u001b[1;32m~\\Anaconda3\\lib\\site-packages\\numpy\\lib\\function_base.py\u001b[0m in \u001b[0;36m_vectorize_call\u001b[1;34m(self, func, args)\u001b[0m\n\u001b[0;32m   2046\u001b[0m                       for a in args]\n\u001b[0;32m   2047\u001b[0m \u001b[1;33m\u001b[0m\u001b[0m\n\u001b[1;32m-> 2048\u001b[1;33m             \u001b[0moutputs\u001b[0m \u001b[1;33m=\u001b[0m \u001b[0mufunc\u001b[0m\u001b[1;33m(\u001b[0m\u001b[1;33m*\u001b[0m\u001b[0minputs\u001b[0m\u001b[1;33m)\u001b[0m\u001b[1;33m\u001b[0m\u001b[1;33m\u001b[0m\u001b[0m\n\u001b[0m\u001b[0;32m   2049\u001b[0m \u001b[1;33m\u001b[0m\u001b[0m\n\u001b[0;32m   2050\u001b[0m             \u001b[1;32mif\u001b[0m \u001b[0mufunc\u001b[0m\u001b[1;33m.\u001b[0m\u001b[0mnout\u001b[0m \u001b[1;33m==\u001b[0m \u001b[1;36m1\u001b[0m\u001b[1;33m:\u001b[0m\u001b[1;33m\u001b[0m\u001b[1;33m\u001b[0m\u001b[0m\n",
      "\u001b[1;32m~\\master\\xxzchain\\xxzchain\\core\\_main.py\u001b[0m in \u001b[0;36mconvert\u001b[1;34m(self, x)\u001b[0m\n\u001b[0;32m    730\u001b[0m         \u001b[1;32mreturn\u001b[0m \u001b[0mself\u001b[0m\u001b[1;33m.\u001b[0m\u001b[0m__period\u001b[0m\u001b[1;33m[\u001b[0m\u001b[0mtarget\u001b[0m\u001b[1;33m]\u001b[0m\u001b[1;33m\u001b[0m\u001b[1;33m\u001b[0m\u001b[0m\n\u001b[0;32m    731\u001b[0m \u001b[1;33m\u001b[0m\u001b[0m\n\u001b[1;32m--> 732\u001b[1;33m     \u001b[1;32mdef\u001b[0m \u001b[0mconvert\u001b[0m\u001b[1;33m(\u001b[0m\u001b[0mself\u001b[0m\u001b[1;33m,\u001b[0m \u001b[0mx\u001b[0m\u001b[1;33m)\u001b[0m\u001b[1;33m:\u001b[0m\u001b[1;33m\u001b[0m\u001b[1;33m\u001b[0m\u001b[0m\n\u001b[0m\u001b[0;32m    733\u001b[0m         \u001b[0maddress\u001b[0m \u001b[1;33m=\u001b[0m \u001b[0mself\u001b[0m\u001b[1;33m.\u001b[0m\u001b[0mfind\u001b[0m\u001b[1;33m(\u001b[0m\u001b[0mx\u001b[0m\u001b[1;33m)\u001b[0m\u001b[1;33m\u001b[0m\u001b[1;33m\u001b[0m\u001b[0m\n\u001b[0;32m    734\u001b[0m         \u001b[0mcoef\u001b[0m \u001b[1;33m=\u001b[0m \u001b[1;36m1\u001b[0m\u001b[1;33m\u001b[0m\u001b[1;33m\u001b[0m\u001b[0m\n",
      "\u001b[1;32m~\\Anaconda3\\lib\\site-packages\\numpy\\lib\\function_base.py\u001b[0m in \u001b[0;36m__call__\u001b[1;34m(self, *args, **kwargs)\u001b[0m\n\u001b[0;32m   1970\u001b[0m             \u001b[0mvargs\u001b[0m\u001b[1;33m.\u001b[0m\u001b[0mextend\u001b[0m\u001b[1;33m(\u001b[0m\u001b[1;33m[\u001b[0m\u001b[0mkwargs\u001b[0m\u001b[1;33m[\u001b[0m\u001b[0m_n\u001b[0m\u001b[1;33m]\u001b[0m \u001b[1;32mfor\u001b[0m \u001b[0m_n\u001b[0m \u001b[1;32min\u001b[0m \u001b[0mnames\u001b[0m\u001b[1;33m]\u001b[0m\u001b[1;33m)\u001b[0m\u001b[1;33m\u001b[0m\u001b[1;33m\u001b[0m\u001b[0m\n\u001b[0;32m   1971\u001b[0m \u001b[1;33m\u001b[0m\u001b[0m\n\u001b[1;32m-> 1972\u001b[1;33m         \u001b[1;32mreturn\u001b[0m \u001b[0mself\u001b[0m\u001b[1;33m.\u001b[0m\u001b[0m_vectorize_call\u001b[0m\u001b[1;33m(\u001b[0m\u001b[0mfunc\u001b[0m\u001b[1;33m=\u001b[0m\u001b[0mfunc\u001b[0m\u001b[1;33m,\u001b[0m \u001b[0margs\u001b[0m\u001b[1;33m=\u001b[0m\u001b[0mvargs\u001b[0m\u001b[1;33m)\u001b[0m\u001b[1;33m\u001b[0m\u001b[1;33m\u001b[0m\u001b[0m\n\u001b[0m\u001b[0;32m   1973\u001b[0m \u001b[1;33m\u001b[0m\u001b[0m\n\u001b[0;32m   1974\u001b[0m     \u001b[1;32mdef\u001b[0m \u001b[0m_get_ufunc_and_otypes\u001b[0m\u001b[1;33m(\u001b[0m\u001b[0mself\u001b[0m\u001b[1;33m,\u001b[0m \u001b[0mfunc\u001b[0m\u001b[1;33m,\u001b[0m \u001b[0margs\u001b[0m\u001b[1;33m)\u001b[0m\u001b[1;33m:\u001b[0m\u001b[1;33m\u001b[0m\u001b[1;33m\u001b[0m\u001b[0m\n",
      "\u001b[1;32m~\\Anaconda3\\lib\\site-packages\\numpy\\lib\\function_base.py\u001b[0m in \u001b[0;36m_vectorize_call\u001b[1;34m(self, func, args)\u001b[0m\n\u001b[0;32m   2044\u001b[0m             \u001b[1;31m# Convert args to object arrays first\u001b[0m\u001b[1;33m\u001b[0m\u001b[1;33m\u001b[0m\u001b[1;33m\u001b[0m\u001b[0m\n\u001b[0;32m   2045\u001b[0m             inputs = [array(a, copy=False, subok=True, dtype=object)\n\u001b[1;32m-> 2046\u001b[1;33m                       for a in args]\n\u001b[0m\u001b[0;32m   2047\u001b[0m \u001b[1;33m\u001b[0m\u001b[0m\n\u001b[0;32m   2048\u001b[0m             \u001b[0moutputs\u001b[0m \u001b[1;33m=\u001b[0m \u001b[0mufunc\u001b[0m\u001b[1;33m(\u001b[0m\u001b[1;33m*\u001b[0m\u001b[0minputs\u001b[0m\u001b[1;33m)\u001b[0m\u001b[1;33m\u001b[0m\u001b[1;33m\u001b[0m\u001b[0m\n",
      "\u001b[1;32m~\\Anaconda3\\lib\\site-packages\\numpy\\lib\\function_base.py\u001b[0m in \u001b[0;36m<listcomp>\u001b[1;34m(.0)\u001b[0m\n\u001b[0;32m   2044\u001b[0m             \u001b[1;31m# Convert args to object arrays first\u001b[0m\u001b[1;33m\u001b[0m\u001b[1;33m\u001b[0m\u001b[1;33m\u001b[0m\u001b[0m\n\u001b[0;32m   2045\u001b[0m             inputs = [array(a, copy=False, subok=True, dtype=object)\n\u001b[1;32m-> 2046\u001b[1;33m                       for a in args]\n\u001b[0m\u001b[0;32m   2047\u001b[0m \u001b[1;33m\u001b[0m\u001b[0m\n\u001b[0;32m   2048\u001b[0m             \u001b[0moutputs\u001b[0m \u001b[1;33m=\u001b[0m \u001b[0mufunc\u001b[0m\u001b[1;33m(\u001b[0m\u001b[1;33m*\u001b[0m\u001b[0minputs\u001b[0m\u001b[1;33m)\u001b[0m\u001b[1;33m\u001b[0m\u001b[1;33m\u001b[0m\u001b[0m\n",
      "\u001b[1;31mKeyboardInterrupt\u001b[0m: "
     ]
    }
   ],
   "source": [
    "for ini, fin in zip(Hinis, Hfins):\n",
    "    del test.saver['basis/(7,{},0,0)/{}'.format(0, ini.name)]\n",
    "    ini.get_eigenvalue(test.get_basis(7,0))\n"
   ]
  },
  {
   "cell_type": "code",
   "execution_count": 17,
   "metadata": {},
   "outputs": [
    {
     "name": "stdout",
     "output_type": "stream",
     "text": [
      "same operator name exist. set_name() please.\n",
      "same operator name exist. set_name() please.\n",
      "same operator name exist. set_name() please.\n",
      "same operator name exist. set_name() please.\n"
     ]
    }
   ],
   "source": [
    "xxz.preset(test, globals())"
   ]
  },
  {
   "cell_type": "code",
   "execution_count": 5,
   "metadata": {},
   "outputs": [],
   "source": [
    "H_ini1 = xxz.Operator.Null(test)\n",
    "t = 0.5\n",
    "V = 2.0\n",
    "t_ = 0.12\n",
    "V_ = 0.12\n",
    "for i in test.range:\n",
    "    H_ini1 += -t*hopping.index(i,i+1)+V*(n_i.index(i)-1/2)@(n_i.index(i+1)-1/2)\n",
    "    H_ini1 += -t_*hopping.index(i,i+2)+V_*(n_i.index(i)-1/2)@(n_i.index(i+2)-1/2)\n",
    "H_ini1.set_name(\"H_ini1\")\n",
    "\n",
    "H_ini2 = xxz.Operator.Null(test)\n",
    "t = 0.5\n",
    "V = 2.0\n",
    "t_ = 0.03\n",
    "V_ = 0.03\n",
    "for i in test.range:\n",
    "    H_ini2 += -t*hopping.index(i,i+1)+V*(n_i.index(i)-1/2)@(n_i.index(i+1)-1/2)\n",
    "    H_ini2 += -t_*hopping.index(i,i+2)+V_*(n_i.index(i)-1/2)@(n_i.index(i+2)-1/2)\n",
    "H_ini2.set_name(\"H_ini2\")\n",
    "\n",
    "H_ini3 = xxz.Operator.Null(test)\n",
    "t = 0.5\n",
    "V = 2.0\n",
    "for i in test.range:\n",
    "    H_ini3 += -t*hopping.index(i,i+1)+V*(n_i.index(i)-1/2)@(n_i.index(i+1)-1/2)\n",
    "H_ini3.set_name(\"H_ini3\")\n",
    "\n",
    "H_fin1 = xxz.Operator.Null(test)\n",
    "t = 1.0\n",
    "V = 1.0\n",
    "t_ = 0.12\n",
    "V_ = 0.12\n",
    "for i in test.range:\n",
    "    H_fin1 += -t*hopping.index(i,i+1)+V*(n_i.index(i)-1/2)@(n_i.index(i+1)-1/2)\n",
    "    H_fin1 += -t_*hopping.index(i,i+2)+V_*(n_i.index(i)-1/2)@(n_i.index(i+2)-1/2)\n",
    "H_fin1.set_name(\"H_fin1\")\n",
    "\n",
    "H_fin2 = xxz.Operator.Null(test)\n",
    "t = 1.0\n",
    "V = 1.0\n",
    "t_ = 0.03\n",
    "V_ = 0.03\n",
    "for i in test.range:\n",
    "    H_fin2 += -t*hopping.index(i,i+1)+V*(n_i.index(i)-1/2)@(n_i.index(i+1)-1/2)\n",
    "    H_fin2 += -t_*hopping.index(i,i+2)+V_*(n_i.index(i)-1/2)@(n_i.index(i+2)-1/2)\n",
    "H_fin2.set_name(\"H_fin2\")\n",
    "\n",
    "H_fin3 = xxz.Operator.Null(test)\n",
    "t = 1.0\n",
    "V = 1.0\n",
    "for i in test.range:\n",
    "    H_fin3 += -t*hopping.index(i,i+1)+V*(n_i.index(i)-1/2)@(n_i.index(i+1)-1/2)\n",
    "    #H_fin1 += -t_*hopping.index(i,i+2)+V_*(n_i.index(i)-1/2)@(n_i.index(i+2)-1/2)\n",
    "H_fin3.set_name(\"H_fin3\")"
   ]
  },
  {
   "cell_type": "code",
   "execution_count": 19,
   "metadata": {},
   "outputs": [
    {
     "name": "stdout",
     "output_type": "stream",
     "text": [
      "same operator name exist. set_name() please.\n"
     ]
    }
   ],
   "source": [
    "n = xxz.OperatorGroup(test,'n')\n",
    "n.set_name('n')\n",
    "for k in test.range:\n",
    "    temp = xxz.Operator.Null(test)\n",
    "    for i in test.range:\n",
    "        for j in test.range:\n",
    "            temp += np.exp(-1j*k*2*np.pi*(i-j)/test.size)/test.size*b_i_dag.index(i)@b_i.index(j)\n",
    "    n[k] = temp"
   ]
  },
  {
   "cell_type": "code",
   "execution_count": 20,
   "metadata": {},
   "outputs": [],
   "source": [
    "N = xxz.OperatorGroup(test, 'N')\n",
    "for k in test.range:\n",
    "    temp = xxz.Operator.Null(test)\n",
    "    for i in test.range:\n",
    "        for j in test.range:\n",
    "            temp += np.exp(-1j*2*k*np.pi*(i-j)/test.size)/test.size*n_i.index(i)@n_i.index(j)\n",
    "    N[k] = temp"
   ]
  },
  {
   "cell_type": "code",
   "execution_count": 21,
   "metadata": {},
   "outputs": [],
   "source": [
    "test.save()"
   ]
  },
  {
   "cell_type": "code",
   "execution_count": 60,
   "metadata": {},
   "outputs": [],
   "source": [
    "oHfins = [test.get_operator('H_fin{}'.format(i)) for i in range(1,4)]"
   ]
  },
  {
   "cell_type": "code",
   "execution_count": 61,
   "metadata": {},
   "outputs": [],
   "source": [
    "oHfins.insert(0, test.get_operator('H_fin'))"
   ]
  },
  {
   "cell_type": "code",
   "execution_count": 63,
   "metadata": {},
   "outputs": [],
   "source": [
    "energys = [[]for i in range(4)]\n",
    "for i,fins in enumerate(oHfins):\n",
    "    for k in range(test.size):\n",
    "        for e in fins.get_eigenvalue(test.get_basis(7,k)):\n",
    "            energys[i].append(e)\n",
    "\n",
    "energys = np.array(energys)\n",
    "\n",
    "eff_Ts = [[] for i in range(4)]\n",
    "E_sets = [[] for i in range(4)]\n",
    "\n",
    "for i in range(2):\n",
    "    beta = 1/3*(i+1)\n",
    "    partition = temper(partition_f,beta)\n",
    "    Z = [partition(energys[j]).sum() for j in range(4)]\n",
    "    for hi in range(4):\n",
    "        eff_Ts[hi].append(1/beta)\n",
    "        E_sets[hi].append((energys[hi]*partition(energys[hi])/Z[hi]).sum())\n",
    "\n",
    "Energys = []\n",
    "for hi,hf in zip(Hinis,Hfins):\n",
    "    Energys.append(hf.expectation(hi.get_eigenstates(test.get_basis(7,0))))"
   ]
  },
  {
   "cell_type": "code",
   "execution_count": 64,
   "metadata": {},
   "outputs": [
    {
     "data": {
      "text/plain": [
       "[[-3.853686973319782, -8.003947901405713],\n",
       " [-3.576442250140197, -7.273986244627481],\n",
       " [-3.436666389091025, -6.839020797073314],\n",
       " [-3.4029336835835804, -6.716062828543377]]"
      ]
     },
     "execution_count": 64,
     "metadata": {},
     "output_type": "execute_result"
    }
   ],
   "source": [
    "E_sets"
   ]
  },
  {
   "cell_type": "code",
   "execution_count": 22,
   "metadata": {},
   "outputs": [],
   "source": [
    "energys = []\n",
    "for i,fins in enumerate(Hfins):\n",
    "    energys.append([])\n",
    "    for k in range(test.size):\n",
    "        for e in fins.get_eigenvalue(test.get_basis(7,k)):\n",
    "            energys[i].append(e)\n",
    "\n",
    "energys = np.array(energys)\n",
    "\n",
    "eff_Ts = [[] for i in range(len(Hfins))]\n",
    "E_sets = [[] for i in range(len(Hfins))]\n",
    "\n",
    "for beta in [1/3,1/2]:\n",
    "    partition = temper(partition_f,beta)\n",
    "    Z = [partition(energys[j]).sum() for j in range(len(Hfins))]\n",
    "    for hi in range(len(Hfins)):\n",
    "        eff_Ts[hi].append(1/beta)\n",
    "        E_sets[hi].append((energys[hi]*partition(energys[hi])/Z[hi]).sum())"
   ]
  },
  {
   "cell_type": "code",
   "execution_count": 59,
   "metadata": {},
   "outputs": [],
   "source": [
    "Energys = []\n",
    "for hi,hf in zip(Hinis,Hfins):\n",
    "    Energys.append(hf.expectation(hi.get_eigenstates(test.get_basis(7,0))))"
   ]
  },
  {
   "cell_type": "code",
   "execution_count": 26,
   "metadata": {},
   "outputs": [
    {
     "data": {
      "text/plain": [
       "array([[-13.21171619, -11.8193679 , -10.72420534, ...,   8.73127223,\n",
       "          8.93502151,   9.15140762],\n",
       "       [ -1.02      ,  -1.02      ,  -1.02      , ...,   8.90275602,\n",
       "          9.13260978,   9.36455059],\n",
       "       [ -1.04      ,  -1.04      ,  -1.04      , ...,   8.81635334,\n",
       "          9.03345273,   9.25732646],\n",
       "       ...,\n",
       "       [ -1.16      ,  -1.16      ,  -1.16      , ...,   8.32778373,\n",
       "          8.45488516,   8.64394962],\n",
       "       [ -1.32      ,  -1.32      ,  -1.32      , ...,   7.75093817,\n",
       "          7.78351509,   7.9373643 ],\n",
       "       [ -1.48      ,  -1.48      ,  -1.48      , ...,   7.64955509,\n",
       "          7.65881761,   7.71693152]])"
      ]
     },
     "execution_count": 26,
     "metadata": {},
     "output_type": "execute_result"
    }
   ],
   "source": [
    "energys"
   ]
  },
  {
   "cell_type": "code",
   "execution_count": 78,
   "metadata": {},
   "outputs": [
    {
     "data": {
      "text/plain": [
       "(105,)"
      ]
     },
     "execution_count": 78,
     "metadata": {},
     "output_type": "execute_result"
    }
   ],
   "source": [
    "Hfins[0].coef.shape"
   ]
  },
  {
   "cell_type": "code",
   "execution_count": 24,
   "metadata": {},
   "outputs": [
    {
     "data": {
      "text/plain": [
       "[0.06, 0.02, 0.04, 0.08, 0.16, 0.32, 0.48]"
      ]
     },
     "execution_count": 24,
     "metadata": {},
     "output_type": "execute_result"
    }
   ],
   "source": [
    "Hcoef"
   ]
  },
  {
   "cell_type": "code",
   "execution_count": 23,
   "metadata": {},
   "outputs": [
    {
     "data": {
      "text/plain": [
       "[[-3.4768100946020093, -5.339349083805162],\n",
       " [-3.3252521835122635, -5.117452323612232],\n",
       " [-3.349054947938319, -5.170504539003451],\n",
       " [-3.4049680687001485, -5.288642936828657],\n",
       " [-3.5502030349968607, -5.573017258835767],\n",
       " [-3.975407187303789, -6.332141616453549],\n",
       " [-4.5813461823335615, -7.336154551623014]]"
      ]
     },
     "execution_count": 23,
     "metadata": {},
     "output_type": "execute_result"
    }
   ],
   "source": [
    "E_sets"
   ]
  },
  {
   "cell_type": "code",
   "execution_count": 149,
   "metadata": {},
   "outputs": [
    {
     "data": {
      "text/plain": [
       "0.0"
      ]
     },
     "execution_count": 149,
     "metadata": {},
     "output_type": "execute_result"
    }
   ],
   "source": [
    "np.array([]).sum()"
   ]
  },
  {
   "cell_type": "code",
   "execution_count": 158,
   "metadata": {},
   "outputs": [],
   "source": [
    "energys = [[]for i in range(4)]\n",
    "for i,fins in enumerate(Hfins):\n",
    "    for k in range(test.size):\n",
    "        for e in fins.get_eigenvalue(test.get_basis(7,k)):\n",
    "            energys[i].append(e)\n",
    "\n",
    "energys = np.array(energys)"
   ]
  },
  {
   "cell_type": "code",
   "execution_count": 174,
   "metadata": {},
   "outputs": [
    {
     "data": {
      "text/plain": [
       "'for hi in range(4):\\neff_Ts[hi].append(1/beta)\\nE_sets[hi].append((energys[hi]*partition(energys[hi])/Z[hi]).sum())'"
      ]
     },
     "execution_count": 174,
     "metadata": {},
     "output_type": "execute_result"
    }
   ],
   "source": [
    "neff_Ts = [[] for i in range(4)]\n",
    "nE_sets = [[] for i in range(4)]\n",
    "\n",
    "for i in range(100):\n",
    "    beta = 1/3*(i+1)\n",
    "    partition = temper(partition_f,beta)\n",
    "    Z = [0 for j in range(4)]\n",
    "    for j in range(4):\n",
    "        ge = energys[j].min()/beta\n",
    "        eset = energys[j]/beta\n",
    "        Z[j]+=partition(energys[j][eset>=ge+32]).sum()\n",
    "        Z[j]+=partition(energys[j][np.logical_and(eset>=ge+24,eset<ge+32)]).sum()\n",
    "        \n",
    "        Z[j]+=partition(energys[j][np.logical_and(eset>=ge+16,eset<ge+24)]).sum()\n",
    "        Z[j]+=partition(energys[j][np.logical_and(eset>=ge+8,eset<ge+16)]).sum()\n",
    "        Z[j]+=partition(energys[j][eset<ge+8]).sum()\n",
    "        neff_Ts[j].append(1/beta)\n",
    "        bf = energys[j]*partition(energys[j])/Z[j]\n",
    "        nE_sets[j].append(bf.sum())\n",
    "'''for hi in range(4):\n",
    "eff_Ts[hi].append(1/beta)\n",
    "E_sets[hi].append((energys[hi]*partition(energys[hi])/Z[hi]).sum())'''"
   ]
  },
  {
   "cell_type": "code",
   "execution_count": 42,
   "metadata": {},
   "outputs": [],
   "source": [
    "Energys = []\n",
    "for hi,hf in zip(Hinis,Hfins):\n",
    "    Energys.append(hf.expectation(hi.get_eigenstates(test.get_basis(7,0))))"
   ]
  },
  {
   "cell_type": "code",
   "execution_count": 48,
   "metadata": {},
   "outputs": [
    {
     "data": {
      "text/plain": [
       "array([ 4.315+0.j,  3.315+0.j,  3.295+0.j, ..., -1.745+0.j, -1.765+0.j,\n",
       "       -1.785+0.j])"
      ]
     },
     "execution_count": 48,
     "metadata": {},
     "output_type": "execute_result"
    }
   ],
   "source": [
    "Energys[1]"
   ]
  },
  {
   "cell_type": "code",
   "execution_count": 184,
   "metadata": {},
   "outputs": [
    {
     "data": {
      "text/plain": [
       "-3.40293368358358"
      ]
     },
     "execution_count": 184,
     "metadata": {},
     "output_type": "execute_result"
    }
   ],
   "source": [
    "nE_sets[3][0]"
   ]
  },
  {
   "cell_type": "code",
   "execution_count": 32,
   "metadata": {},
   "outputs": [
    {
     "data": {
      "text/plain": [
       "[0.06, 0.02, 0.04, 0.08, 0.16, 0.32, 0.48]"
      ]
     },
     "execution_count": 32,
     "metadata": {},
     "output_type": "execute_result"
    }
   ],
   "source": [
    "Hcoef"
   ]
  },
  {
   "cell_type": "code",
   "execution_count": 31,
   "metadata": {},
   "outputs": [
    {
     "data": {
      "text/plain": [
       "[[-3.4768100946020093, -5.339349083805162],\n",
       " [-3.3252521835122635, -5.117452323612232],\n",
       " [-3.349054947938319, -5.170504539003451],\n",
       " [-3.4049680687001485, -5.288642936828657],\n",
       " [-3.5502030349968607, -5.573017258835767],\n",
       " [-3.975407187303789, -6.332141616453549],\n",
       " [-4.5813461823335615, -7.336154551623014]]"
      ]
     },
     "execution_count": 31,
     "metadata": {},
     "output_type": "execute_result"
    }
   ],
   "source": [
    "E_sets"
   ]
  },
  {
   "cell_type": "code",
   "execution_count": 186,
   "metadata": {},
   "outputs": [
    {
     "data": {
      "text/plain": [
       "-3.4029336835835804"
      ]
     },
     "execution_count": 186,
     "metadata": {},
     "output_type": "execute_result"
    }
   ],
   "source": [
    "E_sets[3][0]"
   ]
  },
  {
   "cell_type": "code",
   "execution_count": 30,
   "metadata": {},
   "outputs": [
    {
     "ename": "NameError",
     "evalue": "name 'index' is not defined",
     "output_type": "error",
     "traceback": [
      "\u001b[1;31m---------------------------------------------------------------------------\u001b[0m",
      "\u001b[1;31mNameError\u001b[0m                                 Traceback (most recent call last)",
      "\u001b[1;32m<ipython-input-30-d7eb57c69f1c>\u001b[0m in \u001b[0;36m<module>\u001b[1;34m\u001b[0m\n\u001b[1;32m----> 1\u001b[1;33m \u001b[1;33m[\u001b[0m\u001b[0mEnergys\u001b[0m\u001b[1;33m[\u001b[0m\u001b[0mi\u001b[0m\u001b[1;33m]\u001b[0m\u001b[1;33m[\u001b[0m\u001b[0mindex\u001b[0m\u001b[1;33m[\u001b[0m\u001b[0mi\u001b[0m\u001b[1;33m]\u001b[0m\u001b[1;33m]\u001b[0m \u001b[1;32mfor\u001b[0m \u001b[0mi\u001b[0m \u001b[1;32min\u001b[0m \u001b[0mrange\u001b[0m\u001b[1;33m(\u001b[0m\u001b[0mlen\u001b[0m\u001b[1;33m(\u001b[0m\u001b[0mHcoef\u001b[0m\u001b[1;33m)\u001b[0m\u001b[1;33m)\u001b[0m\u001b[1;33m]\u001b[0m\u001b[1;33m\u001b[0m\u001b[1;33m\u001b[0m\u001b[0m\n\u001b[0m",
      "\u001b[1;32m<ipython-input-30-d7eb57c69f1c>\u001b[0m in \u001b[0;36m<listcomp>\u001b[1;34m(.0)\u001b[0m\n\u001b[1;32m----> 1\u001b[1;33m \u001b[1;33m[\u001b[0m\u001b[0mEnergys\u001b[0m\u001b[1;33m[\u001b[0m\u001b[0mi\u001b[0m\u001b[1;33m]\u001b[0m\u001b[1;33m[\u001b[0m\u001b[0mindex\u001b[0m\u001b[1;33m[\u001b[0m\u001b[0mi\u001b[0m\u001b[1;33m]\u001b[0m\u001b[1;33m]\u001b[0m \u001b[1;32mfor\u001b[0m \u001b[0mi\u001b[0m \u001b[1;32min\u001b[0m \u001b[0mrange\u001b[0m\u001b[1;33m(\u001b[0m\u001b[0mlen\u001b[0m\u001b[1;33m(\u001b[0m\u001b[0mHcoef\u001b[0m\u001b[1;33m)\u001b[0m\u001b[1;33m)\u001b[0m\u001b[1;33m]\u001b[0m\u001b[1;33m\u001b[0m\u001b[1;33m\u001b[0m\u001b[0m\n\u001b[0m",
      "\u001b[1;31mNameError\u001b[0m: name 'index' is not defined"
     ]
    }
   ],
   "source": [
    "[Energys[i][index[i]] for i in range(len(Hcoef))]"
   ]
  },
  {
   "cell_type": "code",
   "execution_count": 63,
   "metadata": {},
   "outputs": [],
   "source": [
    "j = 0\n",
    "E = [[10 for i in range(len(Hcoef))] for i in range(2)]\n",
    "index = [[0 for i in range(len(Hcoef))] for i in range(2)]\n",
    "for energy in Energys:\n",
    "    for i,e in enumerate(energy):\n",
    "        if E[0][j]>abs(e-E_sets[j][0]):\n",
    "            E[0][j] = abs(e-E_sets[j][0])\n",
    "            index[0][j] = i\n",
    "        if E[1][j]>abs(e-E_sets[j][1]):\n",
    "            E[1][j] = abs(e-E_sets[j][1])\n",
    "            index[1][j] = i\n",
    "    j+=1"
   ]
  },
  {
   "cell_type": "code",
   "execution_count": 64,
   "metadata": {},
   "outputs": [
    {
     "data": {
      "text/plain": [
       "[[0.0016974587018143694,\n",
       "  0.0004145014469774111,\n",
       "  5.176707556930893e-05,\n",
       "  0.0014239771774815502,\n",
       "  0.001033446315316322,\n",
       "  0.001337922465053154,\n",
       "  0.006091883772573858],\n",
       " [0.0033795104546303634,\n",
       "  0.00012262043871746897,\n",
       "  0.0013513417264627847,\n",
       "  0.0020162483559555966,\n",
       "  0.0021369866232392454,\n",
       "  0.0008161980436751648,\n",
       "  0.003041663230815672]]"
      ]
     },
     "execution_count": 64,
     "metadata": {},
     "output_type": "execute_result"
    }
   ],
   "source": [
    "E"
   ]
  },
  {
   "cell_type": "code",
   "execution_count": 66,
   "metadata": {},
   "outputs": [],
   "source": [
    "n_diags = test.get_data('n_diags')"
   ]
  },
  {
   "cell_type": "code",
   "execution_count": 96,
   "metadata": {},
   "outputs": [
    {
     "ename": "IndexError",
     "evalue": "index 1 is out of bounds for axis 1 with size 1",
     "output_type": "error",
     "traceback": [
      "\u001b[1;31m---------------------------------------------------------------------------\u001b[0m",
      "\u001b[1;31mIndexError\u001b[0m                                Traceback (most recent call last)",
      "\u001b[1;32m<ipython-input-96-12797496d0ff>\u001b[0m in \u001b[0;36m<module>\u001b[1;34m\u001b[0m\n\u001b[1;32m----> 1\u001b[1;33m \u001b[0mnp\u001b[0m\u001b[1;33m.\u001b[0m\u001b[0marray\u001b[0m\u001b[1;33m(\u001b[0m\u001b[1;33m[\u001b[0m\u001b[1;36m1\u001b[0m\u001b[1;33m,\u001b[0m\u001b[1;36m2\u001b[0m\u001b[1;33m,\u001b[0m\u001b[1;36m3\u001b[0m\u001b[1;33m,\u001b[0m\u001b[1;36m4\u001b[0m\u001b[1;33m]\u001b[0m\u001b[1;33m)\u001b[0m\u001b[1;33m.\u001b[0m\u001b[0mreshape\u001b[0m\u001b[1;33m(\u001b[0m\u001b[1;33m-\u001b[0m\u001b[1;36m1\u001b[0m\u001b[1;33m,\u001b[0m\u001b[1;36m1\u001b[0m\u001b[1;33m)\u001b[0m\u001b[1;33m[\u001b[0m\u001b[1;36m0\u001b[0m\u001b[1;33m,\u001b[0m\u001b[1;36m1\u001b[0m\u001b[1;33m]\u001b[0m\u001b[1;33m\u001b[0m\u001b[1;33m\u001b[0m\u001b[0m\n\u001b[0m",
      "\u001b[1;31mIndexError\u001b[0m: index 1 is out of bounds for axis 1 with size 1"
     ]
    }
   ],
   "source": [
    "np.array([1,2,3,4]).reshape(-1,1)[0,0]"
   ]
  },
  {
   "cell_type": "code",
   "execution_count": 87,
   "metadata": {},
   "outputs": [
    {
     "data": {
      "text/plain": [
       "<xxzchain.core._main.Operator at 0x141e01c47b8>"
      ]
     },
     "execution_count": 87,
     "metadata": {},
     "output_type": "execute_result"
    }
   ],
   "source": [
    "n[0]"
   ]
  },
  {
   "cell_type": "code",
   "execution_count": 76,
   "metadata": {},
   "outputs": [],
   "source": [
    "microwindow = [[[[] for k in test.range] for i in range(len(Hfins))] for i in range(2)]\n",
    "\n",
    "for k in test.range:\n",
    "    j = 0\n",
    "    for hfin in Hfins:\n",
    "        for i,e in enumerate(hfin.get_eigenvalue(test.get_basis(7,k))):\n",
    "            if abs(e-E_sets[j][0])<0.1:\n",
    "                microwindow[0][j][k].append(i)\n",
    "            if abs(e-E_sets[j][1])<0.1:\n",
    "                microwindow[1][j][k].append(i)\n",
    "\n",
    "        j+=1"
   ]
  },
  {
   "cell_type": "code",
   "execution_count": 104,
   "metadata": {},
   "outputs": [
    {
     "name": "stdout",
     "output_type": "stream",
     "text": [
      "Initializing.... it may takes few minutes.\n"
     ]
    }
   ],
   "source": [
    "n_diag = []\n",
    "N_diag = []\n",
    "n_micro = []\n",
    "N_micro = []\n",
    "ch = 0\n",
    "for hini,hfin in zip(Hinis,Hfins):\n",
    "    #setting systems hamiltonian\n",
    "    test.Hamiltonian = hfin\n",
    "    # get initial state for T = 3.0, T= 2.0 respectively.\n",
    "    initial = hini.get_eigenstates(test.get_basis(7,0))[[index[0][ch],index[1][ch]]]\n",
    "    #micro_temp = [[[[] for k in test.range] for i in range(2)] for j in range(2)] # index order = (n,N),T, momentum sector\n",
    "    diag_temp = [[[[] for k in test.range] for i in range(2)] for j in range(2)]\n",
    "    for k, O in enumerate(zip(n,N)):     # for n(k), N(k)\n",
    "        nk,Nk = O\n",
    "        nk_diag = nk.get_matrix(initial.basis, eigen = True)[np.diag_indices(len(initial.basis))]\n",
    "        Nk_diag = Nk.get_matrix(initial.basis, eigen = True)[np.diag_indices(len(initial.basis))]\n",
    "        diagv = (initial.eigencoef*initial.eigencoef.conjugate()).T @ nk_diag.reshape(-1,1) \n",
    "        diag_temp[0][0][k].append(diagv[0,0])\n",
    "        diag_temp[0][1][k].append(diagv[1,0])\n",
    "        diagv = (initial.eigencoef*initial.eigencoef.conjugate()).T @ Nk_diag.reshape(-1,1) \n",
    "        diag_temp[1][0][k].append(diagv[0,0])\n",
    "        diag_temp[1][1][k].append(diagv[1,0])\n",
    "        \n",
    "        #for nval,Nval in zip(nk_diag[microwindow[0][ch][0]],Nk_diag[microwindow[0][ch][0]]):\n",
    "        #    micro_temp[0][0][k].append(nval)\n",
    "        #    micro_temp[1][0][k].append(Nval)\n",
    "        #for nval,Nval in zip(nk_diag[microwindow[1][ch][0]],Nk_diag[microwindow[1][ch][0]]):\n",
    "        #    micro_temp[0][1][k].append(nval)\n",
    "        #    micro_temp[1][1][k].append(Nval)\n",
    "    n_diag.append(diag_temp[0])\n",
    "    N_diag.append(diag_temp[1])"
   ]
  },
  {
   "cell_type": "code",
   "execution_count": 107,
   "metadata": {},
   "outputs": [],
   "source": [
    "n_ =[]\n",
    "N_ = []\n",
    "ch = 0\n",
    "for hini,hfin in zip(Hinis,Hfins):\n",
    "    #setting systems hamiltonian\n",
    "    test.Hamiltonian = hfin\n",
    "    # get initial state for T = 3.0, T= 2.0 respectively.\n",
    "    initial = hini.get_eigenstates(test.get_basis(7,0))[[index[0][ch],index[1][ch]]]\n",
    "    #micro_temp = [[[[] for k in test.range] for i in range(2)] for j in range(2)] # index order = (n,N),T, momentum sector\n",
    "    diag_temp = [[[[] for k in test.range] for i in range(2)] for j in range(2)]\n",
    "    for k, O in enumerate(zip(n,N)):     # for n(k), N(k)\n",
    "        nk,Nk = O\n",
    "        #nk_diag = nk.get_matrix(initial.basis, eigen = True)[np.diag_indices(len(initial.basis))]\n",
    "        #Nk_diag = Nk.get_matrix(initial.basis, eigen = True)[np.diag_indices(len(initial.basis))]\n",
    "        diagv = nk.expectation(initial) \n",
    "        diag_temp[0][0][k].append(diagv[0])\n",
    "        diag_temp[0][1][k].append(diagv[1])\n",
    "        diagv = Nk.expectation(initial) \n",
    "       \n",
    "        \n",
    "#diagv = (initial.eigencoef*initial.eigencoef.conjugate()).T @ Nk_diag.reshape(-1,1) \n",
    "        diag_temp[1][0][k].append(diagv[0])\n",
    "        diag_temp[1][1][k].append(diagv[1])\n",
    "        \n",
    "        #for nval,Nval in zip(nk_diag[microwindow[0][ch][0]],Nk_diag[microwindow[0][ch][0]]):\n",
    "        #    micro_temp[0][0][k].append(nval)\n",
    "        #    micro_temp[1][0][k].append(Nval)\n",
    "        #for nval,Nval in zip(nk_diag[microwindow[1][ch][0]],Nk_diag[microwindow[1][ch][0]]):\n",
    "        #    micro_temp[0][1][k].append(nval)\n",
    "        #    micro_temp[1][1][k].append(Nval)\n",
    "    n_.append(diag_temp[0])\n",
    "    N_.append(diag_temp[1])"
   ]
  },
  {
   "cell_type": "code",
   "execution_count": 108,
   "metadata": {},
   "outputs": [],
   "source": [
    "def diff(target, diag):\n",
    "    return sum(abs(target-diag))/sum(diag)"
   ]
  },
  {
   "cell_type": "code",
   "execution_count": 129,
   "metadata": {},
   "outputs": [],
   "source": [
    "ndif3 = []\n",
    "for i,diag in zip(n_, n_diag):\n",
    "    ndif3.append(diff(np.array(i[0]), np.array(diag[0])))\n",
    "    \n"
   ]
  },
  {
   "cell_type": "code",
   "execution_count": 130,
   "metadata": {},
   "outputs": [],
   "source": [
    "ndif2 = []\n",
    "for i,diag in zip(n_, n_diag):\n",
    "    ndif2.append(diff(np.array(i[1]), np.array(diag[1])))\n",
    "    \n"
   ]
  },
  {
   "cell_type": "code",
   "execution_count": 131,
   "metadata": {},
   "outputs": [],
   "source": [
    "Ndif2 = []\n",
    "for i,diag in zip(N_, N_diag):\n",
    "    Ndif2.append(diff(np.array(i[1]), np.array(diag[1])))\n",
    "    \n"
   ]
  },
  {
   "cell_type": "code",
   "execution_count": 132,
   "metadata": {},
   "outputs": [],
   "source": [
    "Ndif3 = []\n",
    "for i,diag in zip(N_, N_diag):\n",
    "    Ndif3.append(diff(np.array(i[0]), np.array(diag[0])))\n",
    "    \n"
   ]
  },
  {
   "cell_type": "code",
   "execution_count": 133,
   "metadata": {},
   "outputs": [
    {
     "data": {
      "text/plain": [
       "[<matplotlib.lines.Line2D at 0x14190571c50>]"
      ]
     },
     "execution_count": 133,
     "metadata": {},
     "output_type": "execute_result"
    },
    {
     "data": {
      "image/png": "[encoded data removed]",
      "text/plain": [
       "<Figure size 432x288 with 1 Axes>"
      ]
     },
     "metadata": {
      "needs_background": "light"
     },
     "output_type": "display_data"
    }
   ],
   "source": [
    "plt.plot(Hcoef, ndif3)\n",
    "plt.plot(Hcoef, ndif2)\n",
    "plt.plot(Hcoef, Ndif3)\n",
    "plt.plot(Hcoef, Ndif2)"
   ]
  },
  {
   "cell_type": "code",
   "execution_count": null,
   "metadata": {},
   "outputs": [],
   "source": [
    "for bk in test.range:\n",
    "    #if not bk: continue\n",
    "    basis = test.get_basis(7,bk)\n",
    "    neig = nk.get_matrix(basis, eigen = True)[np.diag_indices(len(basis))]\n",
    "    Neig = Nk.get_matrix(basis, eigen = True)[np.diag_indices(len(basis))]\n",
    "    for val in neig[microwindow[0][ch][bk]]:\n",
    "        micro_temp[0][0][bk]\n",
    "        "
   ]
  },
  {
   "cell_type": "code",
   "execution_count": 18,
   "metadata": {},
   "outputs": [
    {
     "data": {
      "text/plain": [
       "[539, 1038, 406, 567]"
      ]
     },
     "execution_count": 18,
     "metadata": {},
     "output_type": "execute_result"
    }
   ],
   "source": [
    "index"
   ]
  },
  {
   "cell_type": "code",
   "execution_count": 12,
   "metadata": {},
   "outputs": [],
   "source": [
    "initialstates = [Hinis[i].get_eigenstates(test.get_basis(7,0)) for i in range(4)]"
   ]
  },
  {
   "cell_type": "code",
   "execution_count": 243,
   "metadata": {},
   "outputs": [
    {
     "data": {
      "text/plain": [
       "[539, 526, 406, 508]"
      ]
     },
     "execution_count": 243,
     "metadata": {},
     "output_type": "execute_result"
    }
   ],
   "source": [
    "nindex"
   ]
  },
  {
   "cell_type": "code",
   "execution_count": 213,
   "metadata": {},
   "outputs": [
    {
     "data": {
      "text/plain": [
       "[539, 1038, 406, 567]"
      ]
     },
     "execution_count": 213,
     "metadata": {},
     "output_type": "execute_result"
    }
   ],
   "source": [
    "index"
   ]
  },
  {
   "cell_type": "code",
   "execution_count": 13,
   "metadata": {},
   "outputs": [],
   "source": [
    "initial = [initialstates[i][index[i]] for i in range(4)]"
   ]
  },
  {
   "cell_type": "code",
   "execution_count": 187,
   "metadata": {},
   "outputs": [
    {
     "data": {
      "text/plain": [
       "['None' state on sector (7, 0)\n",
       " t             : 0\n",
       " Energy        : [-0.70787896+0.j]\n",
       " State         : [[-3.00289776e-05+0.j]\n",
       "  [-1.09461775e-04+0.j]\n",
       "  [-2.55100184e-04+0.j]\n",
       "  ...\n",
       "  [ 1.06733051e-02+0.j]\n",
       "  [-1.20430436e-02+0.j]\n",
       "  [ 4.34366110e-03+0.j]]\n",
       " (eigen State) : [[-1.01138071e-03+0.j]\n",
       "  [ 2.00953120e-04+0.j]\n",
       "  [-1.91718191e-03+0.j]\n",
       "  ...\n",
       "  [-2.13207123e-17+0.j]\n",
       "  [-1.89981351e-13+0.j]\n",
       "  [-1.85525742e-04+0.j]], 'None' state on sector (7, 0)\n",
       " t             : 0\n",
       " Energy        : [-4.12284084+0.j]\n",
       " State         : [[ 0.00000000e+00+0.j]\n",
       "  [ 7.24044215e-08+0.j]\n",
       "  [ 3.34716787e-07+0.j]\n",
       "  ...\n",
       "  [-3.33703549e-02+0.j]\n",
       "  [ 2.67668598e-02+0.j]\n",
       "  [-1.69842642e-15+0.j]]\n",
       " (eigen State) : [[-2.27043462e-16+0.j]\n",
       "  [-4.93358869e-16+0.j]\n",
       "  [-1.26050077e-15+0.j]\n",
       "  ...\n",
       "  [-2.92790564e-15+0.j]\n",
       "  [-5.84280391e-04+0.j]\n",
       "  [-5.20825270e-13+0.j]], 'None' state on sector (7, 0)\n",
       " t             : 0\n",
       " Energy        : [2.10645045+0.j]\n",
       " State         : [[ 7.17508101e-08+0.j]\n",
       "  [ 5.86183727e-07+0.j]\n",
       "  [ 2.19615741e-06+0.j]\n",
       "  ...\n",
       "  [ 4.13183168e-02+0.j]\n",
       "  [-8.50909976e-04+0.j]\n",
       "  [ 7.09863434e-03+0.j]]\n",
       " (eigen State) : [[ 3.16383057e-04+0.j]\n",
       "  [ 1.44781416e-03+0.j]\n",
       "  [-2.48943481e-03+0.j]\n",
       "  ...\n",
       "  [-1.12898394e-03+0.j]\n",
       "  [-1.37572169e-12+0.j]\n",
       "  [-8.30576637e-04+0.j]], 'None' state on sector (7, 0)\n",
       " t             : 0\n",
       " Energy        : [8.60889014+0.j]\n",
       " State         : [[-2.00801011e-20+0.j]\n",
       "  [ 6.06625932e-08+0.j]\n",
       "  [ 5.03680473e-07+0.j]\n",
       "  ...\n",
       "  [ 1.00855757e-03+0.j]\n",
       "  [ 7.74565337e-05+0.j]\n",
       "  [-4.49247640e-16+0.j]]\n",
       " (eigen State) : [[-1.71734901e-16+0.j]\n",
       "  [ 5.08856914e-16+0.j]\n",
       "  [-1.96672041e-16+0.j]\n",
       "  ...\n",
       "  [ 1.12297430e-16+0.j]\n",
       "  [-4.70292272e-05+0.j]\n",
       "  [-1.53517624e-15+0.j]]]"
      ]
     },
     "execution_count": 187,
     "metadata": {},
     "output_type": "execute_result"
    }
   ],
   "source": [
    "initial"
   ]
  },
  {
   "cell_type": "code",
   "execution_count": 229,
   "metadata": {},
   "outputs": [],
   "source": [
    "a = []\n",
    "for i in range(4):\n",
    "    test.Hamiltonian = Hfins[i]\n",
    "    a.append(initial[i].time_evolving_states(np.arange(251)/2.5))"
   ]
  },
  {
   "cell_type": "code",
   "execution_count": 135,
   "metadata": {},
   "outputs": [],
   "source": [
    "n_diags = [[]for i in range(4)]\n",
    "N_diags = [[]for i in range(4)]\n",
    "for k in test.range:\n",
    "    for i in range(4):\n",
    "        test.Hamiltonian = Hfins[i]\n",
    "        initial[i].update()\n",
    "        n_diags[i].append((initial[i].eigencoef*initial[i].eigencoef.conjugate()).T@(n[k].get_matrix(initial[i].basis, eigen=True)[np.diag_indices(len(initial[i].basis))]))\n",
    "        N_diags[i].append((initial[i].eigencoef*initial[i].eigencoef.conjugate()).T@(N[k].get_matrix(initial[i].basis, eigen=True)[np.diag_indices(len(initial[i].basis))]))"
   ]
  },
  {
   "cell_type": "code",
   "execution_count": 14,
   "metadata": {},
   "outputs": [],
   "source": [
    "n_diags = test.get_data(\"n_diags\")\n",
    "N_diags = test.get_data(\"N_diags\")"
   ]
  },
  {
   "cell_type": "code",
   "execution_count": 137,
   "metadata": {},
   "outputs": [],
   "source": [
    "n_diags, N_diags = np.array(n_diags),np.array(N_diags)"
   ]
  },
  {
   "cell_type": "code",
   "execution_count": 15,
   "metadata": {},
   "outputs": [
    {
     "name": "stderr",
     "output_type": "stream",
     "text": [
      "C:\\Users\\jeong\\Anaconda3\\lib\\site-packages\\numpy\\core\\numeric.py:501: ComplexWarning: Casting complex values to real discards the imaginary part\n",
      "  return array(a, dtype, copy=False, order=order)\n"
     ]
    },
    {
     "data": {
      "text/plain": [
       "[<matplotlib.lines.Line2D at 0x1ae8b6bf470>]"
      ]
     },
     "execution_count": 15,
     "metadata": {},
     "output_type": "execute_result"
    },
    {
     "data": {
      "image/png": "[encoded data removed]",
      "text/plain": [
       "<Figure size 432x288 with 1 Axes>"
      ]
     },
     "metadata": {
      "needs_background": "light"
     },
     "output_type": "display_data"
    }
   ],
   "source": [
    "plt.plot(N_diags[0][1:])"
   ]
  },
  {
   "cell_type": "code",
   "execution_count": null,
   "metadata": {},
   "outputs": [],
   "source": []
  },
  {
   "cell_type": "code",
   "execution_count": 85,
   "metadata": {},
   "outputs": [],
   "source": [
    "test.Hamiltonian = Hfins[0]"
   ]
  },
  {
   "cell_type": "code",
   "execution_count": 92,
   "metadata": {},
   "outputs": [
    {
     "data": {
      "text/plain": [
       "'H_fin'"
      ]
     },
     "execution_count": 92,
     "metadata": {},
     "output_type": "execute_result"
    }
   ],
   "source": [
    "test.Hamiltonian.name"
   ]
  },
  {
   "cell_type": "code",
   "execution_count": 94,
   "metadata": {},
   "outputs": [
    {
     "data": {
      "text/plain": [
       "array([[-3.00289776e-05+0.j],\n",
       "       [-1.09461775e-04+0.j],\n",
       "       [-2.55100184e-04+0.j],\n",
       "       ...,\n",
       "       [ 1.06733051e-02+0.j],\n",
       "       [-1.20430436e-02+0.j],\n",
       "       [ 4.34366110e-03+0.j]])"
      ]
     },
     "execution_count": 94,
     "metadata": {},
     "output_type": "execute_result"
    }
   ],
   "source": [
    "initial[0].coef "
   ]
  },
  {
   "cell_type": "code",
   "execution_count": 115,
   "metadata": {},
   "outputs": [
    {
     "data": {
      "text/plain": [
       "array([[-3.57628828+6.9388939e-18j]])"
      ]
     },
     "execution_count": 115,
     "metadata": {},
     "output_type": "execute_result"
    }
   ],
   "source": [
    "Hfins[].expectation(a[1][5])"
   ]
  },
  {
   "cell_type": "code",
   "execution_count": 74,
   "metadata": {},
   "outputs": [],
   "source": [
    "n_k,N_k = [[] for i in range(4)],[[] for i in range(4)]\n",
    "for i in range(4):\n",
    "    test.Hamiltonian = Hfins[i]\n",
    "    for k in test.range:\n",
    "        state = initial[i].time_evolving_states(np.arange(251)/2.5)\n",
    "        #a[i].update()\n",
    "        n_k[i].append(n[k].expectation(state).real)\n",
    "        N_k[i].append(N[k].expectation(state).real)"
   ]
  },
  {
   "cell_type": "code",
   "execution_count": 75,
   "metadata": {},
   "outputs": [],
   "source": [
    "n_k = np.array(n_k)\n",
    "\n",
    "N_k = np.array(N_k)"
   ]
  },
  {
   "cell_type": "code",
   "execution_count": 76,
   "metadata": {},
   "outputs": [
    {
     "data": {
      "text/plain": [
       "(4, 21, 251)"
      ]
     },
     "execution_count": 76,
     "metadata": {},
     "output_type": "execute_result"
    }
   ],
   "source": [
    "n_k.shape"
   ]
  },
  {
   "cell_type": "code",
   "execution_count": 216,
   "metadata": {},
   "outputs": [],
   "source": [
    "dn_k = [abs(n_k[i]- n_diags[i]) for i in range(4)]"
   ]
  },
  {
   "cell_type": "code",
   "execution_count": 217,
   "metadata": {},
   "outputs": [],
   "source": [
    "dN_k = [abs(N_k[i]- N_diags[i]) for i in range(4)]"
   ]
  },
  {
   "cell_type": "code",
   "execution_count": 63,
   "metadata": {},
   "outputs": [
    {
     "data": {
      "text/plain": [
       "-3.576442250140197"
      ]
     },
     "execution_count": 63,
     "metadata": {},
     "output_type": "execute_result"
    }
   ],
   "source": [
    "E_sets[1][0]"
   ]
  },
  {
   "cell_type": "code",
   "execution_count": 59,
   "metadata": {},
   "outputs": [
    {
     "data": {
      "text/plain": [
       "array([-3.57832545+0.j])"
      ]
     },
     "execution_count": 59,
     "metadata": {},
     "output_type": "execute_result"
    }
   ],
   "source": [
    "Hfins[1].get_eigenvalue(initials[1].basis)@(initials[1].eigencoef*initials[1].eigencoef.conjugate())"
   ]
  },
  {
   "cell_type": "code",
   "execution_count": 72,
   "metadata": {},
   "outputs": [
    {
     "data": {
      "text/plain": [
       "(-3.853686973319782,\n",
       " -3.576442250140197,\n",
       " -3.436666389091025,\n",
       " -3.4029336835835804)"
      ]
     },
     "execution_count": 72,
     "metadata": {},
     "output_type": "execute_result"
    }
   ],
   "source": [
    "E_sets[0][0],E_sets[1][0],E_sets[2][0],E_sets[3][0]"
   ]
  },
  {
   "cell_type": "code",
   "execution_count": 76,
   "metadata": {},
   "outputs": [
    {
     "data": {
      "text/plain": [
       "[0.0005787967403967365,\n",
       " 0.00015396597702066472,\n",
       " 0.0014922388646851914,\n",
       " 0.004133136169813145]"
      ]
     },
     "execution_count": 76,
     "metadata": {},
     "output_type": "execute_result"
    }
   ],
   "source": [
    "E"
   ]
  },
  {
   "cell_type": "code",
   "execution_count": 79,
   "metadata": {},
   "outputs": [
    {
     "data": {
      "text/plain": [
       "array([-3.39880055+0.j])"
      ]
     },
     "execution_count": 79,
     "metadata": {},
     "output_type": "execute_result"
    }
   ],
   "source": [
    "ii = 3\n",
    "Hfins[ii].get_eigenvalue(initial[ii].basis)@(initial[ii].eigencoef*initial[ii].eigencoef.conjugate())"
   ]
  },
  {
   "cell_type": "code",
   "execution_count": 245,
   "metadata": {},
   "outputs": [
    {
     "name": "stdout",
     "output_type": "stream",
     "text": [
      "/data : dir\n",
      "\tE_can\n",
      "\tE_set\n",
      "\tN_diag\n",
      "\tN_diags\n",
      "\tN_k\n",
      "\tN_k0\n",
      "\tN_ks\n",
      "\tN{}\n",
      "\tbeta\n",
      "\tn_a\n",
      "\tn_diag\n",
      "\tn_diags\n",
      "\tn_k\n",
      "\tn_k0\n",
      "\tn_ks\n",
      "\tn{}\n"
     ]
    }
   ],
   "source": [
    "test.data_list()"
   ]
  },
  {
   "cell_type": "code",
   "execution_count": 196,
   "metadata": {},
   "outputs": [],
   "source": [
    "n_k,N_k = [],[]\n",
    "i = 1\n",
    "test.Hamiltonian = Hfins[i]\n",
    "state = Hinis[i].get_eigenstates(test.get_basis(7,0))[index[i]].time_evolving_states(np.arange(251)/2.5)\n",
    "for k in test.range:\n",
    "        #a[i].update()\n",
    "    n_k.append(n[k].expectation(state).real)\n",
    "    N_k.append(N[k].expectation(state).real)"
   ]
  },
  {
   "cell_type": "code",
   "execution_count": 558,
   "metadata": {},
   "outputs": [],
   "source": [
    "n_ks, N_ks = np.array([n_ks, N_ks])"
   ]
  },
  {
   "cell_type": "code",
   "execution_count": 561,
   "metadata": {},
   "outputs": [
    {
     "name": "stdout",
     "output_type": "stream",
     "text": [
      "/data : dir\n",
      "\tE_can\n",
      "\tE_set\n",
      "\tN_diag\n",
      "\tN_diags\n",
      "\tN_k\n",
      "\tN_k0\n",
      "\tN_ks\n",
      "\tN{}\n",
      "\tbeta\n",
      "\tn_a\n",
      "\tn_diag\n",
      "\tn_diags\n",
      "\tn_k\n",
      "\tn_k0\n",
      "\tn_ks\n",
      "\tn{}\n"
     ]
    }
   ],
   "source": []
  },
  {
   "cell_type": "code",
   "execution_count": 128,
   "metadata": {},
   "outputs": [
    {
     "data": {
      "text/plain": [
       "(-144.65164062262798+0j)"
      ]
     },
     "execution_count": 128,
     "metadata": {},
     "output_type": "execute_result"
    }
   ],
   "source": [
    "(state[0].eigencoef*test.Hamiltonian.get_eigenvalue(state.basis)).sum()"
   ]
  },
  {
   "cell_type": "code",
   "execution_count": 136,
   "metadata": {},
   "outputs": [
    {
     "data": {
      "text/plain": [
       "array([-14.62570057, -12.85439451, -11.4568701 , ...,   8.050854  ,\n",
       "         8.30321423,   8.30321438])"
      ]
     },
     "execution_count": 136,
     "metadata": {},
     "output_type": "execute_result"
    }
   ],
   "source": [
    "test.Hamiltonian.get_eigenvalue(state.basis)"
   ]
  },
  {
   "cell_type": "code",
   "execution_count": 144,
   "metadata": {},
   "outputs": [
    {
     "data": {
      "text/plain": [
       "(-3.777531026699405+0j)"
      ]
     },
     "execution_count": 144,
     "metadata": {},
     "output_type": "execute_result"
    }
   ],
   "source": [
    "(initial[0].eigencoef.T[0]*initial[0].eigencoef.T[0].conjugate()*test.Hamiltonian.get_eigenvalue(initial[0].basis)).sum()"
   ]
  },
  {
   "cell_type": "code",
   "execution_count": 145,
   "metadata": {},
   "outputs": [
    {
     "data": {
      "text/plain": [
       "(-3.777531026699407+0j)"
      ]
     },
     "execution_count": 145,
     "metadata": {},
     "output_type": "execute_result"
    }
   ],
   "source": [
    "(state[0].eigencoef.T[0]*state[0].eigencoef.T[0].conjugate()*test.Hamiltonian.get_eigenvalue(initial[0].basis)).sum()"
   ]
  },
  {
   "cell_type": "code",
   "execution_count": null,
   "metadata": {},
   "outputs": [],
   "source": [
    "initial[0]"
   ]
  },
  {
   "cell_type": "code",
   "execution_count": 133,
   "metadata": {},
   "outputs": [
    {
     "data": {
      "text/plain": [
       "array([[-3.85426577+0.j]])"
      ]
     },
     "execution_count": 133,
     "metadata": {},
     "output_type": "execute_result"
    }
   ],
   "source": [
    "test.Hamiltonian.expectation(initial[0])"
   ]
  },
  {
   "cell_type": "code",
   "execution_count": 117,
   "metadata": {},
   "outputs": [
    {
     "data": {
      "text/plain": [
       "array([[0.55507767+1.48210437e-16j]])"
      ]
     },
     "execution_count": 117,
     "metadata": {},
     "output_type": "execute_result"
    }
   ],
   "source": [
    "n[k].expectation(state[0])"
   ]
  },
  {
   "cell_type": "code",
   "execution_count": 118,
   "metadata": {},
   "outputs": [
    {
     "data": {
      "text/plain": [
       "array([[0.48081966-1.0961284e-16j]])"
      ]
     },
     "execution_count": 118,
     "metadata": {},
     "output_type": "execute_result"
    }
   ],
   "source": [
    "n[k].expectation(initial[i])"
   ]
  },
  {
   "cell_type": "code",
   "execution_count": 156,
   "metadata": {},
   "outputs": [
    {
     "data": {
      "text/plain": [
       "array([[-0.00247284+0.j],\n",
       "       [-0.00445406+0.j],\n",
       "       [-0.0001616 +0.j],\n",
       "       ...,\n",
       "       [ 0.04996141+0.j],\n",
       "       [-0.00127084+0.j],\n",
       "       [-0.03055507+0.j]])"
      ]
     },
     "execution_count": 156,
     "metadata": {},
     "output_type": "execute_result"
    }
   ],
   "source": [
    "state[0].coef"
   ]
  },
  {
   "cell_type": "code",
   "execution_count": 153,
   "metadata": {},
   "outputs": [
    {
     "data": {
      "text/plain": [
       "array([[-3.00289776e-05+0.j],\n",
       "       [-1.09461775e-04+0.j],\n",
       "       [-2.55100184e-04+0.j],\n",
       "       ...,\n",
       "       [ 1.06733051e-02+0.j],\n",
       "       [-1.20430436e-02+0.j],\n",
       "       [ 4.34366110e-03+0.j]])"
      ]
     },
     "execution_count": 153,
     "metadata": {},
     "output_type": "execute_result"
    }
   ],
   "source": [
    "test.Hamiltonian.get_eigenvectors(state.basis)@test.Hamiltonian.get_eigenvectors(state.basis).T@initial[0].coef"
   ]
  },
  {
   "cell_type": "code",
   "execution_count": 158,
   "metadata": {},
   "outputs": [
    {
     "data": {
      "text/plain": [
       "array([[-3.00289776e-05+0.j],\n",
       "       [-1.09461775e-04+0.j],\n",
       "       [-2.55100184e-04+0.j],\n",
       "       ...,\n",
       "       [ 1.06733051e-02+0.j],\n",
       "       [-1.20430436e-02+0.j],\n",
       "       [ 4.34366110e-03+0.j]])"
      ]
     },
     "execution_count": 158,
     "metadata": {},
     "output_type": "execute_result"
    }
   ],
   "source": [
    "test.Hamiltonian.get_eigenvectors(state.basis)@test.Hamiltonian.get_eigenvectors(state.basis).T@initial[0].coef"
   ]
  },
  {
   "cell_type": "code",
   "execution_count": 165,
   "metadata": {},
   "outputs": [
    {
     "data": {
      "text/plain": [
       "array([[ 0.01724558+0.j],\n",
       "       [-0.00147849+0.j],\n",
       "       [ 0.00073771+0.j],\n",
       "       ...,\n",
       "       [-0.01714024+0.j],\n",
       "       [-0.00100102+0.j],\n",
       "       [ 0.00070121+0.j]])"
      ]
     },
     "execution_count": 165,
     "metadata": {},
     "output_type": "execute_result"
    }
   ],
   "source": [
    "test.Hamiltonian.get_eigenvectors(state.basis)@initial[0].coef"
   ]
  },
  {
   "cell_type": "code",
   "execution_count": 175,
   "metadata": {},
   "outputs": [
    {
     "data": {
      "text/plain": [
       "(-3.854265770060179+0j)"
      ]
     },
     "execution_count": 175,
     "metadata": {},
     "output_type": "execute_result"
    }
   ],
   "source": [
    "((test.Hamiltonian.get_eigenvectors(state.basis).T@initial[0].coef).T[0]*test.Hamiltonian.get_eigenvalue(state.basis) *(test.Hamiltonian.get_eigenvectors(state.basis).T@initial[0].coef).T[0]).sum()"
   ]
  },
  {
   "cell_type": "code",
   "execution_count": 154,
   "metadata": {},
   "outputs": [
    {
     "data": {
      "text/plain": [
       "array([[-0.00247284+0.j],\n",
       "       [-0.00445406+0.j],\n",
       "       [-0.0001616 +0.j],\n",
       "       ...,\n",
       "       [ 0.04996141+0.j],\n",
       "       [-0.00127084+0.j],\n",
       "       [-0.03055507+0.j]])"
      ]
     },
     "execution_count": 154,
     "metadata": {},
     "output_type": "execute_result"
    }
   ],
   "source": [
    "test.Hamiltonian.get_eigenvectors(state.basis)@state[0].eigencoef"
   ]
  },
  {
   "cell_type": "code",
   "execution_count": 172,
   "metadata": {},
   "outputs": [
    {
     "data": {
      "text/plain": [
       "array([[ 3.84173594e-04+0.j],\n",
       "       [ 6.08019162e-05+0.j],\n",
       "       [ 4.96026413e-04+0.j],\n",
       "       ...,\n",
       "       [ 2.21369087e-05+0.j],\n",
       "       [ 2.77453241e-15+0.j],\n",
       "       [-8.65061209e-05+0.j]])"
      ]
     },
     "execution_count": 172,
     "metadata": {},
     "output_type": "execute_result"
    }
   ],
   "source": [
    "state[0].eigencoef"
   ]
  },
  {
   "cell_type": "code",
   "execution_count": 157,
   "metadata": {},
   "outputs": [
    {
     "data": {
      "text/plain": [
       "array([[ 3.84173594e-04+0.j],\n",
       "       [ 6.08019162e-05+0.j],\n",
       "       [ 4.96026413e-04+0.j],\n",
       "       ...,\n",
       "       [ 2.21369087e-05+0.j],\n",
       "       [ 2.75893698e-15+0.j],\n",
       "       [-8.65061209e-05+0.j]])"
      ]
     },
     "execution_count": 157,
     "metadata": {},
     "output_type": "execute_result"
    }
   ],
   "source": [
    "initial[0].eigencoef"
   ]
  },
  {
   "cell_type": "code",
   "execution_count": 119,
   "metadata": {},
   "outputs": [
    {
     "data": {
      "text/plain": [
       "'H_fin'"
      ]
     },
     "execution_count": 119,
     "metadata": {},
     "output_type": "execute_result"
    }
   ],
   "source": [
    "test.Hamiltonian.name"
   ]
  },
  {
   "cell_type": "code",
   "execution_count": 197,
   "metadata": {},
   "outputs": [],
   "source": [
    "n_k = np.array(n_k)\n",
    "\n",
    "N_k = np.array(N_k)"
   ]
  },
  {
   "cell_type": "code",
   "execution_count": 105,
   "metadata": {},
   "outputs": [
    {
     "data": {
      "text/plain": [
       "(21, 1, 1)"
      ]
     },
     "execution_count": 105,
     "metadata": {},
     "output_type": "execute_result"
    }
   ],
   "source": [
    "n_k.shape"
   ]
  },
  {
   "cell_type": "code",
   "execution_count": 191,
   "metadata": {},
   "outputs": [],
   "source": [
    "i=0"
   ]
  },
  {
   "cell_type": "code",
   "execution_count": 200,
   "metadata": {},
   "outputs": [
    {
     "data": {
      "image/png": "[encoded data removed]",
      "text/plain": [
       "<Figure size 360x144 with 1 Axes>"
      ]
     },
     "metadata": {
      "needs_background": "light"
     },
     "output_type": "display_data"
    },
    {
     "data": {
      "image/png": "[encoded data removed]",
      "text/plain": [
       "<Figure size 360x144 with 1 Axes>"
      ]
     },
     "metadata": {
      "needs_background": "light"
     },
     "output_type": "display_data"
    },
    {
     "data": {
      "image/png": "[encoded data removed]",
      "text/plain": [
       "<Figure size 360x144 with 1 Axes>"
      ]
     },
     "metadata": {
      "needs_background": "light"
     },
     "output_type": "display_data"
    },
    {
     "data": {
      "image/png": "[encoded data removed]",
      "text/plain": [
       "<Figure size 360x144 with 1 Axes>"
      ]
     },
     "metadata": {
      "needs_background": "light"
     },
     "output_type": "display_data"
    },
    {
     "data": {
      "image/png": "[encoded data removed]",
      "text/plain": [
       "<Figure size 360x144 with 1 Axes>"
      ]
     },
     "metadata": {
      "needs_background": "light"
     },
     "output_type": "display_data"
    },
    {
     "data": {
      "image/png": "[encoded data removed]",
      "text/plain": [
       "<Figure size 360x144 with 1 Axes>"
      ]
     },
     "metadata": {
      "needs_background": "light"
     },
     "output_type": "display_data"
    },
    {
     "data": {
      "image/png": "[encoded data removed]",
      "text/plain": [
       "<Figure size 360x144 with 1 Axes>"
      ]
     },
     "metadata": {
      "needs_background": "light"
     },
     "output_type": "display_data"
    },
    {
     "data": {
      "image/png": "[encoded data removed]",
      "text/plain": [
       "<Figure size 360x144 with 1 Axes>"
      ]
     },
     "metadata": {
      "needs_background": "light"
     },
     "output_type": "display_data"
    },
    {
     "data": {
      "image/png": "[encoded data removed]",
      "text/plain": [
       "<Figure size 360x144 with 1 Axes>"
      ]
     },
     "metadata": {
      "needs_background": "light"
     },
     "output_type": "display_data"
    },
    {
     "data": {
      "image/png": "[encoded data removed]",
      "text/plain": [
       "<Figure size 360x144 with 1 Axes>"
      ]
     },
     "metadata": {
      "needs_background": "light"
     },
     "output_type": "display_data"
    },
    {
     "data": {
      "image/png": "[encoded data removed]",
      "text/plain": [
       "<Figure size 360x144 with 1 Axes>"
      ]
     },
     "metadata": {
      "needs_background": "light"
     },
     "output_type": "display_data"
    },
    {
     "data": {
      "image/png": "[encoded data removed]",
      "text/plain": [
       "<Figure size 360x144 with 1 Axes>"
      ]
     },
     "metadata": {
      "needs_background": "light"
     },
     "output_type": "display_data"
    },
    {
     "data": {
      "image/png": "[encoded data removed]",
      "text/plain": [
       "<Figure size 360x144 with 1 Axes>"
      ]
     },
     "metadata": {
      "needs_background": "light"
     },
     "output_type": "display_data"
    },
    {
     "data": {
      "image/png": "[encoded data removed]",
      "text/plain": [
       "<Figure size 360x144 with 1 Axes>"
      ]
     },
     "metadata": {
      "needs_background": "light"
     },
     "output_type": "display_data"
    },
    {
     "data": {
      "image/png": "[encoded data removed]",
      "text/plain": [
       "<Figure size 360x144 with 1 Axes>"
      ]
     },
     "metadata": {
      "needs_background": "light"
     },
     "output_type": "display_data"
    },
    {
     "data": {
      "image/png": "[encoded data removed]",
      "text/plain": [
       "<Figure size 360x144 with 1 Axes>"
      ]
     },
     "metadata": {
      "needs_background": "light"
     },
     "output_type": "display_data"
    }
   ],
   "source": [
    "n_ks, N_ks =[],[]\n",
    "for i in range(4):\n",
    "    n_k,N_k = [],[]\n",
    "    \n",
    "    test.Hamiltonian = Hfins[i]\n",
    "    state = Hinis[i].get_eigenstates(test.get_basis(7,0))[index[i]].time_evolving_states(np.arange(251)/2.5)\n",
    "    for k in test.range:\n",
    "            #a[i].update()\n",
    "        n_k.append(n[k].expectation(state).real)\n",
    "        N_k.append(N[k].expectation(state).real)\n",
    "    n_k = np.array(n_k)\n",
    "\n",
    "    N_k = np.array(N_k)\n",
    "    \n",
    "    Nkdp, Nkp = list(N_diags[i].T[0]),list(N_k.T[0])\n",
    "\n",
    "    Nkdp.insert(1,0)\n",
    "    Nkp.insert(1,0)\n",
    "    Nkdp, Nkp = np.array(Nkdp[1:]),np.array(Nkp[1:])\n",
    "\n",
    "    plt.figure(figsize=[5,2])\n",
    "    plt.plot(np.roll(Nkp,10))\n",
    "    plt.plot(np.roll(Nkdp,10))\n",
    "\n",
    "    plt.figure(figsize=[5,2])\n",
    "    plt.plot(np.roll(n_k.T[0],10))\n",
    "    plt.plot(np.roll(n_diags[i],10))\n",
    "    dk = np.abs(n_k - n_diags[i])\n",
    "    plt.figure(figsize=[5,2])\n",
    "    plt.plot(dk.sum(axis=0)/n_diags[i].sum())\n",
    "    plt.ylim([0,0.15])\n",
    "    Dk = np.abs(N_k - N_diags[i])\n",
    "    plt.figure(figsize=[5,2])\n",
    "    plt.plot(Dk.sum(axis=0)/N_diags[i].sum())\n",
    "    plt.ylim([0,0.15])\n",
    "    n_ks.append(n_k)\n",
    "    N_ks.append(N_k)\n",
    "    "
   ]
  },
  {
   "cell_type": "code",
   "execution_count": 101,
   "metadata": {},
   "outputs": [],
   "source": [
    "Nkdp, Nkp = list(N_diags[1].T[0]),list(N_k[1].T[0][0])\n",
    "\n",
    "Nkdp.insert(1,0)\n",
    "Nkp.insert(1,0)\n",
    "Nkdp, Nkp = np.array(Nkdp[1:]),np.array(Nkp[1:])\n",
    "\n",
    "plt.figure(figsize=[5,2])\n",
    "plt.plot(np.roll(Nkp,10))\n",
    "plt.plot(np.roll(Nkdp,10))\n",
    "\n",
    "plt.figure(figsize=[5,2])\n",
    "plt.plot(np.roll(n_k[1].T[0][0],10))\n",
    "plt.plot(np.roll(n_diags[1],10))"
   ]
  },
  {
   "cell_type": "code",
   "execution_count": 47,
   "metadata": {},
   "outputs": [],
   "source": [
    "test.save('n_diags',n_diags)\n",
    "test.save('N_diags',N_diags)"
   ]
  },
  {
   "cell_type": "code",
   "execution_count": 45,
   "metadata": {},
   "outputs": [
    {
     "data": {
      "text/plain": [
       "(4, 21, 1)"
      ]
     },
     "execution_count": 45,
     "metadata": {},
     "output_type": "execute_result"
    }
   ],
   "source": []
  },
  {
   "cell_type": "code",
   "execution_count": 48,
   "metadata": {},
   "outputs": [],
   "source": [
    "test.save('n_ks',n_k)\n",
    "test.save('N_ks',N_k)"
   ]
  },
  {
   "cell_type": "code",
   "execution_count": 201,
   "metadata": {},
   "outputs": [],
   "source": [
    "dn_k = [np.abs(n_ks[i] - n_diags[i]) for i in range(4)]"
   ]
  },
  {
   "cell_type": "code",
   "execution_count": 207,
   "metadata": {},
   "outputs": [],
   "source": [
    "dN_k = [np.abs(N_ks[i][1:] - N_diags[i][1:]) for i in range(4)]"
   ]
  },
  {
   "cell_type": "code",
   "execution_count": null,
   "metadata": {},
   "outputs": [],
   "source": []
  },
  {
   "cell_type": "code",
   "execution_count": 48,
   "metadata": {},
   "outputs": [
    {
     "ename": "AttributeError",
     "evalue": "'list' object has no attribute 'sum'",
     "output_type": "error",
     "traceback": [
      "\u001b[1;31m---------------------------------------------------------------------------\u001b[0m",
      "\u001b[1;31mAttributeError\u001b[0m                            Traceback (most recent call last)",
      "\u001b[1;32m<ipython-input-48-6be3de04048a>\u001b[0m in \u001b[0;36m<module>\u001b[1;34m\u001b[0m\n\u001b[0;32m      1\u001b[0m \u001b[0mplt\u001b[0m\u001b[1;33m.\u001b[0m\u001b[0mfigure\u001b[0m\u001b[1;33m(\u001b[0m\u001b[0mfigsize\u001b[0m\u001b[1;33m=\u001b[0m\u001b[1;33m[\u001b[0m\u001b[1;36m5\u001b[0m\u001b[1;33m,\u001b[0m\u001b[1;36m2\u001b[0m\u001b[1;33m]\u001b[0m\u001b[1;33m)\u001b[0m\u001b[1;33m\u001b[0m\u001b[1;33m\u001b[0m\u001b[0m\n\u001b[1;32m----> 2\u001b[1;33m \u001b[0mplt\u001b[0m\u001b[1;33m.\u001b[0m\u001b[0mplot\u001b[0m\u001b[1;33m(\u001b[0m\u001b[0mdn_k\u001b[0m\u001b[1;33m.\u001b[0m\u001b[0msum\u001b[0m\u001b[1;33m(\u001b[0m\u001b[0maxis\u001b[0m \u001b[1;33m=\u001b[0m \u001b[1;36m0\u001b[0m\u001b[1;33m)\u001b[0m\u001b[1;33m/\u001b[0m\u001b[0mn_diags\u001b[0m\u001b[1;33m[\u001b[0m\u001b[1;36m0\u001b[0m\u001b[1;33m]\u001b[0m\u001b[1;33m.\u001b[0m\u001b[0msum\u001b[0m\u001b[1;33m(\u001b[0m\u001b[1;33m)\u001b[0m\u001b[1;33m)\u001b[0m\u001b[1;33m\u001b[0m\u001b[1;33m\u001b[0m\u001b[0m\n\u001b[0m\u001b[0;32m      3\u001b[0m \u001b[0mplt\u001b[0m\u001b[1;33m.\u001b[0m\u001b[0mylim\u001b[0m\u001b[1;33m(\u001b[0m\u001b[1;33m[\u001b[0m\u001b[1;36m0\u001b[0m\u001b[1;33m,\u001b[0m\u001b[1;36m0.15\u001b[0m\u001b[1;33m]\u001b[0m\u001b[1;33m)\u001b[0m\u001b[1;33m\u001b[0m\u001b[1;33m\u001b[0m\u001b[0m\n",
      "\u001b[1;31mAttributeError\u001b[0m: 'list' object has no attribute 'sum'"
     ]
    },
    {
     "data": {
      "text/plain": [
       "<Figure size 360x144 with 0 Axes>"
      ]
     },
     "metadata": {},
     "output_type": "display_data"
    }
   ],
   "source": [
    "plt.figure(figsize=[5,2])\n",
    "plt.plot(dn_k.sum(axis = 0)/n_diags[0].sum())\n",
    "plt.ylim([0,0.15])"
   ]
  },
  {
   "cell_type": "code",
   "execution_count": 183,
   "metadata": {},
   "outputs": [
    {
     "ename": "AttributeError",
     "evalue": "'list' object has no attribute 'sum'",
     "output_type": "error",
     "traceback": [
      "\u001b[1;31m---------------------------------------------------------------------------\u001b[0m",
      "\u001b[1;31mAttributeError\u001b[0m                            Traceback (most recent call last)",
      "\u001b[1;32m<ipython-input-183-b34e9d3d0ad9>\u001b[0m in \u001b[0;36m<module>\u001b[1;34m\u001b[0m\n\u001b[0;32m      1\u001b[0m \u001b[0mplt\u001b[0m\u001b[1;33m.\u001b[0m\u001b[0mfigure\u001b[0m\u001b[1;33m(\u001b[0m\u001b[0mfigsize\u001b[0m\u001b[1;33m=\u001b[0m\u001b[1;33m[\u001b[0m\u001b[1;36m5\u001b[0m\u001b[1;33m,\u001b[0m\u001b[1;36m2\u001b[0m\u001b[1;33m]\u001b[0m\u001b[1;33m)\u001b[0m\u001b[1;33m\u001b[0m\u001b[1;33m\u001b[0m\u001b[0m\n\u001b[1;32m----> 2\u001b[1;33m \u001b[0mplt\u001b[0m\u001b[1;33m.\u001b[0m\u001b[0mplot\u001b[0m\u001b[1;33m(\u001b[0m\u001b[0mdN_k\u001b[0m\u001b[1;33m.\u001b[0m\u001b[0msum\u001b[0m\u001b[1;33m(\u001b[0m\u001b[0maxis\u001b[0m \u001b[1;33m=\u001b[0m \u001b[1;36m0\u001b[0m\u001b[1;33m)\u001b[0m\u001b[1;33m/\u001b[0m\u001b[0mN_diags\u001b[0m\u001b[1;33m[\u001b[0m\u001b[1;36m0\u001b[0m\u001b[1;33m]\u001b[0m\u001b[1;33m.\u001b[0m\u001b[0msum\u001b[0m\u001b[1;33m(\u001b[0m\u001b[1;33m)\u001b[0m\u001b[1;33m)\u001b[0m\u001b[1;33m\u001b[0m\u001b[1;33m\u001b[0m\u001b[0m\n\u001b[0m\u001b[0;32m      3\u001b[0m \u001b[0mplt\u001b[0m\u001b[1;33m.\u001b[0m\u001b[0mylim\u001b[0m\u001b[1;33m(\u001b[0m\u001b[1;33m[\u001b[0m\u001b[1;36m0\u001b[0m\u001b[1;33m,\u001b[0m\u001b[1;36m0.15\u001b[0m\u001b[1;33m]\u001b[0m\u001b[1;33m)\u001b[0m\u001b[1;33m\u001b[0m\u001b[1;33m\u001b[0m\u001b[0m\n",
      "\u001b[1;31mAttributeError\u001b[0m: 'list' object has no attribute 'sum'"
     ]
    },
    {
     "data": {
      "text/plain": [
       "<Figure size 360x144 with 0 Axes>"
      ]
     },
     "metadata": {},
     "output_type": "display_data"
    }
   ],
   "source": [
    "plt.figure(figsize=[5,2])\n",
    "plt.plot(dN_k.sum(axis = 0)/N_diags[0].sum())\n",
    "plt.ylim([0,0.15])"
   ]
  },
  {
   "cell_type": "code",
   "execution_count": 51,
   "metadata": {},
   "outputs": [],
   "source": [
    "dn_k = [abs(n_k[i].T- n_diags[i].reshape(-1)) for i in range(4)]"
   ]
  },
  {
   "cell_type": "code",
   "execution_count": 206,
   "metadata": {},
   "outputs": [
    {
     "ename": "ValueError",
     "evalue": "operands could not be broadcast together with shapes (250,) (20,) ",
     "output_type": "error",
     "traceback": [
      "\u001b[1;31m---------------------------------------------------------------------------\u001b[0m",
      "\u001b[1;31mValueError\u001b[0m                                Traceback (most recent call last)",
      "\u001b[1;32m<ipython-input-206-62945ac23889>\u001b[0m in \u001b[0;36m<module>\u001b[1;34m\u001b[0m\n\u001b[1;32m----> 1\u001b[1;33m \u001b[0mdN_k\u001b[0m \u001b[1;33m=\u001b[0m \u001b[1;33m[\u001b[0m\u001b[0mabs\u001b[0m\u001b[1;33m(\u001b[0m\u001b[0mN_k\u001b[0m\u001b[1;33m[\u001b[0m\u001b[0mi\u001b[0m\u001b[1;33m]\u001b[0m\u001b[1;33m.\u001b[0m\u001b[0mT\u001b[0m\u001b[1;33m[\u001b[0m\u001b[1;36m1\u001b[0m\u001b[1;33m:\u001b[0m\u001b[1;33m]\u001b[0m\u001b[1;33m-\u001b[0m \u001b[0mN_diags\u001b[0m\u001b[1;33m[\u001b[0m\u001b[0mi\u001b[0m\u001b[1;33m]\u001b[0m\u001b[1;33m[\u001b[0m\u001b[1;36m1\u001b[0m\u001b[1;33m:\u001b[0m\u001b[1;33m]\u001b[0m\u001b[1;33m.\u001b[0m\u001b[0mreshape\u001b[0m\u001b[1;33m(\u001b[0m\u001b[1;33m-\u001b[0m\u001b[1;36m1\u001b[0m\u001b[1;33m)\u001b[0m\u001b[1;33m)\u001b[0m \u001b[1;32mfor\u001b[0m \u001b[0mi\u001b[0m \u001b[1;32min\u001b[0m \u001b[0mrange\u001b[0m\u001b[1;33m(\u001b[0m\u001b[1;36m4\u001b[0m\u001b[1;33m)\u001b[0m\u001b[1;33m]\u001b[0m\u001b[1;33m\u001b[0m\u001b[1;33m\u001b[0m\u001b[0m\n\u001b[0m",
      "\u001b[1;32m<ipython-input-206-62945ac23889>\u001b[0m in \u001b[0;36m<listcomp>\u001b[1;34m(.0)\u001b[0m\n\u001b[1;32m----> 1\u001b[1;33m \u001b[0mdN_k\u001b[0m \u001b[1;33m=\u001b[0m \u001b[1;33m[\u001b[0m\u001b[0mabs\u001b[0m\u001b[1;33m(\u001b[0m\u001b[0mN_k\u001b[0m\u001b[1;33m[\u001b[0m\u001b[0mi\u001b[0m\u001b[1;33m]\u001b[0m\u001b[1;33m.\u001b[0m\u001b[0mT\u001b[0m\u001b[1;33m[\u001b[0m\u001b[1;36m1\u001b[0m\u001b[1;33m:\u001b[0m\u001b[1;33m]\u001b[0m\u001b[1;33m-\u001b[0m \u001b[0mN_diags\u001b[0m\u001b[1;33m[\u001b[0m\u001b[0mi\u001b[0m\u001b[1;33m]\u001b[0m\u001b[1;33m[\u001b[0m\u001b[1;36m1\u001b[0m\u001b[1;33m:\u001b[0m\u001b[1;33m]\u001b[0m\u001b[1;33m.\u001b[0m\u001b[0mreshape\u001b[0m\u001b[1;33m(\u001b[0m\u001b[1;33m-\u001b[0m\u001b[1;36m1\u001b[0m\u001b[1;33m)\u001b[0m\u001b[1;33m)\u001b[0m \u001b[1;32mfor\u001b[0m \u001b[0mi\u001b[0m \u001b[1;32min\u001b[0m \u001b[0mrange\u001b[0m\u001b[1;33m(\u001b[0m\u001b[1;36m4\u001b[0m\u001b[1;33m)\u001b[0m\u001b[1;33m]\u001b[0m\u001b[1;33m\u001b[0m\u001b[1;33m\u001b[0m\u001b[0m\n\u001b[0m",
      "\u001b[1;31mValueError\u001b[0m: operands could not be broadcast together with shapes (250,) (20,) "
     ]
    }
   ],
   "source": [
    "dN_k = [abs(N_k[i].T[1:]- N_diags[i][1:].reshape(-1)) for i in range(4)]"
   ]
  },
  {
   "cell_type": "code",
   "execution_count": 196,
   "metadata": {},
   "outputs": [],
   "source": [
    "dn_k, dN_k = np.array(dn_k),np.array(dN_k)"
   ]
  },
  {
   "cell_type": "code",
   "execution_count": 66,
   "metadata": {},
   "outputs": [
    {
     "data": {
      "text/plain": [
       "(251, 21)"
      ]
     },
     "execution_count": 66,
     "metadata": {},
     "output_type": "execute_result"
    }
   ],
   "source": [
    "dn_k[0].shape"
   ]
  },
  {
   "cell_type": "code",
   "execution_count": 67,
   "metadata": {},
   "outputs": [
    {
     "data": {
      "text/plain": [
       "(4, 21, 1)"
      ]
     },
     "execution_count": 67,
     "metadata": {},
     "output_type": "execute_result"
    }
   ],
   "source": [
    "n_diags.shape"
   ]
  },
  {
   "cell_type": "code",
   "execution_count": 55,
   "metadata": {},
   "outputs": [
    {
     "data": {
      "text/plain": [
       "(4, 21, 1)"
      ]
     },
     "execution_count": 55,
     "metadata": {},
     "output_type": "execute_result"
    }
   ],
   "source": [
    "N_diags.shape"
   ]
  },
  {
   "cell_type": "code",
   "execution_count": 123,
   "metadata": {},
   "outputs": [
    {
     "data": {
      "text/plain": [
       "-3.576442250140197"
      ]
     },
     "execution_count": 123,
     "metadata": {},
     "output_type": "execute_result"
    }
   ],
   "source": [
    "ind = 1\n",
    "test.Hamiltonian = Hfins[1]\n",
    "E_sets[1][0]"
   ]
  },
  {
   "cell_type": "code",
   "execution_count": 131,
   "metadata": {},
   "outputs": [],
   "source": [
    "j = 0\n",
    "E = [10 for i in range(4)]\n",
    "nindex = [0 for i in range(4)]\n",
    "for energy in Energys:\n",
    "    for i,e in enumerate(energy):\n",
    "        if e-E_sets[j][0]<0 and E[j]>abs(e-E_sets[j][0]):\n",
    "            E[j] = abs(e-E_sets[j][0])\n",
    "            nindex[j] = i\n",
    "    j+=1"
   ]
  },
  {
   "cell_type": "code",
   "execution_count": 144,
   "metadata": {},
   "outputs": [
    {
     "data": {
      "text/plain": [
       "[539, 526, 406, 508]"
      ]
     },
     "execution_count": 144,
     "metadata": {},
     "output_type": "execute_result"
    }
   ],
   "source": [
    "nindex"
   ]
  },
  {
   "cell_type": "code",
   "execution_count": 145,
   "metadata": {},
   "outputs": [
    {
     "data": {
      "text/plain": [
       "[539, 1038, 406, 567]"
      ]
     },
     "execution_count": 145,
     "metadata": {},
     "output_type": "execute_result"
    }
   ],
   "source": [
    "index"
   ]
  },
  {
   "cell_type": "code",
   "execution_count": null,
   "metadata": {},
   "outputs": [],
   "source": [
    "ind = 2\n",
    "test.Hamiltonian = Hfins[ind]\n",
    "\n",
    "E = 10\n",
    "j = 0\n",
    "for energy in Energys[ind]:\n",
    "    for i, e in enumerate(energy):\n",
    "        if e-E_sets[j][0]<0 and E>abs(e-E_sets[j][0]):\n",
    "            E = abs(e-E_sets[j][0])\n",
    "            j = i\n",
    "initial1 = Hinis[ind].get_eigenstates(test.get_basis(7,0))[j]\n",
    "print(E, j)\n",
    "print(initial1.energy)\n",
    "\n",
    "\n"
   ]
  },
  {
   "cell_type": "code",
   "execution_count": 424,
   "metadata": {},
   "outputs": [
    {
     "data": {
      "text/plain": [
       "<Figure size 640x480 with 0 Axes>"
      ]
     },
     "metadata": {},
     "output_type": "display_data"
    }
   ],
   "source": [
    "gs_top = plt.GridSpec(5, 1, top=0.95)\n",
    "gs_base = plt.GridSpec(5, 1, hspace=0)\n",
    "fig = plt.figure()"
   ]
  },
  {
   "cell_type": "code",
   "execution_count": 499,
   "metadata": {},
   "outputs": [
    {
     "data": {
      "image/png": "[encoded data removed]",
      "text/plain": [
       "<Figure size 700x500 with 10 Axes>"
      ]
     },
     "metadata": {},
     "output_type": "display_data"
    }
   ],
   "source": [
    "fig = plt.figure(figsize = [7,5])\n",
    "gs_top = plt.GridSpec(5, 2, top=0.95,hspace = 0, wspace = 0.1)\n",
    "gs_base = plt.GridSpec(5, 2, hspace=0,wspace = 0.1)\n",
    "topax1 = fig.add_subplot(gs_top[0,0])\n",
    "topax1.plot((np.arange(21)*2*np.pi/20-np.pi),np.roll(n_ks[0].T[0],10),c='b',linewidth=1.5)\n",
    "topax1.plot((np.arange(21)*2*np.pi/20-np.pi),np.roll(n_diags[0],10),'r--',linewidth=1.5)\n",
    "topax1.set_xlim([-np.pi,np.pi])\n",
    "topax1.set_ylim([0.2,0.6])\n",
    "topax1.yaxis.set_tick_params(direction = 'in', which='both')\n",
    "topax1.xaxis.set_tick_params(direction = 'in', which='both')\n",
    "topax1.xaxis.set_major_formatter(plt.FixedFormatter(['','$-\\pi$','$-\\pi/2$','$0$','$\\pi/2$','$\\pi$']))\n",
    "topax1.xaxis.set_major_locator(plt.MultipleLocator(np.pi/2))\n",
    "topax1.xaxis.set_minor_locator(plt.MultipleLocator(np.pi/4))\n",
    "topax1.set_ylabel(r\"$n(k)$\")\n",
    "topax1.text(  # position text relative to Axes\n",
    "    0.5, 0.25, r\"$t' = V' = 0.24$\",\n",
    "    ha='center', va='center',\n",
    "    transform=topax1.transAxes\n",
    ")\n",
    "\n",
    "topax2 = fig.add_subplot(gs_top[0,1])\n",
    "plotN = list(N_ks[0].T[0])\n",
    "plotNd = list(N_diags[0].reshape(-1))\n",
    "plotN.insert(1,0)\n",
    "plotNd.insert(1,0)\n",
    "plotN = np.array(plotN)[1:]\n",
    "plotNd = np.array(plotNd)[1:]\n",
    "topax2.plot((np.arange(21)*2*np.pi/20-np.pi),np.roll(plotN,10),c='b',linewidth=1.5,label=r'${Initial}$')\n",
    "topax2.plot((np.arange(21)*2*np.pi/20-np.pi),np.roll(plotNd,10),'r--',linewidth=1.5,label=r'${Diagonal}$')\n",
    "topax2.set_xlim([-np.pi,np.pi])\n",
    "topax2.set_ylim([0,0.4])\n",
    "topax2.yaxis.set_ticks_position('right')\n",
    "topax2.yaxis.set_tick_params(direction = 'in', which='both')\n",
    "topax2.xaxis.set_tick_params(direction = 'in', which='both')\n",
    "topax2.xaxis.set_major_formatter(plt.FixedFormatter(['','$-\\pi$','$-\\pi/2$','$0$','$\\pi/2$','$\\pi$']))\n",
    "topax2.xaxis.set_major_locator(plt.MultipleLocator(np.pi/2))\n",
    "topax2.xaxis.set_minor_locator(plt.MultipleLocator(np.pi/4))\n",
    "topax2.set_ylabel(r\"$N(k)$\")\n",
    "topax2.yaxis.set_label_position('right')\n",
    "leg = topax2.legend(loc=9,fontsize = 7)\n",
    "leg.get_frame().set_linewidth(0.0)\n",
    "leg.get_frame().set_facecolor('none')\n",
    "nnnlabel = [0.24,0.12,0.03,0]\n",
    "for i in range(4):\n",
    "    \n",
    "    if i:\n",
    "        axes1 = fig.add_subplot(gs_base[i+1,0], sharex=axes1)\n",
    "    else:\n",
    "        axes1 = fig.add_subplot(gs_base[i+1,0])\n",
    "    #axes.subplot(5,2,3+2*i)\n",
    "    axes1.plot(np.arange(251)/2.5,dn_k[i].sum(axis=0)/n_diags[i].reshape(-1).sum(),c='green',linewidth=1.5)\n",
    "    axes1.set_ylim([0,0.15])\n",
    "    axes1.set_xlim([0,100])\n",
    "    axes1.yaxis.set_tick_params(direction = 'in', which='both')\n",
    "    axes1.xaxis.set_tick_params(direction = 'in', which='both')\n",
    "    axes1.set_ylabel(r\"$\\delta n_k$\")\n",
    "    axes1.text(  # position text relative to Axes\n",
    "    0.5, 0.8, r\"$t' = V' = {}$\".format(nnnlabel[i]),\n",
    "    ha='center', va='center',\n",
    "    transform=axes1.transAxes\n",
    "    )\n",
    "    #if not i == 1:\n",
    "        #axes1.xaxis.set_major_formatter(plt.NullFormatter())\n",
    "\n",
    "    #axes.subplot(5,2,4+2*i)\n",
    "    if i:\n",
    "        axes2 = fig.add_subplot(gs_base[i+1,1], sharex=axes2)\n",
    "    else:\n",
    "        axes2 = fig.add_subplot(gs_base[i+1,1])\n",
    "    axes2.plot(np.arange(251)/2.5,dN_k[i].sum(axis=0)/N_diags[i][1:].reshape(-1).sum(),c='purple',linewidth=1.5)\n",
    "    axes2.yaxis.set_ticks_position('right')\n",
    "    axes2.set_ylim([0,0.15])\n",
    "    axes2.set_xlim([0,100])\n",
    "    axes2.yaxis.set_tick_params(direction = 'in', which='both')\n",
    "    axes2.xaxis.set_tick_params(direction = 'in', which='both')\n",
    "    axes2.yaxis.set_label_position('right')\n",
    "    axes2.set_ylabel(r\"$\\delta N_k$\")\n",
    "    #if not i == 1:\n",
    "        #axes2.xaxis.set_major_formatter(plt.NullFormatter())\n",
    "\n",
    "plt.savefig('FIG1.png')"
   ]
  },
  {
   "cell_type": "code",
   "execution_count": 125,
   "metadata": {},
   "outputs": [
    {
     "name": "stderr",
     "output_type": "stream",
     "text": [
      "C:\\Users\\jeong\\Anaconda3\\lib\\site-packages\\numpy\\core\\numeric.py:501: ComplexWarning: Casting complex values to real discards the imaginary part\n",
      "  return array(a, dtype, copy=False, order=order)\n"
     ]
    },
    {
     "data": {
      "text/plain": [
       "(0, 100)"
      ]
     },
     "execution_count": 125,
     "metadata": {},
     "output_type": "execute_result"
    },
    {
     "data": {
      "image/png": "[encoded data removed]",
      "text/plain": [
       "<Figure size 360x144 with 1 Axes>"
      ]
     },
     "metadata": {
      "needs_background": "light"
     },
     "output_type": "display_data"
    }
   ],
   "source": [
    "plt.figure(figsize=[5,2])\n",
    "plt.plot(np.arange(251)/2.5,dn_k[0].sum(axis=0)/n_diags[0].sum(),c='green',linewidth=2.5)\n",
    "plt.ylim([0,0.15])\n",
    "plt.xlim([0,100])"
   ]
  },
  {
   "cell_type": "code",
   "execution_count": 109,
   "metadata": {},
   "outputs": [
    {
     "data": {
      "text/plain": [
       "(0, 100)"
      ]
     },
     "execution_count": 109,
     "metadata": {},
     "output_type": "execute_result"
    },
    {
     "data": {
      "image/png": "[encoded data removed]",
      "text/plain": [
       "<Figure size 360x144 with 1 Axes>"
      ]
     },
     "metadata": {
      "needs_background": "light"
     },
     "output_type": "display_data"
    }
   ],
   "source": [
    "plt.figure(figsize=[5,2])\n",
    "plt.plot(np.arange(251)/2.5,dN_k[0].sum(axis=0)/N_diags[0][1:].sum(),c='purple',linewidth=2.5)\n",
    "plt.ylim([0,0.15])\n",
    "plt.xlim([0,100])"
   ]
  },
  {
   "cell_type": "code",
   "execution_count": 7,
   "metadata": {},
   "outputs": [],
   "source": [
    "test.Hamiltonian = test.get_operator(\"H_fin\")"
   ]
  },
  {
   "cell_type": "code",
   "execution_count": 8,
   "metadata": {},
   "outputs": [],
   "source": [
    "init = test.get_operator(\"H_ini\").get_eigenstates(test.get_basis(7,0))"
   ]
  },
  {
   "cell_type": "code",
   "execution_count": 9,
   "metadata": {},
   "outputs": [],
   "source": [
    "initial = init[539]"
   ]
  },
  {
   "cell_type": "code",
   "execution_count": 160,
   "metadata": {},
   "outputs": [],
   "source": [
    "plt.plot(all)"
   ]
  },
  {
   "cell_type": "code",
   "execution_count": 212,
   "metadata": {},
   "outputs": [
    {
     "data": {
      "text/plain": [
       "<xxzchain.core._main.Operator at 0x1ae83aca6a0>"
      ]
     },
     "execution_count": 212,
     "metadata": {},
     "output_type": "execute_result"
    }
   ],
   "source": [
    "Hfins[2]"
   ]
  },
  {
   "cell_type": "code",
   "execution_count": 218,
   "metadata": {},
   "outputs": [
    {
     "data": {
      "text/plain": [
       "-3.436666389091025"
      ]
     },
     "execution_count": 218,
     "metadata": {},
     "output_type": "execute_result"
    }
   ],
   "source": [
    "E_sets[2][0]"
   ]
  },
  {
   "cell_type": "code",
   "execution_count": 223,
   "metadata": {},
   "outputs": [
    {
     "data": {
      "text/plain": [
       "2.0"
      ]
     },
     "execution_count": 223,
     "metadata": {},
     "output_type": "execute_result"
    }
   ],
   "source": [
    "np.average(np.array([1,2,3]))"
   ]
  },
  {
   "cell_type": "code",
   "execution_count": 225,
   "metadata": {},
   "outputs": [
    {
     "data": {
      "text/plain": [
       "array([[-3.43815863+0.j]])"
      ]
     },
     "execution_count": 225,
     "metadata": {},
     "output_type": "execute_result"
    }
   ],
   "source": [
    "Hfins[2].expectation(initial[2])"
   ]
  },
  {
   "cell_type": "code",
   "execution_count": 242,
   "metadata": {},
   "outputs": [],
   "source": [
    "DE = [0.05,0.10,0.15]\n",
    "micro = [[[] for i in test.range] for i in range(3)]\n",
    "n_0 = []\n",
    "for k in test.range:\n",
    "    E = Hfins[2].get_eigenvalue(test.get_basis(7,k))\n",
    "    for kk in test.range:\n",
    "        nk = n[kk].expectation(Hfins[2].get_eigenstates(test.get_basis(7,k)))\n",
    "        if kk ==0:\n",
    "            for val in nk:\n",
    "                n_0.append(val)\n",
    "        for i in range(3):\n",
    "            micro[i][kk].append(nk[np.logical_and(E>E_sets[2][0] - DE[i], E<E_sets[2][0] + DE[i])])\n",
    "        \n",
    "            \n",
    "                \n",
    "        "
   ]
  },
  {
   "cell_type": "code",
   "execution_count": 504,
   "metadata": {},
   "outputs": [],
   "source": [
    "micro = np.array(micro)"
   ]
  },
  {
   "cell_type": "code",
   "execution_count": 511,
   "metadata": {},
   "outputs": [
    {
     "data": {
      "text/plain": [
       "(21, 21)"
      ]
     },
     "execution_count": 511,
     "metadata": {},
     "output_type": "execute_result"
    }
   ],
   "source": [
    "micro[0].shape"
   ]
  },
  {
   "cell_type": "code",
   "execution_count": 528,
   "metadata": {},
   "outputs": [],
   "source": [
    "resort = [[[]for k in test.range] for i in range(3)]"
   ]
  },
  {
   "cell_type": "code",
   "execution_count": 529,
   "metadata": {},
   "outputs": [],
   "source": [
    "for i in range(3):\n",
    "    for k in test.range:\n",
    "        for basis_k in test.range:\n",
    "            for comp in micro[i][k][basis_k]:\n",
    "                resort[i][k].append(comp)"
   ]
  },
  {
   "cell_type": "code",
   "execution_count": 551,
   "metadata": {},
   "outputs": [
    {
     "data": {
      "image/png": "[encoded data removed]",
      "text/plain": [
       "<Figure size 400x400 with 1 Axes>"
      ]
     },
     "metadata": {},
     "output_type": "display_data"
    }
   ],
   "source": [
    "fig = plt.figure(figsize = [4,4])\n",
    "for i in range(3):\n",
    "    plt.plot((np.arange(21)*2*np.pi/20-np.pi),np.roll(np.array([np.average(resort[i][k]) for k in test.range]),10),label = r'$\\Delta E = {}$'.format(DE[i]))\n",
    "plt.ylim([0,0.52])\n",
    "plt.xlim([-np.pi, np.pi])\n",
    "plt.legend()\n",
    "plt.tick_params(direction = 'in', which='both')\n",
    "plt.xticks(np.arange(5)*np.pi/2-np.pi,['$-\\pi$','$-\\pi/2$','$0$','$\\pi/2$','$\\pi$'])\n",
    "#fig.xaxis.set_major_locator(plt.MultipleLocator(np.pi/2))\n",
    "#fig.xaxis.set_minor_locator(plt.MultipleLocator(np.pi/4))\n",
    "plt.savefig('micro.png')"
   ]
  },
  {
   "cell_type": "code",
   "execution_count": 244,
   "metadata": {},
   "outputs": [
    {
     "data": {
      "text/plain": [
       "116280"
      ]
     },
     "execution_count": 244,
     "metadata": {},
     "output_type": "execute_result"
    }
   ],
   "source": [
    "len(n_0)"
   ]
  },
  {
   "cell_type": "code",
   "execution_count": 247,
   "metadata": {},
   "outputs": [],
   "source": [
    "fenergy = []\n",
    "for k in test.range:\n",
    "    for e in Hfins[2].get_eigenvalue(test.get_basis(7,k)):\n",
    "        fenergy.append(e)"
   ]
  },
  {
   "cell_type": "code",
   "execution_count": 249,
   "metadata": {},
   "outputs": [
    {
     "data": {
      "text/plain": [
       "116280"
      ]
     },
     "execution_count": 249,
     "metadata": {},
     "output_type": "execute_result"
    }
   ],
   "source": [
    "len(fenergy)"
   ]
  },
  {
   "cell_type": "code",
   "execution_count": null,
   "metadata": {},
   "outputs": [],
   "source": [
    "DE = [0.05,0.10,0.15]\n",
    "microN = [[[] for i in test.range] for i in range(3)]\n",
    "#n_0 = []\n",
    "for k in test.range:\n",
    "    E = Hfins[2].get_eigenvalue(test.get_basis(7,k))\n",
    "    for kk in test.range:\n",
    "        nk = N[kk].expectation(Hfins[2].get_eigenstates(test.get_basis(7,k)))\n",
    "        #if kk ==0:\n",
    "        #    for val in nk:\n",
    "        #        n_0.append(val)\n",
    "        for i in range(3):\n",
    "            microN[i][kk].append(nk[np.logical_and(E>E_sets[2][0] - DE[i], E<E_sets[2][0] + DE[i])])\n",
    "        \n",
    "            \n",
    "                \n",
    "        "
   ]
  },
  {
   "cell_type": "code",
   "execution_count": 162,
   "metadata": {},
   "outputs": [],
   "source": [
    "n_aa = np.array(n_aa)\n",
    "n_aa = n_aa.reshape(-1)"
   ]
  },
  {
   "cell_type": "code",
   "execution_count": 166,
   "metadata": {},
   "outputs": [],
   "source": [
    "n_a = []\n",
    "for n_aak in n_aa:\n",
    "    for nnn in n_aak:\n",
    "        n_a.append(nnn)"
   ]
  },
  {
   "cell_type": "code",
   "execution_count": 163,
   "metadata": {},
   "outputs": [],
   "source": [
    "all_energy = []\n",
    "for k in test.range:\n",
    "    for e in test.Hamiltonian.get_eigenvalue(test.get_basis(7,k)):\n",
    "        all_energy.append(e)"
   ]
  },
  {
   "cell_type": "code",
   "execution_count": 162,
   "metadata": {},
   "outputs": [],
   "source": [
    "n_aa = np.array(n_aa)\n",
    "n_aa = n_aa.reshape(-1)"
   ]
  },
  {
   "cell_type": "code",
   "execution_count": 259,
   "metadata": {},
   "outputs": [],
   "source": [
    "all_energy = []\n",
    "for k in test.range:\n",
    "    for e in Hfins[0].get_eigenvalue(test.get_basis(7,k)):\n",
    "        all_energy.append(e)"
   ]
  },
  {
   "cell_type": "code",
   "execution_count": 176,
   "metadata": {},
   "outputs": [],
   "source": [
    "n_a = np.array(n_a)"
   ]
  },
  {
   "cell_type": "code",
   "execution_count": 177,
   "metadata": {},
   "outputs": [],
   "source": [
    "test.save('n_a',n_a)"
   ]
  },
  {
   "cell_type": "code",
   "execution_count": 256,
   "metadata": {},
   "outputs": [],
   "source": [
    "n_a = test.get_data('n_a')"
   ]
  },
  {
   "cell_type": "code",
   "execution_count": 287,
   "metadata": {},
   "outputs": [],
   "source": [
    "plt.style.use('default')"
   ]
  },
  {
   "cell_type": "code",
   "execution_count": 354,
   "metadata": {},
   "outputs": [],
   "source": [
    "rc('font',**{'family':'sans-serif','sans-serif':['Helvetica']})\n",
    "rc('text',usetex=False)"
   ]
  },
  {
   "cell_type": "code",
   "execution_count": 356,
   "metadata": {},
   "outputs": [],
   "source": [
    "from mpl_toolkits.axes_grid1.inset_locator import inset_axes"
   ]
  },
  {
   "cell_type": "code",
   "execution_count": null,
   "metadata": {},
   "outputs": [],
   "source": []
  },
  {
   "cell_type": "code",
   "execution_count": 552,
   "metadata": {},
   "outputs": [
    {
     "data": {
      "text/markdown": [
       "<font size =\"4\"> $$H_{fin} = \\sum_i^L -t\\left(b^\\dagger_{i+1}b_i + b^\\dagger_{i}b_{i+1}  \\right)\n",
       "+V\\left(n_i - \\frac{1}{2}\\right)\\left(n_{i+1}  - \\frac{1}{2}\\right)\\\\\n",
       "-t'\\left(b^\\dagger_{i+2}b_i + b^\\dagger_{i}b_{i+2}  \\right)\n",
       "+V'\\left(n_i - \\frac{1}{2}\\right)\\left(n_{i+2}  - \\frac{1}{2}\\right)\\\\\n",
       "(t=1.0,V=1.0, \\quad t'=V'=0.24)$$"
      ],
      "text/plain": [
       "<IPython.core.display.Markdown object>"
      ]
     },
     "metadata": {},
     "output_type": "display_data"
    }
   ],
   "source": [
    "Hfins[0].latex"
   ]
  },
  {
   "cell_type": "code",
   "execution_count": 553,
   "metadata": {},
   "outputs": [
    {
     "data": {
      "text/markdown": [
       "<font size =\"4\"> $$H_{ini} = \\sum_i^L -t\\left(b^\\dagger_{i+1}b_i + b^\\dagger_{i}b_{i+1}  \\right)\n",
       "+V\\left(n_i - \\frac{1}{2}\\right)\\left(n_{i+1}  - \\frac{1}{2}\\right)\\\\\n",
       "-t'\\left(b^\\dagger_{i+2}b_i + b^\\dagger_{i}b_{i+2}  \\right)\n",
       "+V'\\left(n_i - \\frac{1}{2}\\right)\\left(n_{i+2}  - \\frac{1}{2}\\right)\\\\\n",
       "(t=0.5,V=2.0, \\quad t'=V'=0.24)$$"
      ],
      "text/plain": [
       "<IPython.core.display.Markdown object>"
      ]
     },
     "metadata": {},
     "output_type": "display_data"
    }
   ],
   "source": [
    "Hinis[0].latex"
   ]
  },
  {
   "cell_type": "code",
   "execution_count": 423,
   "metadata": {},
   "outputs": [
    {
     "data": {
      "image/png": "[encoded data removed]",
      "text/plain": [
       "<Figure size 450x450 with 4 Axes>"
      ]
     },
     "metadata": {},
     "output_type": "display_data"
    }
   ],
   "source": [
    "fig = plt.figure(figsize = [4.5,4.5])\n",
    "axs = fig.subplots(2,1, sharex=True,gridspec_kw={'hspace': 0})\n",
    "plt.tick_params(direction='in')\n",
    "fig.subplots_adjust(left=0.15,right=0.9)\n",
    "#ax.set_xticks([])\n",
    "#ax.set_yticks([])\n",
    "#axs = [fig.add_subplot(2,1,1),fig.add_subplot(2,1,2)]\n",
    "#fig.subplots_adjust(hspace=0)\n",
    "scattersize = 1.5\n",
    "axs[0].scatter(all_energy, n_a, c='r',s=scattersize)\n",
    "axs[0].set_ylim([0,4])\n",
    "axs[0].set_xlim([-15,13])\n",
    "axs[0].yaxis.set_tick_params(direction = 'in', which='both')\n",
    "axs[0].xaxis.set_tick_params(direction='in', which='both')\n",
    "axs[0].xaxis.set_major_locator(plt.MultipleLocator(5))\n",
    "axs[0].xaxis.set_minor_locator(plt.MultipleLocator(2.5))\n",
    "axs[0].xaxis.set_major_formatter(plt.FormatStrFormatter('%d'))\n",
    "axs[0].yaxis.set_minor_locator(plt.MultipleLocator(0.5))\n",
    "axs[0].yaxis.set_major_locator(plt.MultipleLocator(1))\n",
    "axs[0].set_ylabel(r\"$n(k=0)$\", labelpad=20)\n",
    "axs[0].text(-13,3.5,\"$(a)$\")\n",
    "axs[0].text(-12,2.5,\"$t'=V'=0.24$\")\n",
    "\n",
    "\n",
    "axins = inset_axes(axs[0],width='50%', height='75%', borderpad=0)\n",
    "axins.scatter(fenergy,n_0,c='r',s=scattersize)\n",
    "axins.yaxis.set_tick_params(direction = 'in', which='both')\n",
    "axins.xaxis.set_tick_params(direction='in', which='both')\n",
    "axins.xaxis.set_major_locator(plt.MultipleLocator(10))\n",
    "axins.xaxis.set_minor_locator(plt.MultipleLocator(5))\n",
    "axins.xaxis.set_major_formatter(plt.FormatStrFormatter('%d'))\n",
    "axins.yaxis.set_minor_locator(plt.MultipleLocator(0.5))\n",
    "axins.yaxis.set_major_locator(plt.MultipleLocator(1))\n",
    "axins.text(-4,2.4,\"$t'=V'=0.03$\")\n",
    "axins.set_ylim([0,2.95])\n",
    "axins.set_xlim([-13.5,12.5])\n",
    "\n",
    "axs[1].scatter(test.get_operator(\"H_fin\").get_eigenvalue(initial[0].basis),(Hfins[0].get_eigenvectors(initial[0].basis).T@initial[0].coef)**2,c='b',s = scattersize)\n",
    "axs[1].xaxis.set_tick_params(direction='in', which='both')\n",
    "axs[1].yaxis.set_minor_locator(plt.MultipleLocator(0.005))\n",
    "axs[1].yaxis.set_major_locator(plt.MultipleLocator(0.01))\n",
    "axs[1].yaxis.set_major_formatter(plt.FixedFormatter(['0','0.01','0.02','']))\n",
    "axs[1].yaxis.set_ticks([0,0.01,0.02])\n",
    "axs[1].yaxis.set_tick_params(direction='in', which='both')\n",
    "axs[1].set_ylim([0,0.03])\n",
    "axs[1].set_xlim([-15,13])\n",
    "axs[1].set_ylabel(r\"$|C_\\alpha|^2$\")\n",
    "axs[1].text(-13,0.025,\"$(b)$\")\n",
    "axs[1].set_xlabel(\"E\")\n",
    "\n",
    "axins1 = inset_axes(axs[1],width='50%', height='75%', borderpad=0)\n",
    "axins1.scatter(Hfins[2].get_eigenvalue(initial[2].basis),(Hfins[2].get_eigenvectors(initial[2].basis).T@initial[2].coef)**2,c='b',s = scattersize)\n",
    "axins1.yaxis.set_tick_params(direction = 'in', which='both')\n",
    "axins1.xaxis.set_tick_params(direction='in', which='both')\n",
    "axins1.xaxis.set_major_locator(plt.MultipleLocator(10))\n",
    "axins1.xaxis.set_minor_locator(plt.MultipleLocator(5))\n",
    "axins1.yaxis.set_major_formatter(plt.FixedFormatter(['','0','0.05','0.1']))\n",
    "axins1.yaxis.set_minor_locator(plt.MultipleLocator(0.025))\n",
    "axins1.yaxis.set_major_locator(plt.MultipleLocator(0.05))\n",
    "\n",
    "axins1.set_ylim([0,0.125])\n",
    "axins1.set_xlim([-13.5,12.5])\n",
    "\n",
    "fig.savefig('fig6.png')"
   ]
  },
  {
   "cell_type": "code",
   "execution_count": 262,
   "metadata": {},
   "outputs": [
    {
     "data": {
      "image/png": "[encoded data removed]",
      "text/plain": [
       "<Figure size 360x288 with 1 Axes>"
      ]
     },
     "metadata": {
      "needs_background": "light"
     },
     "output_type": "display_data"
    }
   ],
   "source": [
    "plt.figure(figsize = [5,4])\n",
    "plt.scatter(Hfins[2].get_eigenvalue(initial[2].basis),(Hfins[2].get_eigenvectors(initial[2].basis).T@initial[2].coef)**2,c='b',s = 4)\n",
    "plt.ylim([0,0.123])\n",
    "plt.savefig(\"fig6insetb.png\")"
   ]
  },
  {
   "cell_type": "code",
   "execution_count": 254,
   "metadata": {},
   "outputs": [
    {
     "data": {
      "text/plain": [
       "<matplotlib.collections.PathCollection at 0x1ae90ecba58>"
      ]
     },
     "execution_count": 254,
     "metadata": {},
     "output_type": "execute_result"
    },
    {
     "data": {
      "image/png": "[encoded data removed]",
      "text/plain": [
       "<Figure size 180x144 with 1 Axes>"
      ]
     },
     "metadata": {
      "needs_background": "light"
     },
     "output_type": "display_data"
    }
   ],
   "source": [
    "plt.figure(figsize = [2.5,2])\n",
    "plt.scatter(fenergy,n_0,c='r',s=2)"
   ]
  },
  {
   "cell_type": "code",
   "execution_count": 503,
   "metadata": {},
   "outputs": [
    {
     "data": {
      "text/plain": [
       "<matplotlib.legend.Legend at 0x1aec8ffcba8>"
      ]
     },
     "execution_count": 503,
     "metadata": {},
     "output_type": "execute_result"
    },
    {
     "data": {
      "image/png": "[encoded data removed]",
      "text/plain": [
       "<Figure size 640x480 with 1 Axes>"
      ]
     },
     "metadata": {},
     "output_type": "display_data"
    }
   ],
   "source": [
    "mask = [1e-5,1e-4,1e-3,1e-2,1e-1]\n",
    "\n",
    "c_a_square = [(Hfins[i].get_eigenvectors(initial[i].basis).T@initial[i].coef)**2 for i in range(4)]\n",
    "for j in range(4):\n",
    "    plt.loglog(mask,[c_a_square[j][c_a_square[j]>mask[i]].shape[0] for i in range(5)],'*-', label=str(nnnlabel[j]))\n",
    "plt.xlim([1e-5,1e-1])\n",
    "plt.ylim([1,1e4])\n",
    "plt.legend()"
   ]
  },
  {
   "cell_type": "code",
   "execution_count": 149,
   "metadata": {},
   "outputs": [
    {
     "data": {
      "text/plain": [
       "(-15, 13)"
      ]
     },
     "execution_count": 149,
     "metadata": {},
     "output_type": "execute_result"
    },
    {
     "data": {
      "image/png": "[encoded data removed]",
      "text/plain": [
       "<Figure size 432x288 with 1 Axes>"
      ]
     },
     "metadata": {
      "needs_background": "light"
     },
     "output_type": "display_data"
    }
   ],
   "source": [
    "plt.scatter(test.get_operator(\"H_fin\").get_eigenvalue(initial.basis),(initial.eigencoef*initial.eigencoef.conjugate()),c='b',s = 2)\n",
    "plt.ylim([0,0.03])\n",
    "plt.xlim([-15,13])\n"
   ]
  },
  {
   "cell_type": "code",
   "execution_count": 10,
   "metadata": {},
   "outputs": [
    {
     "data": {
      "text/plain": [
       "(5538, 1)"
      ]
     },
     "execution_count": 10,
     "metadata": {},
     "output_type": "execute_result"
    }
   ],
   "source": [
    "initial.eigencoef.shape"
   ]
  },
  {
   "cell_type": "code",
   "execution_count": 12,
   "metadata": {},
   "outputs": [],
   "source": [
    "n_diag = test.get_data('n_diag')"
   ]
  },
  {
   "cell_type": "code",
   "execution_count": 13,
   "metadata": {},
   "outputs": [],
   "source": [
    "N_diag = test.get_data('N_diag')"
   ]
  },
  {
   "cell_type": "code",
   "execution_count": 75,
   "metadata": {},
   "outputs": [],
   "source": [
    "a= initial.time_evolving_states(np.arange(251)/2.5)"
   ]
  },
  {
   "cell_type": "code",
   "execution_count": 76,
   "metadata": {},
   "outputs": [],
   "source": [
    "n_k,N_k = [],[]\n",
    "for k in test.range:\n",
    "    n_k.append(n[k].expectation(a).real)\n",
    "    N_k.append(N[k].expectation(a).real)"
   ]
  },
  {
   "cell_type": "code",
   "execution_count": 78,
   "metadata": {},
   "outputs": [],
   "source": [
    "n_k = np.array(n_k)\n",
    "\n",
    "N_k = np.array(N_k)"
   ]
  },
  {
   "cell_type": "code",
   "execution_count": 79,
   "metadata": {},
   "outputs": [],
   "source": [
    "dn_k = abs(n_k.T- n_diag)"
   ]
  },
  {
   "cell_type": "code",
   "execution_count": 70,
   "metadata": {},
   "outputs": [
    {
     "data": {
      "text/plain": [
       "(21, 401)"
      ]
     },
     "execution_count": 70,
     "metadata": {},
     "output_type": "execute_result"
    }
   ],
   "source": [
    "N_k.shape"
   ]
  },
  {
   "cell_type": "code",
   "execution_count": 80,
   "metadata": {},
   "outputs": [],
   "source": [
    "dN_k = abs(N_k[1:].T- N_diag[21:])"
   ]
  },
  {
   "cell_type": "code",
   "execution_count": 90,
   "metadata": {},
   "outputs": [
    {
     "data": {
      "text/plain": [
       "array([0.58433563, 0.48081966, 0.50438354, 0.43350949, 0.32551843,\n",
       "       0.30148072, 0.2412598 , 0.2206171 , 0.239704  , 0.22547819,\n",
       "       0.23506125, 0.23506125, 0.22547819, 0.239704  , 0.2206171 ,\n",
       "       0.2412598 , 0.30148072, 0.32551843, 0.43350949, 0.50438354,\n",
       "       0.48081966])"
      ]
     },
     "execution_count": 90,
     "metadata": {},
     "output_type": "execute_result"
    }
   ],
   "source": [
    "n_k.T[0]"
   ]
  },
  {
   "cell_type": "code",
   "execution_count": 131,
   "metadata": {},
   "outputs": [
    {
     "data": {
      "image/png": "[encoded data removed]",
      "text/plain": [
       "<Figure size 720x252 with 4 Axes>"
      ]
     },
     "metadata": {
      "needs_background": "light"
     },
     "output_type": "display_data"
    }
   ],
   "source": [
    "plt.figure(figsize = [10,3.5])\n",
    "plt.subplot(2,2,1)\n",
    "plt.plot((np.arange(21)*2*np.pi/20-np.pi),np.roll(n_k.T[0],10),c='b',linewidth=1.5)\n",
    "plt.plot((np.arange(21)*2*np.pi/20-np.pi),np.roll(n_diag,10),'r--',linewidth=1.5)\n",
    "plt.xlim([-np.pi,np.pi])\n",
    "plt.ylim([0.2,0.6])\n",
    "\n",
    "plt.subplot(2,2,2)\n",
    "plotN = list(N_k.T[0])\n",
    "plotN.insert(1,0)\n",
    "plotN = np.array(plotN)[1:]\n",
    "plt.plot((np.arange(21)*2*np.pi/20-np.pi),np.roll(plotN,10),c='b',linewidth=1.5)\n",
    "plt.plot((np.arange(21)*2*np.pi/20-np.pi),np.roll(N_diag[1:],10),'r--',linewidth=1.5)\n",
    "plt.xlim([-np.pi,np.pi])\n",
    "plt.ylim([0,0.4])\n",
    "\n",
    "plt.subplot(2,2,3)\n",
    "plt.plot(np.arange(251)/2.5,dn_k.sum(axis=1)/n_diag.sum(),c='green',linewidth=2.5)\n",
    "plt.ylim([0,0.15])\n",
    "plt.xlim([0,100])\n",
    "\n",
    "plt.subplot(2,2,4)\n",
    "plt.plot(np.arange(251)/2.5,dN_k.sum(axis=1)/N_diag[1:].sum(),c='purple',linewidth=2.5)\n",
    "plt.ylim([0,0.15])\n",
    "plt.xlim([0,100])\n",
    "\n",
    "plt.savefig('d24.png')"
   ]
  },
  {
   "cell_type": "code",
   "execution_count": 126,
   "metadata": {},
   "outputs": [
    {
     "data": {
      "image/png": "[encoded data removed]",
      "text/plain": [
       "<Figure size 360x108 with 1 Axes>"
      ]
     },
     "metadata": {
      "needs_background": "light"
     },
     "output_type": "display_data"
    }
   ],
   "source": [
    "plt.figure(figsize = [5,1.5])\n",
    "plt.plot(np.arange(251)/2.5,dN_k.sum(axis=1)/N_diag[1:].sum(),c='purple',linewidth=2.5)\n",
    "plt.ylim([0,0.15])\n",
    "plt.xlim([0,100])\n",
    "plt.savefig('dNk24.png')"
   ]
  },
  {
   "cell_type": "code",
   "execution_count": 44,
   "metadata": {},
   "outputs": [],
   "source": [
    "n_diag = []\n",
    "N_diag = []\n",
    "for k in test.range:\n",
    "    n_diag.append((initial.eigencoef*initial.eigencoef.conjugate()).T@(n[k].get_matrix(initial.basis, eigen=True)[np.diag_indices(len(initial.basis))]))\n",
    "    N_diag.append((initial.eigencoef*initial.eigencoef.conjugate()).T@(N[k].get_matrix(initial.basis, eigen=True)[np.diag_indices(len(initial.basis))]))"
   ]
  },
  {
   "cell_type": "code",
   "execution_count": 18,
   "metadata": {},
   "outputs": [
    {
     "data": {
      "text/plain": [
       "(5538,)"
      ]
     },
     "execution_count": 18,
     "metadata": {},
     "output_type": "execute_result"
    }
   ],
   "source": [
    "N_diag = []\n",
    "for k in test.range:\n",
    "    N_diag.append(np.sum((initial.eigencoef*initial.eigencoef.conjugate())@(N[k].get_matrix(initial.basis, eigen=True)[np.diag_indices(len(initial.basis))]))"
   ]
  },
  {
   "cell_type": "code",
   "execution_count": 9,
   "metadata": {},
   "outputs": [],
   "source": [
    "H_ini= test.get_operator(\"H_ini\")#get_eigenvectors(test.get_basis(7,0))"
   ]
  },
  {
   "cell_type": "code",
   "execution_count": 22,
   "metadata": {},
   "outputs": [],
   "source": [
    "B_aA = test.Hamiltonian.get_eigenvectors(test.get_basis(7,0))"
   ]
  },
  {
   "cell_type": "code",
   "execution_count": 23,
   "metadata": {},
   "outputs": [
    {
     "data": {
      "text/plain": [
       "True"
      ]
     },
     "execution_count": 23,
     "metadata": {},
     "output_type": "execute_result"
    }
   ],
   "source": [
    "(B_aA.imag==0).all()"
   ]
  },
  {
   "cell_type": "code",
   "execution_count": 29,
   "metadata": {},
   "outputs": [],
   "source": [
    "I = (B_aA.T.real@B_aA.real)"
   ]
  },
  {
   "cell_type": "code",
   "execution_count": 30,
   "metadata": {},
   "outputs": [],
   "source": [
    "I[np.diag_indices(5538)] = 0"
   ]
  },
  {
   "cell_type": "code",
   "execution_count": 35,
   "metadata": {},
   "outputs": [],
   "source": [
    "tn = []\n",
    "tN = []\n",
    "for k in test.range:\n",
    "    tn.append(B_aA.T@n[k].get_matrix(test.get_basis(7,0))@B_aA)\n",
    "    tN.append(B_aA.T@N[k].get_matrix(test.get_basis(7,0))@B_aA)"
   ]
  },
  {
   "cell_type": "code",
   "execution_count": 56,
   "metadata": {},
   "outputs": [
    {
     "data": {
      "text/plain": [
       "array([[ 0,  0,  0,  0,  0,  0,  0,  0,  0,  0],\n",
       "       [ 0,  1,  2,  3,  4,  5,  6,  7,  8,  9],\n",
       "       [ 0,  2,  4,  6,  8, 10, 12, 14, 16, 18],\n",
       "       [ 0,  3,  6,  9, 12, 15, 18, 21, 24, 27],\n",
       "       [ 0,  4,  8, 12, 16, 20, 24, 28, 32, 36],\n",
       "       [ 0,  5, 10, 15, 20, 25, 30, 35, 40, 45],\n",
       "       [ 0,  6, 12, 18, 24, 30, 36, 42, 48, 54],\n",
       "       [ 0,  7, 14, 21, 28, 35, 42, 49, 56, 63],\n",
       "       [ 0,  8, 16, 24, 32, 40, 48, 56, 64, 72],\n",
       "       [ 0,  9, 18, 27, 36, 45, 54, 63, 72, 81]])"
      ]
     },
     "execution_count": 56,
     "metadata": {},
     "output_type": "execute_result"
    }
   ],
   "source": [
    "np.array(range(10)).reshape(-1,1)@np.array(range(10)).reshape(1,-1)"
   ]
  },
  {
   "cell_type": "code",
   "execution_count": 38,
   "metadata": {},
   "outputs": [
    {
     "data": {
      "text/plain": [
       "True"
      ]
     },
     "execution_count": 38,
     "metadata": {},
     "output_type": "execute_result"
    }
   ],
   "source": [
    "(tn[0] == tn[1]).all()"
   ]
  },
  {
   "cell_type": "code",
   "execution_count": null,
   "metadata": {},
   "outputs": [
    {
     "data": {
      "text/plain": [
       "[<matplotlib.lines.Line2D at 0x23c7b7a4be0>]"
      ]
     },
     "execution_count": 42,
     "metadata": {},
     "output_type": "execute_result"
    }
   ],
   "source": [
    "plt.plot(n[1].get_matrix(initial.basis).reshape(-1,1),'x')"
   ]
  },
  {
   "cell_type": "code",
   "execution_count": 36,
   "metadata": {},
   "outputs": [
    {
     "data": {
      "text/plain": [
       "[<matplotlib.lines.Line2D at 0x23701ad32b0>]"
      ]
     },
     "execution_count": 36,
     "metadata": {},
     "output_type": "execute_result"
    },
    {
     "data": {
      "image/png": "[encoded data removed]",
      "text/plain": [
       "<Figure size 432x288 with 1 Axes>"
      ]
     },
     "metadata": {
      "needs_background": "light"
     },
     "output_type": "display_data"
    }
   ],
   "source": [
    "plt.plot(n[0].get_matrix(initial.basis)[np.diag_indices(len(initial.basis))])"
   ]
  },
  {
   "cell_type": "code",
   "execution_count": 35,
   "metadata": {},
   "outputs": [
    {
     "data": {
      "text/plain": [
       "[<matplotlib.lines.Line2D at 0x23701acaeb8>]"
      ]
     },
     "execution_count": 35,
     "metadata": {},
     "output_type": "execute_result"
    },
    {
     "data": {
      "image/png": "[encoded data removed]",
      "text/plain": [
       "<Figure size 432x288 with 1 Axes>"
      ]
     },
     "metadata": {
      "needs_background": "light"
     },
     "output_type": "display_data"
    }
   ],
   "source": [
    "plt.plot(n[2].get_matrix(initial.basis)[np.diag_indices(len(initial.basis))])"
   ]
  },
  {
   "cell_type": "code",
   "execution_count": 26,
   "metadata": {},
   "outputs": [
    {
     "data": {
      "text/plain": [
       "[<matplotlib.lines.Line2D at 0x23701cafb00>]"
      ]
     },
     "execution_count": 26,
     "metadata": {},
     "output_type": "execute_result"
    },
    {
     "data": {
      "image/png": "[encoded data removed]",
      "text/plain": [
       "<Figure size 432x288 with 1 Axes>"
      ]
     },
     "metadata": {
      "needs_background": "light"
     },
     "output_type": "display_data"
    }
   ],
   "source": [
    "plt.plot(initial.eigencoef*initial.eigencoef.conjugate())"
   ]
  },
  {
   "cell_type": "code",
   "execution_count": 39,
   "metadata": {},
   "outputs": [
    {
     "data": {
      "text/plain": [
       "(441,)"
      ]
     },
     "execution_count": 39,
     "metadata": {},
     "output_type": "execute_result"
    }
   ],
   "source": [
    "n[1].coef.shape"
   ]
  },
  {
   "cell_type": "code",
   "execution_count": 24,
   "metadata": {},
   "outputs": [
    {
     "data": {
      "text/plain": [
       "[(0.5374714760368672+1.4116277447675007e-17j),\n",
       " (0.5374714760368672+1.4116277447675007e-17j),\n",
       " (0.5374714760368672+1.4116277447675007e-17j),\n",
       " (0.5374714760368672+1.4116277447675007e-17j),\n",
       " (0.5374714760368672+1.4116277447675007e-17j),\n",
       " (0.5374714760368672+1.4116277447675007e-17j),\n",
       " (0.5374714760368672+1.4116277447675007e-17j),\n",
       " (0.5374714760368672+1.4116277447675007e-17j),\n",
       " (0.5374714760368672+1.4116277447675007e-17j),\n",
       " (0.5374714760368672+1.4116277447675007e-17j),\n",
       " (0.5374714760368672+1.4116277447675007e-17j),\n",
       " (0.5374714760368672+1.4116277447675007e-17j),\n",
       " (0.5374714760368672+1.4116277447675007e-17j),\n",
       " (0.5374714760368672+1.4116277447675007e-17j),\n",
       " (0.5374714760368672+1.4116277447675007e-17j),\n",
       " (0.5374714760368672+1.4116277447675007e-17j),\n",
       " (0.5374714760368672+1.4116277447675007e-17j),\n",
       " (0.5374714760368672+1.4116277447675007e-17j),\n",
       " (0.5374714760368672+1.4116277447675007e-17j),\n",
       " (0.5374714760368672+1.4116277447675007e-17j),\n",
       " (0.5374714760368672+1.4116277447675007e-17j)]"
      ]
     },
     "execution_count": 24,
     "metadata": {},
     "output_type": "execute_result"
    }
   ],
   "source": [
    "n_diag"
   ]
  },
  {
   "cell_type": "code",
   "execution_count": 7,
   "metadata": {},
   "outputs": [
    {
     "data": {
      "text/plain": [
       "[<matplotlib.lines.Line2D at 0x1d3050eda58>]"
      ]
     },
     "execution_count": 7,
     "metadata": {},
     "output_type": "execute_result"
    },
    {
     "data": {
      "image/png": "[encoded data removed]",
      "text/plain": [
       "<Figure size 432x288 with 1 Axes>"
      ]
     },
     "metadata": {
      "needs_background": "light"
     },
     "output_type": "display_data"
    }
   ],
   "source": [
    "plt.plot(energy.real)"
   ]
  },
  {
   "cell_type": "code",
   "execution_count": 8,
   "metadata": {
    "collapsed": false,
    "inputHidden": false,
    "outputHidden": false
   },
   "outputs": [],
   "source": [
    "def partition_f(H,beta):\n",
    "    return np.exp(-H*beta)\n",
    "\n",
    "def temper(func, beta):\n",
    "    def wrapper(x):\n",
    "        return func(x,beta)\n",
    "    return wrapper"
   ]
  },
  {
   "cell_type": "code",
   "execution_count": 9,
   "metadata": {
    "collapsed": false,
    "inputHidden": false,
    "outputHidden": false
   },
   "outputs": [],
   "source": [
    "H_ini = test.get_operator('H_ini')\n",
    "H_fin = test.get_operator('H_fin')"
   ]
  },
  {
   "cell_type": "code",
   "execution_count": 10,
   "metadata": {},
   "outputs": [
    {
     "data": {
      "text/markdown": [
       "<font size =\"4\"> $$H_{ini} = \\sum_i^L -t\\left(b^\\dagger_{i+1}b_i + b^\\dagger_{i}b_{i+1}  \\right)\n",
       "+V\\left(n_i - \\frac{1}{2}\\right)\\left(n_{i+1}  - \\frac{1}{2}\\right)\\\\\n",
       "-t'\\left(b^\\dagger_{i+2}b_i + b^\\dagger_{i}b_{i+2}  \\right)\n",
       "+V'\\left(n_i - \\frac{1}{2}\\right)\\left(n_{i+2}  - \\frac{1}{2}\\right)\\\\\n",
       "(t=0.5,V=2.0, \\quad t'=V'=0.24)$$"
      ],
      "text/plain": [
       "<IPython.core.display.Markdown object>"
      ]
     },
     "metadata": {},
     "output_type": "display_data"
    }
   ],
   "source": [
    "H_ini.latex"
   ]
  },
  {
   "cell_type": "code",
   "execution_count": 11,
   "metadata": {},
   "outputs": [
    {
     "data": {
      "text/markdown": [
       "<font size =\"4\"> $$H_{fin} = \\sum_i^L -t\\left(b^\\dagger_{i+1}b_i + b^\\dagger_{i}b_{i+1}  \\right)\n",
       "+V\\left(n_i - \\frac{1}{2}\\right)\\left(n_{i+1}  - \\frac{1}{2}\\right)\\\\\n",
       "-t'\\left(b^\\dagger_{i+2}b_i + b^\\dagger_{i}b_{i+2}  \\right)\n",
       "+V'\\left(n_i - \\frac{1}{2}\\right)\\left(n_{i+2}  - \\frac{1}{2}\\right)\\\\\n",
       "(t=1.0,V=1.0, \\quad t'=V'=0.24)$$"
      ],
      "text/plain": [
       "<IPython.core.display.Markdown object>"
      ]
     },
     "metadata": {},
     "output_type": "display_data"
    }
   ],
   "source": [
    "H_fin.latex"
   ]
  },
  {
   "cell_type": "code",
   "execution_count": 12,
   "metadata": {
    "collapsed": false,
    "inputHidden": false,
    "outputHidden": false
   },
   "outputs": [],
   "source": [
    "beta = test.get_data('beta')\n",
    "E_set = test.get_data('E_set')\n",
    "E_can = test.get_data('E_can')"
   ]
  },
  {
   "cell_type": "code",
   "execution_count": 13,
   "metadata": {
    "collapsed": false,
    "inputHidden": false,
    "outputHidden": false
   },
   "outputs": [
    {
     "data": {
      "text/plain": [
       "Text(0, 0.5, '<E>')"
      ]
     },
     "execution_count": 13,
     "metadata": {},
     "output_type": "execute_result"
    },
    {
     "data": {
      "image/png": "[encoded data removed]",
      "text/plain": [
       "<Figure size 432x288 with 1 Axes>"
      ]
     },
     "metadata": {
      "needs_background": "light"
     },
     "output_type": "display_data"
    }
   ],
   "source": [
    "plt.plot(1/beta, E_set)\n",
    "plt.xlabel(r\"T_eff\")\n",
    "plt.ylabel(r\"<E>\")"
   ]
  },
  {
   "cell_type": "code",
   "execution_count": 14,
   "metadata": {},
   "outputs": [
    {
     "data": {
      "text/plain": [
       "array([[338.        ,  -3.8577188 ],\n",
       "       [346.        ,  -3.8543834 ],\n",
       "       [390.        ,  -3.84382674],\n",
       "       [397.        ,  -3.85488533],\n",
       "       [403.        ,  -3.85046932],\n",
       "       [432.        ,  -3.85117252],\n",
       "       [452.        ,  -3.85561018],\n",
       "       [539.        ,  -3.85426577]])"
      ]
     },
     "execution_count": 14,
     "metadata": {},
     "output_type": "execute_result"
    }
   ],
   "source": [
    "E_can"
   ]
  },
  {
   "cell_type": "markdown",
   "metadata": {},
   "source": [
    "operator group"
   ]
  },
  {
   "cell_type": "code",
   "execution_count": 46,
   "metadata": {},
   "outputs": [],
   "source": [
    "n_k = test.get_data('n_k')\n",
    "N_k = test.get_data('N_k')"
   ]
  },
  {
   "cell_type": "code",
   "execution_count": 57,
   "metadata": {},
   "outputs": [],
   "source": [
    "test.save(\"n_diag\",np.array(n_diag))\n",
    "test.save(\"N_diag\",np.array(N_diag))"
   ]
  },
  {
   "cell_type": "code",
   "execution_count": 59,
   "metadata": {},
   "outputs": [],
   "source": [
    "for i in test.range:\n",
    "    test.save(\"n{}\".format(i),n[i].matrix)\n",
    "    test.save(\"N{}\".format(i),n[i].matrix)"
   ]
  },
  {
   "cell_type": "code",
   "execution_count": 49,
   "metadata": {
    "collapsed": false,
    "inputHidden": false,
    "outputHidden": false
   },
   "outputs": [
    {
     "data": {
      "text/plain": [
       "(-3.141592653589793, 3.141592653589793)"
      ]
     },
     "execution_count": 49,
     "metadata": {},
     "output_type": "execute_result"
    },
    {
     "data": {
      "image/png": "[encoded data removed]",
      "text/plain": [
       "<Figure size 360x144 with 1 Axes>"
      ]
     },
     "metadata": {
      "needs_background": "light"
     },
     "output_type": "display_data"
    }
   ],
   "source": [
    "k = np.arange(21)*np.pi*2/test.size-np.pi*2/test.size*10\n",
    "plt.figure(figsize=[5,2])\n",
    "plt.plot(k, np.roll(n_k.T[539].real,10),'b-')\n",
    "plt.plot(k, np.roll(np.array(n_diag).real,10),'r--')\n",
    "plt.ylim([0.2,0.6])\n",
    "plt.xlim([-np.pi, np.pi])\n",
    "#plt.savefig('n_k.png')"
   ]
  },
  {
   "cell_type": "code",
   "execution_count": 53,
   "metadata": {
    "collapsed": false,
    "inputHidden": false,
    "outputHidden": false
   },
   "outputs": [
    {
     "data": {
      "text/plain": [
       "(-3.141592653589793, 3.141592653589793)"
      ]
     },
     "execution_count": 53,
     "metadata": {},
     "output_type": "execute_result"
    },
    {
     "data": {
      "image/png": "[encoded data removed]",
      "text/plain": [
       "<Figure size 360x144 with 1 Axes>"
      ]
     },
     "metadata": {
      "needs_background": "light"
     },
     "output_type": "display_data"
    }
   ],
   "source": [
    "N_k_t = list(N_k.T[539].real)[1:]\n",
    "\n",
    "N_k_t.insert(0,0)\n",
    "#N_diag.insert(1,0)  \n",
    "N_k_t = np.array(N_k_t)\n",
    "N_diag = np.array(N_diag)[1:]\n",
    "plt.figure(figsize=[5,2])\n",
    "plt.plot(k, np.roll(N_k_t,10),'b-')\n",
    "plt.plot(k, np.roll(N_diag[1:],10),'r--')\n",
    "plt.ylim([0,0.4])\n",
    "plt.xlim([-np.pi, np.pi])\n",
    "#plt.savefig('NK.png')"
   ]
  },
  {
   "cell_type": "code",
   "execution_count": null,
   "metadata": {},
   "outputs": [],
   "source": []
  },
  {
   "cell_type": "markdown",
   "metadata": {},
   "source": [
    "xxz.preset(test, globals())"
   ]
  },
  {
   "cell_type": "markdown",
   "metadata": {},
   "source": [
    "n = []\n",
    "for k in test.range:\n",
    "    n.append(xxz.Operator.Null(test))\n",
    "    for i in test.range:\n",
    "        for j in test.range:\n",
    "            n[k]+= np.exp(-k*2*np.pi/test.size*1j*(i-j))/test.size*b_i_dag.index(i)@b_i.index(j)"
   ]
  }
 ],
 "metadata": {
  "kernelspec": {
   "display_name": "Python 3",
   "language": "python",
   "name": "python3"
  },
  "language_info": {
   "codemirror_mode": {
    "name": "ipython",
    "version": 3
   },
   "file_extension": ".py",
   "mimetype": "text/x-python",
   "name": "python",
   "nbconvert_exporter": "python",
   "pygments_lexer": "ipython3",
   "version": "3.7.1"
  }
 },
 "nbformat": 4,
 "nbformat_minor": 2
}
