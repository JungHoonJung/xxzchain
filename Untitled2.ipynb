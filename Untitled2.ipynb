{
 "cells": [
  {
   "cell_type": "code",
   "execution_count": 1,
   "metadata": {},
   "outputs": [],
   "source": [
    "import xxzchain as xxz"
   ]
  },
  {
   "cell_type": "code",
   "execution_count": 2,
   "metadata": {},
   "outputs": [],
   "source": [
    "import time"
   ]
  },
  {
   "cell_type": "code",
   "execution_count": 4,
   "metadata": {},
   "outputs": [
    {
     "name": "stdout",
     "output_type": "stream",
     "text": [
      "Current system saved at \"test_data\"\n",
      "Hardcore boson system\n",
      "Name         : lattice4\n",
      "Saved path   : C:\\Users\\jeong\\master\\xxzchain\\test_data\\\n",
      "System size  : 4\n",
      "\n",
      "Referenced Basis :   (None means full)\n",
      "\t|- Sector [-1 -1  0  0] \n",
      "\t-----\n",
      "\n",
      "Defined Operators :\n",
      "\t-----\n",
      "\tHamiltonian  : -----\n",
      "\n"
     ]
    },
    {
     "name": "stderr",
     "output_type": "stream",
     "text": [
      "C:\\Users\\jeong\\Anaconda3\\lib\\site-packages\\numpy\\lib\\function_base.py:2054: ComplexWarning: Casting complex values to real discards the imaginary part\n",
      "  for x, t in zip(outputs, otypes)])\n"
     ]
    },
    {
     "name": "stdout",
     "output_type": "stream",
     "text": [
      "Current system saved at \"test_data\"\n",
      "Hardcore boson system\n",
      "Name         : lattice6\n",
      "Saved path   : C:\\Users\\jeong\\master\\xxzchain\\test_data\\\n",
      "System size  : 6\n",
      "\n",
      "Referenced Basis :   (None means full)\n",
      "\t|- Sector [-1 -1  0  0] \n",
      "\t-----\n",
      "\n",
      "Defined Operators :\n",
      "\t-----\n",
      "\tHamiltonian  : -----\n",
      "\n",
      "Current system saved at \"test_data\"\n",
      "Hardcore boson system\n",
      "Name         : lattice8\n",
      "Saved path   : C:\\Users\\jeong\\master\\xxzchain\\test_data\\\n",
      "System size  : 8\n",
      "\n",
      "Referenced Basis :   (None means full)\n",
      "\t|- Sector [-1 -1  0  0] \n",
      "\t-----\n",
      "\n",
      "Defined Operators :\n",
      "\t-----\n",
      "\tHamiltonian  : -----\n",
      "\n",
      "Current system saved at \"test_data\"\n",
      "Hardcore boson system\n",
      "Name         : lattice10\n",
      "Saved path   : C:\\Users\\jeong\\master\\xxzchain\\test_data\\\n",
      "System size  : 10\n",
      "\n",
      "Referenced Basis :   (None means full)\n",
      "\t|- Sector [-1 -1  0  0] \n",
      "\t-----\n",
      "\n",
      "Defined Operators :\n",
      "\t-----\n",
      "\tHamiltonian  : -----\n",
      "\n",
      "Current system saved at \"test_data\"\n",
      "Hardcore boson system\n",
      "Name         : lattice12\n",
      "Saved path   : C:\\Users\\jeong\\master\\xxzchain\\test_data\\\n",
      "System size  : 12\n",
      "\n",
      "Referenced Basis :   (None means full)\n",
      "\t|- Sector [-1 -1  0  0] \n",
      "\t-----\n",
      "\n",
      "Defined Operators :\n",
      "\t-----\n",
      "\tHamiltonian  : -----\n",
      "\n",
      "Current system saved at \"test_data\"\n",
      "Hardcore boson system\n",
      "Name         : lattice14\n",
      "Saved path   : C:\\Users\\jeong\\master\\xxzchain\\test_data\\\n",
      "System size  : 14\n",
      "\n",
      "Referenced Basis :   (None means full)\n",
      "\t|- Sector [-1 -1  0  0] \n",
      "\t-----\n",
      "\n",
      "Defined Operators :\n",
      "\t-----\n",
      "\tHamiltonian  : -----\n",
      "\n",
      "Current system saved at \"test_data\"\n",
      "Hardcore boson system\n",
      "Name         : lattice16\n",
      "Saved path   : C:\\Users\\jeong\\master\\xxzchain\\test_data\\\n",
      "System size  : 16\n",
      "\n",
      "Referenced Basis :   (None means full)\n",
      "\t|- Sector [-1 -1  0  0] \n",
      "\t-----\n",
      "\n",
      "Defined Operators :\n",
      "\t-----\n",
      "\tHamiltonian  : -----\n",
      "\n",
      "Current system saved at \"test_data\"\n",
      "Hardcore boson system\n",
      "Name         : lattice18\n",
      "Saved path   : C:\\Users\\jeong\\master\\xxzchain\\test_data\\\n",
      "System size  : 18\n",
      "\n",
      "Referenced Basis :   (None means full)\n",
      "\t|- Sector [-1 -1  0  0] \n",
      "\t-----\n",
      "\n",
      "Defined Operators :\n",
      "\t-----\n",
      "\tHamiltonian  : -----\n",
      "\n",
      "Current system saved at \"test_data\"\n",
      "Hardcore boson system\n",
      "Name         : lattice20\n",
      "Saved path   : C:\\Users\\jeong\\master\\xxzchain\\test_data\\\n",
      "System size  : 20\n",
      "\n",
      "Referenced Basis :   (None means full)\n",
      "\t|- Sector [-1 -1  0  0] \n",
      "\t-----\n",
      "\n",
      "Defined Operators :\n",
      "\t-----\n",
      "\tHamiltonian  : -----\n",
      "\n",
      "Current system saved at \"test_data\"\n",
      "Hardcore boson system\n",
      "Name         : lattice22\n",
      "Saved path   : C:\\Users\\jeong\\master\\xxzchain\\test_data\\\n",
      "System size  : 22\n",
      "\n",
      "Referenced Basis :   (None means full)\n",
      "\t|- Sector [-1 -1  0  0] \n",
      "\t-----\n",
      "\n",
      "Defined Operators :\n",
      "\t-----\n",
      "\tHamiltonian  : -----\n",
      "\n"
     ]
    }
   ],
   "source": [
    "full_t, N_t, k_t, srs_t = [],[],[],[]\n",
    "N_M_t, k_M_t, MMS_t =[],[],[]\n",
    "for i in range(10):\n",
    "\n",
    "    S = xxz.System(i*2+4)\n",
    "    S.initialize('test_data',force = True)\n",
    "    H = xxz.Operator.Null(S)\n",
    "    xxz.preset(S, globals())\n",
    "    for j in S.range:\n",
    "        H+= -1*hopping.index(i,i+1)-1/4*(n_i.index(i)-1/2)@(n_i.index(i+1)-1/2)\n",
    "    H.set_name('H')\n",
    "    energy = []\n",
    "    start_t = time.time()\n",
    "    #Full Hamiltonian\n",
    "    if i*2+4<16:\n",
    "        energy.append(H.get_eigenvalue(S.get_basis(),save = False))\n",
    "        full_t.append(time.time()-start_t)\n",
    "    \n",
    "    #Spin Number Conserving\n",
    "    if i*2+4<18:\n",
    "        for l in range(S.size+1):\n",
    "            if l == S.size/2:\n",
    "                ch = time.time()\n",
    "            for e in H.get_eigenvalue(S.get_basis(l),save = False):\n",
    "                energy.append(e)\n",
    "            if l == S.size/2:\n",
    "                N_M_t.append(time.time()-ch)\n",
    "        if i*2+4<16:\n",
    "            N_t.append(time.time()-start_t-full_t[-1])\n",
    "        else:\n",
    "            N_t.append(time.time()-start_t)\n",
    "\n",
    "    #momentum conserving\n",
    "    if i*2+4<24:\n",
    "        for l in range(S.size+1):\n",
    "            for k in S.range:\n",
    "                if l ==0 or l == S.size:\n",
    "                    if k:\n",
    "                        continue\n",
    "                if l == S.size/2 and k==0:\n",
    "                    ch = time.time()\n",
    "                for e in H.get_eigenvalue(S.get_basis(l,k),save = False):\n",
    "                    energy.append(e)\n",
    "                if l == S.size/2 and k==0:\n",
    "                    k_M_t.append(time.time()-ch)\n",
    "        if i*2+4<16:\n",
    "            k_t.append(time.time()-start_t-full_t[-1]-N_t[-1])\n",
    "        else:\n",
    "            if  i*2+4<18:\n",
    "                k_t.append(time.time()-start_t-N_t[-1])\n",
    "            else:\n",
    "                k_t.append(time.time()-start_t)\n",
    "            "
   ]
  },
  {
   "cell_type": "code",
   "execution_count": 137,
   "metadata": {},
   "outputs": [],
   "source": [
    "S = xxz.System(8)\n",
    "H = xxz.Operator.Null(S)\n",
    "xxz.preset(S, globals())\n",
    "for i in S.range:\n",
    "    H+= -1*hopping.index(i,i+1)-1*(n_i.index(i)-1/2)@(n_i.index(i+1)-1/2)\n",
    "H.set_name('H')"
   ]
  },
  {
   "cell_type": "code",
   "execution_count": 138,
   "metadata": {},
   "outputs": [
    {
     "name": "stdout",
     "output_type": "stream",
     "text": [
      "Current system saved at \"test_data\"\n",
      "Hardcore boson system\n",
      "Name         : lattice8\n",
      "Saved path   : C:\\Users\\jeong\\master\\xxzchain\\test_data\\\n",
      "System size  : 8\n",
      "\n",
      "Referenced Basis :   (None means full)\n",
      "\t|- Sector [-1 -1  0  0] \n",
      "\t-----\n",
      "\n",
      "Defined Operators :\n",
      "\t|- H\n",
      "\t-----\n",
      "\tHamiltonian  : -----\n",
      "\n"
     ]
    }
   ],
   "source": [
    "S.initialize('test_data', force=True)"
   ]
  },
  {
   "cell_type": "code",
   "execution_count": 107,
   "metadata": {},
   "outputs": [
    {
     "data": {
      "text/plain": [
       "array([[-2.,  0.,  0., ...,  0.,  0.,  0.],\n",
       "       [ 0.,  2., -8., ...,  0.,  0.,  0.],\n",
       "       [ 0., -8.,  2., ...,  0.,  0.,  0.],\n",
       "       ...,\n",
       "       [ 0.,  0.,  0., ...,  2., -8.,  0.],\n",
       "       [ 0.,  0.,  0., ..., -8.,  2.,  0.],\n",
       "       [ 0.,  0.,  0., ...,  0.,  0., -2.]])"
      ]
     },
     "execution_count": 107,
     "metadata": {},
     "output_type": "execute_result"
    }
   ],
   "source": [
    "H.get_matrix(S.get_basis(4)).real"
   ]
  },
  {
   "cell_type": "code",
   "execution_count": 112,
   "metadata": {},
   "outputs": [],
   "source": [
    "import xxzchain.lib.devtool as dev"
   ]
  },
  {
   "cell_type": "code",
   "execution_count": 125,
   "metadata": {},
   "outputs": [
    {
     "name": "stdout",
     "output_type": "stream",
     "text": [
      "[ 15 135 195 225 240 120  60  30]\n",
      "[ 45 150  75 165 210 105 180  90]\n",
      "[ 51 153 204 102]\n",
      "[ 85 170]\n",
      "[ 23 139 197 226 113 184  92  46  29 142  71 163 209 232 116  58]\n",
      "[ 27 141 198  99 177 216 108  54  39 147 201 228 114  57 156  78]\n",
      "[ 43 149 202 101 178  89 172  86  53 154  77 166  83 169 212 106]\n"
     ]
    }
   ],
   "source": [
    "for s in S.get_basis(4,0,1,1).state:\n",
    "    print(S.get_basis(4,0,1,1).state_set(s))"
   ]
  },
  {
   "cell_type": "code",
   "execution_count": 136,
   "metadata": {},
   "outputs": [
    {
     "data": {
      "text/plain": [
       "'H0203+N02@N03+N02@I+I@N03+I@I+H0203+N02@N03+N02@I+I@N03+I@I+H0203+N02@N03+N02@I+I@N03+I@I+H0203+N02@N03+N02@I+I@N03+I@I+H0203+N02@N03+N02@I+I@N03+I@I+H0203+N02@N03+N02@I+I@N03+I@I+H0203+N02@N03+N02@I+I@N03+I@I+H0203+N02@N03+N02@I+I@N03+I@I'"
      ]
     },
     "execution_count": 136,
     "metadata": {},
     "output_type": "execute_result"
    }
   ],
   "source": [
    "H._label"
   ]
  },
  {
   "cell_type": "code",
   "execution_count": 135,
   "metadata": {},
   "outputs": [
    {
     "data": {
      "text/plain": [
       "array([15])"
      ]
     },
     "execution_count": 135,
     "metadata": {},
     "output_type": "execute_result"
    }
   ],
   "source": [
    "H.struct[7]([15])"
   ]
  },
  {
   "cell_type": "code",
   "execution_count": 120,
   "metadata": {},
   "outputs": [
    {
     "name": "stdout",
     "output_type": "stream",
     "text": [
      "origin\n",
      "result\n",
      "origin\n",
      "result\n",
      "origin\n",
      "result\n",
      "origin\n",
      "result\n",
      "origin\n",
      "result\n",
      "origin\n",
      "result\n",
      "origin\n",
      "result\n"
     ]
    },
    {
     "name": "stderr",
     "output_type": "stream",
     "text": [
      "C:\\Users\\jeong\\Anaconda3\\lib\\site-packages\\matplotlib\\pyplot.py:514: RuntimeWarning: More than 20 figures have been opened. Figures created through the pyplot interface (`matplotlib.pyplot.figure`) are retained until explicitly closed and may consume too much memory. (To control this warning, see the rcParam `figure.max_open_warning`).\n",
      "  max_open_warning, RuntimeWarning)\n"
     ]
    },
    {
     "data": {
      "image/png": "[encoded data removed]",
      "text/plain": [
       "<Figure size 526.798x72 with 1 Axes>"
      ]
     },
     "metadata": {},
     "output_type": "display_data"
    },
    {
     "data": {
      "image/png": "[encoded data removed]",
      "text/plain": [
       "<Figure size 526.798x72 with 1 Axes>"
      ]
     },
     "metadata": {},
     "output_type": "display_data"
    },
    {
     "data": {
      "image/png": "[encoded data removed]",
      "text/plain": [
       "<Figure size 526.798x72 with 1 Axes>"
      ]
     },
     "metadata": {},
     "output_type": "display_data"
    },
    {
     "data": {
      "image/png": "[encoded data removed]",
      "text/plain": [
       "<Figure size 526.798x72 with 1 Axes>"
      ]
     },
     "metadata": {},
     "output_type": "display_data"
    },
    {
     "data": {
      "image/png": "[encoded data removed]",
      "text/plain": [
       "<Figure size 526.798x72 with 1 Axes>"
      ]
     },
     "metadata": {},
     "output_type": "display_data"
    },
    {
     "data": {
      "image/png": "[encoded data removed]",
      "text/plain": [
       "<Figure size 526.798x72 with 1 Axes>"
      ]
     },
     "metadata": {},
     "output_type": "display_data"
    },
    {
     "data": {
      "image/png": "[encoded data removed]",
      "text/plain": [
       "<Figure size 526.798x72 with 1 Axes>"
      ]
     },
     "metadata": {},
     "output_type": "display_data"
    },
    {
     "data": {
      "image/png": "[encoded data removed]",
      "text/plain": [
       "<Figure size 526.798x72 with 1 Axes>"
      ]
     },
     "metadata": {},
     "output_type": "display_data"
    },
    {
     "data": {
      "image/png": "[encoded data removed]",
      "text/plain": [
       "<Figure size 526.798x72 with 1 Axes>"
      ]
     },
     "metadata": {},
     "output_type": "display_data"
    },
    {
     "data": {
      "image/png": "[encoded data removed]",
      "text/plain": [
       "<Figure size 526.798x72 with 1 Axes>"
      ]
     },
     "metadata": {},
     "output_type": "display_data"
    },
    {
     "data": {
      "image/png": "[encoded data removed]",
      "text/plain": [
       "<Figure size 526.798x72 with 1 Axes>"
      ]
     },
     "metadata": {},
     "output_type": "display_data"
    },
    {
     "data": {
      "image/png": "[encoded data removed]",
      "text/plain": [
       "<Figure size 526.798x72 with 1 Axes>"
      ]
     },
     "metadata": {},
     "output_type": "display_data"
    },
    {
     "data": {
      "image/png": "[encoded data removed]",
      "text/plain": [
       "<Figure size 526.798x72 with 1 Axes>"
      ]
     },
     "metadata": {},
     "output_type": "display_data"
    },
    {
     "data": {
      "image/png": "[encoded data removed]",
      "text/plain": [
       "<Figure size 526.798x72 with 1 Axes>"
      ]
     },
     "metadata": {},
     "output_type": "display_data"
    },
    {
     "data": {
      "image/png": "[encoded data removed]",
      "text/plain": [
       "<Figure size 526.798x72 with 1 Axes>"
      ]
     },
     "metadata": {},
     "output_type": "display_data"
    },
    {
     "data": {
      "image/png": "[encoded data removed]",
      "text/plain": [
       "<Figure size 526.798x72 with 1 Axes>"
      ]
     },
     "metadata": {},
     "output_type": "display_data"
    },
    {
     "data": {
      "image/png": "[encoded data removed]",
      "text/plain": [
       "<Figure size 526.798x72 with 1 Axes>"
      ]
     },
     "metadata": {},
     "output_type": "display_data"
    },
    {
     "data": {
      "image/png": "[encoded data removed]",
      "text/plain": [
       "<Figure size 526.798x72 with 1 Axes>"
      ]
     },
     "metadata": {},
     "output_type": "display_data"
    },
    {
     "data": {
      "image/png": "[encoded data removed]",
      "text/plain": [
       "<Figure size 526.798x72 with 1 Axes>"
      ]
     },
     "metadata": {},
     "output_type": "display_data"
    },
    {
     "data": {
      "image/png": "[encoded data removed]",
      "text/plain": [
       "<Figure size 526.798x72 with 1 Axes>"
      ]
     },
     "metadata": {},
     "output_type": "display_data"
    },
    {
     "data": {
      "image/png": "[encoded data removed]",
      "text/plain": [
       "<Figure size 526.798x72 with 1 Axes>"
      ]
     },
     "metadata": {},
     "output_type": "display_data"
    },
    {
     "data": {
      "image/png": "[encoded data removed]",
      "text/plain": [
       "<Figure size 526.798x72 with 1 Axes>"
      ]
     },
     "metadata": {},
     "output_type": "display_data"
    },
    {
     "data": {
      "image/png": "[encoded data removed]",
      "text/plain": [
       "<Figure size 526.798x72 with 1 Axes>"
      ]
     },
     "metadata": {},
     "output_type": "display_data"
    },
    {
     "data": {
      "image/png": "[encoded data removed]",
      "text/plain": [
       "<Figure size 526.798x72 with 1 Axes>"
      ]
     },
     "metadata": {},
     "output_type": "display_data"
    },
    {
     "data": {
      "image/png": "[encoded data removed]",
      "text/plain": [
       "<Figure size 526.798x72 with 1 Axes>"
      ]
     },
     "metadata": {},
     "output_type": "display_data"
    }
   ],
   "source": [
    "for i,j in zip(S.get_basis(4,0,1,1).state,H.acton(S.get_basis(4,0,1,1).state)):\n",
    "    print('origin')\n",
    "    dev.plot_spin(i, 8)\n",
    "    print('result')\n",
    "    for k in j:\n",
    "        dev.plot_spin(i, 8)"
   ]
  },
  {
   "cell_type": "code",
   "execution_count": 154,
   "metadata": {},
   "outputs": [
    {
     "data": {
      "text/plain": [
       "array([0.12103073, 0.14986974, 0.16237976, 0.20963137, 0.22316964,\n",
       "       0.20491995, 0.28811076])"
      ]
     },
     "execution_count": 154,
     "metadata": {},
     "output_type": "execute_result"
    }
   ],
   "source": [
    "np.sqrt(S.get_basis(4,0,1,1).state[[0,4,5,1,2,6,3]])/32"
   ]
  },
  {
   "cell_type": "code",
   "execution_count": null,
   "metadata": {},
   "outputs": [],
   "source": [
    "00110101"
   ]
  },
  {
   "cell_type": "code",
   "execution_count": 153,
   "metadata": {},
   "outputs": [
    {
     "data": {
      "text/plain": [
       "array([ 8, 16, 16,  8,  4, 16,  2])"
      ]
     },
     "execution_count": 153,
     "metadata": {},
     "output_type": "execute_result"
    }
   ],
   "source": [
    "S.get_basis(4,0,1,1).period([0,4,5,1,2,6,3])"
   ]
  },
  {
   "cell_type": "code",
   "execution_count": 152,
   "metadata": {},
   "outputs": [
    {
     "data": {
      "image/png": "[encoded data removed]",
      "text/plain": [
       "<Figure size 526.798x72 with 1 Axes>"
      ]
     },
     "metadata": {},
     "output_type": "display_data"
    }
   ],
   "source": [
    "dev.plot_spin(43,8)"
   ]
  },
  {
   "cell_type": "code",
   "execution_count": 150,
   "metadata": {},
   "outputs": [
    {
     "data": {
      "text/plain": [
       "53"
      ]
     },
     "execution_count": 150,
     "metadata": {},
     "output_type": "execute_result"
    }
   ],
   "source": [
    "1+4+16+32"
   ]
  },
  {
   "cell_type": "code",
   "execution_count": 141,
   "metadata": {},
   "outputs": [],
   "source": [
    "H_ = H.get_matrix(S.get_basis(4,0,1,1)).real.copy()"
   ]
  },
  {
   "cell_type": "code",
   "execution_count": 142,
   "metadata": {},
   "outputs": [],
   "source": [
    "H__ = H_.copy()"
   ]
  },
  {
   "cell_type": "code",
   "execution_count": 194,
   "metadata": {},
   "outputs": [],
   "source": [
    "for i,k in enumerate([0,4,5,6,1,2,3]):\n",
    "    for j,l in enumerate([0,4,5,6,1,2,3]):\n",
    "        H_[i][j] = H__[k][l]"
   ]
  },
  {
   "cell_type": "code",
   "execution_count": 195,
   "metadata": {},
   "outputs": [
    {
     "data": {
      "text/plain": [
       "array([[-1.        , -1.41421356,  0.        ,  0.        ,  0.        ,\n",
       "         0.        ,  0.        ],\n",
       "       [-1.41421356,  0.        , -2.        ,  0.        , -1.41421356,\n",
       "         0.        ,  0.        ],\n",
       "       [ 0.        , -2.        ,  0.        , -2.        ,  0.        ,\n",
       "         0.        ,  0.        ],\n",
       "       [ 0.        ,  0.        , -2.        ,  1.        , -2.82842712,\n",
       "        -2.        , -2.82842712],\n",
       "       [ 0.        , -1.41421356,  0.        , -2.82842712,  1.        ,\n",
       "         0.        ,  0.        ],\n",
       "       [ 0.        ,  0.        ,  0.        , -2.        ,  0.        ,\n",
       "         0.        ,  0.        ],\n",
       "       [ 0.        ,  0.        ,  0.        , -2.82842712,  0.        ,\n",
       "         0.        ,  2.        ]])"
      ]
     },
     "execution_count": 195,
     "metadata": {},
     "output_type": "execute_result"
    }
   ],
   "source": [
    "H_"
   ]
  },
  {
   "cell_type": "code",
   "execution_count": 196,
   "metadata": {},
   "outputs": [
    {
     "data": {
      "text/plain": [
       "array([15, 23, 27, 43, 45, 51, 85])"
      ]
     },
     "execution_count": 196,
     "metadata": {},
     "output_type": "execute_result"
    }
   ],
   "source": [
    "S.get_basis(4,0,1,1).state[[0,4,5,6,1,2,3]]"
   ]
  },
  {
   "cell_type": "code",
   "execution_count": 139,
   "metadata": {},
   "outputs": [
    {
     "name": "stdout",
     "output_type": "stream",
     "text": []
    },
    {
     "data": {
      "text/plain": [
       "array([[-1.        ,  0.        ,  0.        ,  0.        , -1.41421356,\n",
       "         0.        ,  0.        ],\n",
       "       [ 0.        ,  1.        ,  0.        ,  0.        , -1.41421356,\n",
       "         0.        , -2.82842712],\n",
       "       [ 0.        ,  0.        ,  0.        ,  0.        ,  0.        ,\n",
       "         0.        , -2.        ],\n",
       "       [ 0.        ,  0.        ,  0.        ,  2.        ,  0.        ,\n",
       "         0.        , -2.82842712],\n",
       "       [-1.41421356, -1.41421356,  0.        ,  0.        ,  0.        ,\n",
       "        -2.        ,  0.        ],\n",
       "       [ 0.        ,  0.        ,  0.        ,  0.        , -2.        ,\n",
       "         0.        , -2.        ],\n",
       "       [ 0.        , -2.82842712, -2.        , -2.82842712,  0.        ,\n",
       "        -2.        ,  1.        ]])"
      ]
     },
     "execution_count": 139,
     "metadata": {},
     "output_type": "execute_result"
    }
   ],
   "source": [
    "H.get_matrix(S.get_basis(4,0,1,1)).real"
   ]
  },
  {
   "cell_type": "code",
   "execution_count": 117,
   "metadata": {},
   "outputs": [
    {
     "data": {
      "text/plain": [
       "array([[-2.,  0.,  0.,  0.,  0.,  0.,  0.,  0.,  0.,  0.],\n",
       "       [ 0.,  2., -8.,  0.,  0.,  0.,  0.,  0.,  0.,  0.],\n",
       "       [ 0., -8.,  2.,  0.,  0.,  0.,  0.,  0.,  0.,  0.],\n",
       "       [ 0.,  0.,  0., -2.,  0.,  0.,  0.,  0.,  0.,  0.],\n",
       "       [ 0.,  0.,  0.,  0.,  2., -8.,  0.,  0., -8.,  0.],\n",
       "       [ 0.,  0.,  0.,  0., -8.,  2.,  0.,  0.,  0., -4.],\n",
       "       [ 0.,  0.,  0.,  0.,  0.,  0., -2.,  0.,  0.,  0.],\n",
       "       [ 0.,  0.,  0.,  0.,  0.,  0.,  0., -2.,  0.,  0.],\n",
       "       [ 0.,  0.,  0.,  0.,  0.,  0.,  0.,  0.,  2.,  0.],\n",
       "       [ 0.,  0.,  0.,  0.,  0.,  0.,  0.,  0.,  0.,  2.]])"
      ]
     },
     "execution_count": 117,
     "metadata": {},
     "output_type": "execute_result"
    }
   ],
   "source": [
    "H.get_matrix(S.get_basis(4,0)).real"
   ]
  },
  {
   "cell_type": "code",
   "execution_count": 6,
   "metadata": {},
   "outputs": [
    {
     "data": {
      "text/plain": [
       "2.0"
      ]
     },
     "execution_count": 6,
     "metadata": {},
     "output_type": "execute_result"
    }
   ],
   "source": [
    "S.size/2"
   ]
  },
  {
   "cell_type": "code",
   "execution_count": 5,
   "metadata": {},
   "outputs": [
    {
     "name": "stdout",
     "output_type": "stream",
     "text": []
    },
    {
     "ename": "RuntimeError",
     "evalue": "Unable to create link (name already exists)",
     "output_type": "error",
     "traceback": [
      "\u001b[1;31m---------------------------------------------------------------------------\u001b[0m",
      "\u001b[1;31mRuntimeError\u001b[0m                              Traceback (most recent call last)",
      "\u001b[1;32m<ipython-input-5-e932b1c67d79>\u001b[0m in \u001b[0;36m<module>\u001b[1;34m\u001b[0m\n\u001b[1;32m----> 1\u001b[1;33m \u001b[0mS\u001b[0m\u001b[1;33m.\u001b[0m\u001b[0mget_basis\u001b[0m\u001b[1;33m(\u001b[0m\u001b[0mS\u001b[0m\u001b[1;33m.\u001b[0m\u001b[0msize\u001b[0m\u001b[1;33m/\u001b[0m\u001b[1;36m2\u001b[0m\u001b[1;33m,\u001b[0m\u001b[1;36m0\u001b[0m\u001b[1;33m,\u001b[0m\u001b[1;36m1\u001b[0m\u001b[1;33m,\u001b[0m\u001b[1;36m1\u001b[0m\u001b[1;33m)\u001b[0m\u001b[1;33m\u001b[0m\u001b[1;33m\u001b[0m\u001b[0m\n\u001b[0m",
      "\u001b[1;32m~\\master\\xxzchain\\xxzchain\\core\\_main.py\u001b[0m in \u001b[0;36mcaution\u001b[1;34m(*arg, **kwargs)\u001b[0m\n\u001b[0;32m    340\u001b[0m             \u001b[1;32mif\u001b[0m \u001b[1;32mnot\u001b[0m \u001b[0marg\u001b[0m\u001b[1;33m[\u001b[0m\u001b[1;36m0\u001b[0m\u001b[1;33m]\u001b[0m\u001b[1;33m.\u001b[0m\u001b[0mvalid\u001b[0m\u001b[1;33m(\u001b[0m\u001b[1;33m)\u001b[0m\u001b[1;33m:\u001b[0m\u001b[1;33m\u001b[0m\u001b[1;33m\u001b[0m\u001b[0m\n\u001b[0;32m    341\u001b[0m                 \u001b[1;32mreturn\u001b[0m \u001b[0mprint\u001b[0m\u001b[1;33m(\u001b[0m\u001b[1;34m\"Current system is empty or currupted. Please initialize or load first.\"\u001b[0m\u001b[1;33m)\u001b[0m\u001b[1;33m\u001b[0m\u001b[1;33m\u001b[0m\u001b[0m\n\u001b[1;32m--> 342\u001b[1;33m             \u001b[1;32mreturn\u001b[0m \u001b[0mfunc\u001b[0m\u001b[1;33m(\u001b[0m\u001b[1;33m*\u001b[0m\u001b[0marg\u001b[0m\u001b[1;33m,\u001b[0m \u001b[1;33m**\u001b[0m\u001b[0mkwargs\u001b[0m\u001b[1;33m)\u001b[0m\u001b[1;33m\u001b[0m\u001b[1;33m\u001b[0m\u001b[0m\n\u001b[0m\u001b[0;32m    343\u001b[0m         \u001b[1;32mreturn\u001b[0m \u001b[0mcaution\u001b[0m\u001b[1;33m\u001b[0m\u001b[1;33m\u001b[0m\u001b[0m\n\u001b[0;32m    344\u001b[0m \u001b[1;33m\u001b[0m\u001b[0m\n",
      "\u001b[1;32m~\\master\\xxzchain\\xxzchain\\core\\_main.py\u001b[0m in \u001b[0;36mget_basis\u001b[1;34m(self, *arg, **kwarg)\u001b[0m\n\u001b[0;32m    508\u001b[0m         \u001b[0mbasis\u001b[0m \u001b[1;33m=\u001b[0m \u001b[0mBasis\u001b[0m\u001b[1;33m(\u001b[0m\u001b[0mself\u001b[0m\u001b[1;33m,\u001b[0m \u001b[1;33m*\u001b[0m\u001b[0msymmetry\u001b[0m\u001b[1;33m)\u001b[0m\u001b[1;33m\u001b[0m\u001b[1;33m\u001b[0m\u001b[0m\n\u001b[0;32m    509\u001b[0m         \u001b[1;32mif\u001b[0m \u001b[1;32mnot\u001b[0m \u001b[0mself\u001b[0m\u001b[1;33m.\u001b[0m\u001b[0msaver\u001b[0m\u001b[1;33m.\u001b[0m\u001b[0mis_exist\u001b[0m\u001b[1;33m(\u001b[0m\u001b[1;34m'basis/({},{},{},{})'\u001b[0m\u001b[1;33m.\u001b[0m\u001b[0mformat\u001b[0m\u001b[1;33m(\u001b[0m\u001b[1;33m*\u001b[0m\u001b[0msymmetry\u001b[0m\u001b[1;33m)\u001b[0m\u001b[1;33m)\u001b[0m\u001b[1;33m:\u001b[0m\u001b[1;33m\u001b[0m\u001b[1;33m\u001b[0m\u001b[0m\n\u001b[1;32m--> 510\u001b[1;33m             \u001b[0mself\u001b[0m\u001b[1;33m.\u001b[0m\u001b[0minitializer\u001b[0m\u001b[1;33m.\u001b[0m\u001b[0mcalculate\u001b[0m\u001b[1;33m(\u001b[0m\u001b[0msymmetry\u001b[0m\u001b[1;33m)\u001b[0m\u001b[1;33m\u001b[0m\u001b[1;33m\u001b[0m\u001b[0m\n\u001b[0m\u001b[0;32m    511\u001b[0m         \u001b[0mbasis\u001b[0m\u001b[1;33m.\u001b[0m\u001b[0mload\u001b[0m\u001b[1;33m(\u001b[0m\u001b[1;33m*\u001b[0m\u001b[0msymmetry\u001b[0m\u001b[1;33m)\u001b[0m\u001b[1;33m\u001b[0m\u001b[1;33m\u001b[0m\u001b[0m\n\u001b[0;32m    512\u001b[0m         \u001b[0mself\u001b[0m\u001b[1;33m.\u001b[0m\u001b[0m__basis\u001b[0m \u001b[1;33m=\u001b[0m \u001b[0mbasis\u001b[0m\u001b[1;33m\u001b[0m\u001b[1;33m\u001b[0m\u001b[0m\n",
      "\u001b[1;32m~\\master\\xxzchain\\xxzchain\\core\\_main.py\u001b[0m in \u001b[0;36mcalculate\u001b[1;34m(self, symmetry)\u001b[0m\n\u001b[0;32m   1799\u001b[0m             \u001b[1;32mif\u001b[0m \u001b[0mtest\u001b[0m \u001b[1;33m==\u001b[0m \u001b[0mself\u001b[0m\u001b[1;33m.\u001b[0m\u001b[0mnull\u001b[0m\u001b[1;33m:\u001b[0m \u001b[1;32mcontinue\u001b[0m\u001b[1;33m\u001b[0m\u001b[1;33m\u001b[0m\u001b[0m\n\u001b[0;32m   1800\u001b[0m             \u001b[1;32mif\u001b[0m \u001b[1;32mnot\u001b[0m \u001b[0mself\u001b[0m\u001b[1;33m.\u001b[0m\u001b[0msystem\u001b[0m\u001b[1;33m.\u001b[0m\u001b[0msaver\u001b[0m\u001b[1;33m.\u001b[0m\u001b[0mis_exist\u001b[0m\u001b[1;33m(\u001b[0m\u001b[1;34m'/basis/({},{},{},{})'\u001b[0m\u001b[1;33m.\u001b[0m\u001b[0mformat\u001b[0m\u001b[1;33m(\u001b[0m\u001b[1;33m*\u001b[0m\u001b[0mtest\u001b[0m\u001b[1;33m)\u001b[0m\u001b[1;33m)\u001b[0m\u001b[1;33m:\u001b[0m\u001b[1;33m\u001b[0m\u001b[1;33m\u001b[0m\u001b[0m\n\u001b[1;32m-> 1801\u001b[1;33m                 \u001b[0mself\u001b[0m\u001b[1;33m.\u001b[0m\u001b[0minit\u001b[0m\u001b[1;33m[\u001b[0m\u001b[0mi\u001b[0m\u001b[1;33m]\u001b[0m\u001b[1;33m(\u001b[0m\u001b[0mself\u001b[0m\u001b[1;33m.\u001b[0m\u001b[0msystem\u001b[0m\u001b[1;33m.\u001b[0m\u001b[0mget_basis\u001b[0m\u001b[1;33m(\u001b[0m\u001b[1;33m*\u001b[0m\u001b[1;33m(\u001b[0m\u001b[0msymmetry\u001b[0m\u001b[1;33m[\u001b[0m\u001b[1;33m:\u001b[0m\u001b[0mi\u001b[0m\u001b[1;33m]\u001b[0m \u001b[1;33m+\u001b[0m \u001b[0mself\u001b[0m\u001b[1;33m.\u001b[0m\u001b[0mnull\u001b[0m\u001b[1;33m[\u001b[0m\u001b[0mi\u001b[0m\u001b[1;33m:\u001b[0m\u001b[1;33m]\u001b[0m\u001b[1;33m)\u001b[0m\u001b[1;33m)\u001b[0m\u001b[1;33m)\u001b[0m\u001b[1;33m\u001b[0m\u001b[1;33m\u001b[0m\u001b[0m\n\u001b[0m\u001b[0;32m   1802\u001b[0m \u001b[1;33m\u001b[0m\u001b[0m\n\u001b[0;32m   1803\u001b[0m         '''if not self.system.saver.is_exist('/basis/({},{},{},{})'.format(symmetry[0], *self.null[1:])):\n",
      "\u001b[1;32m~\\master\\xxzchain\\xxzchain\\core\\_main.py\u001b[0m in \u001b[0;36mQ\u001b[1;34m(self, basis)\u001b[0m\n\u001b[0;32m   1838\u001b[0m             \u001b[0msymmetry\u001b[0m\u001b[1;33m[\u001b[0m\u001b[1;36m0\u001b[0m\u001b[1;33m]\u001b[0m \u001b[1;33m=\u001b[0m \u001b[0mq\u001b[0m\u001b[1;33m\u001b[0m\u001b[1;33m\u001b[0m\u001b[0m\n\u001b[0;32m   1839\u001b[0m             \u001b[0mfolder\u001b[0m \u001b[1;33m=\u001b[0m \u001b[0mbsaver\u001b[0m\u001b[1;33m.\u001b[0m\u001b[0mrequire_group\u001b[0m\u001b[1;33m(\u001b[0m\u001b[1;34m'({},{},{},{})'\u001b[0m\u001b[1;33m.\u001b[0m\u001b[0mformat\u001b[0m\u001b[1;33m(\u001b[0m\u001b[1;33m*\u001b[0m\u001b[0msymmetry\u001b[0m\u001b[1;33m)\u001b[0m\u001b[1;33m)\u001b[0m\u001b[1;33m\u001b[0m\u001b[1;33m\u001b[0m\u001b[0m\n\u001b[1;32m-> 1840\u001b[1;33m             \u001b[0mfolder\u001b[0m\u001b[1;33m.\u001b[0m\u001b[0mcreate_dataset\u001b[0m\u001b[1;33m(\u001b[0m\u001b[1;34m'state'\u001b[0m\u001b[1;33m,\u001b[0m\u001b[0mdata\u001b[0m \u001b[1;33m=\u001b[0m \u001b[0mnp\u001b[0m\u001b[1;33m.\u001b[0m\u001b[0marray\u001b[0m\u001b[1;33m(\u001b[0m\u001b[0mstate\u001b[0m\u001b[1;33m[\u001b[0m\u001b[0mq\u001b[0m\u001b[1;33m]\u001b[0m\u001b[1;33m)\u001b[0m\u001b[1;33m,\u001b[0m\u001b[0mcompression\u001b[0m \u001b[1;33m=\u001b[0m \u001b[1;34m'lzf'\u001b[0m\u001b[1;33m)\u001b[0m\u001b[1;33m\u001b[0m\u001b[1;33m\u001b[0m\u001b[0m\n\u001b[0m\u001b[0;32m   1841\u001b[0m             \u001b[0mfolder\u001b[0m\u001b[1;33m.\u001b[0m\u001b[0mcreate_dataset\u001b[0m\u001b[1;33m(\u001b[0m\u001b[1;34m'address'\u001b[0m\u001b[1;33m,\u001b[0m\u001b[0mdata\u001b[0m \u001b[1;33m=\u001b[0m \u001b[0mnp\u001b[0m\u001b[1;33m.\u001b[0m\u001b[0marray\u001b[0m\u001b[1;33m(\u001b[0m\u001b[0mlist\u001b[0m\u001b[1;33m(\u001b[0m\u001b[0maddress\u001b[0m\u001b[1;33m[\u001b[0m\u001b[0mq\u001b[0m\u001b[1;33m]\u001b[0m\u001b[1;33m.\u001b[0m\u001b[0mitems\u001b[0m\u001b[1;33m(\u001b[0m\u001b[1;33m)\u001b[0m\u001b[1;33m)\u001b[0m\u001b[1;33m)\u001b[0m\u001b[1;33m,\u001b[0m\u001b[0mcompression\u001b[0m \u001b[1;33m=\u001b[0m \u001b[1;34m'lzf'\u001b[0m\u001b[1;33m)\u001b[0m\u001b[1;33m\u001b[0m\u001b[1;33m\u001b[0m\u001b[0m\n\u001b[0;32m   1842\u001b[0m             \u001b[0mfolder\u001b[0m\u001b[1;33m.\u001b[0m\u001b[0mcreate_dataset\u001b[0m\u001b[1;33m(\u001b[0m\u001b[1;34m'period'\u001b[0m\u001b[1;33m,\u001b[0m\u001b[0mdata\u001b[0m \u001b[1;33m=\u001b[0m \u001b[0mnp\u001b[0m\u001b[1;33m.\u001b[0m\u001b[0marray\u001b[0m\u001b[1;33m(\u001b[0m\u001b[0mperiod\u001b[0m\u001b[1;33m[\u001b[0m\u001b[0mq\u001b[0m\u001b[1;33m]\u001b[0m\u001b[1;33m)\u001b[0m\u001b[1;33m,\u001b[0m\u001b[0mcompression\u001b[0m \u001b[1;33m=\u001b[0m \u001b[1;34m'lzf'\u001b[0m\u001b[1;33m)\u001b[0m\u001b[1;33m\u001b[0m\u001b[1;33m\u001b[0m\u001b[0m\n",
      "\u001b[1;32m~\\Anaconda3\\lib\\site-packages\\h5py\\_hl\\group.py\u001b[0m in \u001b[0;36mcreate_dataset\u001b[1;34m(self, name, shape, dtype, data, **kwds)\u001b[0m\n\u001b[0;32m    117\u001b[0m             \u001b[0mdset\u001b[0m \u001b[1;33m=\u001b[0m \u001b[0mdataset\u001b[0m\u001b[1;33m.\u001b[0m\u001b[0mDataset\u001b[0m\u001b[1;33m(\u001b[0m\u001b[0mdsid\u001b[0m\u001b[1;33m)\u001b[0m\u001b[1;33m\u001b[0m\u001b[1;33m\u001b[0m\u001b[0m\n\u001b[0;32m    118\u001b[0m             \u001b[1;32mif\u001b[0m \u001b[0mname\u001b[0m \u001b[1;32mis\u001b[0m \u001b[1;32mnot\u001b[0m \u001b[1;32mNone\u001b[0m\u001b[1;33m:\u001b[0m\u001b[1;33m\u001b[0m\u001b[1;33m\u001b[0m\u001b[0m\n\u001b[1;32m--> 119\u001b[1;33m                 \u001b[0mself\u001b[0m\u001b[1;33m[\u001b[0m\u001b[0mname\u001b[0m\u001b[1;33m]\u001b[0m \u001b[1;33m=\u001b[0m \u001b[0mdset\u001b[0m\u001b[1;33m\u001b[0m\u001b[1;33m\u001b[0m\u001b[0m\n\u001b[0m\u001b[0;32m    120\u001b[0m             \u001b[1;32mreturn\u001b[0m \u001b[0mdset\u001b[0m\u001b[1;33m\u001b[0m\u001b[1;33m\u001b[0m\u001b[0m\n\u001b[0;32m    121\u001b[0m \u001b[1;33m\u001b[0m\u001b[0m\n",
      "\u001b[1;32m~\\Anaconda3\\lib\\site-packages\\h5py\\_hl\\group.py\u001b[0m in \u001b[0;36m__setitem__\u001b[1;34m(self, name, obj)\u001b[0m\n\u001b[0;32m    285\u001b[0m \u001b[1;33m\u001b[0m\u001b[0m\n\u001b[0;32m    286\u001b[0m             \u001b[1;32mif\u001b[0m \u001b[0misinstance\u001b[0m\u001b[1;33m(\u001b[0m\u001b[0mobj\u001b[0m\u001b[1;33m,\u001b[0m \u001b[0mHLObject\u001b[0m\u001b[1;33m)\u001b[0m\u001b[1;33m:\u001b[0m\u001b[1;33m\u001b[0m\u001b[1;33m\u001b[0m\u001b[0m\n\u001b[1;32m--> 287\u001b[1;33m                 \u001b[0mh5o\u001b[0m\u001b[1;33m.\u001b[0m\u001b[0mlink\u001b[0m\u001b[1;33m(\u001b[0m\u001b[0mobj\u001b[0m\u001b[1;33m.\u001b[0m\u001b[0mid\u001b[0m\u001b[1;33m,\u001b[0m \u001b[0mself\u001b[0m\u001b[1;33m.\u001b[0m\u001b[0mid\u001b[0m\u001b[1;33m,\u001b[0m \u001b[0mname\u001b[0m\u001b[1;33m,\u001b[0m \u001b[0mlcpl\u001b[0m\u001b[1;33m=\u001b[0m\u001b[0mlcpl\u001b[0m\u001b[1;33m,\u001b[0m \u001b[0mlapl\u001b[0m\u001b[1;33m=\u001b[0m\u001b[0mself\u001b[0m\u001b[1;33m.\u001b[0m\u001b[0m_lapl\u001b[0m\u001b[1;33m)\u001b[0m\u001b[1;33m\u001b[0m\u001b[1;33m\u001b[0m\u001b[0m\n\u001b[0m\u001b[0;32m    288\u001b[0m \u001b[1;33m\u001b[0m\u001b[0m\n\u001b[0;32m    289\u001b[0m             \u001b[1;32melif\u001b[0m \u001b[0misinstance\u001b[0m\u001b[1;33m(\u001b[0m\u001b[0mobj\u001b[0m\u001b[1;33m,\u001b[0m \u001b[0mSoftLink\u001b[0m\u001b[1;33m)\u001b[0m\u001b[1;33m:\u001b[0m\u001b[1;33m\u001b[0m\u001b[1;33m\u001b[0m\u001b[0m\n",
      "\u001b[1;32mh5py\\_objects.pyx\u001b[0m in \u001b[0;36mh5py._objects.with_phil.wrapper\u001b[1;34m()\u001b[0m\n",
      "\u001b[1;32mh5py\\_objects.pyx\u001b[0m in \u001b[0;36mh5py._objects.with_phil.wrapper\u001b[1;34m()\u001b[0m\n",
      "\u001b[1;32mh5py\\h5o.pyx\u001b[0m in \u001b[0;36mh5py.h5o.link\u001b[1;34m()\u001b[0m\n",
      "\u001b[1;31mRuntimeError\u001b[0m: Unable to create link (name already exists)"
     ]
    }
   ],
   "source": [
    "S.get_basis(S.size/2,0,1,1)"
   ]
  },
  {
   "cell_type": "code",
   "execution_count": 8,
   "metadata": {},
   "outputs": [],
   "source": [
    "MMS_t = []"
   ]
  },
  {
   "cell_type": "code",
   "execution_count": null,
   "metadata": {},
   "outputs": [],
   "source": []
  },
  {
   "cell_type": "code",
   "execution_count": 9,
   "metadata": {},
   "outputs": [
    {
     "name": "stdout",
     "output_type": "stream",
     "text": [
      "Current system saved at \"test_data\"\n",
      "Hardcore boson system\n",
      "Name         : lattice4\n",
      "Saved path   : C:\\Users\\jeong\\master\\xxzchain\\test_data\\\n",
      "System size  : 4\n",
      "\n",
      "Referenced Basis :   (None means full)\n",
      "\t|- Sector [-1 -1  0  0] \n",
      "\t-----\n",
      "\n",
      "Defined Operators :\n",
      "\t-----\n",
      "\tHamiltonian  : -----\n",
      "\n",
      "Current system saved at \"test_data\"\n",
      "Hardcore boson system\n",
      "Name         : lattice6\n",
      "Saved path   : C:\\Users\\jeong\\master\\xxzchain\\test_data\\\n",
      "System size  : 6\n",
      "\n",
      "Referenced Basis :   (None means full)\n",
      "\t|- Sector [-1 -1  0  0] \n",
      "\t-----\n",
      "\n",
      "Defined Operators :\n",
      "\t-----\n",
      "\tHamiltonian  : -----\n",
      "\n",
      "Current system saved at \"test_data\"\n",
      "Hardcore boson system\n",
      "Name         : lattice8\n",
      "Saved path   : C:\\Users\\jeong\\master\\xxzchain\\test_data\\\n",
      "System size  : 8\n",
      "\n",
      "Referenced Basis :   (None means full)\n",
      "\t|- Sector [-1 -1  0  0] \n",
      "\t-----\n",
      "\n",
      "Defined Operators :\n",
      "\t-----\n",
      "\tHamiltonian  : -----\n",
      "\n",
      "Current system saved at \"test_data\"\n",
      "Hardcore boson system\n",
      "Name         : lattice10\n",
      "Saved path   : C:\\Users\\jeong\\master\\xxzchain\\test_data\\\n",
      "System size  : 10\n",
      "\n",
      "Referenced Basis :   (None means full)\n",
      "\t|- Sector [-1 -1  0  0] \n",
      "\t-----\n",
      "\n",
      "Defined Operators :\n",
      "\t-----\n",
      "\tHamiltonian  : -----\n",
      "\n",
      "Current system saved at \"test_data\"\n",
      "Hardcore boson system\n",
      "Name         : lattice12\n",
      "Saved path   : C:\\Users\\jeong\\master\\xxzchain\\test_data\\\n",
      "System size  : 12\n",
      "\n",
      "Referenced Basis :   (None means full)\n",
      "\t|- Sector [-1 -1  0  0] \n",
      "\t-----\n",
      "\n",
      "Defined Operators :\n",
      "\t-----\n",
      "\tHamiltonian  : -----\n",
      "\n",
      "Current system saved at \"test_data\"\n",
      "Hardcore boson system\n",
      "Name         : lattice14\n",
      "Saved path   : C:\\Users\\jeong\\master\\xxzchain\\test_data\\\n",
      "System size  : 14\n",
      "\n",
      "Referenced Basis :   (None means full)\n",
      "\t|- Sector [-1 -1  0  0] \n",
      "\t-----\n",
      "\n",
      "Defined Operators :\n",
      "\t-----\n",
      "\tHamiltonian  : -----\n",
      "\n",
      "Current system saved at \"test_data\"\n",
      "Hardcore boson system\n",
      "Name         : lattice16\n",
      "Saved path   : C:\\Users\\jeong\\master\\xxzchain\\test_data\\\n",
      "System size  : 16\n",
      "\n",
      "Referenced Basis :   (None means full)\n",
      "\t|- Sector [-1 -1  0  0] \n",
      "\t-----\n",
      "\n",
      "Defined Operators :\n",
      "\t-----\n",
      "\tHamiltonian  : -----\n",
      "\n",
      "Current system saved at \"test_data\"\n",
      "Hardcore boson system\n",
      "Name         : lattice18\n",
      "Saved path   : C:\\Users\\jeong\\master\\xxzchain\\test_data\\\n",
      "System size  : 18\n",
      "\n",
      "Referenced Basis :   (None means full)\n",
      "\t|- Sector [-1 -1  0  0] \n",
      "\t-----\n",
      "\n",
      "Defined Operators :\n",
      "\t-----\n",
      "\tHamiltonian  : -----\n",
      "\n",
      "Current system saved at \"test_data\"\n",
      "Hardcore boson system\n",
      "Name         : lattice20\n",
      "Saved path   : C:\\Users\\jeong\\master\\xxzchain\\test_data\\\n",
      "System size  : 20\n",
      "\n",
      "Referenced Basis :   (None means full)\n",
      "\t|- Sector [-1 -1  0  0] \n",
      "\t-----\n",
      "\n",
      "Defined Operators :\n",
      "\t-----\n",
      "\tHamiltonian  : -----\n",
      "\n",
      "Current system saved at \"test_data\"\n",
      "Hardcore boson system\n",
      "Name         : lattice22\n",
      "Saved path   : C:\\Users\\jeong\\master\\xxzchain\\test_data\\\n",
      "System size  : 22\n",
      "\n",
      "Referenced Basis :   (None means full)\n",
      "\t|- Sector [-1 -1  0  0] \n",
      "\t-----\n",
      "\n",
      "Defined Operators :\n",
      "\t-----\n",
      "\tHamiltonian  : -----\n",
      "\n",
      "Current system saved at \"test_data\"\n",
      "Hardcore boson system\n",
      "Name         : lattice24\n",
      "Saved path   : C:\\Users\\jeong\\master\\xxzchain\\test_data\\\n",
      "System size  : 24\n",
      "\n",
      "Referenced Basis :   (None means full)\n",
      "\t|- Sector [-1 -1  0  0] \n",
      "\t-----\n",
      "\n",
      "Defined Operators :\n",
      "\t-----\n",
      "\tHamiltonian  : -----\n",
      "\n"
     ]
    }
   ],
   "source": [
    "for i in range(11):\n",
    "    \n",
    "    S = xxz.System(i*2+4)\n",
    "    S.initialize('test_data',force = True)\n",
    "    H = xxz.Operator.Null(S)\n",
    "    xxz.preset(S, globals())\n",
    "    for j in S.range:\n",
    "        H+= -1*hopping.index(i,i+1)+1/2*(n_i.index(i)-1/2)@(n_i.index(i+1)-1/2)\n",
    "    H.set_name('H')\n",
    "    energy = []\n",
    "    start_t = time.time()\n",
    "    #SRS\n",
    "    '''for l in range(S.size+1):\n",
    "        for k in S.range:\n",
    "            if l ==0 or l == S.size:\n",
    "                if k:\n",
    "                    continue\n",
    "            if l == S.size/2 and k==0:'''\n",
    "    ch = time.time()\n",
    "    for e in H.get_eigenvalue(S.get_basis(int(S.size/2),0,1,1),save = False):\n",
    "        energy.append(e)\n",
    "    MMS_t.append(time.time()-ch)\n",
    "    '''for e in H.get_eigenvalue(S.get_basis(l,k,1,-1),save = False):\n",
    "                    energy.append(e)\n",
    "                for e in H.get_eigenvalue(S.get_basis(l,k,-1,-1),save = False):\n",
    "                    energy.append(e)\n",
    "                for e in H.get_eigenvalue(S.get_basis(l,k,-1,1),save = False):\n",
    "                    energy.append(e)\n",
    "            else:\n",
    "                for e in H.get_eigenvalue(S.get_basis(l,k),save = False):\n",
    "                    energy.append(e)'''\n",
    "    #srs_t.append(time.time()-start_t)"
   ]
  },
  {
   "cell_type": "code",
   "execution_count": 67,
   "metadata": {},
   "outputs": [],
   "source": [
    "fullE = energy[0]\n",
    "NE = energy[1:1+(1<<14)]\n",
    "kE = energy[1+(1<<14):1+2*(1<<14)]\n",
    "kE2 = energy[1+2*(1<<14):1+3*(1<<14)]"
   ]
  },
  {
   "cell_type": "code",
   "execution_count": 68,
   "metadata": {},
   "outputs": [],
   "source": [
    "NE.sort()\n",
    "kE.sort()"
   ]
  },
  {
   "cell_type": "code",
   "execution_count": 69,
   "metadata": {},
   "outputs": [
    {
     "data": {
      "text/plain": [
       "16384"
      ]
     },
     "execution_count": 69,
     "metadata": {},
     "output_type": "execute_result"
    }
   ],
   "source": [
    "1<<14"
   ]
  },
  {
   "cell_type": "code",
   "execution_count": 70,
   "metadata": {},
   "outputs": [
    {
     "data": {
      "text/plain": [
       "(16384,)"
      ]
     },
     "execution_count": 70,
     "metadata": {},
     "output_type": "execute_result"
    }
   ],
   "source": [
    "fullE.shape"
   ]
  },
  {
   "cell_type": "code",
   "execution_count": 71,
   "metadata": {},
   "outputs": [
    {
     "data": {
      "text/plain": [
       "16384"
      ]
     },
     "execution_count": 71,
     "metadata": {},
     "output_type": "execute_result"
    }
   ],
   "source": [
    "1<<14"
   ]
  },
  {
   "cell_type": "code",
   "execution_count": 72,
   "metadata": {},
   "outputs": [
    {
     "data": {
      "text/plain": [
       "16384"
      ]
     },
     "execution_count": 72,
     "metadata": {},
     "output_type": "execute_result"
    }
   ],
   "source": [
    "len(NE)"
   ]
  },
  {
   "cell_type": "code",
   "execution_count": 101,
   "metadata": {},
   "outputs": [
    {
     "data": {
      "text/plain": [
       "15"
      ]
     },
     "execution_count": 101,
     "metadata": {},
     "output_type": "execute_result"
    }
   ],
   "source": [
    "16*32066**2 >>30"
   ]
  },
  {
   "cell_type": "code",
   "execution_count": 18,
   "metadata": {},
   "outputs": [
    {
     "ename": "NameError",
     "evalue": "name 'fullE' is not defined",
     "output_type": "error",
     "traceback": [
      "\u001b[1;31m---------------------------------------------------------------------------\u001b[0m",
      "\u001b[1;31mNameError\u001b[0m                                 Traceback (most recent call last)",
      "\u001b[1;32m<ipython-input-18-f37556d3fd87>\u001b[0m in \u001b[0;36m<module>\u001b[1;34m\u001b[0m\n\u001b[1;32m----> 1\u001b[1;33m \u001b[0mplt\u001b[0m\u001b[1;33m.\u001b[0m\u001b[0mplot\u001b[0m\u001b[1;33m(\u001b[0m\u001b[0mfullE\u001b[0m\u001b[1;33m)\u001b[0m\u001b[1;33m\u001b[0m\u001b[1;33m\u001b[0m\u001b[0m\n\u001b[0m\u001b[0;32m      2\u001b[0m \u001b[0mplt\u001b[0m\u001b[1;33m.\u001b[0m\u001b[0mplot\u001b[0m\u001b[1;33m(\u001b[0m\u001b[0mNE\u001b[0m\u001b[1;33m)\u001b[0m\u001b[1;33m\u001b[0m\u001b[1;33m\u001b[0m\u001b[0m\n\u001b[0;32m      3\u001b[0m \u001b[1;31m#plt.plot(kE)\u001b[0m\u001b[1;33m\u001b[0m\u001b[1;33m\u001b[0m\u001b[1;33m\u001b[0m\u001b[0m\n\u001b[0;32m      4\u001b[0m \u001b[0mplt\u001b[0m\u001b[1;33m.\u001b[0m\u001b[0mplot\u001b[0m\u001b[1;33m(\u001b[0m\u001b[0mkE2\u001b[0m\u001b[1;33m)\u001b[0m\u001b[1;33m\u001b[0m\u001b[1;33m\u001b[0m\u001b[0m\n",
      "\u001b[1;31mNameError\u001b[0m: name 'fullE' is not defined"
     ]
    }
   ],
   "source": [
    "plt.plot(fullE)\n",
    "plt.plot(NE)\n",
    "#plt.plot(kE)\n",
    "plt.plot(kE2)"
   ]
  },
  {
   "cell_type": "code",
   "execution_count": 14,
   "metadata": {},
   "outputs": [
    {
     "name": "stdout",
     "output_type": "stream",
     "text": [
      "Current system saved at \"test_data\"\n",
      "Hardcore boson system\n",
      "Name         : lattice4\n",
      "Saved path   : C:\\Users\\jeong\\master\\xxzchain\\test_data\\\n",
      "System size  : 4\n",
      "\n",
      "Referenced Basis :   (None means full)\n",
      "\t|- Sector [-1 -1  0  0] \n",
      "\t-----\n",
      "\n",
      "Defined Operators :\n",
      "\t-----\n",
      "\tHamiltonian  : -----\n",
      "\n",
      "Initializing.... it may takes few minutes.\n",
      "Initializing spin conserving sectors of given basis : (-1,-1,0,0)\n",
      "Initializing.... it may takes few minutes.\n",
      "Initializing.... it may takes few minutes.\n",
      "Initializing.... it may takes few minutes.\n",
      "Initializing.... it may takes few minutes.\n",
      "Initializing.... it may takes few minutes.\n",
      "Initializing momentum sectors of given basis : (0,-1,0,0)\n",
      "Initializing.... it may takes few minutes.\n",
      "Initializing momentum sectors of given basis : (1,-1,0,0)\n",
      "Initializing.... it may takes few minutes.\n",
      "Initializing.... it may takes few minutes.\n",
      "Initializing.... it may takes few minutes.\n",
      "Initializing.... it may takes few minutes.\n",
      "Initializing momentum sectors of given basis : (2,-1,0,0)\n",
      "Initializing.... it may takes few minutes.\n",
      "Initializing.... it may takes few minutes.\n",
      "Initializing.... it may takes few minutes.\n",
      "Initializing.... it may takes few minutes.\n",
      "Initializing momentum sectors of given basis : (3,-1,0,0)\n",
      "Initializing.... it may takes few minutes.\n",
      "Initializing.... it may takes few minutes.\n",
      "Initializing.... it may takes few minutes.\n",
      "Initializing.... it may takes few minutes.\n",
      "Initializing momentum sectors of given basis : (4,-1,0,0)\n",
      "Initializing.... it may takes few minutes.\n"
     ]
    },
    {
     "name": "stderr",
     "output_type": "stream",
     "text": [
      "C:\\Users\\jeong\\Anaconda3\\lib\\site-packages\\numpy\\lib\\function_base.py:2054: ComplexWarning: Casting complex values to real discards the imaginary part\n",
      "  for x, t in zip(outputs, otypes)])\n"
     ]
    },
    {
     "name": "stdout",
     "output_type": "stream",
     "text": [
      "Current system saved at \"test_data\"\n",
      "Hardcore boson system\n",
      "Name         : lattice6\n",
      "Saved path   : C:\\Users\\jeong\\master\\xxzchain\\test_data\\\n",
      "System size  : 6\n",
      "\n",
      "Referenced Basis :   (None means full)\n",
      "\t|- Sector [-1 -1  0  0] \n",
      "\t-----\n",
      "\n",
      "Defined Operators :\n",
      "\t-----\n",
      "\tHamiltonian  : -----\n",
      "\n",
      "Initializing.... it may takes few minutes.\n",
      "Initializing spin conserving sectors of given basis : (-1,-1,0,0)\n",
      "Initializing.... it may takes few minutes.\n",
      "Initializing.... it may takes few minutes.\n",
      "Initializing.... it may takes few minutes.\n",
      "Initializing.... it may takes few minutes.\n",
      "Initializing.... it may takes few minutes.\n",
      "Initializing.... it may takes few minutes.\n",
      "Initializing.... it may takes few minutes.\n",
      "Initializing momentum sectors of given basis : (0,-1,0,0)\n",
      "Initializing.... it may takes few minutes.\n",
      "Initializing momentum sectors of given basis : (1,-1,0,0)\n",
      "Initializing.... it may takes few minutes.\n",
      "Initializing.... it may takes few minutes.\n",
      "Initializing.... it may takes few minutes.\n",
      "Initializing.... it may takes few minutes.\n",
      "Initializing.... it may takes few minutes.\n",
      "Initializing.... it may takes few minutes.\n",
      "Initializing momentum sectors of given basis : (2,-1,0,0)\n",
      "Initializing.... it may takes few minutes.\n",
      "Initializing.... it may takes few minutes.\n",
      "Initializing.... it may takes few minutes.\n",
      "Initializing.... it may takes few minutes.\n",
      "Initializing.... it may takes few minutes.\n",
      "Initializing.... it may takes few minutes.\n",
      "Initializing momentum sectors of given basis : (3,-1,0,0)\n",
      "Initializing.... it may takes few minutes.\n",
      "Initializing.... it may takes few minutes.\n",
      "Initializing.... it may takes few minutes.\n",
      "Initializing.... it may takes few minutes.\n",
      "Initializing.... it may takes few minutes.\n",
      "Initializing.... it may takes few minutes.\n",
      "Initializing momentum sectors of given basis : (4,-1,0,0)\n",
      "Initializing.... it may takes few minutes.\n",
      "Initializing.... it may takes few minutes.\n",
      "Initializing.... it may takes few minutes.\n",
      "Initializing.... it may takes few minutes.\n",
      "Initializing.... it may takes few minutes.\n",
      "Initializing.... it may takes few minutes.\n",
      "Initializing momentum sectors of given basis : (5,-1,0,0)\n",
      "Initializing.... it may takes few minutes.\n",
      "Initializing.... it may takes few minutes.\n",
      "Initializing.... it may takes few minutes.\n",
      "Initializing.... it may takes few minutes.\n",
      "Initializing.... it may takes few minutes.\n",
      "Initializing.... it may takes few minutes.\n",
      "Initializing momentum sectors of given basis : (6,-1,0,0)\n",
      "Initializing.... it may takes few minutes.\n",
      "Current system saved at \"test_data\"\n",
      "Hardcore boson system\n",
      "Name         : lattice8\n",
      "Saved path   : C:\\Users\\jeong\\master\\xxzchain\\test_data\\\n",
      "System size  : 8\n",
      "\n",
      "Referenced Basis :   (None means full)\n",
      "\t|- Sector [-1 -1  0  0] \n",
      "\t-----\n",
      "\n",
      "Defined Operators :\n",
      "\t-----\n",
      "\tHamiltonian  : -----\n",
      "\n",
      "Initializing.... it may takes few minutes.\n",
      "Initializing spin conserving sectors of given basis : (-1,-1,0,0)\n",
      "Initializing.... it may takes few minutes.\n",
      "Initializing.... it may takes few minutes.\n",
      "Initializing.... it may takes few minutes.\n",
      "Initializing.... it may takes few minutes.\n",
      "Initializing.... it may takes few minutes.\n",
      "Initializing.... it may takes few minutes.\n",
      "Initializing.... it may takes few minutes.\n",
      "Initializing.... it may takes few minutes.\n",
      "Initializing.... it may takes few minutes.\n",
      "Initializing momentum sectors of given basis : (0,-1,0,0)\n",
      "Initializing.... it may takes few minutes.\n",
      "Initializing momentum sectors of given basis : (1,-1,0,0)\n",
      "Initializing.... it may takes few minutes.\n",
      "Initializing.... it may takes few minutes.\n",
      "Initializing.... it may takes few minutes.\n",
      "Initializing.... it may takes few minutes.\n",
      "Initializing.... it may takes few minutes.\n",
      "Initializing.... it may takes few minutes.\n",
      "Initializing.... it may takes few minutes.\n",
      "Initializing.... it may takes few minutes.\n",
      "Initializing momentum sectors of given basis : (2,-1,0,0)\n",
      "Initializing.... it may takes few minutes.\n",
      "Initializing.... it may takes few minutes.\n",
      "Initializing.... it may takes few minutes.\n",
      "Initializing.... it may takes few minutes.\n",
      "Initializing.... it may takes few minutes.\n",
      "Initializing.... it may takes few minutes.\n",
      "Initializing.... it may takes few minutes.\n",
      "Initializing.... it may takes few minutes.\n",
      "Initializing momentum sectors of given basis : (3,-1,0,0)\n",
      "Initializing.... it may takes few minutes.\n",
      "Initializing.... it may takes few minutes.\n",
      "Initializing.... it may takes few minutes.\n",
      "Initializing.... it may takes few minutes.\n",
      "Initializing.... it may takes few minutes.\n",
      "Initializing.... it may takes few minutes.\n",
      "Initializing.... it may takes few minutes.\n",
      "Initializing.... it may takes few minutes.\n",
      "Initializing momentum sectors of given basis : (4,-1,0,0)\n",
      "Initializing.... it may takes few minutes.\n",
      "Initializing.... it may takes few minutes.\n",
      "Initializing.... it may takes few minutes.\n",
      "Initializing.... it may takes few minutes.\n",
      "Initializing.... it may takes few minutes.\n",
      "Initializing.... it may takes few minutes.\n",
      "Initializing.... it may takes few minutes.\n",
      "Initializing.... it may takes few minutes.\n",
      "Initializing momentum sectors of given basis : (5,-1,0,0)\n",
      "Initializing.... it may takes few minutes.\n",
      "Initializing.... it may takes few minutes.\n",
      "Initializing.... it may takes few minutes.\n",
      "Initializing.... it may takes few minutes.\n",
      "Initializing.... it may takes few minutes.\n",
      "Initializing.... it may takes few minutes.\n",
      "Initializing.... it may takes few minutes.\n",
      "Initializing.... it may takes few minutes.\n",
      "Initializing momentum sectors of given basis : (6,-1,0,0)\n",
      "Initializing.... it may takes few minutes.\n",
      "Initializing.... it may takes few minutes.\n",
      "Initializing.... it may takes few minutes.\n",
      "Initializing.... it may takes few minutes.\n",
      "Initializing.... it may takes few minutes.\n",
      "Initializing.... it may takes few minutes.\n",
      "Initializing.... it may takes few minutes.\n",
      "Initializing.... it may takes few minutes.\n",
      "Initializing momentum sectors of given basis : (7,-1,0,0)\n",
      "Initializing.... it may takes few minutes.\n",
      "Initializing.... it may takes few minutes.\n",
      "Initializing.... it may takes few minutes.\n",
      "Initializing.... it may takes few minutes.\n",
      "Initializing.... it may takes few minutes.\n",
      "Initializing.... it may takes few minutes.\n",
      "Initializing.... it may takes few minutes.\n",
      "Initializing.... it may takes few minutes.\n",
      "Initializing momentum sectors of given basis : (8,-1,0,0)\n",
      "Initializing.... it may takes few minutes.\n",
      "Current system saved at \"test_data\"\n",
      "Hardcore boson system\n",
      "Name         : lattice10\n",
      "Saved path   : C:\\Users\\jeong\\master\\xxzchain\\test_data\\\n",
      "System size  : 10\n",
      "\n",
      "Referenced Basis :   (None means full)\n",
      "\t|- Sector [-1 -1  0  0] \n",
      "\t-----\n",
      "\n",
      "Defined Operators :\n",
      "\t-----\n",
      "\tHamiltonian  : -----\n",
      "\n",
      "Initializing.... it may takes few minutes.\n",
      "Initializing spin conserving sectors of given basis : (-1,-1,0,0)\n",
      "Initializing.... it may takes few minutes.\n",
      "Initializing.... it may takes few minutes.\n",
      "Initializing.... it may takes few minutes.\n",
      "Initializing.... it may takes few minutes.\n",
      "Initializing.... it may takes few minutes.\n",
      "Initializing.... it may takes few minutes.\n",
      "Initializing.... it may takes few minutes.\n",
      "Initializing.... it may takes few minutes.\n",
      "Initializing.... it may takes few minutes.\n",
      "Initializing.... it may takes few minutes.\n",
      "Initializing.... it may takes few minutes.\n",
      "Initializing momentum sectors of given basis : (0,-1,0,0)\n",
      "Initializing.... it may takes few minutes.\n",
      "Initializing momentum sectors of given basis : (1,-1,0,0)\n",
      "Initializing.... it may takes few minutes.\n",
      "Initializing.... it may takes few minutes.\n",
      "Initializing.... it may takes few minutes.\n",
      "Initializing.... it may takes few minutes.\n",
      "Initializing.... it may takes few minutes.\n",
      "Initializing.... it may takes few minutes.\n",
      "Initializing.... it may takes few minutes.\n",
      "Initializing.... it may takes few minutes.\n",
      "Initializing.... it may takes few minutes.\n",
      "Initializing.... it may takes few minutes.\n",
      "Initializing momentum sectors of given basis : (2,-1,0,0)\n",
      "Initializing.... it may takes few minutes.\n",
      "Initializing.... it may takes few minutes.\n",
      "Initializing.... it may takes few minutes.\n",
      "Initializing.... it may takes few minutes.\n",
      "Initializing.... it may takes few minutes.\n",
      "Initializing.... it may takes few minutes.\n",
      "Initializing.... it may takes few minutes.\n",
      "Initializing.... it may takes few minutes.\n",
      "Initializing.... it may takes few minutes.\n",
      "Initializing.... it may takes few minutes.\n",
      "Initializing momentum sectors of given basis : (3,-1,0,0)\n",
      "Initializing.... it may takes few minutes.\n",
      "Initializing.... it may takes few minutes.\n",
      "Initializing.... it may takes few minutes.\n",
      "Initializing.... it may takes few minutes.\n",
      "Initializing.... it may takes few minutes.\n",
      "Initializing.... it may takes few minutes.\n",
      "Initializing.... it may takes few minutes.\n",
      "Initializing.... it may takes few minutes.\n",
      "Initializing.... it may takes few minutes.\n",
      "Initializing.... it may takes few minutes.\n",
      "Initializing momentum sectors of given basis : (4,-1,0,0)\n",
      "Initializing.... it may takes few minutes.\n",
      "Initializing.... it may takes few minutes.\n",
      "Initializing.... it may takes few minutes.\n",
      "Initializing.... it may takes few minutes.\n",
      "Initializing.... it may takes few minutes.\n",
      "Initializing.... it may takes few minutes.\n",
      "Initializing.... it may takes few minutes.\n",
      "Initializing.... it may takes few minutes.\n",
      "Initializing.... it may takes few minutes.\n",
      "Initializing.... it may takes few minutes.\n",
      "Initializing momentum sectors of given basis : (5,-1,0,0)\n",
      "Initializing.... it may takes few minutes.\n",
      "Initializing.... it may takes few minutes.\n",
      "Initializing.... it may takes few minutes.\n",
      "Initializing.... it may takes few minutes.\n",
      "Initializing.... it may takes few minutes.\n",
      "Initializing.... it may takes few minutes.\n",
      "Initializing.... it may takes few minutes.\n",
      "Initializing.... it may takes few minutes.\n",
      "Initializing.... it may takes few minutes.\n",
      "Initializing.... it may takes few minutes.\n",
      "Initializing momentum sectors of given basis : (6,-1,0,0)\n",
      "Initializing.... it may takes few minutes.\n",
      "Initializing.... it may takes few minutes.\n",
      "Initializing.... it may takes few minutes.\n",
      "Initializing.... it may takes few minutes.\n",
      "Initializing.... it may takes few minutes.\n",
      "Initializing.... it may takes few minutes.\n",
      "Initializing.... it may takes few minutes.\n",
      "Initializing.... it may takes few minutes.\n",
      "Initializing.... it may takes few minutes.\n",
      "Initializing.... it may takes few minutes.\n",
      "Initializing momentum sectors of given basis : (7,-1,0,0)\n",
      "Initializing.... it may takes few minutes.\n",
      "Initializing.... it may takes few minutes.\n",
      "Initializing.... it may takes few minutes.\n",
      "Initializing.... it may takes few minutes.\n",
      "Initializing.... it may takes few minutes.\n",
      "Initializing.... it may takes few minutes.\n",
      "Initializing.... it may takes few minutes.\n",
      "Initializing.... it may takes few minutes.\n",
      "Initializing.... it may takes few minutes.\n",
      "Initializing.... it may takes few minutes.\n",
      "Initializing momentum sectors of given basis : (8,-1,0,0)\n",
      "Initializing.... it may takes few minutes.\n",
      "Initializing.... it may takes few minutes.\n",
      "Initializing.... it may takes few minutes.\n",
      "Initializing.... it may takes few minutes.\n",
      "Initializing.... it may takes few minutes.\n",
      "Initializing.... it may takes few minutes.\n",
      "Initializing.... it may takes few minutes.\n",
      "Initializing.... it may takes few minutes.\n",
      "Initializing.... it may takes few minutes.\n",
      "Initializing.... it may takes few minutes.\n",
      "Initializing momentum sectors of given basis : (9,-1,0,0)\n",
      "Initializing.... it may takes few minutes.\n",
      "Initializing.... it may takes few minutes.\n",
      "Initializing.... it may takes few minutes.\n",
      "Initializing.... it may takes few minutes.\n",
      "Initializing.... it may takes few minutes.\n",
      "Initializing.... it may takes few minutes.\n",
      "Initializing.... it may takes few minutes.\n",
      "Initializing.... it may takes few minutes.\n",
      "Initializing.... it may takes few minutes.\n",
      "Initializing.... it may takes few minutes.\n",
      "Initializing momentum sectors of given basis : (10,-1,0,0)\n",
      "Initializing.... it may takes few minutes.\n",
      "Current system saved at \"test_data\"\n",
      "Hardcore boson system\n",
      "Name         : lattice12\n",
      "Saved path   : C:\\Users\\jeong\\master\\xxzchain\\test_data\\\n",
      "System size  : 12\n",
      "\n",
      "Referenced Basis :   (None means full)\n",
      "\t|- Sector [-1 -1  0  0] \n",
      "\t-----\n",
      "\n",
      "Defined Operators :\n",
      "\t-----\n",
      "\tHamiltonian  : -----\n",
      "\n",
      "Initializing.... it may takes few minutes.\n",
      "Initializing spin conserving sectors of given basis : (-1,-1,0,0)\n",
      "Initializing.... it may takes few minutes.\n",
      "Initializing.... it may takes few minutes.\n",
      "Initializing.... it may takes few minutes.\n",
      "Initializing.... it may takes few minutes.\n",
      "Initializing.... it may takes few minutes.\n",
      "Initializing.... it may takes few minutes.\n",
      "Initializing.... it may takes few minutes.\n",
      "Initializing.... it may takes few minutes.\n",
      "Initializing.... it may takes few minutes.\n",
      "Initializing.... it may takes few minutes.\n",
      "Initializing.... it may takes few minutes.\n",
      "Initializing.... it may takes few minutes.\n",
      "Initializing.... it may takes few minutes.\n",
      "Initializing momentum sectors of given basis : (0,-1,0,0)\n",
      "Initializing.... it may takes few minutes.\n",
      "Initializing momentum sectors of given basis : (1,-1,0,0)\n",
      "Initializing.... it may takes few minutes.\n",
      "Initializing.... it may takes few minutes.\n",
      "Initializing.... it may takes few minutes.\n",
      "Initializing.... it may takes few minutes.\n",
      "Initializing.... it may takes few minutes.\n",
      "Initializing.... it may takes few minutes.\n",
      "Initializing.... it may takes few minutes.\n",
      "Initializing.... it may takes few minutes.\n",
      "Initializing.... it may takes few minutes.\n",
      "Initializing.... it may takes few minutes.\n",
      "Initializing.... it may takes few minutes.\n",
      "Initializing.... it may takes few minutes.\n",
      "Initializing momentum sectors of given basis : (2,-1,0,0)\n",
      "Initializing.... it may takes few minutes.\n",
      "Initializing.... it may takes few minutes.\n",
      "Initializing.... it may takes few minutes.\n",
      "Initializing.... it may takes few minutes.\n",
      "Initializing.... it may takes few minutes.\n",
      "Initializing.... it may takes few minutes.\n",
      "Initializing.... it may takes few minutes.\n",
      "Initializing.... it may takes few minutes.\n",
      "Initializing.... it may takes few minutes.\n",
      "Initializing.... it may takes few minutes.\n",
      "Initializing.... it may takes few minutes.\n",
      "Initializing.... it may takes few minutes.\n",
      "Initializing momentum sectors of given basis : (3,-1,0,0)\n",
      "Initializing.... it may takes few minutes.\n",
      "Initializing.... it may takes few minutes.\n",
      "Initializing.... it may takes few minutes.\n",
      "Initializing.... it may takes few minutes.\n",
      "Initializing.... it may takes few minutes.\n",
      "Initializing.... it may takes few minutes.\n",
      "Initializing.... it may takes few minutes.\n",
      "Initializing.... it may takes few minutes.\n",
      "Initializing.... it may takes few minutes.\n",
      "Initializing.... it may takes few minutes.\n",
      "Initializing.... it may takes few minutes.\n",
      "Initializing.... it may takes few minutes.\n",
      "Initializing momentum sectors of given basis : (4,-1,0,0)\n",
      "Initializing.... it may takes few minutes.\n",
      "Initializing.... it may takes few minutes.\n",
      "Initializing.... it may takes few minutes.\n",
      "Initializing.... it may takes few minutes.\n",
      "Initializing.... it may takes few minutes.\n",
      "Initializing.... it may takes few minutes.\n",
      "Initializing.... it may takes few minutes.\n",
      "Initializing.... it may takes few minutes.\n",
      "Initializing.... it may takes few minutes.\n",
      "Initializing.... it may takes few minutes.\n",
      "Initializing.... it may takes few minutes.\n",
      "Initializing.... it may takes few minutes.\n",
      "Initializing momentum sectors of given basis : (5,-1,0,0)\n",
      "Initializing.... it may takes few minutes.\n",
      "Initializing.... it may takes few minutes.\n",
      "Initializing.... it may takes few minutes.\n",
      "Initializing.... it may takes few minutes.\n",
      "Initializing.... it may takes few minutes.\n",
      "Initializing.... it may takes few minutes.\n",
      "Initializing.... it may takes few minutes.\n",
      "Initializing.... it may takes few minutes.\n",
      "Initializing.... it may takes few minutes.\n",
      "Initializing.... it may takes few minutes.\n",
      "Initializing.... it may takes few minutes.\n",
      "Initializing.... it may takes few minutes.\n",
      "Initializing momentum sectors of given basis : (6,-1,0,0)\n",
      "Initializing.... it may takes few minutes.\n",
      "Initializing.... it may takes few minutes.\n",
      "Initializing.... it may takes few minutes.\n",
      "Initializing.... it may takes few minutes.\n",
      "Initializing.... it may takes few minutes.\n",
      "Initializing.... it may takes few minutes.\n",
      "Initializing.... it may takes few minutes.\n",
      "Initializing.... it may takes few minutes.\n",
      "Initializing.... it may takes few minutes.\n",
      "Initializing.... it may takes few minutes.\n",
      "Initializing.... it may takes few minutes.\n",
      "Initializing.... it may takes few minutes.\n",
      "Initializing momentum sectors of given basis : (7,-1,0,0)\n",
      "Initializing.... it may takes few minutes.\n",
      "Initializing.... it may takes few minutes.\n",
      "Initializing.... it may takes few minutes.\n",
      "Initializing.... it may takes few minutes.\n",
      "Initializing.... it may takes few minutes.\n",
      "Initializing.... it may takes few minutes.\n",
      "Initializing.... it may takes few minutes.\n",
      "Initializing.... it may takes few minutes.\n",
      "Initializing.... it may takes few minutes.\n",
      "Initializing.... it may takes few minutes.\n",
      "Initializing.... it may takes few minutes.\n",
      "Initializing.... it may takes few minutes.\n",
      "Initializing momentum sectors of given basis : (8,-1,0,0)\n",
      "Initializing.... it may takes few minutes.\n",
      "Initializing.... it may takes few minutes.\n",
      "Initializing.... it may takes few minutes.\n",
      "Initializing.... it may takes few minutes.\n",
      "Initializing.... it may takes few minutes.\n",
      "Initializing.... it may takes few minutes.\n",
      "Initializing.... it may takes few minutes.\n",
      "Initializing.... it may takes few minutes.\n",
      "Initializing.... it may takes few minutes.\n",
      "Initializing.... it may takes few minutes.\n",
      "Initializing.... it may takes few minutes.\n",
      "Initializing.... it may takes few minutes.\n",
      "Initializing momentum sectors of given basis : (9,-1,0,0)\n",
      "Initializing.... it may takes few minutes.\n",
      "Initializing.... it may takes few minutes.\n",
      "Initializing.... it may takes few minutes.\n",
      "Initializing.... it may takes few minutes.\n",
      "Initializing.... it may takes few minutes.\n",
      "Initializing.... it may takes few minutes.\n",
      "Initializing.... it may takes few minutes.\n",
      "Initializing.... it may takes few minutes.\n",
      "Initializing.... it may takes few minutes.\n",
      "Initializing.... it may takes few minutes.\n",
      "Initializing.... it may takes few minutes.\n",
      "Initializing.... it may takes few minutes.\n",
      "Initializing momentum sectors of given basis : (10,-1,0,0)\n",
      "Initializing.... it may takes few minutes.\n",
      "Initializing.... it may takes few minutes.\n",
      "Initializing.... it may takes few minutes.\n",
      "Initializing.... it may takes few minutes.\n",
      "Initializing.... it may takes few minutes.\n",
      "Initializing.... it may takes few minutes.\n",
      "Initializing.... it may takes few minutes.\n",
      "Initializing.... it may takes few minutes.\n",
      "Initializing.... it may takes few minutes.\n",
      "Initializing.... it may takes few minutes.\n",
      "Initializing.... it may takes few minutes.\n",
      "Initializing.... it may takes few minutes.\n",
      "Initializing momentum sectors of given basis : (11,-1,0,0)\n",
      "Initializing.... it may takes few minutes.\n",
      "Initializing.... it may takes few minutes.\n",
      "Initializing.... it may takes few minutes.\n",
      "Initializing.... it may takes few minutes.\n",
      "Initializing.... it may takes few minutes.\n",
      "Initializing.... it may takes few minutes.\n",
      "Initializing.... it may takes few minutes.\n",
      "Initializing.... it may takes few minutes.\n",
      "Initializing.... it may takes few minutes.\n",
      "Initializing.... it may takes few minutes.\n",
      "Initializing.... it may takes few minutes.\n",
      "Initializing.... it may takes few minutes.\n",
      "Initializing momentum sectors of given basis : (12,-1,0,0)\n",
      "Initializing.... it may takes few minutes.\n",
      "Current system saved at \"test_data\"\n",
      "Hardcore boson system\n",
      "Name         : lattice14\n",
      "Saved path   : C:\\Users\\jeong\\master\\xxzchain\\test_data\\\n",
      "System size  : 14\n",
      "\n",
      "Referenced Basis :   (None means full)\n",
      "\t|- Sector [-1 -1  0  0] \n",
      "\t-----\n",
      "\n",
      "Defined Operators :\n",
      "\t-----\n",
      "\tHamiltonian  : -----\n",
      "\n",
      "Initializing.... it may takes few minutes.\n",
      "Initializing spin conserving sectors of given basis : (-1,-1,0,0)\n",
      "Initializing.... it may takes few minutes.\n",
      "Initializing.... it may takes few minutes.\n",
      "Initializing.... it may takes few minutes.\n",
      "Initializing.... it may takes few minutes.\n",
      "Initializing.... it may takes few minutes.\n",
      "Initializing.... it may takes few minutes.\n",
      "Initializing.... it may takes few minutes.\n",
      "Initializing.... it may takes few minutes.\n",
      "Initializing.... it may takes few minutes.\n",
      "Initializing.... it may takes few minutes.\n",
      "Initializing.... it may takes few minutes.\n",
      "Initializing.... it may takes few minutes.\n",
      "Initializing.... it may takes few minutes.\n",
      "Initializing.... it may takes few minutes.\n",
      "Initializing.... it may takes few minutes.\n",
      "Initializing momentum sectors of given basis : (0,-1,0,0)\n",
      "Initializing.... it may takes few minutes.\n",
      "Initializing momentum sectors of given basis : (1,-1,0,0)\n",
      "Initializing.... it may takes few minutes.\n",
      "Initializing.... it may takes few minutes.\n",
      "Initializing.... it may takes few minutes.\n",
      "Initializing.... it may takes few minutes.\n",
      "Initializing.... it may takes few minutes.\n",
      "Initializing.... it may takes few minutes.\n",
      "Initializing.... it may takes few minutes.\n",
      "Initializing.... it may takes few minutes.\n",
      "Initializing.... it may takes few minutes.\n",
      "Initializing.... it may takes few minutes.\n",
      "Initializing.... it may takes few minutes.\n",
      "Initializing.... it may takes few minutes.\n",
      "Initializing.... it may takes few minutes.\n",
      "Initializing.... it may takes few minutes.\n",
      "Initializing momentum sectors of given basis : (2,-1,0,0)\n",
      "Initializing.... it may takes few minutes.\n",
      "Initializing.... it may takes few minutes.\n",
      "Initializing.... it may takes few minutes.\n",
      "Initializing.... it may takes few minutes.\n",
      "Initializing.... it may takes few minutes.\n",
      "Initializing.... it may takes few minutes.\n",
      "Initializing.... it may takes few minutes.\n",
      "Initializing.... it may takes few minutes.\n",
      "Initializing.... it may takes few minutes.\n",
      "Initializing.... it may takes few minutes.\n",
      "Initializing.... it may takes few minutes.\n",
      "Initializing.... it may takes few minutes.\n",
      "Initializing.... it may takes few minutes.\n",
      "Initializing.... it may takes few minutes.\n",
      "Initializing momentum sectors of given basis : (3,-1,0,0)\n",
      "Initializing.... it may takes few minutes.\n",
      "Initializing.... it may takes few minutes.\n",
      "Initializing.... it may takes few minutes.\n",
      "Initializing.... it may takes few minutes.\n",
      "Initializing.... it may takes few minutes.\n",
      "Initializing.... it may takes few minutes.\n",
      "Initializing.... it may takes few minutes.\n",
      "Initializing.... it may takes few minutes.\n",
      "Initializing.... it may takes few minutes.\n",
      "Initializing.... it may takes few minutes.\n",
      "Initializing.... it may takes few minutes.\n",
      "Initializing.... it may takes few minutes.\n",
      "Initializing.... it may takes few minutes.\n",
      "Initializing.... it may takes few minutes.\n",
      "Initializing momentum sectors of given basis : (4,-1,0,0)\n",
      "Initializing.... it may takes few minutes.\n",
      "Initializing.... it may takes few minutes.\n",
      "Initializing.... it may takes few minutes.\n",
      "Initializing.... it may takes few minutes.\n",
      "Initializing.... it may takes few minutes.\n",
      "Initializing.... it may takes few minutes.\n",
      "Initializing.... it may takes few minutes.\n",
      "Initializing.... it may takes few minutes.\n",
      "Initializing.... it may takes few minutes.\n",
      "Initializing.... it may takes few minutes.\n",
      "Initializing.... it may takes few minutes.\n",
      "Initializing.... it may takes few minutes.\n",
      "Initializing.... it may takes few minutes.\n",
      "Initializing.... it may takes few minutes.\n",
      "Initializing momentum sectors of given basis : (5,-1,0,0)\n",
      "Initializing.... it may takes few minutes.\n",
      "Initializing.... it may takes few minutes.\n",
      "Initializing.... it may takes few minutes.\n",
      "Initializing.... it may takes few minutes.\n",
      "Initializing.... it may takes few minutes.\n",
      "Initializing.... it may takes few minutes.\n",
      "Initializing.... it may takes few minutes.\n",
      "Initializing.... it may takes few minutes.\n",
      "Initializing.... it may takes few minutes.\n",
      "Initializing.... it may takes few minutes.\n",
      "Initializing.... it may takes few minutes.\n",
      "Initializing.... it may takes few minutes.\n",
      "Initializing.... it may takes few minutes.\n",
      "Initializing.... it may takes few minutes.\n",
      "Initializing momentum sectors of given basis : (6,-1,0,0)\n",
      "Initializing.... it may takes few minutes.\n",
      "Initializing.... it may takes few minutes.\n",
      "Initializing.... it may takes few minutes.\n",
      "Initializing.... it may takes few minutes.\n",
      "Initializing.... it may takes few minutes.\n",
      "Initializing.... it may takes few minutes.\n",
      "Initializing.... it may takes few minutes.\n",
      "Initializing.... it may takes few minutes.\n",
      "Initializing.... it may takes few minutes.\n",
      "Initializing.... it may takes few minutes.\n",
      "Initializing.... it may takes few minutes.\n",
      "Initializing.... it may takes few minutes.\n",
      "Initializing.... it may takes few minutes.\n",
      "Initializing.... it may takes few minutes.\n",
      "Initializing momentum sectors of given basis : (7,-1,0,0)\n",
      "Initializing.... it may takes few minutes.\n",
      "Initializing.... it may takes few minutes.\n",
      "Initializing.... it may takes few minutes.\n",
      "Initializing.... it may takes few minutes.\n",
      "Initializing.... it may takes few minutes.\n",
      "Initializing.... it may takes few minutes.\n",
      "Initializing.... it may takes few minutes.\n",
      "Initializing.... it may takes few minutes.\n",
      "Initializing.... it may takes few minutes.\n",
      "Initializing.... it may takes few minutes.\n",
      "Initializing.... it may takes few minutes.\n",
      "Initializing.... it may takes few minutes.\n",
      "Initializing.... it may takes few minutes.\n",
      "Initializing.... it may takes few minutes.\n",
      "Initializing momentum sectors of given basis : (8,-1,0,0)\n",
      "Initializing.... it may takes few minutes.\n",
      "Initializing.... it may takes few minutes.\n",
      "Initializing.... it may takes few minutes.\n",
      "Initializing.... it may takes few minutes.\n",
      "Initializing.... it may takes few minutes.\n",
      "Initializing.... it may takes few minutes.\n",
      "Initializing.... it may takes few minutes.\n",
      "Initializing.... it may takes few minutes.\n",
      "Initializing.... it may takes few minutes.\n",
      "Initializing.... it may takes few minutes.\n",
      "Initializing.... it may takes few minutes.\n",
      "Initializing.... it may takes few minutes.\n",
      "Initializing.... it may takes few minutes.\n",
      "Initializing.... it may takes few minutes.\n",
      "Initializing momentum sectors of given basis : (9,-1,0,0)\n",
      "Initializing.... it may takes few minutes.\n",
      "Initializing.... it may takes few minutes.\n",
      "Initializing.... it may takes few minutes.\n",
      "Initializing.... it may takes few minutes.\n",
      "Initializing.... it may takes few minutes.\n",
      "Initializing.... it may takes few minutes.\n",
      "Initializing.... it may takes few minutes.\n",
      "Initializing.... it may takes few minutes.\n",
      "Initializing.... it may takes few minutes.\n",
      "Initializing.... it may takes few minutes.\n",
      "Initializing.... it may takes few minutes.\n",
      "Initializing.... it may takes few minutes.\n",
      "Initializing.... it may takes few minutes.\n",
      "Initializing.... it may takes few minutes.\n",
      "Initializing momentum sectors of given basis : (10,-1,0,0)\n",
      "Initializing.... it may takes few minutes.\n",
      "Initializing.... it may takes few minutes.\n",
      "Initializing.... it may takes few minutes.\n",
      "Initializing.... it may takes few minutes.\n",
      "Initializing.... it may takes few minutes.\n",
      "Initializing.... it may takes few minutes.\n",
      "Initializing.... it may takes few minutes.\n",
      "Initializing.... it may takes few minutes.\n",
      "Initializing.... it may takes few minutes.\n",
      "Initializing.... it may takes few minutes.\n",
      "Initializing.... it may takes few minutes.\n",
      "Initializing.... it may takes few minutes.\n",
      "Initializing.... it may takes few minutes.\n",
      "Initializing.... it may takes few minutes.\n",
      "Initializing momentum sectors of given basis : (11,-1,0,0)\n",
      "Initializing.... it may takes few minutes.\n",
      "Initializing.... it may takes few minutes.\n",
      "Initializing.... it may takes few minutes.\n",
      "Initializing.... it may takes few minutes.\n",
      "Initializing.... it may takes few minutes.\n",
      "Initializing.... it may takes few minutes.\n",
      "Initializing.... it may takes few minutes.\n",
      "Initializing.... it may takes few minutes.\n",
      "Initializing.... it may takes few minutes.\n",
      "Initializing.... it may takes few minutes.\n",
      "Initializing.... it may takes few minutes.\n",
      "Initializing.... it may takes few minutes.\n",
      "Initializing.... it may takes few minutes.\n",
      "Initializing.... it may takes few minutes.\n",
      "Initializing momentum sectors of given basis : (12,-1,0,0)\n",
      "Initializing.... it may takes few minutes.\n",
      "Initializing.... it may takes few minutes.\n",
      "Initializing.... it may takes few minutes.\n",
      "Initializing.... it may takes few minutes.\n",
      "Initializing.... it may takes few minutes.\n",
      "Initializing.... it may takes few minutes.\n",
      "Initializing.... it may takes few minutes.\n",
      "Initializing.... it may takes few minutes.\n",
      "Initializing.... it may takes few minutes.\n",
      "Initializing.... it may takes few minutes.\n",
      "Initializing.... it may takes few minutes.\n",
      "Initializing.... it may takes few minutes.\n",
      "Initializing.... it may takes few minutes.\n",
      "Initializing.... it may takes few minutes.\n",
      "Initializing momentum sectors of given basis : (13,-1,0,0)\n",
      "Initializing.... it may takes few minutes.\n",
      "Initializing.... it may takes few minutes.\n",
      "Initializing.... it may takes few minutes.\n",
      "Initializing.... it may takes few minutes.\n",
      "Initializing.... it may takes few minutes.\n",
      "Initializing.... it may takes few minutes.\n",
      "Initializing.... it may takes few minutes.\n",
      "Initializing.... it may takes few minutes.\n",
      "Initializing.... it may takes few minutes.\n",
      "Initializing.... it may takes few minutes.\n",
      "Initializing.... it may takes few minutes.\n",
      "Initializing.... it may takes few minutes.\n",
      "Initializing.... it may takes few minutes.\n",
      "Initializing.... it may takes few minutes.\n",
      "Initializing momentum sectors of given basis : (14,-1,0,0)\n",
      "Initializing.... it may takes few minutes.\n"
     ]
    }
   ],
   "source": [
    "for iteration in range(7):\n",
    "    for i in range(6):\n",
    "        start_t = time.time()\n",
    "        S = xxz.System(i*2+4)\n",
    "        S.initialize('test_data',force = True)\n",
    "        H = xxz.Operator.Null(S)\n",
    "        xxz.preset(S, globals())\n",
    "        for j in S.range:\n",
    "            H+= -1*hopping.index(i,i+1)+1/2*(n_i.index(i)-1/2)@(n_i.index(i+1)-1/2)\n",
    "        H.set_name('H')\n",
    "        energy = []\n",
    "        #SRS\n",
    "        for l in range(S.size+1):\n",
    "            for k in S.range:\n",
    "                if l ==0 or l == S.size:\n",
    "                    if k:\n",
    "                        continue\n",
    "                if l == S.size/2 and k==0:\n",
    "                    ch = time.time()\n",
    "                    for e in H.get_eigenvalue(S.get_basis(l,k,1,1)):\n",
    "                        energy.append(e)\n",
    "                    MMS_t.append(time.time()-ch)\n",
    "                    for e in H.get_eigenvalue(S.get_basis(l,k,1,-1)):\n",
    "                        energy.append(e)\n",
    "                    for e in H.get_eigenvalue(S.get_basis(l,k,-1,-1)):\n",
    "                        energy.append(e)\n",
    "                    for e in H.get_eigenvalue(S.get_basis(l,k,-1,1)):\n",
    "                        energy.append(e)\n",
    "                else:\n",
    "                    for e in H.get_eigenvalue(S.get_basis(l,k)):\n",
    "                        energy.append(e)\n",
    "        SRS_T.append(time.time()-start_t-full_t[-1]-N_t[-1]-k_t[-1])"
   ]
  },
  {
   "cell_type": "code",
   "execution_count": 7,
   "metadata": {},
   "outputs": [],
   "source": [
    "import matplotlib.pyplot as plt\n",
    "import numpy as np"
   ]
  },
  {
   "cell_type": "code",
   "execution_count": 8,
   "metadata": {},
   "outputs": [],
   "source": [
    "full_t = np.array(full_t)\n",
    "N_t = np.array(N_t)\n",
    "k_t = np.array(k_t)"
   ]
  },
  {
   "cell_type": "code",
   "execution_count": 9,
   "metadata": {},
   "outputs": [],
   "source": [
    "N_M_t = np.array(N_M_t)\n",
    "k_M_t = np.array(k_M_t)"
   ]
  },
  {
   "cell_type": "code",
   "execution_count": 13,
   "metadata": {},
   "outputs": [],
   "source": [
    "np.save('test_time/full_t.npy',full_t)"
   ]
  },
  {
   "cell_type": "code",
   "execution_count": 14,
   "metadata": {},
   "outputs": [],
   "source": [
    "np.save('test_time/N_t.npy',N_t)"
   ]
  },
  {
   "cell_type": "code",
   "execution_count": 15,
   "metadata": {},
   "outputs": [],
   "source": [
    "np.save('test_time/k_t.npy',k_t)"
   ]
  },
  {
   "cell_type": "code",
   "execution_count": 16,
   "metadata": {},
   "outputs": [],
   "source": [
    "np.save('test_time/N_M_t.npy',N_M_t)"
   ]
  },
  {
   "cell_type": "code",
   "execution_count": 17,
   "metadata": {},
   "outputs": [],
   "source": [
    "np.save('test_time/k_M_t.npy',k_M_t)"
   ]
  },
  {
   "cell_type": "code",
   "execution_count": 32,
   "metadata": {},
   "outputs": [],
   "source": [
    "np.save('test_time/MMS_t.npy',MMS_t)"
   ]
  },
  {
   "cell_type": "code",
   "execution_count": 11,
   "metadata": {},
   "outputs": [],
   "source": [
    "import numpy as np"
   ]
  },
  {
   "cell_type": "code",
   "execution_count": 13,
   "metadata": {},
   "outputs": [],
   "source": [
    "full_t = np.load('test_time/full_t.npy')\n",
    "N_t = np.load('test_time/N_t.npy')\n",
    "k_t = np.load('test_time/k_t.npy')\n",
    "N_M_t = np.load('test_time/N_M_t.npy')\n",
    "k_M_t = np.load('test_time/k_M_t.npy')\n"
   ]
  },
  {
   "cell_type": "code",
   "execution_count": 121,
   "metadata": {},
   "outputs": [
    {
     "data": {
      "text/plain": [
       "110892.85714285717"
      ]
     },
     "execution_count": 121,
     "metadata": {},
     "output_type": "execute_result"
    }
   ],
   "source": [
    "6e23*1.38e-23*300/22.4*1000"
   ]
  },
  {
   "cell_type": "code",
   "execution_count": 106,
   "metadata": {},
   "outputs": [
    {
     "ename": "ValueError",
     "evalue": "cannot reshape array of size 6 into shape (7,6)",
     "output_type": "error",
     "traceback": [
      "\u001b[1;31m---------------------------------------------------------------------------\u001b[0m",
      "\u001b[1;31mValueError\u001b[0m                                Traceback (most recent call last)",
      "\u001b[1;32m<ipython-input-106-80e3d317405a>\u001b[0m in \u001b[0;36m<module>\u001b[1;34m\u001b[0m\n\u001b[1;32m----> 1\u001b[1;33m \u001b[0mfull_t\u001b[0m \u001b[1;33m=\u001b[0m \u001b[0mfull_t\u001b[0m\u001b[1;33m.\u001b[0m\u001b[0mreshape\u001b[0m\u001b[1;33m(\u001b[0m\u001b[1;36m7\u001b[0m\u001b[1;33m,\u001b[0m\u001b[1;36m6\u001b[0m\u001b[1;33m)\u001b[0m\u001b[1;33m\u001b[0m\u001b[1;33m\u001b[0m\u001b[0m\n\u001b[0m\u001b[0;32m      2\u001b[0m \u001b[0mN_t\u001b[0m \u001b[1;33m=\u001b[0m \u001b[0mN_t\u001b[0m\u001b[1;33m.\u001b[0m\u001b[0mreshape\u001b[0m\u001b[1;33m(\u001b[0m\u001b[1;36m7\u001b[0m\u001b[1;33m,\u001b[0m\u001b[1;36m6\u001b[0m\u001b[1;33m)\u001b[0m\u001b[1;33m\u001b[0m\u001b[1;33m\u001b[0m\u001b[0m\n\u001b[0;32m      3\u001b[0m \u001b[0mk_t\u001b[0m \u001b[1;33m=\u001b[0m \u001b[0mk_t\u001b[0m\u001b[1;33m.\u001b[0m\u001b[0mreshape\u001b[0m\u001b[1;33m(\u001b[0m\u001b[1;36m7\u001b[0m\u001b[1;33m,\u001b[0m\u001b[1;36m6\u001b[0m\u001b[1;33m)\u001b[0m\u001b[1;33m\u001b[0m\u001b[1;33m\u001b[0m\u001b[0m\n",
      "\u001b[1;31mValueError\u001b[0m: cannot reshape array of size 6 into shape (7,6)"
     ]
    }
   ],
   "source": [
    "full_t = full_t.reshape()\n",
    "N_t = N_t.reshape(7,6)\n",
    "k_t = k_t.reshape(7,6)"
   ]
  },
  {
   "cell_type": "code",
   "execution_count": 197,
   "metadata": {},
   "outputs": [
    {
     "data": {
      "text/plain": [
       "array([6.01267815e-03, 2.29325294e-02, 1.16688251e-01, 6.06378317e-01,\n",
       "       8.05442882e+00, 1.80084617e+02])"
      ]
     },
     "execution_count": 197,
     "metadata": {},
     "output_type": "execute_result"
    }
   ],
   "source": [
    "full_t"
   ]
  },
  {
   "cell_type": "code",
   "execution_count": 201,
   "metadata": {},
   "outputs": [
    {
     "data": {
      "text/plain": [
       "array([3.97729874e-03, 8.97622108e-03, 3.29108238e-02, 1.41620159e-01,\n",
       "       5.91446400e-01, 5.08340430e+00, 8.61785400e+01])"
      ]
     },
     "execution_count": 201,
     "metadata": {},
     "output_type": "execute_result"
    }
   ],
   "source": [
    "N_M_t"
   ]
  },
  {
   "cell_type": "code",
   "execution_count": 202,
   "metadata": {},
   "outputs": [
    {
     "data": {
      "text/plain": [
       "array([8.00442696e-03, 1.09701157e-02, 1.69558525e-02, 2.99179554e-02,\n",
       "       9.77385044e-02, 2.63294220e-01, 9.96334553e-01, 6.91051722e+00,\n",
       "       1.44454651e+02, 5.41420252e+03])"
      ]
     },
     "execution_count": 202,
     "metadata": {},
     "output_type": "execute_result"
    }
   ],
   "source": [
    "k_M_t"
   ]
  },
  {
   "cell_type": "code",
   "execution_count": 203,
   "metadata": {},
   "outputs": [
    {
     "data": {
      "text/plain": [
       "[0.016954421997070312,\n",
       " 0.02393651008605957,\n",
       " 0.03191494941711426,\n",
       " 0.05285978317260742,\n",
       " 0.1177208423614502,\n",
       " 0.3799562454223633,\n",
       " 1.2835679054260254,\n",
       " 4.6934733390808105,\n",
       " 20.91805386543274,\n",
       " 171.68327474594116,\n",
       " 4643.333608865738]"
      ]
     },
     "execution_count": 203,
     "metadata": {},
     "output_type": "execute_result"
    }
   ],
   "source": [
    "MMS_t"
   ]
  },
  {
   "cell_type": "code",
   "execution_count": 94,
   "metadata": {},
   "outputs": [],
   "source": [
    "N_M_t = (N_M_t).reshape(7,6)\n",
    "k_M_t = (k_M_t).reshape(7,6)"
   ]
  },
  {
   "cell_type": "code",
   "execution_count": 88,
   "metadata": {},
   "outputs": [
    {
     "data": {
      "text/plain": [
       "array([0.00495088, 0.00923784, 0.00980688, 0.01292303, 0.30774521,\n",
       "       1.77559822])"
      ]
     },
     "execution_count": 88,
     "metadata": {},
     "output_type": "execute_result"
    }
   ],
   "source": [
    "full_t.std(axis=0)"
   ]
  },
  {
   "cell_type": "code",
   "execution_count": 90,
   "metadata": {},
   "outputs": [
    {
     "data": {
      "text/plain": [
       "array([1.69408287e-01, 2.02880723e-01, 3.14017194e-01, 7.75628192e-01,\n",
       "       8.05598140e+00, 1.79528338e+02])"
      ]
     },
     "execution_count": 90,
     "metadata": {},
     "output_type": "execute_result"
    }
   ],
   "source": [
    "full_t.mean(axis=0)"
   ]
  },
  {
   "cell_type": "code",
   "execution_count": 103,
   "metadata": {},
   "outputs": [
    {
     "ename": "AttributeError",
     "evalue": "'list' object has no attribute 'mean'",
     "output_type": "error",
     "traceback": [
      "\u001b[1;31m---------------------------------------------------------------------------\u001b[0m",
      "\u001b[1;31mAttributeError\u001b[0m                            Traceback (most recent call last)",
      "\u001b[1;32m<ipython-input-103-2ef2d47e4609>\u001b[0m in \u001b[0;36m<module>\u001b[1;34m\u001b[0m\n\u001b[1;32m----> 1\u001b[1;33m \u001b[0mplt\u001b[0m\u001b[1;33m.\u001b[0m\u001b[0merrorbar\u001b[0m\u001b[1;33m(\u001b[0m\u001b[0mx\u001b[0m\u001b[1;33m=\u001b[0m\u001b[0mnp\u001b[0m\u001b[1;33m.\u001b[0m\u001b[0marange\u001b[0m\u001b[1;33m(\u001b[0m\u001b[1;36m6\u001b[0m\u001b[1;33m)\u001b[0m\u001b[1;33m*\u001b[0m\u001b[1;36m2\u001b[0m\u001b[1;33m+\u001b[0m\u001b[1;36m4\u001b[0m\u001b[1;33m,\u001b[0m \u001b[0my\u001b[0m\u001b[1;33m=\u001b[0m \u001b[0mfull_t\u001b[0m\u001b[1;33m.\u001b[0m\u001b[0mmean\u001b[0m\u001b[1;33m(\u001b[0m\u001b[0maxis\u001b[0m\u001b[1;33m=\u001b[0m\u001b[1;36m0\u001b[0m\u001b[1;33m)\u001b[0m\u001b[1;33m,\u001b[0m \u001b[0myerr\u001b[0m\u001b[1;33m=\u001b[0m \u001b[0mfull_t\u001b[0m\u001b[1;33m.\u001b[0m\u001b[0mstd\u001b[0m\u001b[1;33m(\u001b[0m\u001b[0maxis\u001b[0m\u001b[1;33m=\u001b[0m\u001b[1;36m0\u001b[0m\u001b[1;33m)\u001b[0m\u001b[1;33m,\u001b[0m\u001b[0mlabel\u001b[0m\u001b[1;33m=\u001b[0m\u001b[1;34m'full'\u001b[0m\u001b[1;33m)\u001b[0m\u001b[1;33m\u001b[0m\u001b[1;33m\u001b[0m\u001b[0m\n\u001b[0m\u001b[0;32m      2\u001b[0m \u001b[0mplt\u001b[0m\u001b[1;33m.\u001b[0m\u001b[0merrorbar\u001b[0m\u001b[1;33m(\u001b[0m\u001b[0mx\u001b[0m\u001b[1;33m=\u001b[0m\u001b[0mnp\u001b[0m\u001b[1;33m.\u001b[0m\u001b[0marange\u001b[0m\u001b[1;33m(\u001b[0m\u001b[1;36m6\u001b[0m\u001b[1;33m)\u001b[0m\u001b[1;33m*\u001b[0m\u001b[1;36m2\u001b[0m\u001b[1;33m+\u001b[0m\u001b[1;36m4\u001b[0m\u001b[1;33m,\u001b[0m \u001b[0my\u001b[0m\u001b[1;33m=\u001b[0m \u001b[0mN_t\u001b[0m\u001b[1;33m.\u001b[0m\u001b[0mmean\u001b[0m\u001b[1;33m(\u001b[0m\u001b[0maxis\u001b[0m\u001b[1;33m=\u001b[0m\u001b[1;36m0\u001b[0m\u001b[1;33m)\u001b[0m\u001b[1;33m,\u001b[0m \u001b[0myerr\u001b[0m\u001b[1;33m=\u001b[0m \u001b[0mN_t\u001b[0m\u001b[1;33m.\u001b[0m\u001b[0mstd\u001b[0m\u001b[1;33m(\u001b[0m\u001b[0maxis\u001b[0m\u001b[1;33m=\u001b[0m\u001b[1;36m0\u001b[0m\u001b[1;33m)\u001b[0m\u001b[1;33m,\u001b[0m\u001b[0mlabel\u001b[0m\u001b[1;33m=\u001b[0m\u001b[1;34m'N'\u001b[0m\u001b[1;33m)\u001b[0m\u001b[1;33m\u001b[0m\u001b[1;33m\u001b[0m\u001b[0m\n\u001b[0;32m      3\u001b[0m \u001b[0mplt\u001b[0m\u001b[1;33m.\u001b[0m\u001b[0merrorbar\u001b[0m\u001b[1;33m(\u001b[0m\u001b[0mx\u001b[0m\u001b[1;33m=\u001b[0m\u001b[0mnp\u001b[0m\u001b[1;33m.\u001b[0m\u001b[0marange\u001b[0m\u001b[1;33m(\u001b[0m\u001b[1;36m6\u001b[0m\u001b[1;33m)\u001b[0m\u001b[1;33m*\u001b[0m\u001b[1;36m2\u001b[0m\u001b[1;33m+\u001b[0m\u001b[1;36m4\u001b[0m\u001b[1;33m,\u001b[0m \u001b[0my\u001b[0m\u001b[1;33m=\u001b[0m \u001b[0mk_t\u001b[0m\u001b[1;33m.\u001b[0m\u001b[0mmean\u001b[0m\u001b[1;33m(\u001b[0m\u001b[0maxis\u001b[0m\u001b[1;33m=\u001b[0m\u001b[1;36m0\u001b[0m\u001b[1;33m)\u001b[0m\u001b[1;33m,\u001b[0m \u001b[0myerr\u001b[0m\u001b[1;33m=\u001b[0m \u001b[0mk_t\u001b[0m\u001b[1;33m.\u001b[0m\u001b[0mstd\u001b[0m\u001b[1;33m(\u001b[0m\u001b[0maxis\u001b[0m\u001b[1;33m=\u001b[0m\u001b[1;36m0\u001b[0m\u001b[1;33m)\u001b[0m\u001b[1;33m,\u001b[0m\u001b[0mlabel\u001b[0m\u001b[1;33m=\u001b[0m\u001b[1;34m'k'\u001b[0m\u001b[1;33m)\u001b[0m\u001b[1;33m\u001b[0m\u001b[1;33m\u001b[0m\u001b[0m\n\u001b[0;32m      4\u001b[0m \u001b[0mplt\u001b[0m\u001b[1;33m.\u001b[0m\u001b[0merrorbar\u001b[0m\u001b[1;33m(\u001b[0m\u001b[0mx\u001b[0m\u001b[1;33m=\u001b[0m\u001b[0mnp\u001b[0m\u001b[1;33m.\u001b[0m\u001b[0marange\u001b[0m\u001b[1;33m(\u001b[0m\u001b[1;36m6\u001b[0m\u001b[1;33m)\u001b[0m\u001b[1;33m*\u001b[0m\u001b[1;36m2\u001b[0m\u001b[1;33m+\u001b[0m\u001b[1;36m4\u001b[0m\u001b[1;33m,\u001b[0m \u001b[0my\u001b[0m\u001b[1;33m=\u001b[0m \u001b[0mN_M_t\u001b[0m\u001b[1;33m.\u001b[0m\u001b[0mmean\u001b[0m\u001b[1;33m(\u001b[0m\u001b[0maxis\u001b[0m\u001b[1;33m=\u001b[0m\u001b[1;36m0\u001b[0m\u001b[1;33m)\u001b[0m\u001b[1;33m,\u001b[0m \u001b[0myerr\u001b[0m\u001b[1;33m=\u001b[0m \u001b[0mN_M_t\u001b[0m\u001b[1;33m.\u001b[0m\u001b[0mstd\u001b[0m\u001b[1;33m(\u001b[0m\u001b[0maxis\u001b[0m\u001b[1;33m=\u001b[0m\u001b[1;36m0\u001b[0m\u001b[1;33m)\u001b[0m\u001b[1;33m,\u001b[0m\u001b[0mlabel\u001b[0m\u001b[1;33m=\u001b[0m\u001b[1;34m'NM'\u001b[0m\u001b[1;33m)\u001b[0m\u001b[1;33m\u001b[0m\u001b[1;33m\u001b[0m\u001b[0m\n\u001b[0;32m      5\u001b[0m \u001b[0mplt\u001b[0m\u001b[1;33m.\u001b[0m\u001b[0merrorbar\u001b[0m\u001b[1;33m(\u001b[0m\u001b[0mx\u001b[0m\u001b[1;33m=\u001b[0m\u001b[0mnp\u001b[0m\u001b[1;33m.\u001b[0m\u001b[0marange\u001b[0m\u001b[1;33m(\u001b[0m\u001b[1;36m6\u001b[0m\u001b[1;33m)\u001b[0m\u001b[1;33m*\u001b[0m\u001b[1;36m2\u001b[0m\u001b[1;33m+\u001b[0m\u001b[1;36m4\u001b[0m\u001b[1;33m,\u001b[0m \u001b[0my\u001b[0m\u001b[1;33m=\u001b[0m \u001b[0mk_M_t\u001b[0m\u001b[1;33m.\u001b[0m\u001b[0mmean\u001b[0m\u001b[1;33m(\u001b[0m\u001b[0maxis\u001b[0m\u001b[1;33m=\u001b[0m\u001b[1;36m0\u001b[0m\u001b[1;33m)\u001b[0m\u001b[1;33m,\u001b[0m \u001b[0myerr\u001b[0m\u001b[1;33m=\u001b[0m \u001b[0mk_M_t\u001b[0m\u001b[1;33m.\u001b[0m\u001b[0mstd\u001b[0m\u001b[1;33m(\u001b[0m\u001b[0maxis\u001b[0m\u001b[1;33m=\u001b[0m\u001b[1;36m0\u001b[0m\u001b[1;33m)\u001b[0m\u001b[1;33m,\u001b[0m\u001b[0mlabel\u001b[0m\u001b[1;33m=\u001b[0m\u001b[1;34m'kM'\u001b[0m\u001b[1;33m)\u001b[0m\u001b[1;33m\u001b[0m\u001b[1;33m\u001b[0m\u001b[0m\n",
      "\u001b[1;31mAttributeError\u001b[0m: 'list' object has no attribute 'mean'"
     ]
    }
   ],
   "source": [
    "plt.errorbar(x=np.arange(6)*2+4, y= full_t.mean(axis=0), yerr= full_t.std(axis=0),label='full')\n",
    "plt.errorbar(x=np.arange(6)*2+4, y= N_t.mean(axis=0), yerr= N_t.std(axis=0),label='N')\n",
    "plt.errorbar(x=np.arange(6)*2+4, y= k_t.mean(axis=0), yerr= k_t.std(axis=0),label='k')\n",
    "plt.errorbar(x=np.arange(6)*2+4, y= N_M_t.mean(axis=0), yerr= N_M_t.std(axis=0),label='NM')\n",
    "plt.errorbar(x=np.arange(6)*2+4, y= k_M_t.mean(axis=0), yerr= k_M_t.std(axis=0),label='kM')\n",
    "\n",
    "plt.yscale('log')\n",
    "plt.xscale('log')\n",
    "plt.legend()"
   ]
  },
  {
   "cell_type": "code",
   "execution_count": 24,
   "metadata": {},
   "outputs": [
    {
     "data": {
      "text/plain": [
       "128"
      ]
     },
     "execution_count": 24,
     "metadata": {},
     "output_type": "execute_result"
    }
   ],
   "source": [
    "16*(2<<32)>>30"
   ]
  },
  {
   "cell_type": "code",
   "execution_count": 11,
   "metadata": {},
   "outputs": [
    {
     "data": {
      "text/plain": [
       "<matplotlib.legend.Legend at 0x1cf66fee780>"
      ]
     },
     "execution_count": 11,
     "metadata": {},
     "output_type": "execute_result"
    },
    {
     "data": {
      "image/png": "[encoded data removed]",
      "text/plain": [
       "<Figure size 432x288 with 1 Axes>"
      ]
     },
     "metadata": {
      "needs_background": "light"
     },
     "output_type": "display_data"
    }
   ],
   "source": [
    "plt.semilogy(full_t, label='full')\n",
    "plt.semilogy(N_t, label='N')\n",
    "plt.semilogy(k_t, label='k')\n",
    "plt.semilogy(N_M_t, label='N_M')\n",
    "plt.semilogy(k_M_t, label='k_M')\n",
    "plt.legend()"
   ]
  },
  {
   "cell_type": "code",
   "execution_count": 15,
   "metadata": {},
   "outputs": [],
   "source": [
    "import matplotlib.pyplot as plt"
   ]
  },
  {
   "cell_type": "code",
   "execution_count": 156,
   "metadata": {},
   "outputs": [],
   "source": [
    "k = [4+2*i for i in range(11)]"
   ]
  },
  {
   "cell_type": "code",
   "execution_count": 51,
   "metadata": {},
   "outputs": [],
   "source": [
    "pk = np.power(2, k, dtype = np.int64)"
   ]
  },
  {
   "cell_type": "code",
   "execution_count": 193,
   "metadata": {},
   "outputs": [
    {
     "data": {
      "image/png": "[encoded data removed]",
      "text/plain": [
       "<Figure size 432x288 with 1 Axes>"
      ]
     },
     "metadata": {
      "needs_background": "light"
     },
     "output_type": "display_data"
    }
   ],
   "source": [
    "plt.figure(figsize=[6,4])\n",
    "plotf = plt.semilogy\n",
    "plotf(k[:6],full_t,'x--', label=r'$\\itS$')\n",
    "#plotf(k[:-4],N_t, 'o-',label=r'${\\scrS}_{N}$')\n",
    "#plotf(k[:-1],k_t, 'o-',label=r'${\\scrS}_{N,k}$')\n",
    "plotf(k[:-4],N_M_t,'x--', label=r'${\\itS}_{N=L/2}$')\n",
    "plotf(k[:-1],k_M_t,'x--', label=r'${\\itS}_{N=L/2,k=0}$')\n",
    "plotf(k,MMS_t,'x--', label=r'${\\itS}_{L/2,0,\\!+\\!1,\\!+\\!1}$')\n",
    "#plotf(k[-7:-5], 0.0000001*pk[-7:-5]**2.2)\n",
    "plt.xticks(k)\n",
    "plt.xlabel(\"$L$\")\n",
    "plt.ylabel('Running time (s)')\n",
    "plt.legend()\n",
    "plt.savefig(\"running.eps\")"
   ]
  },
  {
   "cell_type": "code",
   "execution_count": 11,
   "metadata": {},
   "outputs": [
    {
     "data": {
      "text/plain": [
       "<matplotlib.legend.Legend at 0x1cf66fee780>"
      ]
     },
     "execution_count": 11,
     "metadata": {},
     "output_type": "execute_result"
    },
    {
     "data": {
      "image/png": "[encoded data removed]",
      "text/plain": [
       "<Figure size 432x288 with 1 Axes>"
      ]
     },
     "metadata": {
      "needs_background": "light"
     },
     "output_type": "display_data"
    }
   ],
   "source": [
    "plt.loglog(full_t, label='full')\n",
    "plt.semilogy(N_t, label='N')\n",
    "plt.semilogy(k_t, label='k')\n",
    "plt.semilogy(N_M_t, label='N_M')\n",
    "plt.semilogy(k_M_t, label='k_M')\n",
    "plt.legend()"
   ]
  },
  {
   "cell_type": "code",
   "execution_count": 128,
   "metadata": {},
   "outputs": [
    {
     "data": {
      "text/plain": [
       "15"
      ]
     },
     "execution_count": 128,
     "metadata": {},
     "output_type": "execute_result"
    }
   ],
   "source": [
    "int((22*21*20*19*18*17*16*15*14*13*12/11/10/9/8/7/6/5/4/3/2/1/22)**2*16)>>30"
   ]
  },
  {
   "cell_type": "code",
   "execution_count": null,
   "metadata": {},
   "outputs": [],
   "source": []
  }
 ],
 "metadata": {
  "kernelspec": {
   "display_name": "Python 3",
   "language": "python",
   "name": "python3"
  },
  "language_info": {
   "codemirror_mode": {
    "name": "ipython",
    "version": 3
   },
   "file_extension": ".py",
   "mimetype": "text/x-python",
   "name": "python",
   "nbconvert_exporter": "python",
   "pygments_lexer": "ipython3",
   "version": "3.7.1"
  }
 },
 "nbformat": 4,
 "nbformat_minor": 2
}
