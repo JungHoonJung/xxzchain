{
 "cells": [
  {
   "cell_type": "code",
   "execution_count": 1,
   "metadata": {},
   "outputs": [],
   "source": [
    "import xxzchain as xxz\n",
    "import numpy as np\n",
    "import matplotlib.pyplot as plt"
   ]
  },
  {
   "cell_type": "code",
   "execution_count": 2,
   "metadata": {},
   "outputs": [],
   "source": [
    "S = [xxz.System(12+i) for i in range(10)]"
   ]
  },
  {
   "cell_type": "code",
   "execution_count": 3,
   "metadata": {},
   "outputs": [
    {
     "name": "stdout",
     "output_type": "stream",
     "text": [
      "Current system saved at \"testPRE\"\n"
     ]
    },
    {
     "name": "stdin",
     "output_type": "stream",
     "text": [
      "Previous save data exist. Will you load that data?[Y/n] :  y\n"
     ]
    },
    {
     "name": "stdout",
     "output_type": "stream",
     "text": [
      "Current system loaded by \"C:\\Users\\jeong\\master\\xxzchain\\testPRE\\lattice12.hdf5\"\n",
      "Hardcore boson system\n",
      "Name         : lattice12\n",
      "Saved path   : C:\\Users\\jeong\\master\\xxzchain\\testPRE\\\n",
      "System size  : 12\n",
      "\n",
      "Referenced Basis :   (None means full)\n",
      "\t|- Sector [-1 -1  0  0] \n",
      "\t-----\n",
      "\n",
      "Defined Operators :\n",
      "\t-----\n",
      "\tHamiltonian  : -----\n",
      "\n",
      "Current system saved at \"testPRE\"\n"
     ]
    },
    {
     "name": "stdin",
     "output_type": "stream",
     "text": [
      "Previous save data exist. Will you load that data?[Y/n] :  y\n"
     ]
    },
    {
     "name": "stdout",
     "output_type": "stream",
     "text": [
      "Current system loaded by \"C:\\Users\\jeong\\master\\xxzchain\\testPRE\\lattice13.hdf5\"\n",
      "Hardcore boson system\n",
      "Name         : lattice13\n",
      "Saved path   : C:\\Users\\jeong\\master\\xxzchain\\testPRE\\\n",
      "System size  : 13\n",
      "\n",
      "Referenced Basis :   (None means full)\n",
      "\t|- Sector [-1 -1  0  0] \n",
      "\t-----\n",
      "\n",
      "Defined Operators :\n",
      "\t-----\n",
      "\tHamiltonian  : -----\n",
      "\n",
      "Current system saved at \"testPRE\"\n"
     ]
    },
    {
     "name": "stdin",
     "output_type": "stream",
     "text": [
      "Previous save data exist. Will you load that data?[Y/n] :  y\n"
     ]
    },
    {
     "name": "stdout",
     "output_type": "stream",
     "text": [
      "Current system loaded by \"C:\\Users\\jeong\\master\\xxzchain\\testPRE\\lattice14.hdf5\"\n",
      "Hardcore boson system\n",
      "Name         : lattice14\n",
      "Saved path   : C:\\Users\\jeong\\master\\xxzchain\\testPRE\\\n",
      "System size  : 14\n",
      "\n",
      "Referenced Basis :   (None means full)\n",
      "\t|- Sector [-1 -1  0  0] \n",
      "\t-----\n",
      "\n",
      "Defined Operators :\n",
      "\t|- H_ising\n",
      "\t|- H_nnn\n",
      "\t|- n1n2\n",
      "\t|- x_1\n",
      "\t-----\n",
      "\tHamiltonian  : -----\n",
      "\n",
      "Stored Data :\n",
      "\t|- ex_n1n2\n",
      "\t|- ex_x1\n",
      "\t-----\n",
      "\n",
      "Current system saved at \"testPRE\"\n"
     ]
    },
    {
     "name": "stdin",
     "output_type": "stream",
     "text": [
      "Previous save data exist. Will you load that data?[Y/n] :  y\n"
     ]
    },
    {
     "name": "stdout",
     "output_type": "stream",
     "text": [
      "Current system loaded by \"C:\\Users\\jeong\\master\\xxzchain\\testPRE\\lattice15.hdf5\"\n",
      "Hardcore boson system\n",
      "Name         : lattice15\n",
      "Saved path   : C:\\Users\\jeong\\master\\xxzchain\\testPRE\\\n",
      "System size  : 15\n",
      "\n",
      "Referenced Basis :   (None means full)\n",
      "\t|- Sector [-1 -1  0  0] \n",
      "\t-----\n",
      "\n",
      "Defined Operators :\n",
      "\t|- H_ising\n",
      "\t|- H_nnn\n",
      "\t|- x_1\n",
      "\t-----\n",
      "\tHamiltonian  : -----\n",
      "\n",
      "Stored Data :\n",
      "\t|- ex_x1\n",
      "\t-----\n",
      "\n",
      "Current system saved at \"testPRE\"\n"
     ]
    },
    {
     "name": "stdin",
     "output_type": "stream",
     "text": [
      "Previous save data exist. Will you load that data?[Y/n] :  y\n"
     ]
    },
    {
     "name": "stdout",
     "output_type": "stream",
     "text": [
      "Current system loaded by \"C:\\Users\\jeong\\master\\xxzchain\\testPRE\\lattice16.hdf5\"\n",
      "Hardcore boson system\n",
      "Name         : lattice16\n",
      "Saved path   : C:\\Users\\jeong\\master\\xxzchain\\testPRE\\\n",
      "System size  : 16\n",
      "\n",
      "Referenced Basis :   (None means full)\n",
      "\t|- Sector [-1 -1  0  0] \n",
      "\t-----\n",
      "\n",
      "Defined Operators :\n",
      "\t|- H_ising\n",
      "\t|- H_nnn\n",
      "\t|- n1n2\n",
      "\t|- x_1\n",
      "\t-----\n",
      "\tHamiltonian  : -----\n",
      "\n",
      "Stored Data :\n",
      "\t|- ex_n1n2\n",
      "\t|- ex_x1\n",
      "\t-----\n",
      "\n",
      "Current system saved at \"testPRE\"\n"
     ]
    },
    {
     "name": "stdin",
     "output_type": "stream",
     "text": [
      "Previous save data exist. Will you load that data?[Y/n] :  y\n"
     ]
    },
    {
     "name": "stdout",
     "output_type": "stream",
     "text": [
      "Current system loaded by \"C:\\Users\\jeong\\master\\xxzchain\\testPRE\\lattice17.hdf5\"\n",
      "Hardcore boson system\n",
      "Name         : lattice17\n",
      "Saved path   : C:\\Users\\jeong\\master\\xxzchain\\testPRE\\\n",
      "System size  : 17\n",
      "\n",
      "Referenced Basis :   (None means full)\n",
      "\t|- Sector [-1 -1  0  0] \n",
      "\t-----\n",
      "\n",
      "Defined Operators :\n",
      "\t|- H_ising\n",
      "\t|- H_nnn\n",
      "\t|- x_1\n",
      "\t-----\n",
      "\tHamiltonian  : -----\n",
      "\n",
      "Stored Data :\n",
      "\t|- ex_x1\n",
      "\t-----\n",
      "\n",
      "Current system saved at \"testPRE\"\n"
     ]
    },
    {
     "name": "stdin",
     "output_type": "stream",
     "text": [
      "Previous save data exist. Will you load that data?[Y/n] :  y\n"
     ]
    },
    {
     "name": "stdout",
     "output_type": "stream",
     "text": [
      "Current system loaded by \"C:\\Users\\jeong\\master\\xxzchain\\testPRE\\lattice18.hdf5\"\n",
      "Hardcore boson system\n",
      "Name         : lattice18\n",
      "Saved path   : C:\\Users\\jeong\\master\\xxzchain\\testPRE\\\n",
      "System size  : 18\n",
      "\n",
      "Referenced Basis :   (None means full)\n",
      "\t|- Sector [-1 -1  0  0] \n",
      "\t-----\n",
      "\n",
      "Defined Operators :\n",
      "\t|- H_ising\n",
      "\t|- H_nnn\n",
      "\t|- n1n2\n",
      "\t|- x_1\n",
      "\t-----\n",
      "\tHamiltonian  : -----\n",
      "\n",
      "Stored Data :\n",
      "\t|- ex_n1n2\n",
      "\t|- ex_x1\n",
      "\t-----\n",
      "\n",
      "Current system saved at \"testPRE\"\n"
     ]
    },
    {
     "name": "stdin",
     "output_type": "stream",
     "text": [
      "Previous save data exist. Will you load that data?[Y/n] :  y\n"
     ]
    },
    {
     "name": "stdout",
     "output_type": "stream",
     "text": [
      "Current system loaded by \"C:\\Users\\jeong\\master\\xxzchain\\testPRE\\lattice19.hdf5\"\n",
      "Hardcore boson system\n",
      "Name         : lattice19\n",
      "Saved path   : C:\\Users\\jeong\\master\\xxzchain\\testPRE\\\n",
      "System size  : 19\n",
      "\n",
      "Referenced Basis :   (None means full)\n",
      "\t|- Sector [-1 -1  0  0] \n",
      "\t-----\n",
      "\n",
      "Defined Operators :\n",
      "\t-----\n",
      "\tHamiltonian  : -----\n",
      "\n",
      "Current system saved at \"testPRE\"\n"
     ]
    },
    {
     "name": "stdin",
     "output_type": "stream",
     "text": [
      "Previous save data exist. Will you load that data?[Y/n] :  y\n"
     ]
    },
    {
     "name": "stdout",
     "output_type": "stream",
     "text": [
      "Current system loaded by \"C:\\Users\\jeong\\master\\xxzchain\\testPRE\\lattice20.hdf5\"\n",
      "Hardcore boson system\n",
      "Name         : lattice20\n",
      "Saved path   : C:\\Users\\jeong\\master\\xxzchain\\testPRE\\\n",
      "System size  : 20\n",
      "\n",
      "Referenced Basis :   (None means full)\n",
      "\t|- Sector [-1 -1  0  0] \n",
      "\t-----\n",
      "\n",
      "Defined Operators :\n",
      "\t|- H_nnn\n",
      "\t|- n1n2\n",
      "\t-----\n",
      "\tHamiltonian  : -----\n",
      "\n",
      "Stored Data :\n",
      "\t|- ex_n1n2\n",
      "\t-----\n",
      "\n",
      "Current system saved at \"testPRE\"\n"
     ]
    },
    {
     "name": "stdin",
     "output_type": "stream",
     "text": [
      "Previous save data exist. Will you load that data?[Y/n] :  y\n"
     ]
    },
    {
     "name": "stdout",
     "output_type": "stream",
     "text": [
      "Current system loaded by \"C:\\Users\\jeong\\master\\xxzchain\\testPRE\\lattice21.hdf5\"\n",
      "Hardcore boson system\n",
      "Name         : lattice21\n",
      "Saved path   : C:\\Users\\jeong\\master\\xxzchain\\testPRE\\\n",
      "System size  : 21\n",
      "\n",
      "Referenced Basis :   (None means full)\n",
      "\t|- Sector [-1 -1  0  0] \n",
      "\t-----\n",
      "\n",
      "Defined Operators :\n",
      "\t-----\n",
      "\tHamiltonian  : -----\n",
      "\n"
     ]
    }
   ],
   "source": [
    "for i in S:\n",
    "    i.initialize('testPRE')"
   ]
  },
  {
   "cell_type": "code",
   "execution_count": null,
   "metadata": {},
   "outputs": [],
   "source": [
    "for s in S:\n",
    "    s.initialize('testPRE/')\n",
    "    xxz.preset(s, globals())\n",
    "    x_i = xxz.Operator(s, prefix = xxz.Operator.x_i)\n",
    "    if s.size<20:\n",
    "        g,h,J = 0.9045,0.8090,1\n",
    "        H_ising = xxz.Operator.Null(s)\n",
    "        for i in s.range:\n",
    "            H_ising += g*x_i.index(i) + h*(2*n_i.index(i)-1) + J*(2*n_i.index(i)-1)@(2*n_i.index(i+1)-1)\n",
    "        H_ising.set_name('H_ising')\n",
    "    if s.size>13:\n",
    "        H_nnn = xxz.Operator.Null(s)\n",
    "        for i in s.range:\n",
    "            H_nnn += -1*(hopping.index(i,i+1)+hopping.index(i,i+2)) + n_i.index(i)@n_i.index(i+1) + n_i.index(i)@n_i.index(i+2)\n",
    "        H_nnn.set_name('H_nnn')\n",
    "    "
   ]
  },
  {
   "cell_type": "code",
   "execution_count": 4,
   "metadata": {},
   "outputs": [
    {
     "name": "stdout",
     "output_type": "stream",
     "text": []
    },
    {
     "name": "stdout",
     "output_type": "stream",
     "text": []
    },
    {
     "name": "stderr",
     "output_type": "stream",
     "text": [
      "C:\\Users\\jeong\\Anaconda3\\lib\\site-packages\\numpy\\lib\\function_base.py:2054: ComplexWarning: Casting complex values to real discards the imaginary part\n",
      "  for x, t in zip(outputs, otypes)])\n"
     ]
    },
    {
     "name": "stdout",
     "output_type": "stream",
     "text": []
    },
    {
     "name": "stdout",
     "output_type": "stream",
     "text": []
    },
    {
     "name": "stdout",
     "output_type": "stream",
     "text": []
    },
    {
     "name": "stdout",
     "output_type": "stream",
     "text": []
    },
    {
     "name": "stdout",
     "output_type": "stream",
     "text": []
    },
    {
     "name": "stdout",
     "output_type": "stream",
     "text": []
    },
    {
     "name": "stdout",
     "output_type": "stream",
     "text": []
    },
    {
     "name": "stdout",
     "output_type": "stream",
     "text": []
    },
    {
     "name": "stdout",
     "output_type": "stream",
     "text": []
    },
    {
     "name": "stdout",
     "output_type": "stream",
     "text": []
    },
    {
     "name": "stdout",
     "output_type": "stream",
     "text": []
    },
    {
     "name": "stdout",
     "output_type": "stream",
     "text": []
    },
    {
     "name": "stdout",
     "output_type": "stream",
     "text": []
    },
    {
     "name": "stdout",
     "output_type": "stream",
     "text": []
    },
    {
     "name": "stdout",
     "output_type": "stream",
     "text": []
    },
    {
     "name": "stdout",
     "output_type": "stream",
     "text": []
    },
    {
     "name": "stdout",
     "output_type": "stream",
     "text": []
    },
    {
     "name": "stdout",
     "output_type": "stream",
     "text": []
    },
    {
     "name": "stdout",
     "output_type": "stream",
     "text": []
    },
    {
     "name": "stdout",
     "output_type": "stream",
     "text": []
    },
    {
     "name": "stdout",
     "output_type": "stream",
     "text": []
    },
    {
     "name": "stdout",
     "output_type": "stream",
     "text": []
    },
    {
     "name": "stdout",
     "output_type": "stream",
     "text": []
    },
    {
     "name": "stdout",
     "output_type": "stream",
     "text": []
    },
    {
     "name": "stdout",
     "output_type": "stream",
     "text": []
    },
    {
     "name": "stdout",
     "output_type": "stream",
     "text": []
    },
    {
     "name": "stdout",
     "output_type": "stream",
     "text": []
    },
    {
     "name": "stdout",
     "output_type": "stream",
     "text": []
    },
    {
     "name": "stdout",
     "output_type": "stream",
     "text": []
    },
    {
     "name": "stdout",
     "output_type": "stream",
     "text": []
    },
    {
     "name": "stdout",
     "output_type": "stream",
     "text": []
    },
    {
     "name": "stdout",
     "output_type": "stream",
     "text": []
    },
    {
     "name": "stdout",
     "output_type": "stream",
     "text": []
    },
    {
     "name": "stdout",
     "output_type": "stream",
     "text": []
    },
    {
     "name": "stdout",
     "output_type": "stream",
     "text": []
    },
    {
     "name": "stdout",
     "output_type": "stream",
     "text": []
    },
    {
     "name": "stdout",
     "output_type": "stream",
     "text": []
    },
    {
     "name": "stdout",
     "output_type": "stream",
     "text": []
    },
    {
     "name": "stdout",
     "output_type": "stream",
     "text": []
    },
    {
     "name": "stdout",
     "output_type": "stream",
     "text": []
    },
    {
     "name": "stdout",
     "output_type": "stream",
     "text": []
    },
    {
     "name": "stdout",
     "output_type": "stream",
     "text": []
    },
    {
     "name": "stdout",
     "output_type": "stream",
     "text": []
    },
    {
     "name": "stdout",
     "output_type": "stream",
     "text": []
    },
    {
     "name": "stdout",
     "output_type": "stream",
     "text": []
    },
    {
     "name": "stdout",
     "output_type": "stream",
     "text": []
    },
    {
     "name": "stdout",
     "output_type": "stream",
     "text": []
    },
    {
     "name": "stdout",
     "output_type": "stream",
     "text": []
    },
    {
     "name": "stdout",
     "output_type": "stream",
     "text": []
    },
    {
     "name": "stdout",
     "output_type": "stream",
     "text": []
    },
    {
     "name": "stdout",
     "output_type": "stream",
     "text": []
    },
    {
     "name": "stdout",
     "output_type": "stream",
     "text": []
    },
    {
     "name": "stdout",
     "output_type": "stream",
     "text": []
    },
    {
     "name": "stdout",
     "output_type": "stream",
     "text": []
    },
    {
     "name": "stdout",
     "output_type": "stream",
     "text": []
    },
    {
     "name": "stdout",
     "output_type": "stream",
     "text": []
    },
    {
     "name": "stdout",
     "output_type": "stream",
     "text": []
    },
    {
     "name": "stdout",
     "output_type": "stream",
     "text": []
    },
    {
     "name": "stdout",
     "output_type": "stream",
     "text": []
    },
    {
     "name": "stdout",
     "output_type": "stream",
     "text": []
    },
    {
     "name": "stdout",
     "output_type": "stream",
     "text": []
    },
    {
     "name": "stdout",
     "output_type": "stream",
     "text": []
    },
    {
     "name": "stdout",
     "output_type": "stream",
     "text": []
    },
    {
     "name": "stdout",
     "output_type": "stream",
     "text": []
    },
    {
     "name": "stdout",
     "output_type": "stream",
     "text": []
    },
    {
     "name": "stdout",
     "output_type": "stream",
     "text": []
    },
    {
     "name": "stdout",
     "output_type": "stream",
     "text": []
    },
    {
     "name": "stdout",
     "output_type": "stream",
     "text": []
    },
    {
     "name": "stdout",
     "output_type": "stream",
     "text": []
    },
    {
     "name": "stdout",
     "output_type": "stream",
     "text": []
    },
    {
     "name": "stdout",
     "output_type": "stream",
     "text": []
    },
    {
     "name": "stdout",
     "output_type": "stream",
     "text": []
    },
    {
     "name": "stdout",
     "output_type": "stream",
     "text": []
    },
    {
     "name": "stdout",
     "output_type": "stream",
     "text": []
    },
    {
     "name": "stdout",
     "output_type": "stream",
     "text": []
    },
    {
     "name": "stdout",
     "output_type": "stream",
     "text": []
    },
    {
     "name": "stdout",
     "output_type": "stream",
     "text": []
    },
    {
     "name": "stdout",
     "output_type": "stream",
     "text": []
    },
    {
     "name": "stdout",
     "output_type": "stream",
     "text": []
    },
    {
     "name": "stdout",
     "output_type": "stream",
     "text": []
    },
    {
     "name": "stdout",
     "output_type": "stream",
     "text": []
    },
    {
     "name": "stdout",
     "output_type": "stream",
     "text": []
    },
    {
     "name": "stdout",
     "output_type": "stream",
     "text": []
    },
    {
     "name": "stdout",
     "output_type": "stream",
     "text": []
    },
    {
     "name": "stdout",
     "output_type": "stream",
     "text": []
    },
    {
     "name": "stdout",
     "output_type": "stream",
     "text": []
    },
    {
     "name": "stdout",
     "output_type": "stream",
     "text": []
    },
    {
     "name": "stdout",
     "output_type": "stream",
     "text": []
    },
    {
     "name": "stdout",
     "output_type": "stream",
     "text": []
    },
    {
     "name": "stdout",
     "output_type": "stream",
     "text": []
    },
    {
     "name": "stdout",
     "output_type": "stream",
     "text": []
    },
    {
     "name": "stdout",
     "output_type": "stream",
     "text": []
    },
    {
     "name": "stdout",
     "output_type": "stream",
     "text": []
    },
    {
     "name": "stdout",
     "output_type": "stream",
     "text": []
    },
    {
     "name": "stdout",
     "output_type": "stream",
     "text": []
    },
    {
     "name": "stdout",
     "output_type": "stream",
     "text": []
    },
    {
     "name": "stdout",
     "output_type": "stream",
     "text": []
    }
   ],
   "source": [
    "for s in S:\n",
    "    if s.size<19:\n",
    "        for i in range(int((s.size+1)/2)):\n",
    "            s.get_operator('H_ising').solve_on(s.get_basis(-1,i))\n",
    "    if not s.size %2:\n",
    "        if s.size ==12 or s.size>20: continue\n",
    "        for i in range(int(s.size/2)):\n",
    "            s.get_operator('H_nnn').solve_on(s.get_basis(int(s.size/2), i))"
   ]
  },
  {
   "cell_type": "code",
   "execution_count": 5,
   "metadata": {},
   "outputs": [],
   "source": [
    "for s in S:\n",
    "    if s.size<19:\n",
    "        x_1 = xxz.Operator(s, prefix = xxz.Operator.x_i).index(0)\n",
    "        x_1.set_name('x_1')\n",
    "    if s.size%2 == 0:\n",
    "        n_i = xxz.Operator(s, prefix = xxz.Operator.n_i)\n",
    "        n1n2 = n_i.index(0)@n_i.index(1)\n",
    "        n1n2.set_name('n1n2')"
   ]
  },
  {
   "cell_type": "code",
   "execution_count": 44,
   "metadata": {},
   "outputs": [],
   "source": [
    "for s in S:\n",
    "    if s.size<19:\n",
    "        x_i = xxz.Operator(s, prefix = xxz.Operator.x_i)\n",
    "        x = xxz.Operator.Null(s)\n",
    "        for i in s.range:\n",
    "            x += x_i.index(i)\n",
    "        x.set_name('x')\n",
    "    if s.size%2 == 0:\n",
    "        n_i = xxz.Operator(s, prefix = xxz.Operator.n_i)\n",
    "        nini1 = xxz.Operator.Null(s)\n",
    "        for i in s.range:\n",
    "            nini1 += n_i.index(i)@n_i.index(i+1)\n",
    "        nini1.set_name('nini1')"
   ]
  },
  {
   "cell_type": "code",
   "execution_count": 8,
   "metadata": {},
   "outputs": [
    {
     "name": "stderr",
     "output_type": "stream",
     "text": [
      "C:\\Users\\jeong\\Anaconda3\\lib\\site-packages\\numpy\\lib\\function_base.py:2054: ComplexWarning: Casting complex values to real discards the imaginary part\n",
      "  for x, t in zip(outputs, otypes)])\n"
     ]
    }
   ],
   "source": [
    "for s in S:\n",
    "    if s.size<19:\n",
    "        if s.size ==12 or s.size == 13: continue\n",
    "        ex_x1 = []\n",
    "        for i in range(int((s.size+1)/2)):\n",
    "            state = s.get_operator('H_ising').get_eigenstates(s.get_basis(-1,i))\n",
    "            for v in (state.dual().T*(s.get_operator('x').get_matrix(state.basis)@state.coef)).sum(axis=0):\n",
    "                ex_x1.append(v)\n",
    "        \n",
    "        s.save('ex_x', ex_x1)\n",
    "    if s.size%2 == 0:\n",
    "        if s.size ==12: continue\n",
    "        ex_n1n2 = []\n",
    "        for i in range(int((s.size)/2)):\n",
    "            state = s.get_operator('H_nnn').get_eigenstates(s.get_basis(int(s.size/2),i))\n",
    "            for v in (state.dual().T*(s.get_operator('nini1').get_matrix(state.basis)@state.coef)).sum(axis=0):\n",
    "                ex_n1n2.append(v)\n",
    "        s.save('ex_nini1', ex_n1n2)"
   ]
  },
  {
   "cell_type": "code",
   "execution_count": 8,
   "metadata": {},
   "outputs": [],
   "source": [
    "for s in S:\n",
    "    if s.size<19:\n",
    "        if s.size ==12 or s.size == 13: continue\n",
    "        ex_x1 = []\n",
    "        for i in range(int((s.size+1)/2)):\n",
    "            state = s.get_operator('H_ising').get_eigenstates(s.get_basis(-1,i))\n",
    "            for v in (state.dual().T*(s.get_operator('x').get_matrix(state.basis)@state.coef)).sum(axis=0):\n",
    "                ex_x1.append(v)\n",
    "        \n",
    "        s.save('ex_x', ex_x1)\n",
    "    "
   ]
  },
  {
   "cell_type": "code",
   "execution_count": 48,
   "metadata": {},
   "outputs": [],
   "source": [
    "for s in S:\n",
    "    if s.size%2 == 0:\n",
    "        if s.size ==12: continue\n",
    "        ex_n1n2 = []\n",
    "        for i in range(int((s.size)/2)):\n",
    "            state = s.get_operator('H_nnn').get_eigenstates(s.get_basis(int(s.size/2),i))\n",
    "            for v in (state.dual().T*(s.get_operator('nini1').get_matrix(state.basis)@state.coef)).sum(axis=0):\n",
    "                ex_n1n2.append(v)\n",
    "        s.save('ex_nini1', ex_n1n2)"
   ]
  },
  {
   "cell_type": "code",
   "execution_count": 62,
   "metadata": {},
   "outputs": [
    {
     "data": {
      "text/plain": [
       "array([450, 460, 470, 480, 490, 500, 510, 520, 530, 540])"
      ]
     },
     "execution_count": 62,
     "metadata": {},
     "output_type": "execute_result"
    }
   ],
   "source": [
    "np.arange(100).reshape([10,10]).sum(axis = 0)"
   ]
  },
  {
   "cell_type": "code",
   "execution_count": 70,
   "metadata": {},
   "outputs": [
    {
     "data": {
      "text/plain": [
       "(352, 352)"
      ]
     },
     "execution_count": 70,
     "metadata": {},
     "output_type": "execute_result"
    }
   ],
   "source": [
    "state.coef.shape"
   ]
  },
  {
   "cell_type": "code",
   "execution_count": 15,
   "metadata": {},
   "outputs": [
    {
     "data": {
      "text/plain": [
       "<HDF5 file \"lattice14.hdf5\" (mode r+)>"
      ]
     },
     "execution_count": 15,
     "metadata": {},
     "output_type": "execute_result"
    }
   ],
   "source": [
    "s.saver.file"
   ]
  },
  {
   "cell_type": "code",
   "execution_count": 7,
   "metadata": {},
   "outputs": [],
   "source": [
    "e1 = []\n",
    "for i in range(8):\n",
    "    for en in S[3].get_operator('H_ising').get_eigenvalue(S[3].get_basis(-1,i)):\n",
    "        e1.append(en)"
   ]
  },
  {
   "cell_type": "code",
   "execution_count": 5,
   "metadata": {},
   "outputs": [],
   "source": [
    "import matplotlib.pyplot as plt"
   ]
  },
  {
   "cell_type": "code",
   "execution_count": 6,
   "metadata": {},
   "outputs": [],
   "source": [
    "import numpy as np"
   ]
  },
  {
   "cell_type": "code",
   "execution_count": 38,
   "metadata": {},
   "outputs": [],
   "source": [
    "e1.sort()"
   ]
  },
  {
   "cell_type": "code",
   "execution_count": 90,
   "metadata": {},
   "outputs": [],
   "source": [
    "s = S[3]"
   ]
  },
  {
   "cell_type": "code",
   "execution_count": 97,
   "metadata": {},
   "outputs": [],
   "source": [
    "state = s.get_operator('H_ising').get_eigenstates(s.get_basis(-1,0))"
   ]
  },
  {
   "cell_type": "code",
   "execution_count": 98,
   "metadata": {},
   "outputs": [
    {
     "data": {
      "text/plain": [
       "'None' state on sector (-1, 0)\n",
       "t             : 0\n",
       "State         : [[ 1.09273094e-03+0.j -1.61493547e-03+0.j  2.95894906e-03+0.j ...\n",
       "  -1.87285903e-06+0.j  2.48161878e-07+0.j -2.57774739e-09+0.j]\n",
       " [-6.77764673e-03+0.j  9.34326876e-03+0.j -1.60090785e-02+0.j ...\n",
       "  -1.01274142e-05+0.j  1.52863681e-06+0.j -1.94691588e-08+0.j]\n",
       " [ 3.59774439e-03+0.j -5.28884984e-03+0.j  8.84869522e-03+0.j ...\n",
       "  -3.20391760e-05+0.j  5.02840405e-06+0.j -7.08521002e-08+0.j]\n",
       " ...\n",
       " [-1.31803924e-04+0.j  8.43301695e-05+0.j  5.79349781e-05+0.j ...\n",
       "   1.58898969e-01+0.j  1.55529096e-01+0.j -8.25326976e-02+0.j]\n",
       " [ 3.93718006e-05+0.j -2.24072442e-05+0.j -1.24210438e-05+0.j ...\n",
       "   4.08728648e-01+0.j  3.42797152e-01+0.j -5.11717127e-01+0.j]\n",
       " [-2.99847522e-06+0.j  1.76245430e-06+0.j  1.00668862e-06+0.j ...\n",
       "  -2.68783594e-01+0.j -4.46184650e-01+0.j -8.19196779e-01+0.j]]"
      ]
     },
     "execution_count": 98,
     "metadata": {},
     "output_type": "execute_result"
    }
   ],
   "source": [
    "state"
   ]
  },
  {
   "cell_type": "code",
   "execution_count": 99,
   "metadata": {},
   "outputs": [],
   "source": [
    "a = (s.get_operator('x_1').get_matrix(state.basis)@state.coef)"
   ]
  },
  {
   "cell_type": "code",
   "execution_count": 123,
   "metadata": {},
   "outputs": [
    {
     "data": {
      "text/plain": [
       "array([    0,     1,     3, ..., 16255, 16383, 32767])"
      ]
     },
     "execution_count": 123,
     "metadata": {},
     "output_type": "execute_result"
    }
   ],
   "source": [
    "state.basis.state"
   ]
  },
  {
   "cell_type": "code",
   "execution_count": 131,
   "metadata": {},
   "outputs": [
    {
     "data": {
      "text/plain": [
       "<xxzchain.core._main.Operator at 0x25abe489748>"
      ]
     },
     "execution_count": 131,
     "metadata": {},
     "output_type": "execute_result"
    }
   ],
   "source": [
    "s.get_operator('x_1')"
   ]
  },
  {
   "cell_type": "code",
   "execution_count": 126,
   "metadata": {},
   "outputs": [
    {
     "data": {
      "text/plain": [
       "array([[0.+0.j, 0.+0.j, 0.+0.j, ..., 0.+0.j, 0.+0.j, 0.+0.j],\n",
       "       [0.+0.j, 0.+0.j, 0.+0.j, ..., 0.+0.j, 0.+0.j, 0.+0.j],\n",
       "       [0.+0.j, 0.+0.j, 0.+0.j, ..., 0.+0.j, 0.+0.j, 0.+0.j],\n",
       "       ...,\n",
       "       [0.+0.j, 0.+0.j, 0.+0.j, ..., 0.+0.j, 0.+0.j, 0.+0.j],\n",
       "       [0.+0.j, 0.+0.j, 0.+0.j, ..., 0.+0.j, 0.+0.j, 0.+0.j],\n",
       "       [0.+0.j, 0.+0.j, 0.+0.j, ..., 0.+0.j, 0.+0.j, 0.+0.j]])"
      ]
     },
     "execution_count": 126,
     "metadata": {},
     "output_type": "execute_result"
    }
   ],
   "source": [
    "s.get_operator('x_1').get_matrix(state.basis)"
   ]
  },
  {
   "cell_type": "code",
   "execution_count": 100,
   "metadata": {},
   "outputs": [
    {
     "data": {
      "text/plain": [
       "array([[0.+0.j, 0.+0.j, 0.+0.j, ..., 0.+0.j, 0.+0.j, 0.+0.j],\n",
       "       [0.+0.j, 0.+0.j, 0.+0.j, ..., 0.+0.j, 0.+0.j, 0.+0.j],\n",
       "       [0.+0.j, 0.+0.j, 0.+0.j, ..., 0.+0.j, 0.+0.j, 0.+0.j],\n",
       "       ...,\n",
       "       [0.+0.j, 0.+0.j, 0.+0.j, ..., 0.+0.j, 0.+0.j, 0.+0.j],\n",
       "       [0.+0.j, 0.+0.j, 0.+0.j, ..., 0.+0.j, 0.+0.j, 0.+0.j],\n",
       "       [0.+0.j, 0.+0.j, 0.+0.j, ..., 0.+0.j, 0.+0.j, 0.+0.j]])"
      ]
     },
     "execution_count": 100,
     "metadata": {},
     "output_type": "execute_result"
    }
   ],
   "source": [
    "a"
   ]
  },
  {
   "cell_type": "code",
   "execution_count": 28,
   "metadata": {},
   "outputs": [
    {
     "data": {
      "text/plain": [
       "17480"
      ]
     },
     "execution_count": 28,
     "metadata": {},
     "output_type": "execute_result"
    }
   ],
   "source": [
    "len(e)"
   ]
  },
  {
   "cell_type": "code",
   "execution_count": 43,
   "metadata": {},
   "outputs": [
    {
     "data": {
      "text/plain": [
       "'N13@N00'"
      ]
     },
     "execution_count": 43,
     "metadata": {},
     "output_type": "execute_result"
    }
   ],
   "source": [
    "S[2].get_operator('nini1')._label"
   ]
  },
  {
   "cell_type": "code",
   "execution_count": 41,
   "metadata": {},
   "outputs": [
    {
     "data": {
      "text/plain": [
       "array([[0.+0.j, 0.+0.j, 0.+0.j, ..., 0.+0.j, 0.+0.j, 0.+0.j],\n",
       "       [0.+0.j, 0.+0.j, 0.+0.j, ..., 0.+0.j, 0.+0.j, 0.+0.j],\n",
       "       [0.+0.j, 0.+0.j, 0.+0.j, ..., 0.+0.j, 0.+0.j, 0.+0.j],\n",
       "       ...,\n",
       "       [0.+0.j, 0.+0.j, 0.+0.j, ..., 0.+0.j, 0.+0.j, 0.+0.j],\n",
       "       [0.+0.j, 0.+0.j, 0.+0.j, ..., 0.+0.j, 0.+0.j, 0.+0.j],\n",
       "       [0.+0.j, 0.+0.j, 0.+0.j, ..., 0.+0.j, 0.+0.j, 0.+0.j]])"
      ]
     },
     "execution_count": 41,
     "metadata": {},
     "output_type": "execute_result"
    }
   ],
   "source": [
    "S[2].get_operator('nini1').get_matrix(S[2].get_basis(int(S[2].size/2),0))"
   ]
  },
  {
   "cell_type": "code",
   "execution_count": 29,
   "metadata": {},
   "outputs": [
    {
     "data": {
      "text/plain": [
       "(17480,)"
      ]
     },
     "execution_count": 29,
     "metadata": {},
     "output_type": "execute_result"
    }
   ],
   "source": [
    "s.get_data('ex_x1').shape"
   ]
  },
  {
   "cell_type": "code",
   "execution_count": 127,
   "metadata": {},
   "outputs": [
    {
     "name": "stderr",
     "output_type": "stream",
     "text": [
      "C:\\Users\\jeong\\Anaconda3\\lib\\site-packages\\ipykernel_launcher.py:12: ComplexWarning: Casting complex values to real discards the imaginary part\n",
      "  if sys.path[0] == '':\n"
     ]
    },
    {
     "data": {
      "image/png": "[encoded data removed]",
      "text/plain": [
       "<Figure size 432x288 with 1 Axes>"
      ]
     },
     "metadata": {
      "needs_background": "light"
     },
     "output_type": "display_data"
    }
   ],
   "source": [
    "for i in [3,5]:\n",
    "    s = S[i]\n",
    "    e = []\n",
    "    for i in range(int((s.size+1)/2)):\n",
    "        for en in s.get_operator('H_ising').get_eigenvalue(s.get_basis(-1,i)):\n",
    "            e.append(en)\n",
    "    e = np.array(e)\n",
    "    e_x  = np.zeros([e.shape[0]], dtype = [('e','f8'),('x1','f8')])\n",
    "    ex_x1 = s.get_data('ex_x')\n",
    "    for i in range(e.shape[0]):\n",
    "        e_x[i]['e'] = e[i]\n",
    "        e_x[i]['x1'] = ex_x1[i]\n",
    "    #np.sort(e_x)\n",
    "\n",
    "\n",
    "    sorted1 = np.sort(e_x)\n",
    "\n",
    "    rn = sorted1[int(sorted1.shape[0]/4):int(sorted1.shape[0]*3/4)].T\n",
    "\n",
    "    plt.plot(rn['e']/s.size,rn['x1']/s.size, 'x-',linewidth= 0.5, markersize= 3, alpha = 0.5, label = 'L = {}'.format(s.size))\n",
    "plt.ylim([-0.2,0.2])\n",
    "plt.legend()\n",
    "plt.savefig('fig1a.png')"
   ]
  },
  {
   "cell_type": "code",
   "execution_count": 16,
   "metadata": {},
   "outputs": [
    {
     "name": "stderr",
     "output_type": "stream",
     "text": [
      "C:\\Users\\jeong\\Anaconda3\\lib\\site-packages\\ipykernel_launcher.py:11: ComplexWarning: Casting complex values to real discards the imaginary part\n",
      "  # This is added back by InteractiveShellApp.init_path()\n"
     ]
    }
   ],
   "source": [
    "s = S[3]\n",
    "e = []\n",
    "for i in range(int((s.size+1)/2)):\n",
    "    for en in s.get_operator('H_ising').get_eigenvalue(s.get_basis(-1,i)):\n",
    "        e.append(en)\n",
    "e = np.array(e)/15\n",
    "e_x  = np.zeros([e.shape[0]], dtype = [('e','f8'),('x1','f8')])\n",
    "ex_x1 = s.get_data('ex_x1')\n",
    "for i in range(e.shape[0]):\n",
    "    e_x[i]['e'] = e[i]\n",
    "    e_x[i]['x1'] = ex_x1[i]\n",
    "#np.sort(e_x)\n"
   ]
  },
  {
   "cell_type": "code",
   "execution_count": 17,
   "metadata": {},
   "outputs": [],
   "source": [
    "sorted1 = np.sort(e_x)"
   ]
  },
  {
   "cell_type": "code",
   "execution_count": 35,
   "metadata": {},
   "outputs": [
    {
     "data": {
      "text/plain": [
       "array([0.+0.j, 0.+0.j, 0.+0.j, ..., 0.+0.j, 0.+0.j, 0.+0.j])"
      ]
     },
     "execution_count": 35,
     "metadata": {},
     "output_type": "execute_result"
    }
   ],
   "source": [
    "S[8].get_data('ex_nini1')"
   ]
  },
  {
   "cell_type": "code",
   "execution_count": 128,
   "metadata": {},
   "outputs": [
    {
     "name": "stderr",
     "output_type": "stream",
     "text": [
      "C:\\Users\\jeong\\Anaconda3\\lib\\site-packages\\ipykernel_launcher.py:12: ComplexWarning: Casting complex values to real discards the imaginary part\n",
      "  if sys.path[0] == '':\n"
     ]
    },
    {
     "data": {
      "image/png": "[encoded data removed]",
      "text/plain": [
       "<Figure size 432x288 with 1 Axes>"
      ]
     },
     "metadata": {
      "needs_background": "light"
     },
     "output_type": "display_data"
    }
   ],
   "source": [
    "for i in [6,8]:\n",
    "    s = S[i]\n",
    "    e = []\n",
    "    for i in range(int((s.size)/2)):\n",
    "        for en in s.get_operator('H_nnn').get_eigenvalue(s.get_basis(int(s.size/2),i)):\n",
    "            e.append(en)\n",
    "    e = np.array(e)\n",
    "    e_x  = np.zeros([e.shape[0]], dtype = [('e','f8'),('x1','f8')])\n",
    "    ex_x1 = s.get_data('ex_nini1')\n",
    "    for i in range(e.shape[0]):\n",
    "        e_x[i]['e'] = e[i]\n",
    "        e_x[i]['x1'] = ex_x1[i]\n",
    "    #np.sort(e_x)\n",
    "\n",
    "\n",
    "    sorted1 = np.sort(e_x)\n",
    "\n",
    "    rn = sorted1[int(sorted1.shape[0]*30/100):int(sorted1.shape[0]*80/100)]\n",
    "\n",
    "    plt.plot(rn['e']/s.size,rn['x1']/s.size, 'x-',linewidth= 0.5, markersize= 3,alpha = 0.5, label= 'L={}'.format(s.size))\n",
    "plt.ylim([0.195,0.28])\n",
    "plt.yticks([0.21,0.23,0.25,0.27])\n",
    "plt.legend()\n",
    "plt.savefig('fig1b.png')"
   ]
  },
  {
   "cell_type": "code",
   "execution_count": 91,
   "metadata": {},
   "outputs": [
    {
     "name": "stderr",
     "output_type": "stream",
     "text": [
      "C:\\Users\\jeong\\Anaconda3\\lib\\site-packages\\ipykernel_launcher.py:12: ComplexWarning: Casting complex values to real discards the imaginary part\n",
      "  if sys.path[0] == '':\n"
     ]
    },
    {
     "data": {
      "image/png": "[encoded data removed]",
      "text/plain": [
       "<Figure size 432x288 with 1 Axes>"
      ]
     },
     "metadata": {
      "needs_background": "light"
     },
     "output_type": "display_data"
    }
   ],
   "source": [
    "for s in S:\n",
    "    if s.size in [15,17]:\n",
    "        e = []\n",
    "        for i in range(int((s.size+1)/2)):\n",
    "            for en in s.get_operator('H_ising').get_eigenvalue(s.get_basis(-1,i)):\n",
    "                e.append(en)\n",
    "        e = np.array(e)\n",
    "        e_x  = np.zeros([e.shape[0]], dtype = [('e','f8'),('x1','f8')])\n",
    "        ex_x1 = s.get_data('ex_x')\n",
    "        for i in range(e.shape[0]):\n",
    "            e_x[i]['e'] = e[i]\n",
    "            e_x[i]['x1'] = ex_x1[i]\n",
    "            #np.sort(e_x)\n",
    "\n",
    "\n",
    "        sorted1 = np.sort(e_x)\n",
    "\n",
    "        rn = sorted1[int(sorted1.shape[0]*30/100):int(sorted1.shape[0]*80/100)]\n",
    "        r = np.abs(rn['x1'] - np.roll(rn, 1)['x1'])\n",
    "        hist, bins, a=plt.hist(r,bins=60, normed=True)\n",
    "        plt.plot(bins[:-1], hist)"
   ]
  },
  {
   "cell_type": "code",
   "execution_count": 136,
   "metadata": {},
   "outputs": [
    {
     "name": "stderr",
     "output_type": "stream",
     "text": [
      "C:\\Users\\jeong\\Anaconda3\\lib\\site-packages\\ipykernel_launcher.py:13: ComplexWarning: Casting complex values to real discards the imaginary part\n",
      "  del sys.path[0]\n"
     ]
    }
   ],
   "source": [
    "av, o1,o2,o4,o8 = [],[],[],[],[]\n",
    "for s in S:\n",
    "    if s.size in [16, 18,20]:\n",
    "        e = []\n",
    "        for i in range(int((s.size)/2)):\n",
    "            for en in s.get_operator('H_nnn').get_eigenvalue(s.get_basis(int(s.size/2),i)):\n",
    "                e.append(en)\n",
    "        e = np.array(e)\n",
    "        e_x  = np.zeros([e.shape[0]], dtype = [('e','f8'),('x1','f8')])\n",
    "        ex_x1 = s.get_data('ex_nini1')\n",
    "        for i in range(e.shape[0]):\n",
    "            e_x[i]['e'] = e[i]\n",
    "            e_x[i]['x1'] = ex_x1[i]/s.size\n",
    "        #np.sort(e_x)\n",
    "\n",
    "\n",
    "        sorted1 = np.sort(e_x)\n",
    "        \n",
    "        rn = sorted1[int(sorted1.shape[0]*30/100):int(sorted1.shape[0]*80/100)]\n",
    "        r = np.abs(rn['x1'] - np.roll(rn, 1)['x1'])[1:]\n",
    "        av.append(np.average(r))\n",
    "        r.sort()\n",
    "        o1.append(r[-1])\n",
    "        o2.append(r[-2])\n",
    "        o4.append(r[-4])\n",
    "        o8.append(r[-8])\n",
    "        #hist, bins, a=plt.hist(r,range=[0,0.02],bins=50, normed=True)\n",
    "        #plt.plot(bins[:-1], hist)"
   ]
  },
  {
   "cell_type": "code",
   "execution_count": 137,
   "metadata": {},
   "outputs": [
    {
     "data": {
      "image/png": "[encoded data removed]",
      "text/plain": [
       "<Figure size 432x288 with 1 Axes>"
      ]
     },
     "metadata": {
      "needs_background": "light"
     },
     "output_type": "display_data"
    }
   ],
   "source": [
    "x= np.arange(16,21,2)\n",
    "plt.plot(x,av,'x-')\n",
    "plt.plot(x,o1,'x-')\n",
    "plt.plot(x,o2,'x-')\n",
    "plt.plot(x,o4,'x-')\n",
    "plt.plot(x,o8,'x-')\n",
    "plt.yscale('log')\n"
   ]
  },
  {
   "cell_type": "code",
   "execution_count": 131,
   "metadata": {},
   "outputs": [
    {
     "name": "stderr",
     "output_type": "stream",
     "text": [
      "C:\\Users\\jeong\\Anaconda3\\lib\\site-packages\\ipykernel_launcher.py:13: ComplexWarning: Casting complex values to real discards the imaginary part\n",
      "  del sys.path[0]\n"
     ]
    }
   ],
   "source": [
    "av, o1,o2,o4,o8 = [],[],[],[],[]\n",
    "for s in S:\n",
    "    if s.size in [14,15,16,17,18]:\n",
    "        e = []\n",
    "        for i in range(int((s.size+1)/2)):\n",
    "            for en in s.get_operator('H_ising').get_eigenvalue(s.get_basis(-1,i)):\n",
    "                e.append(en)\n",
    "        e = np.array(e)\n",
    "        e_x  = np.zeros([e.shape[0]], dtype = [('e','f8'),('x1','f8')])\n",
    "        ex_x1 = s.get_data('ex_x')\n",
    "        for i in range(e.shape[0]):\n",
    "            e_x[i]['e'] = e[i]\n",
    "            e_x[i]['x1'] = ex_x1[i]/s.size\n",
    "        #np.sort(e_x)\n",
    "\n",
    "\n",
    "        sorted1 = np.sort(e_x)\n",
    "        \n",
    "        rn = sorted1#[int(sorted1.shape[0]*30/100):int(sorted1.shape[0]*80/100)]\n",
    "        r = np.abs(rn['x1'] - np.roll(rn, 1)['x1'])[1:]\n",
    "        av.append(np.average(r))\n",
    "        r.sort()\n",
    "        o1.append(r[-1])\n",
    "        o2.append(r[-2])\n",
    "        o4.append(r[-4])\n",
    "        o8.append(r[-8])\n",
    "        #hist, bins, a=plt.hist(r,range=[0,0.02],bins=50, normed=True)\n",
    "        #plt.plot(bins[:-1], hist)"
   ]
  },
  {
   "cell_type": "code",
   "execution_count": 132,
   "metadata": {},
   "outputs": [
    {
     "data": {
      "image/png": "[encoded data removed]",
      "text/plain": [
       "<Figure size 432x288 with 1 Axes>"
      ]
     },
     "metadata": {
      "needs_background": "light"
     },
     "output_type": "display_data"
    }
   ],
   "source": [
    "x= np.arange(14,19)\n",
    "plt.plot(x,av,'x-')\n",
    "plt.plot(x,o1,'x-')\n",
    "plt.plot(x,o2,'x-')\n",
    "plt.plot(x,o4,'x-')\n",
    "plt.plot(x,o8,'x-')\n",
    "plt.yscale('log')\n"
   ]
  },
  {
   "cell_type": "code",
   "execution_count": 61,
   "metadata": {},
   "outputs": [
    {
     "name": "stderr",
     "output_type": "stream",
     "text": [
      "C:\\Users\\jeong\\Anaconda3\\lib\\site-packages\\ipykernel_launcher.py:11: ComplexWarning: Casting complex values to real discards the imaginary part\n",
      "  # This is added back by InteractiveShellApp.init_path()\n"
     ]
    },
    {
     "data": {
      "text/plain": [
       "([<matplotlib.axis.YTick at 0x27c209d3470>,\n",
       "  <matplotlib.axis.YTick at 0x27c209d1da0>,\n",
       "  <matplotlib.axis.YTick at 0x27c0e989dd8>,\n",
       "  <matplotlib.axis.YTick at 0x27c673b77f0>],\n",
       " <a list of 4 Text yticklabel objects>)"
      ]
     },
     "execution_count": 61,
     "metadata": {},
     "output_type": "execute_result"
    },
    {
     "data": {
      "image/png": "[encoded data removed]",
      "text/plain": [
       "<Figure size 432x288 with 1 Axes>"
      ]
     },
     "metadata": {
      "needs_background": "light"
     },
     "output_type": "display_data"
    }
   ],
   "source": [
    "s = S[8]\n",
    "e = []\n",
    "for i in range(int((s.size)/2)):\n",
    "    for en in s.get_operator('H_nnn').get_eigenvalue(s.get_basis(int(s.size/2),i)):\n",
    "        e.append(en)\n",
    "e = np.array(e)\n",
    "e_x  = np.zeros([e.shape[0]], dtype = [('e','f8'),('x1','f8')])\n",
    "ex_x1 = s.get_data('ex_nini1')\n",
    "for i in range(e.shape[0]):\n",
    "    e_x[i]['e'] = e[i]\n",
    "    e_x[i]['x1'] = ex_x1[i]\n",
    "#np.sort(e_x)\n",
    "\n",
    "\n",
    "sorted1 = np.sort(e_x)\n",
    "\n",
    "rn = sorted1[int(sorted1.shape[0]*30/100):int(sorted1.shape[0]*80/100)]\n",
    "\n",
    "plt.plot(rn['e']/20,rn['x1']/20, 'x-',linewidth= 0.1, markersize= 1)\n",
    "plt.ylim([0.195,0.28])\n",
    "plt.yticks([0.21,0.23,0.25,0.27])"
   ]
  },
  {
   "cell_type": "code",
   "execution_count": 25,
   "metadata": {},
   "outputs": [
    {
     "ename": "KeyError",
     "evalue": "'ex_x1'",
     "output_type": "error",
     "traceback": [
      "\u001b[1;31m---------------------------------------------------------------------------\u001b[0m",
      "\u001b[1;31mKeyError\u001b[0m                                  Traceback (most recent call last)",
      "\u001b[1;32m<ipython-input-25-4872ac1bed20>\u001b[0m in \u001b[0;36m<module>\u001b[1;34m\u001b[0m\n\u001b[0;32m      6\u001b[0m             \u001b[1;32mfor\u001b[0m \u001b[0men\u001b[0m \u001b[1;32min\u001b[0m \u001b[0ms\u001b[0m\u001b[1;33m.\u001b[0m\u001b[0mget_operator\u001b[0m\u001b[1;33m(\u001b[0m\u001b[1;34m'H_ising'\u001b[0m\u001b[1;33m)\u001b[0m\u001b[1;33m.\u001b[0m\u001b[0mget_eigenvalue\u001b[0m\u001b[1;33m(\u001b[0m\u001b[0ms\u001b[0m\u001b[1;33m.\u001b[0m\u001b[0mget_basis\u001b[0m\u001b[1;33m(\u001b[0m\u001b[1;33m-\u001b[0m\u001b[1;36m1\u001b[0m\u001b[1;33m,\u001b[0m\u001b[0mi\u001b[0m\u001b[1;33m)\u001b[0m\u001b[1;33m)\u001b[0m\u001b[1;33m:\u001b[0m\u001b[1;33m\u001b[0m\u001b[1;33m\u001b[0m\u001b[0m\n\u001b[0;32m      7\u001b[0m                 \u001b[0me\u001b[0m\u001b[1;33m.\u001b[0m\u001b[0mappend\u001b[0m\u001b[1;33m(\u001b[0m\u001b[0men\u001b[0m\u001b[1;33m)\u001b[0m\u001b[1;33m\u001b[0m\u001b[1;33m\u001b[0m\u001b[0m\n\u001b[1;32m----> 8\u001b[1;33m         \u001b[0mplt\u001b[0m\u001b[1;33m.\u001b[0m\u001b[0mscatter\u001b[0m\u001b[1;33m(\u001b[0m\u001b[0mx\u001b[0m \u001b[1;33m=\u001b[0m \u001b[0men\u001b[0m\u001b[1;33m,\u001b[0m \u001b[0my\u001b[0m \u001b[1;33m=\u001b[0m \u001b[0ms\u001b[0m\u001b[1;33m.\u001b[0m\u001b[0mget_data\u001b[0m\u001b[1;33m(\u001b[0m\u001b[1;34m'ex_x1'\u001b[0m\u001b[1;33m)\u001b[0m\u001b[1;33m)\u001b[0m\u001b[1;33m\u001b[0m\u001b[1;33m\u001b[0m\u001b[0m\n\u001b[0m",
      "\u001b[1;32m~\\master\\xxzchain\\xxzchain\\core\\_main.py\u001b[0m in \u001b[0;36mget_data\u001b[1;34m(self, key)\u001b[0m\n\u001b[0;32m    541\u001b[0m             \u001b[1;32mreturn\u001b[0m \u001b[0mself\u001b[0m\u001b[1;33m.\u001b[0m\u001b[0msaver\u001b[0m\u001b[1;33m.\u001b[0m\u001b[0mget\u001b[0m\u001b[1;33m(\u001b[0m\u001b[1;34m'data/'\u001b[0m\u001b[1;33m+\u001b[0m\u001b[0mstr\u001b[0m\u001b[1;33m(\u001b[0m\u001b[0mkey\u001b[0m\u001b[1;33m)\u001b[0m\u001b[1;33m)\u001b[0m\u001b[1;33m[\u001b[0m\u001b[1;33m:\u001b[0m\u001b[1;33m]\u001b[0m\u001b[1;33m\u001b[0m\u001b[1;33m\u001b[0m\u001b[0m\n\u001b[0;32m    542\u001b[0m         \u001b[1;32melse\u001b[0m\u001b[1;33m:\u001b[0m\u001b[1;33m\u001b[0m\u001b[1;33m\u001b[0m\u001b[0m\n\u001b[1;32m--> 543\u001b[1;33m             \u001b[1;32mraise\u001b[0m \u001b[0mKeyError\u001b[0m\u001b[1;33m(\u001b[0m\u001b[0mkey\u001b[0m\u001b[1;33m)\u001b[0m\u001b[1;33m\u001b[0m\u001b[1;33m\u001b[0m\u001b[0m\n\u001b[0m\u001b[0;32m    544\u001b[0m \u001b[1;33m\u001b[0m\u001b[0m\n\u001b[0;32m    545\u001b[0m     \u001b[1;32mdef\u001b[0m \u001b[0mget_function\u001b[0m\u001b[1;33m(\u001b[0m\u001b[0mself\u001b[0m\u001b[1;33m,\u001b[0m \u001b[0mkey\u001b[0m\u001b[1;33m)\u001b[0m\u001b[1;33m:\u001b[0m\u001b[1;33m\u001b[0m\u001b[1;33m\u001b[0m\u001b[0m\n",
      "\u001b[1;31mKeyError\u001b[0m: 'ex_x1'"
     ]
    }
   ],
   "source": [
    "for s in S:\n",
    "    if s.size%2 == 1 and s.size<19:\n",
    "        e = []\n",
    "        for i in range(int((s.size+1)/2)):\n",
    "            for en in s.get_operator('H_ising').get_eigenvalue(s.get_basis(-1,i)):\n",
    "                e.append(en)\n",
    "        plt.scatter(x = en, y = s.get_data('ex_x1'))"
   ]
  },
  {
   "cell_type": "code",
   "execution_count": 20,
   "metadata": {},
   "outputs": [
    {
     "name": "stderr",
     "output_type": "stream",
     "text": [
      "C:\\Users\\jeong\\Anaconda3\\lib\\site-packages\\numpy\\core\\numeric.py:501: ComplexWarning: Casting complex values to real discards the imaginary part\n",
      "  return array(a, dtype, copy=False, order=order)\n"
     ]
    },
    {
     "data": {
      "text/plain": [
       "[<matplotlib.lines.Line2D at 0x1ff620d77b8>]"
      ]
     },
     "execution_count": 20,
     "metadata": {},
     "output_type": "execute_result"
    },
    {
     "data": {
      "image/png": "[encoded data removed]",
      "text/plain": [
       "<Figure size 432x288 with 1 Axes>"
      ]
     },
     "metadata": {
      "needs_background": "light"
     },
     "output_type": "display_data"
    }
   ],
   "source": [
    "plt.plot(S[4].get_data('ex_n1n2'))"
   ]
  },
  {
   "cell_type": "code",
   "execution_count": 46,
   "metadata": {},
   "outputs": [
    {
     "data": {
      "text/plain": [
       "[<matplotlib.lines.Line2D at 0x25aa595a9b0>]"
      ]
     },
     "execution_count": 46,
     "metadata": {},
     "output_type": "execute_result"
    },
    {
     "data": {
      "image/png": "[encoded data removed]",
      "text/plain": [
       "<Figure size 432x288 with 1 Axes>"
      ]
     },
     "metadata": {
      "needs_background": "light"
     },
     "output_type": "display_data"
    }
   ],
   "source": [
    "plt.plot(np.array(e1)[int(len(e1)/4):int(len(e1)/4*3)]/15)"
   ]
  },
  {
   "cell_type": "code",
   "execution_count": 41,
   "metadata": {},
   "outputs": [],
   "source": [
    "e=[]\n",
    "for i in range(10):\n",
    "    for en in S[6].get_operator('H_nnn').get_eigenvalue(S[6].get_basis(9,i)):\n",
    "        e.append(en)"
   ]
  },
  {
   "cell_type": "code",
   "execution_count": 42,
   "metadata": {},
   "outputs": [],
   "source": [
    "e.sort()"
   ]
  },
  {
   "cell_type": "code",
   "execution_count": 48,
   "metadata": {},
   "outputs": [
    {
     "data": {
      "text/plain": [
       "[<matplotlib.lines.Line2D at 0x25a90e9cba8>]"
      ]
     },
     "execution_count": 48,
     "metadata": {},
     "output_type": "execute_result"
    },
    {
     "data": {
      "image/png": "[encoded data removed]",
      "text/plain": [
       "<Figure size 432x288 with 1 Axes>"
      ]
     },
     "metadata": {
      "needs_background": "light"
     },
     "output_type": "display_data"
    }
   ],
   "source": [
    "plt.plot(np.array(e)/21)"
   ]
  },
  {
   "cell_type": "code",
   "execution_count": 50,
   "metadata": {},
   "outputs": [
    {
     "data": {
      "text/plain": [
       "[<matplotlib.lines.Line2D at 0x25a90f5aba8>]"
      ]
     },
     "execution_count": 50,
     "metadata": {},
     "output_type": "execute_result"
    },
    {
     "data": {
      "image/png": "[encoded data removed]",
      "text/plain": [
       "<Figure size 432x288 with 1 Axes>"
      ]
     },
     "metadata": {
      "needs_background": "light"
     },
     "output_type": "display_data"
    }
   ],
   "source": [
    "plt.plot(np.array(e)[int(len(e)/100*35):int(len(e)*85/100)]/18)"
   ]
  },
  {
   "cell_type": "code",
   "execution_count": 58,
   "metadata": {},
   "outputs": [
    {
     "data": {
      "text/plain": [
       "(array([ 87.,  85.,  90.,  86.,  90.,  95.,  94.,  88.,  94.,  99., 100.,\n",
       "         98.,  97., 102., 100.,  97., 106., 107.,  93.,  94., 105., 102.,\n",
       "        101., 100., 104., 110., 100., 101., 100., 102., 100.,  95., 110.,\n",
       "        106., 108., 106., 101., 101., 105., 108., 107., 103., 101., 106.,\n",
       "        110., 111., 100., 107., 101., 105., 104.,  97., 105., 105., 102.,\n",
       "        100.,  93., 106.,  97.,  94.,  98.,  98., 101.,  94., 101., 102.,\n",
       "        103.,  90.,  92.,  98.,  93.,  94.,  96.,  90.,  95.,  86.,  80.,\n",
       "         82.,  87.,  91.,  80.,  92.,  83.,  87.,  82.,  92.,  77.,  87.,\n",
       "         85.,  83.]),\n",
       " array([-0.28484307, -0.27874527, -0.27264748, -0.26654968, -0.26045189,\n",
       "        -0.25435409, -0.2482563 , -0.2421585 , -0.23606071, -0.22996291,\n",
       "        -0.22386512, -0.21776732, -0.21166953, -0.20557173, -0.19947394,\n",
       "        -0.19337614, -0.18727835, -0.18118055, -0.17508276, -0.16898496,\n",
       "        -0.16288717, -0.15678937, -0.15069158, -0.14459378, -0.13849599,\n",
       "        -0.13239819, -0.1263004 , -0.1202026 , -0.11410481, -0.10800701,\n",
       "        -0.10190922, -0.09581142, -0.08971363, -0.08361583, -0.07751804,\n",
       "        -0.07142024, -0.06532245, -0.05922465, -0.05312686, -0.04702906,\n",
       "        -0.04093127, -0.03483347, -0.02873568, -0.02263788, -0.01654009,\n",
       "        -0.01044229, -0.0043445 ,  0.0017533 ,  0.00785109,  0.01394888,\n",
       "         0.02004668,  0.02614447,  0.03224227,  0.03834006,  0.04443786,\n",
       "         0.05053565,  0.05663345,  0.06273124,  0.06882904,  0.07492683,\n",
       "         0.08102463,  0.08712242,  0.09322022,  0.09931801,  0.10541581,\n",
       "         0.1115136 ,  0.1176114 ,  0.12370919,  0.12980699,  0.13590478,\n",
       "         0.14200258,  0.14810037,  0.15419817,  0.16029596,  0.16639376,\n",
       "         0.17249155,  0.17858935,  0.18468714,  0.19078494,  0.19688273,\n",
       "         0.20298053,  0.20907832,  0.21517612,  0.22127391,  0.22737171,\n",
       "         0.2334695 ,  0.2395673 ,  0.24566509,  0.25176289,  0.25786068,\n",
       "         0.26395848]),\n",
       " <a list of 90 Patch objects>)"
      ]
     },
     "execution_count": 58,
     "metadata": {},
     "output_type": "execute_result"
    },
    {
     "data": {
      "image/png": "[encoded data removed]",
      "text/plain": [
       "<Figure size 432x288 with 1 Axes>"
      ]
     },
     "metadata": {
      "needs_background": "light"
     },
     "output_type": "display_data"
    }
   ],
   "source": [
    "plt.hist(np.array(e1)[int(len(e1)/4):int(len(e1)/4*3)]/15, bins=90)"
   ]
  },
  {
   "cell_type": "code",
   "execution_count": 56,
   "metadata": {},
   "outputs": [
    {
     "data": {
      "text/plain": [
       "(array([131., 130., 135., 139., 135., 136., 141., 141., 140., 142., 147.,\n",
       "        147., 151., 143., 149., 147., 153., 149., 149., 150., 149., 154.,\n",
       "        153., 152., 157., 150., 153., 157., 156., 156., 156., 157., 159.,\n",
       "        157., 161., 156., 157., 163., 158., 164., 158., 165., 163., 160.,\n",
       "        160., 163., 162., 164., 162., 166., 161., 162., 166., 164., 161.,\n",
       "        163., 163., 164., 161., 161., 164., 163., 161., 157., 159., 153.,\n",
       "        157., 158., 154., 150., 152., 152., 149., 149., 143., 148., 140.,\n",
       "        137., 137., 134., 132., 135., 129., 132., 125., 123., 123., 123.,\n",
       "        123., 116.]),\n",
       " array([ 6.1066997 ,  6.17938392,  6.25206813,  6.32475235,  6.39743657,\n",
       "         6.47012079,  6.542805  ,  6.61548922,  6.68817344,  6.76085766,\n",
       "         6.83354187,  6.90622609,  6.97891031,  7.05159453,  7.12427874,\n",
       "         7.19696296,  7.26964718,  7.3423314 ,  7.41501561,  7.48769983,\n",
       "         7.56038405,  7.63306826,  7.70575248,  7.7784367 ,  7.85112092,\n",
       "         7.92380513,  7.99648935,  8.06917357,  8.14185779,  8.214542  ,\n",
       "         8.28722622,  8.35991044,  8.43259466,  8.50527887,  8.57796309,\n",
       "         8.65064731,  8.72333153,  8.79601574,  8.86869996,  8.94138418,\n",
       "         9.0140684 ,  9.08675261,  9.15943683,  9.23212105,  9.30480527,\n",
       "         9.37748948,  9.4501737 ,  9.52285792,  9.59554214,  9.66822635,\n",
       "         9.74091057,  9.81359479,  9.88627901,  9.95896322, 10.03164744,\n",
       "        10.10433166, 10.17701588, 10.24970009, 10.32238431, 10.39506853,\n",
       "        10.46775274, 10.54043696, 10.61312118, 10.6858054 , 10.75848961,\n",
       "        10.83117383, 10.90385805, 10.97654227, 11.04922648, 11.1219107 ,\n",
       "        11.19459492, 11.26727914, 11.33996335, 11.41264757, 11.48533179,\n",
       "        11.55801601, 11.63070022, 11.70338444, 11.77606866, 11.84875288,\n",
       "        11.92143709, 11.99412131, 12.06680553, 12.13948975, 12.21217396,\n",
       "        12.28485818, 12.3575424 , 12.43022662, 12.50291083, 12.57559505,\n",
       "        12.64827927]),\n",
       " <a list of 90 Patch objects>)"
      ]
     },
     "execution_count": 56,
     "metadata": {},
     "output_type": "execute_result"
    },
    {
     "data": {
      "image/png": "[encoded data removed]",
      "text/plain": [
       "<Figure size 432x288 with 1 Axes>"
      ]
     },
     "metadata": {
      "needs_background": "light"
     },
     "output_type": "display_data"
    }
   ],
   "source": [
    "plt.hist(np.array(e)[int(len(e)/100*35):int(len(e)*85/100)],bins=90)"
   ]
  },
  {
   "cell_type": "code",
   "execution_count": 53,
   "metadata": {},
   "outputs": [
    {
     "data": {
      "text/plain": [
       "0.7026821815438374"
      ]
     },
     "execution_count": 53,
     "metadata": {},
     "output_type": "execute_result"
    }
   ],
   "source": [
    "np.array(e)[int(len(e)/100*35):int(len(e)*85/100)].max()/18"
   ]
  },
  {
   "cell_type": "code",
   "execution_count": null,
   "metadata": {},
   "outputs": [],
   "source": [
    "for s in S:\n",
    "    target_basis = s.get_basis(int(s.size/2))"
   ]
  },
  {
   "cell_type": "code",
   "execution_count": 34,
   "metadata": {},
   "outputs": [
    {
     "data": {
      "text/plain": [
       "-38.94315071835183"
      ]
     },
     "execution_count": 34,
     "metadata": {},
     "output_type": "execute_result"
    }
   ],
   "source": [
    "6000*(np.power(7/2/2.3e3,2))**(1/4)-273"
   ]
  },
  {
   "cell_type": "code",
   "execution_count": 32,
   "metadata": {},
   "outputs": [
    {
     "data": {
      "text/plain": [
       "230000000.0"
      ]
     },
     "execution_count": 32,
     "metadata": {},
     "output_type": "execute_result"
    }
   ],
   "source": [
    "2.3e8"
   ]
  },
  {
   "cell_type": "code",
   "execution_count": null,
   "metadata": {},
   "outputs": [],
   "source": []
  }
 ],
 "metadata": {
  "kernelspec": {
   "display_name": "Python 3",
   "language": "python",
   "name": "python3"
  },
  "language_info": {
   "codemirror_mode": {
    "name": "ipython",
    "version": 3
   },
   "file_extension": ".py",
   "mimetype": "text/x-python",
   "name": "python",
   "nbconvert_exporter": "python",
   "pygments_lexer": "ipython3",
   "version": "3.7.1"
  }
 },
 "nbformat": 4,
 "nbformat_minor": 2
}
