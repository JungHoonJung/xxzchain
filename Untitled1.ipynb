{
 "cells": [
  {
   "cell_type": "code",
   "execution_count": 1,
   "metadata": {},
   "outputs": [],
   "source": [
    "import xxzchain as xxz"
   ]
  },
  {
   "cell_type": "code",
   "execution_count": 2,
   "metadata": {},
   "outputs": [],
   "source": [
    "import numpy as np"
   ]
  },
  {
   "cell_type": "code",
   "execution_count": 3,
   "metadata": {},
   "outputs": [],
   "source": [
    "import time"
   ]
  },
  {
   "cell_type": "code",
   "execution_count": 3,
   "metadata": {},
   "outputs": [
    {
     "name": "stdout",
     "output_type": "stream",
     "text": [
      "Current system loaded by \"C:\\Users\\jeong\\master\\xxzchain\\test\\lattice21.hdf5\"\n",
      "Hardcore boson system\n",
      "Name         : lattice21\n",
      "Saved path   : C:\\Users\\jeong\\master\\xxzchain\\C\n",
      "System size  : 21\n",
      "\n",
      "Referenced Basis :   (None means full)\n",
      "\t|- Sector [-1 -1  0  0] \n",
      "\t-----\n",
      "\n",
      "Defined Operators :\n",
      "\t|- H_fin\n",
      "\t|- H_ini\n",
      "\t|- N\n",
      "\t|- n\n",
      "\t|- nnn\n",
      "\t-----\n",
      "\tHamiltonian  : -----\n",
      "\n",
      "Stored Data :\n",
      "\t|- Energy\n",
      "\t|- N_all\n",
      "\t|- N_all_new\n",
      "\t|- n_all\n",
      "\t-----\n",
      "\n"
     ]
    }
   ],
   "source": [
    "S = xxz.load_system('test/lattice21')"
   ]
  },
  {
   "cell_type": "code",
   "execution_count": 5,
   "metadata": {},
   "outputs": [],
   "source": [
    "full_t, N_t, k_t, srs_t = [],[],[],[]\n",
    "N_M_t, k_M_t, MMS_t =[],[],[]"
   ]
  },
  {
   "cell_type": "code",
   "execution_count": 23,
   "metadata": {},
   "outputs": [
    {
     "name": "stdout",
     "output_type": "stream",
     "text": [
      "Current system saved at \"test_data\"\n",
      "Hardcore boson system\n",
      "Name         : lattice4\n",
      "Saved path   : C:\\Users\\jeong\\master\\xxzchain\\test_data\\\n",
      "System size  : 4\n",
      "\n",
      "Referenced Basis :   (None means full)\n",
      "\t|- Sector [-1 -1  0  0] \n",
      "\t-----\n",
      "\n",
      "Defined Operators :\n",
      "\t-----\n",
      "\tHamiltonian  : -----\n",
      "\n",
      "full 16\n",
      "N 6\n",
      "k 2\n",
      "SRS 2\n",
      "Current system saved at \"test_data\"\n",
      "Hardcore boson system\n",
      "Name         : lattice6\n",
      "Saved path   : C:\\Users\\jeong\\master\\xxzchain\\test_data\\\n",
      "System size  : 6\n",
      "\n",
      "Referenced Basis :   (None means full)\n",
      "\t|- Sector [-1 -1  0  0] \n",
      "\t-----\n",
      "\n",
      "Defined Operators :\n",
      "\t-----\n",
      "\tHamiltonian  : -----\n",
      "\n",
      "full 64\n",
      "N 20\n",
      "k 4\n",
      "SRS 3\n",
      "Current system saved at \"test_data\"\n",
      "Hardcore boson system\n",
      "Name         : lattice8\n",
      "Saved path   : C:\\Users\\jeong\\master\\xxzchain\\test_data\\\n",
      "System size  : 8\n",
      "\n",
      "Referenced Basis :   (None means full)\n",
      "\t|- Sector [-1 -1  0  0] \n",
      "\t-----\n",
      "\n",
      "Defined Operators :\n",
      "\t-----\n",
      "\tHamiltonian  : -----\n",
      "\n",
      "full 256\n",
      "N 70\n",
      "k 10\n",
      "SRS 7\n",
      "Current system saved at \"test_data\"\n",
      "Hardcore boson system\n",
      "Name         : lattice10\n",
      "Saved path   : C:\\Users\\jeong\\master\\xxzchain\\test_data\\\n",
      "System size  : 10\n",
      "\n",
      "Referenced Basis :   (None means full)\n",
      "\t|- Sector [-1 -1  0  0] \n",
      "\t-----\n",
      "\n",
      "Defined Operators :\n",
      "\t-----\n",
      "\tHamiltonian  : -----\n",
      "\n",
      "full 1024\n",
      "N 252\n",
      "k 26\n",
      "SRS 13\n",
      "Current system saved at \"test_data\"\n",
      "Hardcore boson system\n",
      "Name         : lattice12\n",
      "Saved path   : C:\\Users\\jeong\\master\\xxzchain\\test_data\\\n",
      "System size  : 12\n",
      "\n",
      "Referenced Basis :   (None means full)\n",
      "\t|- Sector [-1 -1  0  0] \n",
      "\t-----\n",
      "\n",
      "Defined Operators :\n",
      "\t-----\n",
      "\tHamiltonian  : -----\n",
      "\n",
      "full 4096\n",
      "N 924\n",
      "k 80\n",
      "SRS 35\n",
      "Current system saved at \"test_data\"\n",
      "Hardcore boson system\n",
      "Name         : lattice14\n",
      "Saved path   : C:\\Users\\jeong\\master\\xxzchain\\test_data\\\n",
      "System size  : 14\n",
      "\n",
      "Referenced Basis :   (None means full)\n",
      "\t|- Sector [-1 -1  0  0] \n",
      "\t-----\n",
      "\n",
      "Defined Operators :\n",
      "\t-----\n",
      "\tHamiltonian  : -----\n",
      "\n",
      "full 16384\n",
      "N 3432\n",
      "k 246\n",
      "SRS 85\n",
      "Current system saved at \"test_data\"\n",
      "Hardcore boson system\n",
      "Name         : lattice16\n",
      "Saved path   : C:\\Users\\jeong\\master\\xxzchain\\test_data\\\n",
      "System size  : 16\n",
      "\n",
      "Referenced Basis :   (None means full)\n",
      "\t|- Sector [-1 -1  0  0] \n",
      "\t-----\n",
      "\n",
      "Defined Operators :\n",
      "\t-----\n",
      "\tHamiltonian  : -----\n",
      "\n",
      "full 65536\n",
      "N 12870\n",
      "k 810\n",
      "SRS 257\n",
      "Current system saved at \"test_data\"\n",
      "Hardcore boson system\n",
      "Name         : lattice18\n",
      "Saved path   : C:\\Users\\jeong\\master\\xxzchain\\test_data\\\n",
      "System size  : 18\n",
      "\n",
      "Referenced Basis :   (None means full)\n",
      "\t|- Sector [-1 -1  0  0] \n",
      "\t-----\n",
      "\n",
      "Defined Operators :\n",
      "\t-----\n",
      "\tHamiltonian  : -----\n",
      "\n",
      "full 262144\n",
      "N 48620\n",
      "k 2704\n",
      "SRS 765\n",
      "Current system saved at \"test_data\"\n",
      "Hardcore boson system\n",
      "Name         : lattice20\n",
      "Saved path   : C:\\Users\\jeong\\master\\xxzchain\\test_data\\\n",
      "System size  : 20\n",
      "\n",
      "Referenced Basis :   (None means full)\n",
      "\t|- Sector [-1 -1  0  0] \n",
      "\t-----\n",
      "\n",
      "Defined Operators :\n",
      "\t-----\n",
      "\tHamiltonian  : -----\n",
      "\n",
      "full 1048576\n",
      "N 184756\n",
      "k 9252\n",
      "SRS 2518\n",
      "Current system saved at \"test_data\"\n",
      "Hardcore boson system\n",
      "Name         : lattice22\n",
      "Saved path   : C:\\Users\\jeong\\master\\xxzchain\\test_data\\\n",
      "System size  : 22\n",
      "\n",
      "Referenced Basis :   (None means full)\n",
      "\t|- Sector [-1 -1  0  0] \n",
      "\t-----\n",
      "\n",
      "Defined Operators :\n",
      "\t-----\n",
      "\tHamiltonian  : -----\n",
      "\n",
      "full 4194304\n",
      "N 705432\n",
      "k 32066\n",
      "SRS 8359\n",
      "Current system saved at \"test_data\"\n",
      "Hardcore boson system\n",
      "Name         : lattice24\n",
      "Saved path   : C:\\Users\\jeong\\master\\xxzchain\\test_data\\\n",
      "System size  : 24\n",
      "\n",
      "Referenced Basis :   (None means full)\n",
      "\t|- Sector [-1 -1  0  0] \n",
      "\t-----\n",
      "\n",
      "Defined Operators :\n",
      "\t-----\n",
      "\tHamiltonian  : -----\n",
      "\n",
      "full 16777216\n",
      "N 2704156\n",
      "k 112720\n",
      "SRS 28968\n",
      "Current system saved at \"test_data\"\n",
      "Hardcore boson system\n",
      "Name         : lattice26\n",
      "Saved path   : C:\\Users\\jeong\\master\\xxzchain\\test_data\\\n",
      "System size  : 26\n",
      "\n",
      "Referenced Basis :   (None means full)\n",
      "\t|- Sector [-1 -1  0  0] \n",
      "\t-----\n",
      "\n",
      "Defined Operators :\n",
      "\t-----\n",
      "\tHamiltonian  : -----\n",
      "\n",
      "full 67108864\n",
      "N 10400600\n",
      "k 400024\n",
      "SRS 101340\n"
     ]
    }
   ],
   "source": [
    "for i in range(12):\n",
    "\n",
    "    S = xxz.System(i*2+4)\n",
    "    S.initialize('test_data',force = True)\n",
    "    H = xxz.Operator.Null(S)\n",
    "    xxz.preset(S, globals())\n",
    "    for j in S.range:\n",
    "        H+= -1*hopping.index(i,i+1)-1/4*(n_i.index(i)-1/2)@(n_i.index(i+1)-1/2)\n",
    "    H.set_name('H')\n",
    "    \n",
    "    energy = []\n",
    "    start_t = time.time()\n",
    "    #Full Hamiltonian\n",
    "    print('full',len(S.get_basis()))\n",
    "    #if i*2+4<16:\n",
    "        \n",
    "        #H.get_matrix(S.get_basis())\n",
    "        #full_t.append(time.time()-start_t)\n",
    "    \n",
    "    #Spin Number Conserving\n",
    "    print('N',len(S.get_basis(int(S.size/2))))\n",
    "    #if i*2+4<18:\n",
    "        #ch = time.time()\n",
    "        #H.get_matrix(S.get_basis(int(S.size)))\n",
    "        #N_M_t.append(time.time()-ch)\n",
    "        \n",
    "\n",
    "    #momentum conserving\n",
    "    print('k',len(S.get_basis(int(S.size/2),0)))\n",
    "    #if i*2+4<24:\n",
    "        #ch = time.time()\n",
    "        #H.get_matrix(S.get_basis(int(S.size/2),0))\n",
    "        #k_M_t.append(time.time()-ch)\n",
    "    \n",
    "    print('SRS',len(S.get_basis(int(S.size/2),0,1,1)))\n",
    "    #ch = time.time()\n",
    "    #H.get_matrix(S.get_basis(int(S.size/2),0,1,1))\n",
    "    #MMS_t.append(time.time()-ch)"
   ]
  },
  {
   "cell_type": "code",
   "execution_count": 6,
   "metadata": {},
   "outputs": [],
   "source": [
    "import matplotlib.pyplot as plt"
   ]
  },
  {
   "cell_type": "code",
   "execution_count": 4,
   "metadata": {},
   "outputs": [],
   "source": [
    "n = S.get_operator('n')"
   ]
  },
  {
   "cell_type": "code",
   "execution_count": 7,
   "metadata": {},
   "outputs": [],
   "source": [
    "k = [4+2*i for i in range(11)]"
   ]
  },
  {
   "cell_type": "code",
   "execution_count": 17,
   "metadata": {},
   "outputs": [
    {
     "data": {
      "text/plain": [
       "<matplotlib.legend.Legend at 0x2c9731ceb38>"
      ]
     },
     "execution_count": 17,
     "metadata": {},
     "output_type": "execute_result"
    },
    {
     "data": {
      "image/png": "[encoded data removed]",
      "text/plain": [
       "<Figure size 432x288 with 1 Axes>"
      ]
     },
     "metadata": {
      "needs_background": "light"
     },
     "output_type": "display_data"
    }
   ],
   "source": [
    "plotf = plt.semilogy\n",
    "plotf(k[:6],full_t,'x--', label='full')\n",
    "#plotf(k[:-4],N_t, 'o-',label='N')\n",
    "#plotf(k[:-1],k_t, 'o-',label='k')\n",
    "plotf(k[:-4],N_M_t,'x--', label='N_M')\n",
    "plotf(k[:-1],k_M_t,'x--', label='k_M')\n",
    "plotf(k,MMS_t,'x--', label='MMS')\n",
    "plotf(k,0.01*(2**(2.35*np.arange(11))),'x--', label='')\n",
    "plt.legend()"
   ]
  },
  {
   "cell_type": "code",
   "execution_count": 21,
   "metadata": {},
   "outputs": [
    {
     "data": {
      "text/plain": [
       "1.2619253204541203"
      ]
     },
     "execution_count": 21,
     "metadata": {},
     "output_type": "execute_result"
    }
   ],
   "source": [
    "np.log2(np.sqrt(full_t[1]/full_t[0]))"
   ]
  },
  {
   "cell_type": "code",
   "execution_count": 11,
   "metadata": {},
   "outputs": [
    {
     "ename": "TypeError",
     "evalue": "iteration over a 0-d array",
     "output_type": "error",
     "traceback": [
      "\u001b[1;31m---------------------------------------------------------------------------\u001b[0m",
      "\u001b[1;31mTypeError\u001b[0m                                 Traceback (most recent call last)",
      "\u001b[1;32m<ipython-input-11-a8335b8ee966>\u001b[0m in \u001b[0;36m<module>\u001b[1;34m\u001b[0m\n\u001b[1;32m----> 1\u001b[1;33m \u001b[1;32mfor\u001b[0m \u001b[0mi\u001b[0m \u001b[1;32min\u001b[0m \u001b[0mnp\u001b[0m\u001b[1;33m.\u001b[0m\u001b[0marray\u001b[0m\u001b[1;33m(\u001b[0m\u001b[1;32mNone\u001b[0m\u001b[1;33m)\u001b[0m\u001b[1;33m:\u001b[0m\u001b[1;33m\u001b[0m\u001b[1;33m\u001b[0m\u001b[0m\n\u001b[0m\u001b[0;32m      2\u001b[0m     \u001b[0mi\u001b[0m\u001b[1;33m\u001b[0m\u001b[1;33m\u001b[0m\u001b[0m\n",
      "\u001b[1;31mTypeError\u001b[0m: iteration over a 0-d array"
     ]
    }
   ],
   "source": [
    "for i in np.array(None):\n",
    "    i"
   ]
  },
  {
   "cell_type": "code",
   "execution_count": 9,
   "metadata": {},
   "outputs": [
    {
     "name": "stdout",
     "output_type": "stream",
     "text": [
      " "
     ]
    },
    {
     "data": {
      "text/plain": [
       "         29595944 function calls (28471730 primitive calls) in 21.080 seconds\n",
       "\n",
       "   Ordered by: internal time\n",
       "\n",
       "   ncalls  tottime  percall  cumtime  percall filename:lineno(function)\n",
       "   559338    3.316    0.000   12.528    0.000 _main.py:749(convert)\n",
       "        1    3.298    3.298   20.817   20.817 _main.py:1034(get_matrix)\n",
       "  2322188    2.290    0.000    2.290    0.000 {built-in method numpy.core.multiarray.array}\n",
       "  3560938    2.288    0.000    2.288    0.000 {method 'get' of 'dict' objects}\n",
       "576393/570855    1.556    0.000    5.548    0.000 function_base.py:1974(_get_ufunc_and_otypes)\n",
       "576393/17055    1.509    0.000   16.314    0.001 function_base.py:2035(_vectorize_call)\n",
       "  4885398    1.104    0.000    2.322    0.000 _main.py:1386(<lambda>)\n",
       "  2442699    0.796    0.000    0.796    0.000 _main.py:1349(annihilation)\n",
       "        1    0.695    0.695    4.164    4.164 _main.py:1170(acton)\n",
       "  2442699    0.558    0.000    2.880    0.000 _main.py:1320(wrap)\n",
       "   576393    0.472    0.000    0.472    0.000 {built-in method numpy.core.umath.frompyfunc}\n",
       "576393/17055    0.431    0.000   16.372    0.001 function_base.py:1944(__call__)\n",
       "  2442699    0.422    0.000    0.422    0.000 _main.py:1356(creation)\n",
       "   576393    0.298    0.000    0.728    0.000 function_base.py:2025(<listcomp>)\n",
       "  1118676    0.283    0.000    2.322    0.000 _main.py:721(_find)\n",
       "   576393    0.255    0.000    0.255    0.000 function_base.py:2001(<listcomp>)\n",
       "  1158324    0.227    0.000    0.872    0.000 numeric.py:433(asarray)\n",
       "   576393    0.216    0.000    0.354    0.000 {built-in method builtins.any}\n",
       "   576393    0.172    0.000    0.615    0.000 function_base.py:1996(<listcomp>)\n",
       "   576393    0.164    0.000    1.127    0.000 function_base.py:2045(<listcomp>)\n",
       "  1152786    0.138    0.000    0.138    0.000 function_base.py:1997(<genexpr>)\n",
       "   576464    0.089    0.000    0.089    0.000 {built-in method builtins.isinstance}\n",
       "        1    0.088    0.088    0.088    0.088 _main.py:817(<dictcomp>)\n",
       "   570414    0.086    0.000    0.086    0.000 _main.py:744(_period)\n",
       "        1    0.084    0.084   21.080   21.080 <string>:1(<module>)\n",
       "        1    0.084    0.084    0.084    0.084 _main.py:822(<dictcomp>)\n",
       "        1    0.054    0.054    0.054    0.054 {method 'copy' of 'numpy.ndarray' objects}\n",
       "   576393    0.052    0.000    0.052    0.000 {method 'join' of 'str' objects}\n",
       "   581993    0.043    0.000    0.043    0.000 {built-in method builtins.len}\n",
       "        4    0.006    0.001    0.006    0.002 dataset.py:399(__getitem__)\n",
       "     5538    0.005    0.000    0.043    0.000 function_base.py:2053(<listcomp>)\n",
       "     5542    0.001    0.000    0.001    0.000 {method 'items' of 'dict' objects}\n",
       "        2    0.000    0.000    0.000    0.000 {built-in method numpy.core.multiarray.zeros}\n",
       "        6    0.000    0.000    0.001    0.000 group.py:168(__getitem__)\n",
       "     6007    0.000    0.000    0.000    0.000 {method 'append' of 'list' objects}\n",
       "        1    0.000    0.000    0.178    0.178 _main.py:813(load)\n",
       "        4    0.000    0.000    0.000    0.000 dataset.py:317(__init__)\n",
       "       16    0.000    0.000    0.000    0.000 dataset.py:221(shape)\n",
       "        1    0.000    0.000    0.000    0.000 attrs.py:56(__getitem__)\n",
       "        4    0.000    0.000    0.000    0.000 {method 'reduce' of 'numpy.ufunc' objects}\n",
       "        5    0.000    0.000    0.000    0.000 base.py:80(is_empty_dataspace)\n",
       "        4    0.000    0.000    0.000    0.000 filters.py:209(get_filters)\n",
       "        1    0.000    0.000   21.080   21.080 {built-in method builtins.exec}\n",
       "        1    0.000    0.000    0.000    0.000 _main.py:629(__init__)\n",
       "        4    0.000    0.000    0.000    0.000 selections.py:147(__init__)\n",
       "        4    0.000    0.000    0.000    0.000 selections.py:250(__getitem__)\n",
       "        5    0.000    0.000    0.000    0.000 {built-in method h5py.h5t.py_create}\n",
       "        1    0.000    0.000    0.178    0.178 _main.py:467(get_basis)\n",
       "        4    0.000    0.000    0.000    0.000 fromnumeric.py:64(_wrapreduction)\n",
       "        1    0.000    0.000    0.000    0.000 _main.py:2217(__getitem__)\n",
       "        4    0.000    0.000    0.000    0.000 selections.py:429(_handle_simple)\n",
       "        4    0.000    0.000    0.000    0.000 selections.py:27(select)\n",
       "        4    0.000    0.000    0.000    0.000 selections.py:406(_expand_ellipsis)\n",
       "        7    0.000    0.000    0.000    0.000 base.py:109(_e)\n",
       "        1    0.000    0.000    0.000    0.000 base.py:262(attrs)\n",
       "        9    0.000    0.000    0.000    0.000 <frozen importlib._bootstrap>:416(parent)\n",
       "        4    0.000    0.000    0.000    0.000 selections.py:244(__init__)\n",
       "        4    0.000    0.000    0.000    0.000 fromnumeric.py:2478(prod)\n",
       "        2    0.000    0.000    0.000    0.000 group.py:189(get)\n",
       "        1    0.000    0.000    0.000    0.000 _main.py:1647(is_exist)\n",
       "        4    0.000    0.000    0.000    0.000 function_base.py:1912(__init__)\n",
       "        1    0.000    0.000    0.000    0.000 {method 'reshape' of 'numpy.ndarray' objects}\n",
       "        6    0.000    0.000    0.000    0.000 selections.py:475(_translate_slice)\n",
       "        6    0.000    0.000    0.000    0.000 base.py:269(__init__)\n",
       "       43    0.000    0.000    0.000    0.000 base.py:236(id)\n",
       "        1    0.000    0.000    0.000    0.000 <frozen importlib._bootstrap>:1009(_handle_fromlist)\n",
       "        7    0.000    0.000    0.000    0.000 {method 'encode' of 'str' objects}\n",
       "        8    0.000    0.000    0.000    0.000 {built-in method builtins.getattr}\n",
       "        4    0.000    0.000    0.000    0.000 fromnumeric.py:3163(product)\n",
       "        1    0.000    0.000    0.000    0.000 attrs.py:51(__init__)\n",
       "        4    0.000    0.000    0.000    0.000 dataset.py:418(<genexpr>)\n",
       "        4    0.000    0.000    0.000    0.000 selections.py:168(nselect)\n",
       "        6    0.000    0.000    0.000    0.000 {method 'indices' of 'slice' objects}\n",
       "        2    0.000    0.000    0.000    0.000 group.py:34(__init__)\n",
       "        4    0.000    0.000    0.000    0.000 function_base.py:241(iterable)\n",
       "        9    0.000    0.000    0.000    0.000 {method 'rpartition' of 'str' objects}\n",
       "        3    0.000    0.000    0.000    0.000 {method 'format' of 'str' objects}\n",
       "        1    0.000    0.000    0.178    0.178 _main.py:338(caution)\n",
       "        5    0.000    0.000    0.000    0.000 dataset.py:37(readtime_dtype)\n",
       "        4    0.000    0.000    0.000    0.000 {built-in method builtins.sum}\n",
       "        4    0.000    0.000    0.000    0.000 {built-in method builtins.iter}\n",
       "        8    0.000    0.000    0.000    0.000 dataset.py:419(<genexpr>)\n",
       "       20    0.000    0.000    0.000    0.000 selections.py:163(shape)\n",
       "       10    0.000    0.000    0.000    0.000 selections.py:267(<genexpr>)\n",
       "        4    0.000    0.000    0.000    0.000 selections.py:409(<genexpr>)\n",
       "        1    0.000    0.000    0.000    0.000 _main.py:1682(get)\n",
       "        2    0.000    0.000    0.000    0.000 _main.py:1671(file)\n",
       "        6    0.000    0.000    0.000    0.000 base.py:97(_lapl)\n",
       "        1    0.000    0.000    0.000    0.000 _main.py:334(valid)\n",
       "        8    0.000    0.000    0.000    0.000 selections.py:239(mshape)\n",
       "        4    0.000    0.000    0.000    0.000 selections.py:158(id)\n",
       "        2    0.000    0.000    0.000    0.000 {built-in method builtins.hasattr}\n",
       "        1    0.000    0.000    0.000    0.000 _main.py:696(state)\n",
       "        1    0.000    0.000    0.000    0.000 {method 'disable' of '_lsprof.Profiler' objects}\n",
       "        2    0.000    0.000    0.000    0.000 {method 'extend' of 'list' objects}"
      ]
     },
     "metadata": {},
     "output_type": "display_data"
    }
   ],
   "source": [
    "%prun n[0].get_matrix(S.get_basis(7,0))"
   ]
  },
  {
   "cell_type": "code",
   "execution_count": 7,
   "metadata": {},
   "outputs": [],
   "source": [
    "d = {i:i for i in np.arange(10)}"
   ]
  },
  {
   "cell_type": "code",
   "execution_count": 9,
   "metadata": {},
   "outputs": [
    {
     "name": "stdout",
     "output_type": "stream",
     "text": [
      "False\n",
      "False\n",
      "False\n",
      "False\n",
      "False\n",
      "False\n",
      "True\n",
      "True\n",
      "True\n",
      "True\n"
     ]
    }
   ],
   "source": [
    "for i in np.arange(10)>5:\n",
    "    print(i)"
   ]
  },
  {
   "cell_type": "code",
   "execution_count": 10,
   "metadata": {},
   "outputs": [],
   "source": [
    "a= np.array(list(d.items()))"
   ]
  },
  {
   "cell_type": "code",
   "execution_count": 12,
   "metadata": {},
   "outputs": [
    {
     "ename": "ValueError",
     "evalue": "too many values to unpack (expected 2)",
     "output_type": "error",
     "traceback": [
      "\u001b[1;31m---------------------------------------------------------------------------\u001b[0m",
      "\u001b[1;31mValueError\u001b[0m                                Traceback (most recent call last)",
      "\u001b[1;32m<ipython-input-12-0d31c94416ca>\u001b[0m in \u001b[0;36m<module>\u001b[1;34m\u001b[0m\n\u001b[0;32m      1\u001b[0m \u001b[1;32mfor\u001b[0m \u001b[0mi\u001b[0m \u001b[1;32min\u001b[0m \u001b[0ma\u001b[0m\u001b[1;33m.\u001b[0m\u001b[0mT\u001b[0m\u001b[1;33m:\u001b[0m\u001b[1;33m\u001b[0m\u001b[1;33m\u001b[0m\u001b[0m\n\u001b[1;32m----> 2\u001b[1;33m     \u001b[0mb\u001b[0m\u001b[1;33m,\u001b[0m\u001b[0mc\u001b[0m \u001b[1;33m=\u001b[0m \u001b[0mi\u001b[0m\u001b[1;33m\u001b[0m\u001b[1;33m\u001b[0m\u001b[0m\n\u001b[0m",
      "\u001b[1;31mValueError\u001b[0m: too many values to unpack (expected 2)"
     ]
    }
   ],
   "source": [
    "for i in a.T:\n",
    "    b,c = i"
   ]
  },
  {
   "cell_type": "code",
   "execution_count": 9,
   "metadata": {},
   "outputs": [
    {
     "data": {
      "text/plain": [
       "array([0, 1, 2, 3, 4, 5, 6, 7, 8, 9])"
      ]
     },
     "execution_count": 9,
     "metadata": {},
     "output_type": "execute_result"
    }
   ],
   "source": [
    "b"
   ]
  },
  {
   "cell_type": "code",
   "execution_count": 5,
   "metadata": {},
   "outputs": [],
   "source": [
    "import multiprocessing as mp"
   ]
  },
  {
   "cell_type": "code",
   "execution_count": 7,
   "metadata": {},
   "outputs": [],
   "source": [
    "from numba import njit, prange\n",
    "\n",
    "@njit(parallel=True)\n",
    "def prange_test(A):\n",
    "    s = 0\n",
    "    # Without \"parallel=True\" in the jit-decorator\n",
    "    # the prange statement is equivalent to range\n",
    "    for i in prange(A.shape[0]):\n",
    "        s += A[i]\n",
    "    return s"
   ]
  },
  {
   "cell_type": "code",
   "execution_count": null,
   "metadata": {},
   "outputs": [],
   "source": [
    "%%timeit \n",
    "prange_test(np.arange(1e8))"
   ]
  },
  {
   "cell_type": "code",
   "execution_count": 6,
   "metadata": {},
   "outputs": [
    {
     "ename": "AttributeError",
     "evalue": "Can't pickle local object 'Operator.index.<locals>.<lambda>'",
     "output_type": "error",
     "traceback": [
      "\u001b[1;31m---------------------------------------------------------------------------\u001b[0m",
      "\u001b[1;31mAttributeError\u001b[0m                            Traceback (most recent call last)",
      "\u001b[1;32m<ipython-input-6-a1ecd6bcb59c>\u001b[0m in \u001b[0;36m<module>\u001b[1;34m\u001b[0m\n\u001b[0;32m      1\u001b[0m \u001b[1;32mwith\u001b[0m \u001b[0mmp\u001b[0m\u001b[1;33m.\u001b[0m\u001b[0mPool\u001b[0m\u001b[1;33m(\u001b[0m\u001b[1;36m16\u001b[0m\u001b[1;33m)\u001b[0m \u001b[1;32mas\u001b[0m \u001b[0mp\u001b[0m\u001b[1;33m:\u001b[0m\u001b[1;33m\u001b[0m\u001b[1;33m\u001b[0m\u001b[0m\n\u001b[1;32m----> 2\u001b[1;33m     \u001b[0mp\u001b[0m\u001b[1;33m.\u001b[0m\u001b[0mmap\u001b[0m\u001b[1;33m(\u001b[0m\u001b[0mS\u001b[0m\u001b[1;33m.\u001b[0m\u001b[0mget_basis\u001b[0m\u001b[1;33m(\u001b[0m\u001b[1;36m7\u001b[0m\u001b[1;33m,\u001b[0m\u001b[1;36m0\u001b[0m\u001b[1;33m)\u001b[0m\u001b[1;33m.\u001b[0m\u001b[0mconvert\u001b[0m\u001b[1;33m,\u001b[0m\u001b[0mnp\u001b[0m\u001b[1;33m.\u001b[0m\u001b[0marange\u001b[0m\u001b[1;33m(\u001b[0m\u001b[1;36m5538\u001b[0m\u001b[1;33m)\u001b[0m\u001b[1;33m)\u001b[0m\u001b[1;33m\u001b[0m\u001b[1;33m\u001b[0m\u001b[0m\n\u001b[0m",
      "\u001b[1;32m~\\Anaconda3\\lib\\multiprocessing\\pool.py\u001b[0m in \u001b[0;36mmap\u001b[1;34m(self, func, iterable, chunksize)\u001b[0m\n\u001b[0;32m    288\u001b[0m         \u001b[1;32min\u001b[0m \u001b[0ma\u001b[0m \u001b[0mlist\u001b[0m \u001b[0mthat\u001b[0m \u001b[1;32mis\u001b[0m \u001b[0mreturned\u001b[0m\u001b[1;33m.\u001b[0m\u001b[1;33m\u001b[0m\u001b[1;33m\u001b[0m\u001b[0m\n\u001b[0;32m    289\u001b[0m         '''\n\u001b[1;32m--> 290\u001b[1;33m         \u001b[1;32mreturn\u001b[0m \u001b[0mself\u001b[0m\u001b[1;33m.\u001b[0m\u001b[0m_map_async\u001b[0m\u001b[1;33m(\u001b[0m\u001b[0mfunc\u001b[0m\u001b[1;33m,\u001b[0m \u001b[0miterable\u001b[0m\u001b[1;33m,\u001b[0m \u001b[0mmapstar\u001b[0m\u001b[1;33m,\u001b[0m \u001b[0mchunksize\u001b[0m\u001b[1;33m)\u001b[0m\u001b[1;33m.\u001b[0m\u001b[0mget\u001b[0m\u001b[1;33m(\u001b[0m\u001b[1;33m)\u001b[0m\u001b[1;33m\u001b[0m\u001b[1;33m\u001b[0m\u001b[0m\n\u001b[0m\u001b[0;32m    291\u001b[0m \u001b[1;33m\u001b[0m\u001b[0m\n\u001b[0;32m    292\u001b[0m     \u001b[1;32mdef\u001b[0m \u001b[0mstarmap\u001b[0m\u001b[1;33m(\u001b[0m\u001b[0mself\u001b[0m\u001b[1;33m,\u001b[0m \u001b[0mfunc\u001b[0m\u001b[1;33m,\u001b[0m \u001b[0miterable\u001b[0m\u001b[1;33m,\u001b[0m \u001b[0mchunksize\u001b[0m\u001b[1;33m=\u001b[0m\u001b[1;32mNone\u001b[0m\u001b[1;33m)\u001b[0m\u001b[1;33m:\u001b[0m\u001b[1;33m\u001b[0m\u001b[1;33m\u001b[0m\u001b[0m\n",
      "\u001b[1;32m~\\Anaconda3\\lib\\multiprocessing\\pool.py\u001b[0m in \u001b[0;36mget\u001b[1;34m(self, timeout)\u001b[0m\n\u001b[0;32m    681\u001b[0m             \u001b[1;32mreturn\u001b[0m \u001b[0mself\u001b[0m\u001b[1;33m.\u001b[0m\u001b[0m_value\u001b[0m\u001b[1;33m\u001b[0m\u001b[1;33m\u001b[0m\u001b[0m\n\u001b[0;32m    682\u001b[0m         \u001b[1;32melse\u001b[0m\u001b[1;33m:\u001b[0m\u001b[1;33m\u001b[0m\u001b[1;33m\u001b[0m\u001b[0m\n\u001b[1;32m--> 683\u001b[1;33m             \u001b[1;32mraise\u001b[0m \u001b[0mself\u001b[0m\u001b[1;33m.\u001b[0m\u001b[0m_value\u001b[0m\u001b[1;33m\u001b[0m\u001b[1;33m\u001b[0m\u001b[0m\n\u001b[0m\u001b[0;32m    684\u001b[0m \u001b[1;33m\u001b[0m\u001b[0m\n\u001b[0;32m    685\u001b[0m     \u001b[1;32mdef\u001b[0m \u001b[0m_set\u001b[0m\u001b[1;33m(\u001b[0m\u001b[0mself\u001b[0m\u001b[1;33m,\u001b[0m \u001b[0mi\u001b[0m\u001b[1;33m,\u001b[0m \u001b[0mobj\u001b[0m\u001b[1;33m)\u001b[0m\u001b[1;33m:\u001b[0m\u001b[1;33m\u001b[0m\u001b[1;33m\u001b[0m\u001b[0m\n",
      "\u001b[1;32m~\\Anaconda3\\lib\\multiprocessing\\pool.py\u001b[0m in \u001b[0;36m_handle_tasks\u001b[1;34m(taskqueue, put, outqueue, pool, cache)\u001b[0m\n\u001b[0;32m    455\u001b[0m                         \u001b[1;32mbreak\u001b[0m\u001b[1;33m\u001b[0m\u001b[1;33m\u001b[0m\u001b[0m\n\u001b[0;32m    456\u001b[0m                     \u001b[1;32mtry\u001b[0m\u001b[1;33m:\u001b[0m\u001b[1;33m\u001b[0m\u001b[1;33m\u001b[0m\u001b[0m\n\u001b[1;32m--> 457\u001b[1;33m                         \u001b[0mput\u001b[0m\u001b[1;33m(\u001b[0m\u001b[0mtask\u001b[0m\u001b[1;33m)\u001b[0m\u001b[1;33m\u001b[0m\u001b[1;33m\u001b[0m\u001b[0m\n\u001b[0m\u001b[0;32m    458\u001b[0m                     \u001b[1;32mexcept\u001b[0m \u001b[0mException\u001b[0m \u001b[1;32mas\u001b[0m \u001b[0me\u001b[0m\u001b[1;33m:\u001b[0m\u001b[1;33m\u001b[0m\u001b[1;33m\u001b[0m\u001b[0m\n\u001b[0;32m    459\u001b[0m                         \u001b[0mjob\u001b[0m\u001b[1;33m,\u001b[0m \u001b[0midx\u001b[0m \u001b[1;33m=\u001b[0m \u001b[0mtask\u001b[0m\u001b[1;33m[\u001b[0m\u001b[1;33m:\u001b[0m\u001b[1;36m2\u001b[0m\u001b[1;33m]\u001b[0m\u001b[1;33m\u001b[0m\u001b[1;33m\u001b[0m\u001b[0m\n",
      "\u001b[1;32m~\\Anaconda3\\lib\\multiprocessing\\connection.py\u001b[0m in \u001b[0;36msend\u001b[1;34m(self, obj)\u001b[0m\n\u001b[0;32m    204\u001b[0m         \u001b[0mself\u001b[0m\u001b[1;33m.\u001b[0m\u001b[0m_check_closed\u001b[0m\u001b[1;33m(\u001b[0m\u001b[1;33m)\u001b[0m\u001b[1;33m\u001b[0m\u001b[1;33m\u001b[0m\u001b[0m\n\u001b[0;32m    205\u001b[0m         \u001b[0mself\u001b[0m\u001b[1;33m.\u001b[0m\u001b[0m_check_writable\u001b[0m\u001b[1;33m(\u001b[0m\u001b[1;33m)\u001b[0m\u001b[1;33m\u001b[0m\u001b[1;33m\u001b[0m\u001b[0m\n\u001b[1;32m--> 206\u001b[1;33m         \u001b[0mself\u001b[0m\u001b[1;33m.\u001b[0m\u001b[0m_send_bytes\u001b[0m\u001b[1;33m(\u001b[0m\u001b[0m_ForkingPickler\u001b[0m\u001b[1;33m.\u001b[0m\u001b[0mdumps\u001b[0m\u001b[1;33m(\u001b[0m\u001b[0mobj\u001b[0m\u001b[1;33m)\u001b[0m\u001b[1;33m)\u001b[0m\u001b[1;33m\u001b[0m\u001b[1;33m\u001b[0m\u001b[0m\n\u001b[0m\u001b[0;32m    207\u001b[0m \u001b[1;33m\u001b[0m\u001b[0m\n\u001b[0;32m    208\u001b[0m     \u001b[1;32mdef\u001b[0m \u001b[0mrecv_bytes\u001b[0m\u001b[1;33m(\u001b[0m\u001b[0mself\u001b[0m\u001b[1;33m,\u001b[0m \u001b[0mmaxlength\u001b[0m\u001b[1;33m=\u001b[0m\u001b[1;32mNone\u001b[0m\u001b[1;33m)\u001b[0m\u001b[1;33m:\u001b[0m\u001b[1;33m\u001b[0m\u001b[1;33m\u001b[0m\u001b[0m\n",
      "\u001b[1;32m~\\Anaconda3\\lib\\multiprocessing\\reduction.py\u001b[0m in \u001b[0;36mdumps\u001b[1;34m(cls, obj, protocol)\u001b[0m\n\u001b[0;32m     49\u001b[0m     \u001b[1;32mdef\u001b[0m \u001b[0mdumps\u001b[0m\u001b[1;33m(\u001b[0m\u001b[0mcls\u001b[0m\u001b[1;33m,\u001b[0m \u001b[0mobj\u001b[0m\u001b[1;33m,\u001b[0m \u001b[0mprotocol\u001b[0m\u001b[1;33m=\u001b[0m\u001b[1;32mNone\u001b[0m\u001b[1;33m)\u001b[0m\u001b[1;33m:\u001b[0m\u001b[1;33m\u001b[0m\u001b[1;33m\u001b[0m\u001b[0m\n\u001b[0;32m     50\u001b[0m         \u001b[0mbuf\u001b[0m \u001b[1;33m=\u001b[0m \u001b[0mio\u001b[0m\u001b[1;33m.\u001b[0m\u001b[0mBytesIO\u001b[0m\u001b[1;33m(\u001b[0m\u001b[1;33m)\u001b[0m\u001b[1;33m\u001b[0m\u001b[1;33m\u001b[0m\u001b[0m\n\u001b[1;32m---> 51\u001b[1;33m         \u001b[0mcls\u001b[0m\u001b[1;33m(\u001b[0m\u001b[0mbuf\u001b[0m\u001b[1;33m,\u001b[0m \u001b[0mprotocol\u001b[0m\u001b[1;33m)\u001b[0m\u001b[1;33m.\u001b[0m\u001b[0mdump\u001b[0m\u001b[1;33m(\u001b[0m\u001b[0mobj\u001b[0m\u001b[1;33m)\u001b[0m\u001b[1;33m\u001b[0m\u001b[1;33m\u001b[0m\u001b[0m\n\u001b[0m\u001b[0;32m     52\u001b[0m         \u001b[1;32mreturn\u001b[0m \u001b[0mbuf\u001b[0m\u001b[1;33m.\u001b[0m\u001b[0mgetbuffer\u001b[0m\u001b[1;33m(\u001b[0m\u001b[1;33m)\u001b[0m\u001b[1;33m\u001b[0m\u001b[1;33m\u001b[0m\u001b[0m\n\u001b[0;32m     53\u001b[0m \u001b[1;33m\u001b[0m\u001b[0m\n",
      "\u001b[1;31mAttributeError\u001b[0m: Can't pickle local object 'Operator.index.<locals>.<lambda>'"
     ]
    }
   ],
   "source": [
    "with mp.Pool(16) as p:\n",
    "    p.map(S.get_basis(7,0).convert,np.arange(5538))"
   ]
  },
  {
   "cell_type": "code",
   "execution_count": 4,
   "metadata": {},
   "outputs": [
    {
     "name": "stdout",
     "output_type": "stream",
     "text": [
      " "
     ]
    },
    {
     "data": {
      "text/plain": [
       "<pstats.Stats at 0x253f91875c0>"
      ]
     },
     "execution_count": 4,
     "metadata": {},
     "output_type": "execute_result"
    },
    {
     "data": {
      "text/plain": [
       "         41408498 function calls (40295360 primitive calls) in 27.749 seconds\n",
       "\n",
       "   Ordered by: internal time\n",
       "\n",
       "   ncalls  tottime  percall  cumtime  percall filename:lineno(function)\n",
       "  4476470    4.107    0.000    4.107    0.000 {built-in method numpy.core.multiarray.array}\n",
       "   553800    3.680    0.000   11.321    0.000 _main.py:747(convert)\n",
       "        1    3.677    3.677   27.490   27.490 _main.py:1032(get_matrix)\n",
       "1113579/1108041    3.084    0.000    8.602    0.000 function_base.py:1974(_get_ufunc_and_otypes)\n",
       "1113579/559779    2.652    0.000   21.934    0.000 function_base.py:2035(_vectorize_call)\n",
       "  4885398    1.211    0.000    2.534    0.000 _main.py:1373(<lambda>)\n",
       "  1113579    0.953    0.000    0.953    0.000 {built-in method numpy.core.umath.frompyfunc}\n",
       "  2442699    0.853    0.000    0.853    0.000 _main.py:1336(annihilation)\n",
       "        1    0.848    0.848    4.606    4.606 _main.py:1157(acton)\n",
       "1113579/559779    0.787    0.000   22.353    0.000 function_base.py:1944(__call__)\n",
       "  3549862    0.642    0.000    0.642    0.000 {method 'get' of 'dict' objects}\n",
       "  2442699    0.590    0.000    3.124    0.000 _main.py:1307(wrap)\n",
       "  1113579    0.519    0.000    1.303    0.000 function_base.py:2025(<listcomp>)\n",
       "  1113579    0.471    0.000    0.471    0.000 function_base.py:2001(<listcomp>)\n",
       "  2442699    0.470    0.000    0.470    0.000 _main.py:1343(creation)\n",
       "  1113579    0.436    0.000    0.712    0.000 {built-in method builtins.any}\n",
       "  2232696    0.388    0.000    1.614    0.000 numeric.py:433(asarray)\n",
       "  1113579    0.341    0.000    1.172    0.000 function_base.py:1996(<listcomp>)\n",
       "  1650324    0.327    0.000    0.327    0.000 _main.py:744(_period)\n",
       "  1113579    0.303    0.000    2.223    0.000 function_base.py:2045(<listcomp>)\n",
       "  2227158    0.276    0.000    0.276    0.000 function_base.py:1997(<genexpr>)\n",
       "  1107600    0.275    0.000    0.629    0.000 _main.py:721(_find)\n",
       "  1113650    0.154    0.000    0.154    0.000 {built-in method builtins.isinstance}\n",
       "     5538    0.113    0.000    0.113    0.000 _main.py:1052(<listcomp>)\n",
       "     5538    0.099    0.000    0.099    0.000 _main.py:1047(<listcomp>)\n",
       "  1113579    0.094    0.000    0.094    0.000 {method 'join' of 'str' objects}\n",
       "        1    0.089    0.089    0.089    0.089 _main.py:815(<dictcomp>)\n",
       "  1124717    0.087    0.000    0.087    0.000 {built-in method builtins.len}\n",
       "        1    0.085    0.085    0.085    0.085 _main.py:820(<dictcomp>)\n",
       "        1    0.078    0.078   27.749   27.749 <string>:1(<module>)\n",
       "        1    0.047    0.047    0.047    0.047 {method 'copy' of 'numpy.ndarray' objects}\n",
       "        4    0.005    0.001    0.005    0.001 dataset.py:399(__getitem__)\n",
       "     5538    0.004    0.000    0.041    0.000 function_base.py:2053(<listcomp>)\n",
       "        6    0.001    0.000    0.001    0.000 group.py:168(__getitem__)\n",
       "        2    0.000    0.000    0.000    0.000 {built-in method numpy.core.multiarray.zeros}\n",
       "     6007    0.000    0.000    0.000    0.000 {method 'append' of 'list' objects}\n",
       "        1    0.000    0.000    0.181    0.181 _main.py:811(load)\n",
       "        4    0.000    0.000    0.000    0.000 dataset.py:317(__init__)\n",
       "       16    0.000    0.000    0.000    0.000 dataset.py:221(shape)\n",
       "        1    0.000    0.000    0.000    0.000 attrs.py:56(__getitem__)\n",
       "        4    0.000    0.000    0.000    0.000 {method 'reduce' of 'numpy.ufunc' objects}\n",
       "        4    0.000    0.000    0.000    0.000 filters.py:209(get_filters)\n",
       "        5    0.000    0.000    0.000    0.000 base.py:80(is_empty_dataspace)\n",
       "        1    0.000    0.000   27.749   27.749 {built-in method builtins.exec}\n",
       "        4    0.000    0.000    0.000    0.000 selections.py:147(__init__)\n",
       "        4    0.000    0.000    0.000    0.000 selections.py:250(__getitem__)\n",
       "        5    0.000    0.000    0.000    0.000 {built-in method h5py.h5t.py_create}\n",
       "        4    0.000    0.000    0.000    0.000 fromnumeric.py:64(_wrapreduction)\n",
       "        1    0.000    0.000    0.000    0.000 _main.py:629(__init__)\n",
       "        4    0.000    0.000    0.000    0.000 selections.py:429(_handle_simple)\n",
       "        4    0.000    0.000    0.000    0.000 selections.py:27(select)\n",
       "        4    0.000    0.000    0.000    0.000 selections.py:406(_expand_ellipsis)\n",
       "        1    0.000    0.000    0.181    0.181 _main.py:467(get_basis)\n",
       "        7    0.000    0.000    0.000    0.000 base.py:109(_e)\n",
       "        1    0.000    0.000    0.000    0.000 base.py:262(attrs)\n",
       "        8    0.000    0.000    0.000    0.000 {built-in method builtins.getattr}\n",
       "        9    0.000    0.000    0.000    0.000 <frozen importlib._bootstrap>:416(parent)\n",
       "        4    0.000    0.000    0.000    0.000 selections.py:244(__init__)\n",
       "        4    0.000    0.000    0.000    0.000 fromnumeric.py:2478(prod)\n",
       "        4    0.000    0.000    0.000    0.000 function_base.py:1912(__init__)\n",
       "        6    0.000    0.000    0.000    0.000 selections.py:475(_translate_slice)\n",
       "        1    0.000    0.000    0.000    0.000 _main.py:1634(is_exist)\n",
       "       43    0.000    0.000    0.000    0.000 base.py:236(id)\n",
       "        1    0.000    0.000    0.000    0.000 attrs.py:51(__init__)\n",
       "        1    0.000    0.000    0.000    0.000 <frozen importlib._bootstrap>:1009(_handle_fromlist)\n",
       "        2    0.000    0.000    0.000    0.000 group.py:189(get)\n",
       "        7    0.000    0.000    0.000    0.000 {method 'encode' of 'str' objects}\n",
       "        1    0.000    0.000    0.000    0.000 {method 'reshape' of 'numpy.ndarray' objects}\n",
       "        4    0.000    0.000    0.000    0.000 selections.py:168(nselect)\n",
       "        2    0.000    0.000    0.000    0.000 group.py:34(__init__)\n",
       "        4    0.000    0.000    0.000    0.000 fromnumeric.py:3163(product)\n",
       "        4    0.000    0.000    0.000    0.000 dataset.py:418(<genexpr>)\n",
       "        4    0.000    0.000    0.000    0.000 function_base.py:241(iterable)\n",
       "        1    0.000    0.000    0.000    0.000 _main.py:2204(__getitem__)\n",
       "        9    0.000    0.000    0.000    0.000 {method 'rpartition' of 'str' objects}\n",
       "        4    0.000    0.000    0.000    0.000 {built-in method builtins.sum}\n",
       "        6    0.000    0.000    0.000    0.000 {method 'indices' of 'slice' objects}\n",
       "        5    0.000    0.000    0.000    0.000 dataset.py:37(readtime_dtype)\n",
       "        3    0.000    0.000    0.000    0.000 {method 'format' of 'str' objects}\n",
       "        1    0.000    0.000    0.181    0.181 _main.py:338(caution)\n",
       "        6    0.000    0.000    0.000    0.000 base.py:269(__init__)\n",
       "       20    0.000    0.000    0.000    0.000 selections.py:163(shape)\n",
       "       10    0.000    0.000    0.000    0.000 selections.py:267(<genexpr>)\n",
       "        1    0.000    0.000    0.000    0.000 _main.py:1669(get)\n",
       "        4    0.000    0.000    0.000    0.000 {built-in method builtins.iter}\n",
       "        8    0.000    0.000    0.000    0.000 dataset.py:419(<genexpr>)\n",
       "        4    0.000    0.000    0.000    0.000 selections.py:409(<genexpr>)\n",
       "        6    0.000    0.000    0.000    0.000 base.py:97(_lapl)\n",
       "        8    0.000    0.000    0.000    0.000 selections.py:239(mshape)\n",
       "        4    0.000    0.000    0.000    0.000 {method 'items' of 'dict' objects}\n",
       "        2    0.000    0.000    0.000    0.000 _main.py:1658(file)\n",
       "        4    0.000    0.000    0.000    0.000 selections.py:158(id)\n",
       "        2    0.000    0.000    0.000    0.000 {built-in method builtins.hasattr}\n",
       "        1    0.000    0.000    0.000    0.000 _main.py:696(state)\n",
       "        1    0.000    0.000    0.000    0.000 {method 'disable' of '_lsprof.Profiler' objects}\n",
       "        2    0.000    0.000    0.000    0.000 {method 'extend' of 'list' objects}\n",
       "        1    0.000    0.000    0.000    0.000 _main.py:334(valid)"
      ]
     },
     "metadata": {},
     "output_type": "display_data"
    }
   ],
   "source": [
    "n = S.get_operator('n')\n",
    "%prun -r n[0].get_matrix(S.get_basis(7,0))"
   ]
  },
  {
   "cell_type": "code",
   "execution_count": null,
   "metadata": {},
   "outputs": [],
   "source": []
  }
 ],
 "metadata": {
  "kernelspec": {
   "display_name": "Python 3",
   "language": "python",
   "name": "python3"
  },
  "language_info": {
   "codemirror_mode": {
    "name": "ipython",
    "version": 3
   },
   "file_extension": ".py",
   "mimetype": "text/x-python",
   "name": "python",
   "nbconvert_exporter": "python",
   "pygments_lexer": "ipython3",
   "version": "3.7.1"
  }
 },
 "nbformat": 4,
 "nbformat_minor": 2
}
