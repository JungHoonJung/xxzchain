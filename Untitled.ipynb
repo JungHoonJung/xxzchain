{
 "cells": [
  {
   "cell_type": "code",
   "execution_count": 1,
   "metadata": {},
   "outputs": [],
   "source": [
    "import xxzchain as xxz"
   ]
  },
  {
   "cell_type": "code",
   "execution_count": 2,
   "metadata": {},
   "outputs": [],
   "source": [
    "import numpy as np"
   ]
  },
  {
   "cell_type": "code",
   "execution_count": 4,
   "metadata": {},
   "outputs": [
    {
     "data": {
      "text/plain": [
       "54006.47528276096"
      ]
     },
     "execution_count": 4,
     "metadata": {},
     "output_type": "execute_result"
    }
   ],
   "source": [
    "np.pi*36*38*4*np.pi"
   ]
  },
  {
   "cell_type": "code",
   "execution_count": 2,
   "metadata": {},
   "outputs": [],
   "source": [
    "test = xxz.System(4)"
   ]
  },
  {
   "cell_type": "code",
   "execution_count": 3,
   "metadata": {},
   "outputs": [],
   "source": [
    "xxz.preset(test, globals())"
   ]
  },
  {
   "cell_type": "code",
   "execution_count": 14,
   "metadata": {},
   "outputs": [],
   "source": [
    "nnnn = xxz.Operator.Null(test)"
   ]
  },
  {
   "cell_type": "code",
   "execution_count": 13,
   "metadata": {},
   "outputs": [
    {
     "data": {
      "text/plain": [
       "[<function xxzchain.core._main.Operator.identity(x)>,\n",
       " <numpy.lib.function_base.vectorize at 0x1fb6af5b0b8>,\n",
       " <numpy.lib.function_base.vectorize at 0x1fb6af5b748>,\n",
       " <numpy.lib.function_base.vectorize at 0x1fb6af5b390>,\n",
       " <numpy.lib.function_base.vectorize at 0x1fb6af5b400>]"
      ]
     },
     "execution_count": 13,
     "metadata": {},
     "output_type": "execute_result"
    }
   ],
   "source": [
    "nnnn.struct"
   ]
  },
  {
   "cell_type": "code",
   "execution_count": 17,
   "metadata": {},
   "outputs": [],
   "source": [
    "for l in test.range:\n",
    "    nnnn += n_i.index(l)@b_i.index(l+1)"
   ]
  },
  {
   "cell_type": "code",
   "execution_count": 18,
   "metadata": {},
   "outputs": [
    {
     "data": {
      "text/plain": [
       "[{-1: (8+0j)},\n",
       " {-1: (8+0j)},\n",
       " {-1: (8+0j)},\n",
       " {-1: (7+0j), 1: (1+0j)},\n",
       " {-1: (8+0j)},\n",
       " {-1: (8+0j)},\n",
       " {-1: (7+0j), 2: (1+0j)},\n",
       " {-1: (6+0j), 5: (1+0j), 3: (1+0j)},\n",
       " {-1: (8+0j)},\n",
       " {-1: (7+0j), 8: (1+0j)},\n",
       " {-1: (8+0j)},\n",
       " {-1: (6+0j), 9: (1+0j), 10: (1+0j)},\n",
       " {-1: (7+0j), 4: (1+0j)},\n",
       " {-1: (6+0j), 5: (1+0j), 12: (1+0j)},\n",
       " {-1: (6+0j), 10: (1+0j), 6: (1+0j)},\n",
       " {-1: (4+0j), 13: (1+0j), 11: (1+0j), 7: (1+0j), 14: (1+0j)}]"
      ]
     },
     "execution_count": 18,
     "metadata": {},
     "output_type": "execute_result"
    }
   ],
   "source": [
    "nnnn(np.arange(1<<test.size))"
   ]
  },
  {
   "cell_type": "code",
   "execution_count": null,
   "metadata": {},
   "outputs": [],
   "source": []
  }
 ],
 "metadata": {
  "kernelspec": {
   "display_name": "Python 3",
   "language": "python",
   "name": "python3"
  },
  "language_info": {
   "codemirror_mode": {
    "name": "ipython",
    "version": 3
   },
   "file_extension": ".py",
   "mimetype": "text/x-python",
   "name": "python",
   "nbconvert_exporter": "python",
   "pygments_lexer": "ipython3",
   "version": "3.7.1"
  }
 },
 "nbformat": 4,
 "nbformat_minor": 2
}
